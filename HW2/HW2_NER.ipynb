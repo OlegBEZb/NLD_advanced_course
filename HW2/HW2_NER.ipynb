{
  "nbformat": 4,
  "nbformat_minor": 0,
  "metadata": {
    "colab": {
      "name": "HW1. NER.ipynb",
      "provenance": [],
      "collapsed_sections": [],
      "toc_visible": true,
      "machine_shape": "hm",
      "include_colab_link": true
    },
    "kernelspec": {
      "name": "python3",
      "display_name": "Python 3"
    },
    "language_info": {
      "codemirror_mode": {
        "name": "ipython",
        "version": 3
      },
      "file_extension": ".py",
      "mimetype": "text/x-python",
      "name": "python",
      "nbconvert_exporter": "python",
      "pygments_lexer": "ipython3",
      "version": "3.6.7"
    },
    "latex_envs": {
      "LaTeX_envs_menu_present": true,
      "autoclose": false,
      "autocomplete": true,
      "bibliofile": "biblio.bib",
      "cite_by": "apalike",
      "current_citInitial": 1,
      "eqLabelWithNumbers": true,
      "eqNumInitial": 1,
      "hotkeys": {
        "equation": "Ctrl-E",
        "itemize": "Ctrl-I"
      },
      "labels_anchors": false,
      "latex_user_defs": false,
      "report_style_numbering": false,
      "user_envs_cfg": false
    },
    "toc": {
      "base_numbering": 1,
      "nav_menu": {},
      "number_sections": true,
      "sideBar": true,
      "skip_h1_title": false,
      "title_cell": "Table of Contents",
      "title_sidebar": "Contents",
      "toc_cell": false,
      "toc_position": {
        "height": "calc(100% - 180px)",
        "left": "10px",
        "top": "150px",
        "width": "384px"
      },
      "toc_section_display": true,
      "toc_window_display": true
    },
    "varInspector": {
      "cols": {
        "lenName": 16,
        "lenType": 16,
        "lenVar": 40
      },
      "kernels_config": {
        "python": {
          "delete_cmd_postfix": "",
          "delete_cmd_prefix": "del ",
          "library": "var_list.py",
          "varRefreshCmd": "print(var_dic_list())"
        },
        "r": {
          "delete_cmd_postfix": ") ",
          "delete_cmd_prefix": "rm(",
          "library": "var_list.r",
          "varRefreshCmd": "cat(var_dic_list()) "
        }
      },
      "types_to_exclude": [
        "module",
        "function",
        "builtin_function_or_method",
        "instance",
        "_Feature"
      ],
      "window_display": false
    },
    "widgets": {
      "application/vnd.jupyter.widget-state+json": {
        "4b96592eee8847d2bdb42bd56111135b": {
          "model_module": "@jupyter-widgets/controls",
          "model_name": "HBoxModel",
          "state": {
            "_view_name": "HBoxView",
            "_dom_classes": [],
            "_model_name": "HBoxModel",
            "_view_module": "@jupyter-widgets/controls",
            "_model_module_version": "1.5.0",
            "_view_count": null,
            "_view_module_version": "1.5.0",
            "box_style": "",
            "layout": "IPY_MODEL_6597406b37d74a159d7d3c6f0fc1b178",
            "_model_module": "@jupyter-widgets/controls",
            "children": [
              "IPY_MODEL_86bc926789ed47488b805a8d3800b4d9",
              "IPY_MODEL_63cffb1432bf4c1d92286011ce5f3294"
            ]
          }
        },
        "6597406b37d74a159d7d3c6f0fc1b178": {
          "model_module": "@jupyter-widgets/base",
          "model_name": "LayoutModel",
          "state": {
            "_view_name": "LayoutView",
            "grid_template_rows": null,
            "right": null,
            "justify_content": null,
            "_view_module": "@jupyter-widgets/base",
            "overflow": null,
            "_model_module_version": "1.2.0",
            "_view_count": null,
            "flex_flow": null,
            "width": null,
            "min_width": null,
            "border": null,
            "align_items": null,
            "bottom": null,
            "_model_module": "@jupyter-widgets/base",
            "top": null,
            "grid_column": null,
            "overflow_y": null,
            "overflow_x": null,
            "grid_auto_flow": null,
            "grid_area": null,
            "grid_template_columns": null,
            "flex": null,
            "_model_name": "LayoutModel",
            "justify_items": null,
            "grid_row": null,
            "max_height": null,
            "align_content": null,
            "visibility": null,
            "align_self": null,
            "height": null,
            "min_height": null,
            "padding": null,
            "grid_auto_rows": null,
            "grid_gap": null,
            "max_width": null,
            "order": null,
            "_view_module_version": "1.2.0",
            "grid_template_areas": null,
            "object_position": null,
            "object_fit": null,
            "grid_auto_columns": null,
            "margin": null,
            "display": null,
            "left": null
          }
        },
        "86bc926789ed47488b805a8d3800b4d9": {
          "model_module": "@jupyter-widgets/controls",
          "model_name": "IntProgressModel",
          "state": {
            "_view_name": "ProgressView",
            "style": "IPY_MODEL_d46d9260952847c9a0284c09fae841eb",
            "_dom_classes": [],
            "description": "",
            "_model_name": "IntProgressModel",
            "bar_style": "success",
            "max": 8,
            "_view_module": "@jupyter-widgets/controls",
            "_model_module_version": "1.5.0",
            "value": 8,
            "_view_count": null,
            "_view_module_version": "1.5.0",
            "orientation": "horizontal",
            "min": 0,
            "description_tooltip": null,
            "_model_module": "@jupyter-widgets/controls",
            "layout": "IPY_MODEL_3292d1af604345ed9f7499164cbed79f"
          }
        },
        "63cffb1432bf4c1d92286011ce5f3294": {
          "model_module": "@jupyter-widgets/controls",
          "model_name": "HTMLModel",
          "state": {
            "_view_name": "HTMLView",
            "style": "IPY_MODEL_8f12796ddb774f8e87e309d760dfdbf1",
            "_dom_classes": [],
            "description": "",
            "_model_name": "HTMLModel",
            "placeholder": "​",
            "_view_module": "@jupyter-widgets/controls",
            "_model_module_version": "1.5.0",
            "value": "100% 8/8 [12:23&lt;00:00, 92.71s/it]",
            "_view_count": null,
            "_view_module_version": "1.5.0",
            "description_tooltip": null,
            "_model_module": "@jupyter-widgets/controls",
            "layout": "IPY_MODEL_dc84b6320ee74e60a90fd8abf669d209"
          }
        },
        "d46d9260952847c9a0284c09fae841eb": {
          "model_module": "@jupyter-widgets/controls",
          "model_name": "ProgressStyleModel",
          "state": {
            "_view_name": "StyleView",
            "_model_name": "ProgressStyleModel",
            "description_width": "",
            "_view_module": "@jupyter-widgets/base",
            "_model_module_version": "1.5.0",
            "_view_count": null,
            "_view_module_version": "1.2.0",
            "bar_color": null,
            "_model_module": "@jupyter-widgets/controls"
          }
        },
        "3292d1af604345ed9f7499164cbed79f": {
          "model_module": "@jupyter-widgets/base",
          "model_name": "LayoutModel",
          "state": {
            "_view_name": "LayoutView",
            "grid_template_rows": null,
            "right": null,
            "justify_content": null,
            "_view_module": "@jupyter-widgets/base",
            "overflow": null,
            "_model_module_version": "1.2.0",
            "_view_count": null,
            "flex_flow": null,
            "width": null,
            "min_width": null,
            "border": null,
            "align_items": null,
            "bottom": null,
            "_model_module": "@jupyter-widgets/base",
            "top": null,
            "grid_column": null,
            "overflow_y": null,
            "overflow_x": null,
            "grid_auto_flow": null,
            "grid_area": null,
            "grid_template_columns": null,
            "flex": null,
            "_model_name": "LayoutModel",
            "justify_items": null,
            "grid_row": null,
            "max_height": null,
            "align_content": null,
            "visibility": null,
            "align_self": null,
            "height": null,
            "min_height": null,
            "padding": null,
            "grid_auto_rows": null,
            "grid_gap": null,
            "max_width": null,
            "order": null,
            "_view_module_version": "1.2.0",
            "grid_template_areas": null,
            "object_position": null,
            "object_fit": null,
            "grid_auto_columns": null,
            "margin": null,
            "display": null,
            "left": null
          }
        },
        "8f12796ddb774f8e87e309d760dfdbf1": {
          "model_module": "@jupyter-widgets/controls",
          "model_name": "DescriptionStyleModel",
          "state": {
            "_view_name": "StyleView",
            "_model_name": "DescriptionStyleModel",
            "description_width": "",
            "_view_module": "@jupyter-widgets/base",
            "_model_module_version": "1.5.0",
            "_view_count": null,
            "_view_module_version": "1.2.0",
            "_model_module": "@jupyter-widgets/controls"
          }
        },
        "dc84b6320ee74e60a90fd8abf669d209": {
          "model_module": "@jupyter-widgets/base",
          "model_name": "LayoutModel",
          "state": {
            "_view_name": "LayoutView",
            "grid_template_rows": null,
            "right": null,
            "justify_content": null,
            "_view_module": "@jupyter-widgets/base",
            "overflow": null,
            "_model_module_version": "1.2.0",
            "_view_count": null,
            "flex_flow": null,
            "width": null,
            "min_width": null,
            "border": null,
            "align_items": null,
            "bottom": null,
            "_model_module": "@jupyter-widgets/base",
            "top": null,
            "grid_column": null,
            "overflow_y": null,
            "overflow_x": null,
            "grid_auto_flow": null,
            "grid_area": null,
            "grid_template_columns": null,
            "flex": null,
            "_model_name": "LayoutModel",
            "justify_items": null,
            "grid_row": null,
            "max_height": null,
            "align_content": null,
            "visibility": null,
            "align_self": null,
            "height": null,
            "min_height": null,
            "padding": null,
            "grid_auto_rows": null,
            "grid_gap": null,
            "max_width": null,
            "order": null,
            "_view_module_version": "1.2.0",
            "grid_template_areas": null,
            "object_position": null,
            "object_fit": null,
            "grid_auto_columns": null,
            "margin": null,
            "display": null,
            "left": null
          }
        },
        "25e71372e02c40acbd2931b81d5e84f0": {
          "model_module": "@jupyter-widgets/controls",
          "model_name": "HBoxModel",
          "state": {
            "_view_name": "HBoxView",
            "_dom_classes": [],
            "_model_name": "HBoxModel",
            "_view_module": "@jupyter-widgets/controls",
            "_model_module_version": "1.5.0",
            "_view_count": null,
            "_view_module_version": "1.5.0",
            "box_style": "",
            "layout": "IPY_MODEL_6f7ba307b64147709a58ed43b35e87fb",
            "_model_module": "@jupyter-widgets/controls",
            "children": [
              "IPY_MODEL_75a0913d4dba4b66834884b755746699",
              "IPY_MODEL_22d4d5ac67774ea3981ae1dbff1aa0d8"
            ]
          }
        },
        "6f7ba307b64147709a58ed43b35e87fb": {
          "model_module": "@jupyter-widgets/base",
          "model_name": "LayoutModel",
          "state": {
            "_view_name": "LayoutView",
            "grid_template_rows": null,
            "right": null,
            "justify_content": null,
            "_view_module": "@jupyter-widgets/base",
            "overflow": null,
            "_model_module_version": "1.2.0",
            "_view_count": null,
            "flex_flow": null,
            "width": null,
            "min_width": null,
            "border": null,
            "align_items": null,
            "bottom": null,
            "_model_module": "@jupyter-widgets/base",
            "top": null,
            "grid_column": null,
            "overflow_y": null,
            "overflow_x": null,
            "grid_auto_flow": null,
            "grid_area": null,
            "grid_template_columns": null,
            "flex": null,
            "_model_name": "LayoutModel",
            "justify_items": null,
            "grid_row": null,
            "max_height": null,
            "align_content": null,
            "visibility": null,
            "align_self": null,
            "height": null,
            "min_height": null,
            "padding": null,
            "grid_auto_rows": null,
            "grid_gap": null,
            "max_width": null,
            "order": null,
            "_view_module_version": "1.2.0",
            "grid_template_areas": null,
            "object_position": null,
            "object_fit": null,
            "grid_auto_columns": null,
            "margin": null,
            "display": null,
            "left": null
          }
        },
        "75a0913d4dba4b66834884b755746699": {
          "model_module": "@jupyter-widgets/controls",
          "model_name": "IntProgressModel",
          "state": {
            "_view_name": "ProgressView",
            "style": "IPY_MODEL_0e7da25b28ee4d80aacfdb19d9be5e6c",
            "_dom_classes": [],
            "description": "",
            "_model_name": "IntProgressModel",
            "bar_style": "success",
            "max": 5,
            "_view_module": "@jupyter-widgets/controls",
            "_model_module_version": "1.5.0",
            "value": 5,
            "_view_count": null,
            "_view_module_version": "1.5.0",
            "orientation": "horizontal",
            "min": 0,
            "description_tooltip": null,
            "_model_module": "@jupyter-widgets/controls",
            "layout": "IPY_MODEL_43c1d70a4b7d4feea09cfdb782a15076"
          }
        },
        "22d4d5ac67774ea3981ae1dbff1aa0d8": {
          "model_module": "@jupyter-widgets/controls",
          "model_name": "HTMLModel",
          "state": {
            "_view_name": "HTMLView",
            "style": "IPY_MODEL_984dd714593845e2a9e541cb6a123fbf",
            "_dom_classes": [],
            "description": "",
            "_model_name": "HTMLModel",
            "placeholder": "​",
            "_view_module": "@jupyter-widgets/controls",
            "_model_module_version": "1.5.0",
            "value": "100% 5/5 [01:33&lt;00:00, 18.80s/it]",
            "_view_count": null,
            "_view_module_version": "1.5.0",
            "description_tooltip": null,
            "_model_module": "@jupyter-widgets/controls",
            "layout": "IPY_MODEL_8672c84347f44953a3a99dee898c73c3"
          }
        },
        "0e7da25b28ee4d80aacfdb19d9be5e6c": {
          "model_module": "@jupyter-widgets/controls",
          "model_name": "ProgressStyleModel",
          "state": {
            "_view_name": "StyleView",
            "_model_name": "ProgressStyleModel",
            "description_width": "",
            "_view_module": "@jupyter-widgets/base",
            "_model_module_version": "1.5.0",
            "_view_count": null,
            "_view_module_version": "1.2.0",
            "bar_color": null,
            "_model_module": "@jupyter-widgets/controls"
          }
        },
        "43c1d70a4b7d4feea09cfdb782a15076": {
          "model_module": "@jupyter-widgets/base",
          "model_name": "LayoutModel",
          "state": {
            "_view_name": "LayoutView",
            "grid_template_rows": null,
            "right": null,
            "justify_content": null,
            "_view_module": "@jupyter-widgets/base",
            "overflow": null,
            "_model_module_version": "1.2.0",
            "_view_count": null,
            "flex_flow": null,
            "width": null,
            "min_width": null,
            "border": null,
            "align_items": null,
            "bottom": null,
            "_model_module": "@jupyter-widgets/base",
            "top": null,
            "grid_column": null,
            "overflow_y": null,
            "overflow_x": null,
            "grid_auto_flow": null,
            "grid_area": null,
            "grid_template_columns": null,
            "flex": null,
            "_model_name": "LayoutModel",
            "justify_items": null,
            "grid_row": null,
            "max_height": null,
            "align_content": null,
            "visibility": null,
            "align_self": null,
            "height": null,
            "min_height": null,
            "padding": null,
            "grid_auto_rows": null,
            "grid_gap": null,
            "max_width": null,
            "order": null,
            "_view_module_version": "1.2.0",
            "grid_template_areas": null,
            "object_position": null,
            "object_fit": null,
            "grid_auto_columns": null,
            "margin": null,
            "display": null,
            "left": null
          }
        },
        "984dd714593845e2a9e541cb6a123fbf": {
          "model_module": "@jupyter-widgets/controls",
          "model_name": "DescriptionStyleModel",
          "state": {
            "_view_name": "StyleView",
            "_model_name": "DescriptionStyleModel",
            "description_width": "",
            "_view_module": "@jupyter-widgets/base",
            "_model_module_version": "1.5.0",
            "_view_count": null,
            "_view_module_version": "1.2.0",
            "_model_module": "@jupyter-widgets/controls"
          }
        },
        "8672c84347f44953a3a99dee898c73c3": {
          "model_module": "@jupyter-widgets/base",
          "model_name": "LayoutModel",
          "state": {
            "_view_name": "LayoutView",
            "grid_template_rows": null,
            "right": null,
            "justify_content": null,
            "_view_module": "@jupyter-widgets/base",
            "overflow": null,
            "_model_module_version": "1.2.0",
            "_view_count": null,
            "flex_flow": null,
            "width": null,
            "min_width": null,
            "border": null,
            "align_items": null,
            "bottom": null,
            "_model_module": "@jupyter-widgets/base",
            "top": null,
            "grid_column": null,
            "overflow_y": null,
            "overflow_x": null,
            "grid_auto_flow": null,
            "grid_area": null,
            "grid_template_columns": null,
            "flex": null,
            "_model_name": "LayoutModel",
            "justify_items": null,
            "grid_row": null,
            "max_height": null,
            "align_content": null,
            "visibility": null,
            "align_self": null,
            "height": null,
            "min_height": null,
            "padding": null,
            "grid_auto_rows": null,
            "grid_gap": null,
            "max_width": null,
            "order": null,
            "_view_module_version": "1.2.0",
            "grid_template_areas": null,
            "object_position": null,
            "object_fit": null,
            "grid_auto_columns": null,
            "margin": null,
            "display": null,
            "left": null
          }
        },
        "b7f1875bcdf44324acd0e46560b7706e": {
          "model_module": "@jupyter-widgets/controls",
          "model_name": "HBoxModel",
          "state": {
            "_view_name": "HBoxView",
            "_dom_classes": [],
            "_model_name": "HBoxModel",
            "_view_module": "@jupyter-widgets/controls",
            "_model_module_version": "1.5.0",
            "_view_count": null,
            "_view_module_version": "1.5.0",
            "box_style": "",
            "layout": "IPY_MODEL_c65f1d7f8cf3410c860681229a5b6fe0",
            "_model_module": "@jupyter-widgets/controls",
            "children": [
              "IPY_MODEL_8375a9c3b2594452a3248cc3b42922ff",
              "IPY_MODEL_7fe7323ac4f948e08211aa027f207ac5"
            ]
          }
        },
        "c65f1d7f8cf3410c860681229a5b6fe0": {
          "model_module": "@jupyter-widgets/base",
          "model_name": "LayoutModel",
          "state": {
            "_view_name": "LayoutView",
            "grid_template_rows": null,
            "right": null,
            "justify_content": null,
            "_view_module": "@jupyter-widgets/base",
            "overflow": null,
            "_model_module_version": "1.2.0",
            "_view_count": null,
            "flex_flow": null,
            "width": null,
            "min_width": null,
            "border": null,
            "align_items": null,
            "bottom": null,
            "_model_module": "@jupyter-widgets/base",
            "top": null,
            "grid_column": null,
            "overflow_y": null,
            "overflow_x": null,
            "grid_auto_flow": null,
            "grid_area": null,
            "grid_template_columns": null,
            "flex": null,
            "_model_name": "LayoutModel",
            "justify_items": null,
            "grid_row": null,
            "max_height": null,
            "align_content": null,
            "visibility": null,
            "align_self": null,
            "height": null,
            "min_height": null,
            "padding": null,
            "grid_auto_rows": null,
            "grid_gap": null,
            "max_width": null,
            "order": null,
            "_view_module_version": "1.2.0",
            "grid_template_areas": null,
            "object_position": null,
            "object_fit": null,
            "grid_auto_columns": null,
            "margin": null,
            "display": null,
            "left": null
          }
        },
        "8375a9c3b2594452a3248cc3b42922ff": {
          "model_module": "@jupyter-widgets/controls",
          "model_name": "IntProgressModel",
          "state": {
            "_view_name": "ProgressView",
            "style": "IPY_MODEL_223c4f41bcce4a8f80038cc73b9ae38a",
            "_dom_classes": [],
            "description": "",
            "_model_name": "IntProgressModel",
            "bar_style": "success",
            "max": 5,
            "_view_module": "@jupyter-widgets/controls",
            "_model_module_version": "1.5.0",
            "value": 5,
            "_view_count": null,
            "_view_module_version": "1.5.0",
            "orientation": "horizontal",
            "min": 0,
            "description_tooltip": null,
            "_model_module": "@jupyter-widgets/controls",
            "layout": "IPY_MODEL_73256c85e86d4de9a69b01f96c41f730"
          }
        },
        "7fe7323ac4f948e08211aa027f207ac5": {
          "model_module": "@jupyter-widgets/controls",
          "model_name": "HTMLModel",
          "state": {
            "_view_name": "HTMLView",
            "style": "IPY_MODEL_2f2196d1761e49d681b6cb2711985418",
            "_dom_classes": [],
            "description": "",
            "_model_name": "HTMLModel",
            "placeholder": "​",
            "_view_module": "@jupyter-widgets/controls",
            "_model_module_version": "1.5.0",
            "value": "100% 5/5 [01:33&lt;00:00, 18.69s/it]",
            "_view_count": null,
            "_view_module_version": "1.5.0",
            "description_tooltip": null,
            "_model_module": "@jupyter-widgets/controls",
            "layout": "IPY_MODEL_e8910f3463a14fd7bf4c41c4cac16882"
          }
        },
        "223c4f41bcce4a8f80038cc73b9ae38a": {
          "model_module": "@jupyter-widgets/controls",
          "model_name": "ProgressStyleModel",
          "state": {
            "_view_name": "StyleView",
            "_model_name": "ProgressStyleModel",
            "description_width": "",
            "_view_module": "@jupyter-widgets/base",
            "_model_module_version": "1.5.0",
            "_view_count": null,
            "_view_module_version": "1.2.0",
            "bar_color": null,
            "_model_module": "@jupyter-widgets/controls"
          }
        },
        "73256c85e86d4de9a69b01f96c41f730": {
          "model_module": "@jupyter-widgets/base",
          "model_name": "LayoutModel",
          "state": {
            "_view_name": "LayoutView",
            "grid_template_rows": null,
            "right": null,
            "justify_content": null,
            "_view_module": "@jupyter-widgets/base",
            "overflow": null,
            "_model_module_version": "1.2.0",
            "_view_count": null,
            "flex_flow": null,
            "width": null,
            "min_width": null,
            "border": null,
            "align_items": null,
            "bottom": null,
            "_model_module": "@jupyter-widgets/base",
            "top": null,
            "grid_column": null,
            "overflow_y": null,
            "overflow_x": null,
            "grid_auto_flow": null,
            "grid_area": null,
            "grid_template_columns": null,
            "flex": null,
            "_model_name": "LayoutModel",
            "justify_items": null,
            "grid_row": null,
            "max_height": null,
            "align_content": null,
            "visibility": null,
            "align_self": null,
            "height": null,
            "min_height": null,
            "padding": null,
            "grid_auto_rows": null,
            "grid_gap": null,
            "max_width": null,
            "order": null,
            "_view_module_version": "1.2.0",
            "grid_template_areas": null,
            "object_position": null,
            "object_fit": null,
            "grid_auto_columns": null,
            "margin": null,
            "display": null,
            "left": null
          }
        },
        "2f2196d1761e49d681b6cb2711985418": {
          "model_module": "@jupyter-widgets/controls",
          "model_name": "DescriptionStyleModel",
          "state": {
            "_view_name": "StyleView",
            "_model_name": "DescriptionStyleModel",
            "description_width": "",
            "_view_module": "@jupyter-widgets/base",
            "_model_module_version": "1.5.0",
            "_view_count": null,
            "_view_module_version": "1.2.0",
            "_model_module": "@jupyter-widgets/controls"
          }
        },
        "e8910f3463a14fd7bf4c41c4cac16882": {
          "model_module": "@jupyter-widgets/base",
          "model_name": "LayoutModel",
          "state": {
            "_view_name": "LayoutView",
            "grid_template_rows": null,
            "right": null,
            "justify_content": null,
            "_view_module": "@jupyter-widgets/base",
            "overflow": null,
            "_model_module_version": "1.2.0",
            "_view_count": null,
            "flex_flow": null,
            "width": null,
            "min_width": null,
            "border": null,
            "align_items": null,
            "bottom": null,
            "_model_module": "@jupyter-widgets/base",
            "top": null,
            "grid_column": null,
            "overflow_y": null,
            "overflow_x": null,
            "grid_auto_flow": null,
            "grid_area": null,
            "grid_template_columns": null,
            "flex": null,
            "_model_name": "LayoutModel",
            "justify_items": null,
            "grid_row": null,
            "max_height": null,
            "align_content": null,
            "visibility": null,
            "align_self": null,
            "height": null,
            "min_height": null,
            "padding": null,
            "grid_auto_rows": null,
            "grid_gap": null,
            "max_width": null,
            "order": null,
            "_view_module_version": "1.2.0",
            "grid_template_areas": null,
            "object_position": null,
            "object_fit": null,
            "grid_auto_columns": null,
            "margin": null,
            "display": null,
            "left": null
          }
        },
        "8f884b124a244f61a3f2dc59c397df81": {
          "model_module": "@jupyter-widgets/controls",
          "model_name": "HBoxModel",
          "state": {
            "_view_name": "HBoxView",
            "_dom_classes": [],
            "_model_name": "HBoxModel",
            "_view_module": "@jupyter-widgets/controls",
            "_model_module_version": "1.5.0",
            "_view_count": null,
            "_view_module_version": "1.5.0",
            "box_style": "",
            "layout": "IPY_MODEL_7f774ce86c0643faa9c1e6a3aaf72477",
            "_model_module": "@jupyter-widgets/controls",
            "children": [
              "IPY_MODEL_2999353d19084f13861b8b36df67d74f",
              "IPY_MODEL_ce1738028cd249ac97f09c115aecb25f"
            ]
          }
        },
        "7f774ce86c0643faa9c1e6a3aaf72477": {
          "model_module": "@jupyter-widgets/base",
          "model_name": "LayoutModel",
          "state": {
            "_view_name": "LayoutView",
            "grid_template_rows": null,
            "right": null,
            "justify_content": null,
            "_view_module": "@jupyter-widgets/base",
            "overflow": null,
            "_model_module_version": "1.2.0",
            "_view_count": null,
            "flex_flow": null,
            "width": null,
            "min_width": null,
            "border": null,
            "align_items": null,
            "bottom": null,
            "_model_module": "@jupyter-widgets/base",
            "top": null,
            "grid_column": null,
            "overflow_y": null,
            "overflow_x": null,
            "grid_auto_flow": null,
            "grid_area": null,
            "grid_template_columns": null,
            "flex": null,
            "_model_name": "LayoutModel",
            "justify_items": null,
            "grid_row": null,
            "max_height": null,
            "align_content": null,
            "visibility": null,
            "align_self": null,
            "height": null,
            "min_height": null,
            "padding": null,
            "grid_auto_rows": null,
            "grid_gap": null,
            "max_width": null,
            "order": null,
            "_view_module_version": "1.2.0",
            "grid_template_areas": null,
            "object_position": null,
            "object_fit": null,
            "grid_auto_columns": null,
            "margin": null,
            "display": null,
            "left": null
          }
        },
        "2999353d19084f13861b8b36df67d74f": {
          "model_module": "@jupyter-widgets/controls",
          "model_name": "IntProgressModel",
          "state": {
            "_view_name": "ProgressView",
            "style": "IPY_MODEL_372a0f7491f64bb7939fa70fa355ead2",
            "_dom_classes": [],
            "description": "",
            "_model_name": "IntProgressModel",
            "bar_style": "success",
            "max": 5,
            "_view_module": "@jupyter-widgets/controls",
            "_model_module_version": "1.5.0",
            "value": 5,
            "_view_count": null,
            "_view_module_version": "1.5.0",
            "orientation": "horizontal",
            "min": 0,
            "description_tooltip": null,
            "_model_module": "@jupyter-widgets/controls",
            "layout": "IPY_MODEL_db36e45a8e9f4df29d5e8de3f96c5f10"
          }
        },
        "ce1738028cd249ac97f09c115aecb25f": {
          "model_module": "@jupyter-widgets/controls",
          "model_name": "HTMLModel",
          "state": {
            "_view_name": "HTMLView",
            "style": "IPY_MODEL_31e6ba77d09e4f96a98112e3f9b0f6f5",
            "_dom_classes": [],
            "description": "",
            "_model_name": "HTMLModel",
            "placeholder": "​",
            "_view_module": "@jupyter-widgets/controls",
            "_model_module_version": "1.5.0",
            "value": "100% 5/5 [01:33&lt;00:00, 18.64s/it]",
            "_view_count": null,
            "_view_module_version": "1.5.0",
            "description_tooltip": null,
            "_model_module": "@jupyter-widgets/controls",
            "layout": "IPY_MODEL_40e870ef493f43d7a26006c7c999ee06"
          }
        },
        "372a0f7491f64bb7939fa70fa355ead2": {
          "model_module": "@jupyter-widgets/controls",
          "model_name": "ProgressStyleModel",
          "state": {
            "_view_name": "StyleView",
            "_model_name": "ProgressStyleModel",
            "description_width": "",
            "_view_module": "@jupyter-widgets/base",
            "_model_module_version": "1.5.0",
            "_view_count": null,
            "_view_module_version": "1.2.0",
            "bar_color": null,
            "_model_module": "@jupyter-widgets/controls"
          }
        },
        "db36e45a8e9f4df29d5e8de3f96c5f10": {
          "model_module": "@jupyter-widgets/base",
          "model_name": "LayoutModel",
          "state": {
            "_view_name": "LayoutView",
            "grid_template_rows": null,
            "right": null,
            "justify_content": null,
            "_view_module": "@jupyter-widgets/base",
            "overflow": null,
            "_model_module_version": "1.2.0",
            "_view_count": null,
            "flex_flow": null,
            "width": null,
            "min_width": null,
            "border": null,
            "align_items": null,
            "bottom": null,
            "_model_module": "@jupyter-widgets/base",
            "top": null,
            "grid_column": null,
            "overflow_y": null,
            "overflow_x": null,
            "grid_auto_flow": null,
            "grid_area": null,
            "grid_template_columns": null,
            "flex": null,
            "_model_name": "LayoutModel",
            "justify_items": null,
            "grid_row": null,
            "max_height": null,
            "align_content": null,
            "visibility": null,
            "align_self": null,
            "height": null,
            "min_height": null,
            "padding": null,
            "grid_auto_rows": null,
            "grid_gap": null,
            "max_width": null,
            "order": null,
            "_view_module_version": "1.2.0",
            "grid_template_areas": null,
            "object_position": null,
            "object_fit": null,
            "grid_auto_columns": null,
            "margin": null,
            "display": null,
            "left": null
          }
        },
        "31e6ba77d09e4f96a98112e3f9b0f6f5": {
          "model_module": "@jupyter-widgets/controls",
          "model_name": "DescriptionStyleModel",
          "state": {
            "_view_name": "StyleView",
            "_model_name": "DescriptionStyleModel",
            "description_width": "",
            "_view_module": "@jupyter-widgets/base",
            "_model_module_version": "1.5.0",
            "_view_count": null,
            "_view_module_version": "1.2.0",
            "_model_module": "@jupyter-widgets/controls"
          }
        },
        "40e870ef493f43d7a26006c7c999ee06": {
          "model_module": "@jupyter-widgets/base",
          "model_name": "LayoutModel",
          "state": {
            "_view_name": "LayoutView",
            "grid_template_rows": null,
            "right": null,
            "justify_content": null,
            "_view_module": "@jupyter-widgets/base",
            "overflow": null,
            "_model_module_version": "1.2.0",
            "_view_count": null,
            "flex_flow": null,
            "width": null,
            "min_width": null,
            "border": null,
            "align_items": null,
            "bottom": null,
            "_model_module": "@jupyter-widgets/base",
            "top": null,
            "grid_column": null,
            "overflow_y": null,
            "overflow_x": null,
            "grid_auto_flow": null,
            "grid_area": null,
            "grid_template_columns": null,
            "flex": null,
            "_model_name": "LayoutModel",
            "justify_items": null,
            "grid_row": null,
            "max_height": null,
            "align_content": null,
            "visibility": null,
            "align_self": null,
            "height": null,
            "min_height": null,
            "padding": null,
            "grid_auto_rows": null,
            "grid_gap": null,
            "max_width": null,
            "order": null,
            "_view_module_version": "1.2.0",
            "grid_template_areas": null,
            "object_position": null,
            "object_fit": null,
            "grid_auto_columns": null,
            "margin": null,
            "display": null,
            "left": null
          }
        },
        "60c0620deb0a4b5eb8a54fc6c31bd1d6": {
          "model_module": "@jupyter-widgets/controls",
          "model_name": "HBoxModel",
          "state": {
            "_view_name": "HBoxView",
            "_dom_classes": [],
            "_model_name": "HBoxModel",
            "_view_module": "@jupyter-widgets/controls",
            "_model_module_version": "1.5.0",
            "_view_count": null,
            "_view_module_version": "1.5.0",
            "box_style": "",
            "layout": "IPY_MODEL_f3e7e23f867e4fba80ee043a46c36ba6",
            "_model_module": "@jupyter-widgets/controls",
            "children": [
              "IPY_MODEL_cac44ed62b824ad2a9101c0f4db47b0c",
              "IPY_MODEL_5dff9d0cbcb94cd79535817efc197fd3"
            ]
          }
        },
        "f3e7e23f867e4fba80ee043a46c36ba6": {
          "model_module": "@jupyter-widgets/base",
          "model_name": "LayoutModel",
          "state": {
            "_view_name": "LayoutView",
            "grid_template_rows": null,
            "right": null,
            "justify_content": null,
            "_view_module": "@jupyter-widgets/base",
            "overflow": null,
            "_model_module_version": "1.2.0",
            "_view_count": null,
            "flex_flow": null,
            "width": null,
            "min_width": null,
            "border": null,
            "align_items": null,
            "bottom": null,
            "_model_module": "@jupyter-widgets/base",
            "top": null,
            "grid_column": null,
            "overflow_y": null,
            "overflow_x": null,
            "grid_auto_flow": null,
            "grid_area": null,
            "grid_template_columns": null,
            "flex": null,
            "_model_name": "LayoutModel",
            "justify_items": null,
            "grid_row": null,
            "max_height": null,
            "align_content": null,
            "visibility": null,
            "align_self": null,
            "height": null,
            "min_height": null,
            "padding": null,
            "grid_auto_rows": null,
            "grid_gap": null,
            "max_width": null,
            "order": null,
            "_view_module_version": "1.2.0",
            "grid_template_areas": null,
            "object_position": null,
            "object_fit": null,
            "grid_auto_columns": null,
            "margin": null,
            "display": null,
            "left": null
          }
        },
        "cac44ed62b824ad2a9101c0f4db47b0c": {
          "model_module": "@jupyter-widgets/controls",
          "model_name": "IntProgressModel",
          "state": {
            "_view_name": "ProgressView",
            "style": "IPY_MODEL_2b1d567edb274220b2cc4be76322b724",
            "_dom_classes": [],
            "description": "",
            "_model_name": "IntProgressModel",
            "bar_style": "success",
            "max": 5,
            "_view_module": "@jupyter-widgets/controls",
            "_model_module_version": "1.5.0",
            "value": 5,
            "_view_count": null,
            "_view_module_version": "1.5.0",
            "orientation": "horizontal",
            "min": 0,
            "description_tooltip": null,
            "_model_module": "@jupyter-widgets/controls",
            "layout": "IPY_MODEL_ef5b25fa2d114f4f826d6451064aee2b"
          }
        },
        "5dff9d0cbcb94cd79535817efc197fd3": {
          "model_module": "@jupyter-widgets/controls",
          "model_name": "HTMLModel",
          "state": {
            "_view_name": "HTMLView",
            "style": "IPY_MODEL_43baad295d5f458e8b61eff6d751dd30",
            "_dom_classes": [],
            "description": "",
            "_model_name": "HTMLModel",
            "placeholder": "​",
            "_view_module": "@jupyter-widgets/controls",
            "_model_module_version": "1.5.0",
            "value": "100% 5/5 [01:32&lt;00:00, 18.50s/it]",
            "_view_count": null,
            "_view_module_version": "1.5.0",
            "description_tooltip": null,
            "_model_module": "@jupyter-widgets/controls",
            "layout": "IPY_MODEL_42164f29358d4f1fb78190c9371cf04b"
          }
        },
        "2b1d567edb274220b2cc4be76322b724": {
          "model_module": "@jupyter-widgets/controls",
          "model_name": "ProgressStyleModel",
          "state": {
            "_view_name": "StyleView",
            "_model_name": "ProgressStyleModel",
            "description_width": "",
            "_view_module": "@jupyter-widgets/base",
            "_model_module_version": "1.5.0",
            "_view_count": null,
            "_view_module_version": "1.2.0",
            "bar_color": null,
            "_model_module": "@jupyter-widgets/controls"
          }
        },
        "ef5b25fa2d114f4f826d6451064aee2b": {
          "model_module": "@jupyter-widgets/base",
          "model_name": "LayoutModel",
          "state": {
            "_view_name": "LayoutView",
            "grid_template_rows": null,
            "right": null,
            "justify_content": null,
            "_view_module": "@jupyter-widgets/base",
            "overflow": null,
            "_model_module_version": "1.2.0",
            "_view_count": null,
            "flex_flow": null,
            "width": null,
            "min_width": null,
            "border": null,
            "align_items": null,
            "bottom": null,
            "_model_module": "@jupyter-widgets/base",
            "top": null,
            "grid_column": null,
            "overflow_y": null,
            "overflow_x": null,
            "grid_auto_flow": null,
            "grid_area": null,
            "grid_template_columns": null,
            "flex": null,
            "_model_name": "LayoutModel",
            "justify_items": null,
            "grid_row": null,
            "max_height": null,
            "align_content": null,
            "visibility": null,
            "align_self": null,
            "height": null,
            "min_height": null,
            "padding": null,
            "grid_auto_rows": null,
            "grid_gap": null,
            "max_width": null,
            "order": null,
            "_view_module_version": "1.2.0",
            "grid_template_areas": null,
            "object_position": null,
            "object_fit": null,
            "grid_auto_columns": null,
            "margin": null,
            "display": null,
            "left": null
          }
        },
        "43baad295d5f458e8b61eff6d751dd30": {
          "model_module": "@jupyter-widgets/controls",
          "model_name": "DescriptionStyleModel",
          "state": {
            "_view_name": "StyleView",
            "_model_name": "DescriptionStyleModel",
            "description_width": "",
            "_view_module": "@jupyter-widgets/base",
            "_model_module_version": "1.5.0",
            "_view_count": null,
            "_view_module_version": "1.2.0",
            "_model_module": "@jupyter-widgets/controls"
          }
        },
        "42164f29358d4f1fb78190c9371cf04b": {
          "model_module": "@jupyter-widgets/base",
          "model_name": "LayoutModel",
          "state": {
            "_view_name": "LayoutView",
            "grid_template_rows": null,
            "right": null,
            "justify_content": null,
            "_view_module": "@jupyter-widgets/base",
            "overflow": null,
            "_model_module_version": "1.2.0",
            "_view_count": null,
            "flex_flow": null,
            "width": null,
            "min_width": null,
            "border": null,
            "align_items": null,
            "bottom": null,
            "_model_module": "@jupyter-widgets/base",
            "top": null,
            "grid_column": null,
            "overflow_y": null,
            "overflow_x": null,
            "grid_auto_flow": null,
            "grid_area": null,
            "grid_template_columns": null,
            "flex": null,
            "_model_name": "LayoutModel",
            "justify_items": null,
            "grid_row": null,
            "max_height": null,
            "align_content": null,
            "visibility": null,
            "align_self": null,
            "height": null,
            "min_height": null,
            "padding": null,
            "grid_auto_rows": null,
            "grid_gap": null,
            "max_width": null,
            "order": null,
            "_view_module_version": "1.2.0",
            "grid_template_areas": null,
            "object_position": null,
            "object_fit": null,
            "grid_auto_columns": null,
            "margin": null,
            "display": null,
            "left": null
          }
        },
        "5519f8cfd9b145cba5d57cfc4e511292": {
          "model_module": "@jupyter-widgets/controls",
          "model_name": "HBoxModel",
          "state": {
            "_view_name": "HBoxView",
            "_dom_classes": [],
            "_model_name": "HBoxModel",
            "_view_module": "@jupyter-widgets/controls",
            "_model_module_version": "1.5.0",
            "_view_count": null,
            "_view_module_version": "1.5.0",
            "box_style": "",
            "layout": "IPY_MODEL_d5e3888b0d244e39b95a77886e6b07ab",
            "_model_module": "@jupyter-widgets/controls",
            "children": [
              "IPY_MODEL_7909547bee214748998ac5c3cf2448b5",
              "IPY_MODEL_1b4c569315a241188986d2d14559d206"
            ]
          }
        },
        "d5e3888b0d244e39b95a77886e6b07ab": {
          "model_module": "@jupyter-widgets/base",
          "model_name": "LayoutModel",
          "state": {
            "_view_name": "LayoutView",
            "grid_template_rows": null,
            "right": null,
            "justify_content": null,
            "_view_module": "@jupyter-widgets/base",
            "overflow": null,
            "_model_module_version": "1.2.0",
            "_view_count": null,
            "flex_flow": null,
            "width": null,
            "min_width": null,
            "border": null,
            "align_items": null,
            "bottom": null,
            "_model_module": "@jupyter-widgets/base",
            "top": null,
            "grid_column": null,
            "overflow_y": null,
            "overflow_x": null,
            "grid_auto_flow": null,
            "grid_area": null,
            "grid_template_columns": null,
            "flex": null,
            "_model_name": "LayoutModel",
            "justify_items": null,
            "grid_row": null,
            "max_height": null,
            "align_content": null,
            "visibility": null,
            "align_self": null,
            "height": null,
            "min_height": null,
            "padding": null,
            "grid_auto_rows": null,
            "grid_gap": null,
            "max_width": null,
            "order": null,
            "_view_module_version": "1.2.0",
            "grid_template_areas": null,
            "object_position": null,
            "object_fit": null,
            "grid_auto_columns": null,
            "margin": null,
            "display": null,
            "left": null
          }
        },
        "7909547bee214748998ac5c3cf2448b5": {
          "model_module": "@jupyter-widgets/controls",
          "model_name": "IntProgressModel",
          "state": {
            "_view_name": "ProgressView",
            "style": "IPY_MODEL_b638a0c23b1f4260b10f6c368bee76ee",
            "_dom_classes": [],
            "description": "",
            "_model_name": "IntProgressModel",
            "bar_style": "success",
            "max": 5,
            "_view_module": "@jupyter-widgets/controls",
            "_model_module_version": "1.5.0",
            "value": 5,
            "_view_count": null,
            "_view_module_version": "1.5.0",
            "orientation": "horizontal",
            "min": 0,
            "description_tooltip": null,
            "_model_module": "@jupyter-widgets/controls",
            "layout": "IPY_MODEL_686fa15250774d6d95770a3cbb8d1ee3"
          }
        },
        "1b4c569315a241188986d2d14559d206": {
          "model_module": "@jupyter-widgets/controls",
          "model_name": "HTMLModel",
          "state": {
            "_view_name": "HTMLView",
            "style": "IPY_MODEL_05eb276ebb004dc6ba22c326f86821d0",
            "_dom_classes": [],
            "description": "",
            "_model_name": "HTMLModel",
            "placeholder": "​",
            "_view_module": "@jupyter-widgets/controls",
            "_model_module_version": "1.5.0",
            "value": "100% 5/5 [01:32&lt;00:00, 18.57s/it]",
            "_view_count": null,
            "_view_module_version": "1.5.0",
            "description_tooltip": null,
            "_model_module": "@jupyter-widgets/controls",
            "layout": "IPY_MODEL_e6a258308b834d7a8c07fb1223488e7c"
          }
        },
        "b638a0c23b1f4260b10f6c368bee76ee": {
          "model_module": "@jupyter-widgets/controls",
          "model_name": "ProgressStyleModel",
          "state": {
            "_view_name": "StyleView",
            "_model_name": "ProgressStyleModel",
            "description_width": "",
            "_view_module": "@jupyter-widgets/base",
            "_model_module_version": "1.5.0",
            "_view_count": null,
            "_view_module_version": "1.2.0",
            "bar_color": null,
            "_model_module": "@jupyter-widgets/controls"
          }
        },
        "686fa15250774d6d95770a3cbb8d1ee3": {
          "model_module": "@jupyter-widgets/base",
          "model_name": "LayoutModel",
          "state": {
            "_view_name": "LayoutView",
            "grid_template_rows": null,
            "right": null,
            "justify_content": null,
            "_view_module": "@jupyter-widgets/base",
            "overflow": null,
            "_model_module_version": "1.2.0",
            "_view_count": null,
            "flex_flow": null,
            "width": null,
            "min_width": null,
            "border": null,
            "align_items": null,
            "bottom": null,
            "_model_module": "@jupyter-widgets/base",
            "top": null,
            "grid_column": null,
            "overflow_y": null,
            "overflow_x": null,
            "grid_auto_flow": null,
            "grid_area": null,
            "grid_template_columns": null,
            "flex": null,
            "_model_name": "LayoutModel",
            "justify_items": null,
            "grid_row": null,
            "max_height": null,
            "align_content": null,
            "visibility": null,
            "align_self": null,
            "height": null,
            "min_height": null,
            "padding": null,
            "grid_auto_rows": null,
            "grid_gap": null,
            "max_width": null,
            "order": null,
            "_view_module_version": "1.2.0",
            "grid_template_areas": null,
            "object_position": null,
            "object_fit": null,
            "grid_auto_columns": null,
            "margin": null,
            "display": null,
            "left": null
          }
        },
        "05eb276ebb004dc6ba22c326f86821d0": {
          "model_module": "@jupyter-widgets/controls",
          "model_name": "DescriptionStyleModel",
          "state": {
            "_view_name": "StyleView",
            "_model_name": "DescriptionStyleModel",
            "description_width": "",
            "_view_module": "@jupyter-widgets/base",
            "_model_module_version": "1.5.0",
            "_view_count": null,
            "_view_module_version": "1.2.0",
            "_model_module": "@jupyter-widgets/controls"
          }
        },
        "e6a258308b834d7a8c07fb1223488e7c": {
          "model_module": "@jupyter-widgets/base",
          "model_name": "LayoutModel",
          "state": {
            "_view_name": "LayoutView",
            "grid_template_rows": null,
            "right": null,
            "justify_content": null,
            "_view_module": "@jupyter-widgets/base",
            "overflow": null,
            "_model_module_version": "1.2.0",
            "_view_count": null,
            "flex_flow": null,
            "width": null,
            "min_width": null,
            "border": null,
            "align_items": null,
            "bottom": null,
            "_model_module": "@jupyter-widgets/base",
            "top": null,
            "grid_column": null,
            "overflow_y": null,
            "overflow_x": null,
            "grid_auto_flow": null,
            "grid_area": null,
            "grid_template_columns": null,
            "flex": null,
            "_model_name": "LayoutModel",
            "justify_items": null,
            "grid_row": null,
            "max_height": null,
            "align_content": null,
            "visibility": null,
            "align_self": null,
            "height": null,
            "min_height": null,
            "padding": null,
            "grid_auto_rows": null,
            "grid_gap": null,
            "max_width": null,
            "order": null,
            "_view_module_version": "1.2.0",
            "grid_template_areas": null,
            "object_position": null,
            "object_fit": null,
            "grid_auto_columns": null,
            "margin": null,
            "display": null,
            "left": null
          }
        },
        "4a9dac8308d54c58a04c4cb473a214db": {
          "model_module": "@jupyter-widgets/controls",
          "model_name": "HBoxModel",
          "state": {
            "_view_name": "HBoxView",
            "_dom_classes": [],
            "_model_name": "HBoxModel",
            "_view_module": "@jupyter-widgets/controls",
            "_model_module_version": "1.5.0",
            "_view_count": null,
            "_view_module_version": "1.5.0",
            "box_style": "",
            "layout": "IPY_MODEL_01ed86837b224e54b03f11aa04a5bb53",
            "_model_module": "@jupyter-widgets/controls",
            "children": [
              "IPY_MODEL_1846d454c4374159943ebafe7efdaaf7",
              "IPY_MODEL_709f55bfa9054198a1062633a840cefa"
            ]
          }
        },
        "01ed86837b224e54b03f11aa04a5bb53": {
          "model_module": "@jupyter-widgets/base",
          "model_name": "LayoutModel",
          "state": {
            "_view_name": "LayoutView",
            "grid_template_rows": null,
            "right": null,
            "justify_content": null,
            "_view_module": "@jupyter-widgets/base",
            "overflow": null,
            "_model_module_version": "1.2.0",
            "_view_count": null,
            "flex_flow": null,
            "width": null,
            "min_width": null,
            "border": null,
            "align_items": null,
            "bottom": null,
            "_model_module": "@jupyter-widgets/base",
            "top": null,
            "grid_column": null,
            "overflow_y": null,
            "overflow_x": null,
            "grid_auto_flow": null,
            "grid_area": null,
            "grid_template_columns": null,
            "flex": null,
            "_model_name": "LayoutModel",
            "justify_items": null,
            "grid_row": null,
            "max_height": null,
            "align_content": null,
            "visibility": null,
            "align_self": null,
            "height": null,
            "min_height": null,
            "padding": null,
            "grid_auto_rows": null,
            "grid_gap": null,
            "max_width": null,
            "order": null,
            "_view_module_version": "1.2.0",
            "grid_template_areas": null,
            "object_position": null,
            "object_fit": null,
            "grid_auto_columns": null,
            "margin": null,
            "display": null,
            "left": null
          }
        },
        "1846d454c4374159943ebafe7efdaaf7": {
          "model_module": "@jupyter-widgets/controls",
          "model_name": "IntProgressModel",
          "state": {
            "_view_name": "ProgressView",
            "style": "IPY_MODEL_28a84ecb376a470ca6bfab7e9f2efc3f",
            "_dom_classes": [],
            "description": "",
            "_model_name": "IntProgressModel",
            "bar_style": "success",
            "max": 5,
            "_view_module": "@jupyter-widgets/controls",
            "_model_module_version": "1.5.0",
            "value": 5,
            "_view_count": null,
            "_view_module_version": "1.5.0",
            "orientation": "horizontal",
            "min": 0,
            "description_tooltip": null,
            "_model_module": "@jupyter-widgets/controls",
            "layout": "IPY_MODEL_7c4bbcc40ee84e889d500e036dac0c55"
          }
        },
        "709f55bfa9054198a1062633a840cefa": {
          "model_module": "@jupyter-widgets/controls",
          "model_name": "HTMLModel",
          "state": {
            "_view_name": "HTMLView",
            "style": "IPY_MODEL_41a885052e0e42a5a8f0417cc95edf0e",
            "_dom_classes": [],
            "description": "",
            "_model_name": "HTMLModel",
            "placeholder": "​",
            "_view_module": "@jupyter-widgets/controls",
            "_model_module_version": "1.5.0",
            "value": "100% 5/5 [01:32&lt;00:00, 18.45s/it]",
            "_view_count": null,
            "_view_module_version": "1.5.0",
            "description_tooltip": null,
            "_model_module": "@jupyter-widgets/controls",
            "layout": "IPY_MODEL_c6f7bc9f265d4704937fe87154f30013"
          }
        },
        "28a84ecb376a470ca6bfab7e9f2efc3f": {
          "model_module": "@jupyter-widgets/controls",
          "model_name": "ProgressStyleModel",
          "state": {
            "_view_name": "StyleView",
            "_model_name": "ProgressStyleModel",
            "description_width": "",
            "_view_module": "@jupyter-widgets/base",
            "_model_module_version": "1.5.0",
            "_view_count": null,
            "_view_module_version": "1.2.0",
            "bar_color": null,
            "_model_module": "@jupyter-widgets/controls"
          }
        },
        "7c4bbcc40ee84e889d500e036dac0c55": {
          "model_module": "@jupyter-widgets/base",
          "model_name": "LayoutModel",
          "state": {
            "_view_name": "LayoutView",
            "grid_template_rows": null,
            "right": null,
            "justify_content": null,
            "_view_module": "@jupyter-widgets/base",
            "overflow": null,
            "_model_module_version": "1.2.0",
            "_view_count": null,
            "flex_flow": null,
            "width": null,
            "min_width": null,
            "border": null,
            "align_items": null,
            "bottom": null,
            "_model_module": "@jupyter-widgets/base",
            "top": null,
            "grid_column": null,
            "overflow_y": null,
            "overflow_x": null,
            "grid_auto_flow": null,
            "grid_area": null,
            "grid_template_columns": null,
            "flex": null,
            "_model_name": "LayoutModel",
            "justify_items": null,
            "grid_row": null,
            "max_height": null,
            "align_content": null,
            "visibility": null,
            "align_self": null,
            "height": null,
            "min_height": null,
            "padding": null,
            "grid_auto_rows": null,
            "grid_gap": null,
            "max_width": null,
            "order": null,
            "_view_module_version": "1.2.0",
            "grid_template_areas": null,
            "object_position": null,
            "object_fit": null,
            "grid_auto_columns": null,
            "margin": null,
            "display": null,
            "left": null
          }
        },
        "41a885052e0e42a5a8f0417cc95edf0e": {
          "model_module": "@jupyter-widgets/controls",
          "model_name": "DescriptionStyleModel",
          "state": {
            "_view_name": "StyleView",
            "_model_name": "DescriptionStyleModel",
            "description_width": "",
            "_view_module": "@jupyter-widgets/base",
            "_model_module_version": "1.5.0",
            "_view_count": null,
            "_view_module_version": "1.2.0",
            "_model_module": "@jupyter-widgets/controls"
          }
        },
        "c6f7bc9f265d4704937fe87154f30013": {
          "model_module": "@jupyter-widgets/base",
          "model_name": "LayoutModel",
          "state": {
            "_view_name": "LayoutView",
            "grid_template_rows": null,
            "right": null,
            "justify_content": null,
            "_view_module": "@jupyter-widgets/base",
            "overflow": null,
            "_model_module_version": "1.2.0",
            "_view_count": null,
            "flex_flow": null,
            "width": null,
            "min_width": null,
            "border": null,
            "align_items": null,
            "bottom": null,
            "_model_module": "@jupyter-widgets/base",
            "top": null,
            "grid_column": null,
            "overflow_y": null,
            "overflow_x": null,
            "grid_auto_flow": null,
            "grid_area": null,
            "grid_template_columns": null,
            "flex": null,
            "_model_name": "LayoutModel",
            "justify_items": null,
            "grid_row": null,
            "max_height": null,
            "align_content": null,
            "visibility": null,
            "align_self": null,
            "height": null,
            "min_height": null,
            "padding": null,
            "grid_auto_rows": null,
            "grid_gap": null,
            "max_width": null,
            "order": null,
            "_view_module_version": "1.2.0",
            "grid_template_areas": null,
            "object_position": null,
            "object_fit": null,
            "grid_auto_columns": null,
            "margin": null,
            "display": null,
            "left": null
          }
        },
        "d035c28622e140faa7147a69fc29fc9c": {
          "model_module": "@jupyter-widgets/controls",
          "model_name": "HBoxModel",
          "state": {
            "_view_name": "HBoxView",
            "_dom_classes": [],
            "_model_name": "HBoxModel",
            "_view_module": "@jupyter-widgets/controls",
            "_model_module_version": "1.5.0",
            "_view_count": null,
            "_view_module_version": "1.5.0",
            "box_style": "",
            "layout": "IPY_MODEL_6fbda82c6e094e388d2e48a57c050dd9",
            "_model_module": "@jupyter-widgets/controls",
            "children": [
              "IPY_MODEL_973733785bfe486e96a0ccfdce0d0b1d",
              "IPY_MODEL_d5016b611dce45679893490ec99087d2"
            ]
          }
        },
        "6fbda82c6e094e388d2e48a57c050dd9": {
          "model_module": "@jupyter-widgets/base",
          "model_name": "LayoutModel",
          "state": {
            "_view_name": "LayoutView",
            "grid_template_rows": null,
            "right": null,
            "justify_content": null,
            "_view_module": "@jupyter-widgets/base",
            "overflow": null,
            "_model_module_version": "1.2.0",
            "_view_count": null,
            "flex_flow": null,
            "width": null,
            "min_width": null,
            "border": null,
            "align_items": null,
            "bottom": null,
            "_model_module": "@jupyter-widgets/base",
            "top": null,
            "grid_column": null,
            "overflow_y": null,
            "overflow_x": null,
            "grid_auto_flow": null,
            "grid_area": null,
            "grid_template_columns": null,
            "flex": null,
            "_model_name": "LayoutModel",
            "justify_items": null,
            "grid_row": null,
            "max_height": null,
            "align_content": null,
            "visibility": null,
            "align_self": null,
            "height": null,
            "min_height": null,
            "padding": null,
            "grid_auto_rows": null,
            "grid_gap": null,
            "max_width": null,
            "order": null,
            "_view_module_version": "1.2.0",
            "grid_template_areas": null,
            "object_position": null,
            "object_fit": null,
            "grid_auto_columns": null,
            "margin": null,
            "display": null,
            "left": null
          }
        },
        "973733785bfe486e96a0ccfdce0d0b1d": {
          "model_module": "@jupyter-widgets/controls",
          "model_name": "IntProgressModel",
          "state": {
            "_view_name": "ProgressView",
            "style": "IPY_MODEL_8f7a82d0e91340f1b8859cee4da30c12",
            "_dom_classes": [],
            "description": "",
            "_model_name": "IntProgressModel",
            "bar_style": "success",
            "max": 5,
            "_view_module": "@jupyter-widgets/controls",
            "_model_module_version": "1.5.0",
            "value": 5,
            "_view_count": null,
            "_view_module_version": "1.5.0",
            "orientation": "horizontal",
            "min": 0,
            "description_tooltip": null,
            "_model_module": "@jupyter-widgets/controls",
            "layout": "IPY_MODEL_36657e67584e44d78f5e6ce05203a4c3"
          }
        },
        "d5016b611dce45679893490ec99087d2": {
          "model_module": "@jupyter-widgets/controls",
          "model_name": "HTMLModel",
          "state": {
            "_view_name": "HTMLView",
            "style": "IPY_MODEL_38fb3b7e51514ab4bea79ddedfbccc47",
            "_dom_classes": [],
            "description": "",
            "_model_name": "HTMLModel",
            "placeholder": "​",
            "_view_module": "@jupyter-widgets/controls",
            "_model_module_version": "1.5.0",
            "value": "100% 5/5 [01:32&lt;00:00, 18.49s/it]",
            "_view_count": null,
            "_view_module_version": "1.5.0",
            "description_tooltip": null,
            "_model_module": "@jupyter-widgets/controls",
            "layout": "IPY_MODEL_aa6ed1c2ece1455590ea598ccdb34e83"
          }
        },
        "8f7a82d0e91340f1b8859cee4da30c12": {
          "model_module": "@jupyter-widgets/controls",
          "model_name": "ProgressStyleModel",
          "state": {
            "_view_name": "StyleView",
            "_model_name": "ProgressStyleModel",
            "description_width": "",
            "_view_module": "@jupyter-widgets/base",
            "_model_module_version": "1.5.0",
            "_view_count": null,
            "_view_module_version": "1.2.0",
            "bar_color": null,
            "_model_module": "@jupyter-widgets/controls"
          }
        },
        "36657e67584e44d78f5e6ce05203a4c3": {
          "model_module": "@jupyter-widgets/base",
          "model_name": "LayoutModel",
          "state": {
            "_view_name": "LayoutView",
            "grid_template_rows": null,
            "right": null,
            "justify_content": null,
            "_view_module": "@jupyter-widgets/base",
            "overflow": null,
            "_model_module_version": "1.2.0",
            "_view_count": null,
            "flex_flow": null,
            "width": null,
            "min_width": null,
            "border": null,
            "align_items": null,
            "bottom": null,
            "_model_module": "@jupyter-widgets/base",
            "top": null,
            "grid_column": null,
            "overflow_y": null,
            "overflow_x": null,
            "grid_auto_flow": null,
            "grid_area": null,
            "grid_template_columns": null,
            "flex": null,
            "_model_name": "LayoutModel",
            "justify_items": null,
            "grid_row": null,
            "max_height": null,
            "align_content": null,
            "visibility": null,
            "align_self": null,
            "height": null,
            "min_height": null,
            "padding": null,
            "grid_auto_rows": null,
            "grid_gap": null,
            "max_width": null,
            "order": null,
            "_view_module_version": "1.2.0",
            "grid_template_areas": null,
            "object_position": null,
            "object_fit": null,
            "grid_auto_columns": null,
            "margin": null,
            "display": null,
            "left": null
          }
        },
        "38fb3b7e51514ab4bea79ddedfbccc47": {
          "model_module": "@jupyter-widgets/controls",
          "model_name": "DescriptionStyleModel",
          "state": {
            "_view_name": "StyleView",
            "_model_name": "DescriptionStyleModel",
            "description_width": "",
            "_view_module": "@jupyter-widgets/base",
            "_model_module_version": "1.5.0",
            "_view_count": null,
            "_view_module_version": "1.2.0",
            "_model_module": "@jupyter-widgets/controls"
          }
        },
        "aa6ed1c2ece1455590ea598ccdb34e83": {
          "model_module": "@jupyter-widgets/base",
          "model_name": "LayoutModel",
          "state": {
            "_view_name": "LayoutView",
            "grid_template_rows": null,
            "right": null,
            "justify_content": null,
            "_view_module": "@jupyter-widgets/base",
            "overflow": null,
            "_model_module_version": "1.2.0",
            "_view_count": null,
            "flex_flow": null,
            "width": null,
            "min_width": null,
            "border": null,
            "align_items": null,
            "bottom": null,
            "_model_module": "@jupyter-widgets/base",
            "top": null,
            "grid_column": null,
            "overflow_y": null,
            "overflow_x": null,
            "grid_auto_flow": null,
            "grid_area": null,
            "grid_template_columns": null,
            "flex": null,
            "_model_name": "LayoutModel",
            "justify_items": null,
            "grid_row": null,
            "max_height": null,
            "align_content": null,
            "visibility": null,
            "align_self": null,
            "height": null,
            "min_height": null,
            "padding": null,
            "grid_auto_rows": null,
            "grid_gap": null,
            "max_width": null,
            "order": null,
            "_view_module_version": "1.2.0",
            "grid_template_areas": null,
            "object_position": null,
            "object_fit": null,
            "grid_auto_columns": null,
            "margin": null,
            "display": null,
            "left": null
          }
        },
        "573d2d5eba0043559d2a314b6179db10": {
          "model_module": "@jupyter-widgets/controls",
          "model_name": "HBoxModel",
          "state": {
            "_view_name": "HBoxView",
            "_dom_classes": [],
            "_model_name": "HBoxModel",
            "_view_module": "@jupyter-widgets/controls",
            "_model_module_version": "1.5.0",
            "_view_count": null,
            "_view_module_version": "1.5.0",
            "box_style": "",
            "layout": "IPY_MODEL_4fef73b1c6ab4b1d96a2bbd6b04cff96",
            "_model_module": "@jupyter-widgets/controls",
            "children": [
              "IPY_MODEL_79fea4e21c73458cb7c7515cba2fd8fc",
              "IPY_MODEL_5cedcc234516493a99d361bb9b16aff1"
            ]
          }
        },
        "4fef73b1c6ab4b1d96a2bbd6b04cff96": {
          "model_module": "@jupyter-widgets/base",
          "model_name": "LayoutModel",
          "state": {
            "_view_name": "LayoutView",
            "grid_template_rows": null,
            "right": null,
            "justify_content": null,
            "_view_module": "@jupyter-widgets/base",
            "overflow": null,
            "_model_module_version": "1.2.0",
            "_view_count": null,
            "flex_flow": null,
            "width": null,
            "min_width": null,
            "border": null,
            "align_items": null,
            "bottom": null,
            "_model_module": "@jupyter-widgets/base",
            "top": null,
            "grid_column": null,
            "overflow_y": null,
            "overflow_x": null,
            "grid_auto_flow": null,
            "grid_area": null,
            "grid_template_columns": null,
            "flex": null,
            "_model_name": "LayoutModel",
            "justify_items": null,
            "grid_row": null,
            "max_height": null,
            "align_content": null,
            "visibility": null,
            "align_self": null,
            "height": null,
            "min_height": null,
            "padding": null,
            "grid_auto_rows": null,
            "grid_gap": null,
            "max_width": null,
            "order": null,
            "_view_module_version": "1.2.0",
            "grid_template_areas": null,
            "object_position": null,
            "object_fit": null,
            "grid_auto_columns": null,
            "margin": null,
            "display": null,
            "left": null
          }
        },
        "79fea4e21c73458cb7c7515cba2fd8fc": {
          "model_module": "@jupyter-widgets/controls",
          "model_name": "IntProgressModel",
          "state": {
            "_view_name": "ProgressView",
            "style": "IPY_MODEL_267411cf50524937b781c323ff00f89b",
            "_dom_classes": [],
            "description": "",
            "_model_name": "IntProgressModel",
            "bar_style": "success",
            "max": 5,
            "_view_module": "@jupyter-widgets/controls",
            "_model_module_version": "1.5.0",
            "value": 5,
            "_view_count": null,
            "_view_module_version": "1.5.0",
            "orientation": "horizontal",
            "min": 0,
            "description_tooltip": null,
            "_model_module": "@jupyter-widgets/controls",
            "layout": "IPY_MODEL_236c8b9cbd0c48948808f9a61bea00f9"
          }
        },
        "5cedcc234516493a99d361bb9b16aff1": {
          "model_module": "@jupyter-widgets/controls",
          "model_name": "HTMLModel",
          "state": {
            "_view_name": "HTMLView",
            "style": "IPY_MODEL_744a55f5f91e4768886158940da6e997",
            "_dom_classes": [],
            "description": "",
            "_model_name": "HTMLModel",
            "placeholder": "​",
            "_view_module": "@jupyter-widgets/controls",
            "_model_module_version": "1.5.0",
            "value": "100% 5/5 [01:32&lt;00:00, 18.44s/it]",
            "_view_count": null,
            "_view_module_version": "1.5.0",
            "description_tooltip": null,
            "_model_module": "@jupyter-widgets/controls",
            "layout": "IPY_MODEL_da3c1ee991b543e79b86b2bd1dae15a9"
          }
        },
        "267411cf50524937b781c323ff00f89b": {
          "model_module": "@jupyter-widgets/controls",
          "model_name": "ProgressStyleModel",
          "state": {
            "_view_name": "StyleView",
            "_model_name": "ProgressStyleModel",
            "description_width": "",
            "_view_module": "@jupyter-widgets/base",
            "_model_module_version": "1.5.0",
            "_view_count": null,
            "_view_module_version": "1.2.0",
            "bar_color": null,
            "_model_module": "@jupyter-widgets/controls"
          }
        },
        "236c8b9cbd0c48948808f9a61bea00f9": {
          "model_module": "@jupyter-widgets/base",
          "model_name": "LayoutModel",
          "state": {
            "_view_name": "LayoutView",
            "grid_template_rows": null,
            "right": null,
            "justify_content": null,
            "_view_module": "@jupyter-widgets/base",
            "overflow": null,
            "_model_module_version": "1.2.0",
            "_view_count": null,
            "flex_flow": null,
            "width": null,
            "min_width": null,
            "border": null,
            "align_items": null,
            "bottom": null,
            "_model_module": "@jupyter-widgets/base",
            "top": null,
            "grid_column": null,
            "overflow_y": null,
            "overflow_x": null,
            "grid_auto_flow": null,
            "grid_area": null,
            "grid_template_columns": null,
            "flex": null,
            "_model_name": "LayoutModel",
            "justify_items": null,
            "grid_row": null,
            "max_height": null,
            "align_content": null,
            "visibility": null,
            "align_self": null,
            "height": null,
            "min_height": null,
            "padding": null,
            "grid_auto_rows": null,
            "grid_gap": null,
            "max_width": null,
            "order": null,
            "_view_module_version": "1.2.0",
            "grid_template_areas": null,
            "object_position": null,
            "object_fit": null,
            "grid_auto_columns": null,
            "margin": null,
            "display": null,
            "left": null
          }
        },
        "744a55f5f91e4768886158940da6e997": {
          "model_module": "@jupyter-widgets/controls",
          "model_name": "DescriptionStyleModel",
          "state": {
            "_view_name": "StyleView",
            "_model_name": "DescriptionStyleModel",
            "description_width": "",
            "_view_module": "@jupyter-widgets/base",
            "_model_module_version": "1.5.0",
            "_view_count": null,
            "_view_module_version": "1.2.0",
            "_model_module": "@jupyter-widgets/controls"
          }
        },
        "da3c1ee991b543e79b86b2bd1dae15a9": {
          "model_module": "@jupyter-widgets/base",
          "model_name": "LayoutModel",
          "state": {
            "_view_name": "LayoutView",
            "grid_template_rows": null,
            "right": null,
            "justify_content": null,
            "_view_module": "@jupyter-widgets/base",
            "overflow": null,
            "_model_module_version": "1.2.0",
            "_view_count": null,
            "flex_flow": null,
            "width": null,
            "min_width": null,
            "border": null,
            "align_items": null,
            "bottom": null,
            "_model_module": "@jupyter-widgets/base",
            "top": null,
            "grid_column": null,
            "overflow_y": null,
            "overflow_x": null,
            "grid_auto_flow": null,
            "grid_area": null,
            "grid_template_columns": null,
            "flex": null,
            "_model_name": "LayoutModel",
            "justify_items": null,
            "grid_row": null,
            "max_height": null,
            "align_content": null,
            "visibility": null,
            "align_self": null,
            "height": null,
            "min_height": null,
            "padding": null,
            "grid_auto_rows": null,
            "grid_gap": null,
            "max_width": null,
            "order": null,
            "_view_module_version": "1.2.0",
            "grid_template_areas": null,
            "object_position": null,
            "object_fit": null,
            "grid_auto_columns": null,
            "margin": null,
            "display": null,
            "left": null
          }
        }
      }
    }
  },
  "cells": [
    {
      "cell_type": "markdown",
      "metadata": {
        "id": "view-in-github",
        "colab_type": "text"
      },
      "source": [
        "<a href=\"https://colab.research.google.com/github/OlegBEZb/NLP_advanced_course/blob/master/HW2/HW2_NER.ipynb\" target=\"_parent\"><img src=\"https://colab.research.google.com/assets/colab-badge.svg\" alt=\"Open In Colab\"/></a>"
      ]
    },
    {
      "cell_type": "markdown",
      "metadata": {
        "colab_type": "text",
        "heading_collapsed": true,
        "id": "KVRaU_zG-PaI"
      },
      "source": [
        "# About notebook"
      ]
    },
    {
      "cell_type": "markdown",
      "metadata": {
        "colab_type": "text",
        "hidden": true,
        "id": "gjCnYYETSLxd"
      },
      "source": [
        "Dataset\n",
        "*\tGroningen Meaning Bank (version 2.2.0)\n",
        "*\tTask: named entity recognition\n",
        "*\tTarget – named entity tags (BIO + entity type)\n",
        "*\tInput data: \n",
        "  * Use “en.met” files to extract the subcorpus\n",
        "  corpus = 'Voice of America' (for honogeneity of the input data set)\n",
        "  * Use \"en.tags\" files for the main input data:\n",
        "      *\traw tokens + may use the lemmas and the POS-tags \n",
        "  (i.e. take the “golden” POS-tagging);\n",
        "      *\twhich means:\n",
        "        *\tfirst three columns for input: ['word', 'pos', 'lemma']\n",
        "        *\tthe fourth column for target variable (‘ne_tags’)\n",
        "        (BIO annotation + the named-entity type in one tag)  "
      ]
    },
    {
      "cell_type": "markdown",
      "metadata": {
        "colab_type": "text",
        "id": "K5QmPxPgSLxf"
      },
      "source": [
        "# Tasks"
      ]
    },
    {
      "cell_type": "markdown",
      "metadata": {
        "colab_type": "text",
        "id": "pK9ZLcizSLxg"
      },
      "source": [
        "1.\tThe most trivial model = supervised HMM:\n",
        "  *\tTake hmmlearn (former sklearn), modify MultinomialHMM (I.e. inherit a new class from _BaseHMM making it a modified copy of the latter) to allow for supervised HMM training. The states of the HMM model = the NE tags.\n",
        "  *\tNOTE: may use NaiveBayes to learn emission probabilities in a supervized manner.\n",
        "  *\tOr implement from scratch (with Viterbi for prediction).\n",
        "  *\tNOTE: use tuples of features for X (not just the word, but additional info).\n",
        "  *\tNOTE: use smoothing for state transitions.\n",
        "2.\tCRF\n",
        "  *\tModify the input features;\n",
        "  *\tUse CRFSuite.\n",
        "3.\tBi-LSTM:\n",
        "  *\tUse keras or tensorflow;\n",
        "  *\thttps://github.com/hse-aml/natural-language-processing/blob/master/week2/week2-NER.ipynb\n",
        "  *\tA plus for incorporating CNN-layers;"
      ]
    },
    {
      "cell_type": "markdown",
      "metadata": {
        "colab_type": "text",
        "id": "9jHB1yCYSLxh"
      },
      "source": [
        "# Metrics"
      ]
    },
    {
      "cell_type": "markdown",
      "metadata": {
        "colab_type": "text",
        "id": "uqBWS_YOSLxi"
      },
      "source": [
        "* normalized confusion matrices, precision, recall, F-score \n",
        "(macro- and micro-) \n",
        "* (token level, entity level, partial matching (i.e. boundary-detection problem), binary).  \n",
        "NOTE: taking into account vocabulary transfer is a plus."
      ]
    },
    {
      "cell_type": "markdown",
      "metadata": {
        "id": "x9JfSarnSLxk",
        "colab_type": "text"
      },
      "source": [
        "http://www.davidsbatista.net/blog/2018/05/09/Named_Entity_Evaluation/  \n",
        "http://larsmans.github.io/seqlearn/reference.html#module-seqlearn.datasets"
      ]
    },
    {
      "cell_type": "markdown",
      "metadata": {
        "colab_type": "text",
        "heading_collapsed": true,
        "id": "x0bjDrHYSLxm"
      },
      "source": [
        "# Evaluation Criteria"
      ]
    },
    {
      "cell_type": "markdown",
      "metadata": {
        "colab_type": "text",
        "hidden": true,
        "id": "8mJvCwaRSLxo"
      },
      "source": [
        "Scoring (14.5 max):  \n",
        "*\tDataset overview – 0.5\n",
        "  *\ttext lengths, vocabulary size, frequencies of patterns (<UNK-type-i>) \n",
        "  *\tstats over the target tags\n",
        "*\tFeature engineering – 2 (1+1)\n",
        "  *\tgrammatical words = closed set (~ stop words)\n",
        "  *\tStemming + POS\n",
        "  *\tWord shape\n",
        "  *\tAd hoc features ( +1)  \n",
        "*\tWord patterns -> encode types of unknown words +0.5\n",
        "*\tSmoothing in HMM – 0.5 \n",
        "  *\tIn HMM: for state transitions.\n",
        "*\tIncorporating tupled features in HMM (on top of tokens) – 1\n",
        "*\tThe correct HMM implementation – 1\n",
        "*\tMore fine-grained feature engineering for the Neural Network + 0.5\n",
        "  *\tDifferentiate between POS-relevancy for the word and the context, etc.\n",
        "  *\tSentence-level features (may use “golden” sentence-splitting)\n",
        "*\tEvaluation (on all levels) – 1\n",
        "*\tConclusion on HMM deficiency (as a model) – 1\n",
        "*\tCRF: 1 point for use and evaluation, + 0.5 points for comparison and conclusions;\n",
        "*\tNN:\n",
        "  *\tMain network: 4\n",
        "  *\tCNN layers: +2  \n",
        "\n",
        "Libraries: hmmlearn, crfsuite, tensorflow, keras"
      ]
    },
    {
      "cell_type": "markdown",
      "metadata": {
        "colab_type": "text",
        "id": "30D0Scxk4kn3"
      },
      "source": [
        "# Libs import"
      ]
    },
    {
      "cell_type": "markdown",
      "metadata": {
        "id": "IUftFhCTmV_w",
        "colab_type": "text"
      },
      "source": [
        "## Downloading, upgrading libs, fixing bug in seqlearn"
      ]
    },
    {
      "cell_type": "code",
      "metadata": {
        "id": "D8MF1D8wS7dO",
        "colab_type": "code",
        "outputId": "73747b82-aa35-4ac5-f11a-a665fd365e53",
        "colab": {
          "base_uri": "https://localhost:8080/",
          "height": 151
        }
      },
      "source": [
        "!pip install sklearn-crfsuite\n",
        "!pip install -U scipy\n",
        "!pip install seqlearn"
      ],
      "execution_count": 2,
      "outputs": [
        {
          "output_type": "stream",
          "text": [
            "Requirement already satisfied: sklearn-crfsuite in /usr/local/lib/python3.6/dist-packages (0.3.6)\n",
            "Requirement already satisfied: python-crfsuite>=0.8.3 in /usr/local/lib/python3.6/dist-packages (from sklearn-crfsuite) (0.9.7)\n",
            "Requirement already satisfied: six in /usr/local/lib/python3.6/dist-packages (from sklearn-crfsuite) (1.12.0)\n",
            "Requirement already satisfied: tabulate in /usr/local/lib/python3.6/dist-packages (from sklearn-crfsuite) (0.8.6)\n",
            "Requirement already satisfied: tqdm>=2.0 in /usr/local/lib/python3.6/dist-packages (from sklearn-crfsuite) (4.28.1)\n",
            "Requirement already up-to-date: scipy in /usr/local/lib/python3.6/dist-packages (1.4.1)\n",
            "Requirement already satisfied, skipping upgrade: numpy>=1.13.3 in /usr/local/lib/python3.6/dist-packages (from scipy) (1.18.1)\n",
            "Requirement already satisfied: seqlearn in /usr/local/lib/python3.6/dist-packages (0.2)\n"
          ],
          "name": "stdout"
        }
      ]
    },
    {
      "cell_type": "markdown",
      "metadata": {
        "id": "HU9D7GLjmvut",
        "colab_type": "text"
      },
      "source": [
        "There is unsolved issue https://github.com/larsmans/seqlearn/issues/45  \n",
        "And there is no opportunity to use lower version of scipy because of other dependencies"
      ]
    },
    {
      "cell_type": "code",
      "metadata": {
        "id": "ur3f4jJ4kinE",
        "colab_type": "code",
        "colab": {}
      },
      "source": [
        "!rm /usr/local/lib/python3.6/dist-packages/seqlearn/hmm.py"
      ],
      "execution_count": 0,
      "outputs": []
    },
    {
      "cell_type": "code",
      "metadata": {
        "id": "IoLpi_3vkjmP",
        "colab_type": "code",
        "outputId": "accb6990-c03e-4c0a-da53-5a10a53567be",
        "colab": {
          "base_uri": "https://localhost:8080/",
          "height": 34
        }
      },
      "source": [
        "%%writefile /usr/local/lib/python3.6/dist-packages/seqlearn/hmm.py\n",
        "\n",
        "\"\"\"Hidden Markov models (HMMs) with supervised training.\"\"\"\n",
        "\n",
        "import numpy as np\n",
        "#from scipy.misc import logsumexp\n",
        "from scipy.special import logsumexp\n",
        "\n",
        "from .base import BaseSequenceClassifier\n",
        "from ._utils import atleast2d_or_csr, count_trans, safe_sparse_dot\n",
        "\n",
        "\n",
        "class MultinomialHMM(BaseSequenceClassifier):\n",
        "    \"\"\"First-order hidden Markov model with multinomial event model.\n",
        "\n",
        "    Parameters\n",
        "    ----------\n",
        "    decode : string, optional\n",
        "        Decoding algorithm, either \"bestfirst\" or \"viterbi\" (default).\n",
        "        Best-first decoding is also called posterior decoding in the HMM\n",
        "        literature.\n",
        "\n",
        "    alpha : float\n",
        "        Lidstone (additive) smoothing parameter.\n",
        "    \"\"\"\n",
        "\n",
        "    def __init__(self, decode=\"viterbi\", alpha=.01):\n",
        "        self.alpha = alpha\n",
        "        self.decode = decode\n",
        "\n",
        "    def fit(self, X, y, lengths):\n",
        "        \"\"\"Fit HMM model to data.\n",
        "\n",
        "        Parameters\n",
        "        ----------\n",
        "        X : {array-like, sparse matrix}, shape (n_samples, n_features)\n",
        "            Feature matrix of individual samples.\n",
        "\n",
        "        y : array-like, shape (n_samples,)\n",
        "            Target labels.\n",
        "\n",
        "        lengths : array-like of integers, shape (n_sequences,)\n",
        "            Lengths of the individual sequences in X, y. The sum of these\n",
        "            should be n_samples.\n",
        "\n",
        "        Notes\n",
        "        -----\n",
        "        Make sure the training set (X) is one-hot encoded; if more than one\n",
        "        feature in X is on, the emission probabilities will be multiplied.\n",
        "\n",
        "        Returns\n",
        "        -------\n",
        "        self : MultinomialHMM\n",
        "        \"\"\"\n",
        "\n",
        "        alpha = self.alpha\n",
        "        if alpha <= 0:\n",
        "            raise ValueError(\"alpha should be >0, got {0!r}\".format(alpha))\n",
        "\n",
        "        X = atleast2d_or_csr(X)\n",
        "        classes, y = np.unique(y, return_inverse=True)\n",
        "        lengths = np.asarray(lengths)\n",
        "        Y = y.reshape(-1, 1) == np.arange(len(classes))\n",
        "\n",
        "        end = np.cumsum(lengths)\n",
        "        start = end - lengths\n",
        "\n",
        "        init_prob = np.log(Y[start].sum(axis=0) + alpha)\n",
        "        init_prob -= logsumexp(init_prob)\n",
        "        final_prob = np.log(Y[start].sum(axis=0) + alpha)\n",
        "        final_prob -= logsumexp(final_prob)\n",
        "\n",
        "        feature_prob = np.log(safe_sparse_dot(Y.T, X) + alpha)\n",
        "        feature_prob -= logsumexp(feature_prob, axis=0)\n",
        "\n",
        "        trans_prob = np.log(count_trans(y, len(classes)) + alpha)\n",
        "        trans_prob -= logsumexp(trans_prob, axis=0)\n",
        "\n",
        "        self.coef_ = feature_prob\n",
        "        self.intercept_init_ = init_prob\n",
        "        self.intercept_final_ = final_prob\n",
        "        self.intercept_trans_ = trans_prob\n",
        "\n",
        "        self.classes_ = classes\n",
        "\n",
        "        return self"
      ],
      "execution_count": 4,
      "outputs": [
        {
          "output_type": "stream",
          "text": [
            "Writing /usr/local/lib/python3.6/dist-packages/seqlearn/hmm.py\n"
          ],
          "name": "stdout"
        }
      ]
    },
    {
      "cell_type": "markdown",
      "metadata": {
        "id": "uzGIALzmnHyB",
        "colab_type": "text"
      },
      "source": [
        "## Importing libs"
      ]
    },
    {
      "cell_type": "code",
      "metadata": {
        "_cell_guid": "b1076dfc-b9ad-4769-8c92-a6c4dae69d19",
        "_uuid": "8f2839f25d086af736a60e9eeb907d3b93b6e0e5",
        "colab_type": "code",
        "id": "ZnXUdrxQ3TAN",
        "outputId": "173b1e5a-d576-474a-e351-b0d4cddfcc26",
        "colab": {
          "base_uri": "https://localhost:8080/",
          "height": 87
        }
      },
      "source": [
        "%autosave 180\n",
        "%load_ext autoreload\n",
        "%autoreload 2\n",
        "\n",
        "from nltk import word_tokenize, pos_tag, ne_chunk\n",
        "from copy import deepcopy\n",
        "import os\n",
        "import numpy as np\n",
        "import pandas as pd\n",
        "import codecs\n",
        "from collections import Counter\n",
        "import re\n",
        "from tqdm import tqdm_notebook as tqdm\n",
        "import matplotlib.pyplot as plt\n",
        "\n",
        "from sklearn.feature_extraction import DictVectorizer\n",
        "from sklearn.model_selection import train_test_split, cross_validate, KFold, ParameterGrid\n",
        "from sklearn.pipeline import Pipeline\n",
        "from sklearn_crfsuite import CRF\n",
        "\n",
        "from seqlearn.hmm import MultinomialHMM\n",
        "from seqlearn.evaluation import SequenceKFold, bio_f_score\n",
        "from sklearn_crfsuite.metrics import flat_classification_report\n",
        "from sklearn.metrics import recall_score, roc_auc_score, make_scorer, f1_score, fbeta_score, classification_report\n",
        "\n",
        "%matplotlib inline"
      ],
      "execution_count": 5,
      "outputs": [
        {
          "output_type": "display_data",
          "data": {
            "application/javascript": [
              "IPython.notebook.set_autosave_interval(180000)"
            ]
          },
          "metadata": {
            "tags": []
          }
        },
        {
          "output_type": "stream",
          "text": [
            "Autosaving every 180 seconds\n"
          ],
          "name": "stdout"
        },
        {
          "output_type": "stream",
          "text": [
            "/usr/local/lib/python3.6/dist-packages/sklearn/externals/six.py:31: FutureWarning: The module is deprecated in version 0.21 and will be removed in version 0.23 since we've dropped support for Python 2.7. Please rely on the official version of six (https://pypi.org/project/six/).\n",
            "  \"(https://pypi.org/project/six/).\", FutureWarning)\n"
          ],
          "name": "stderr"
        }
      ]
    },
    {
      "cell_type": "markdown",
      "metadata": {
        "colab_type": "text",
        "id": "VD2z8D2V7Dod"
      },
      "source": [
        "# Configs"
      ]
    },
    {
      "cell_type": "code",
      "metadata": {
        "id": "okymGz_lEjLC",
        "colab_type": "code",
        "trusted": true,
        "colab": {}
      },
      "source": [
        "COLAB = True\n",
        "test_size = 0.2\n",
        "subcorpus = 'Voice of America'"
      ],
      "execution_count": 0,
      "outputs": []
    },
    {
      "cell_type": "markdown",
      "metadata": {
        "id": "ORjyFpGXUgLw",
        "colab_type": "text"
      },
      "source": [
        "The raw data was preprocessed on my own PC bacause of google drive limitations."
      ]
    },
    {
      "cell_type": "code",
      "metadata": {
        "colab_type": "code",
        "trusted": true,
        "id": "oEOxPSZASzMt",
        "outputId": "0509a93b-d524-4b2d-beb6-50487ba07865",
        "colab": {
          "base_uri": "https://localhost:8080/",
          "height": 50
        }
      },
      "source": [
        "if COLAB:\n",
        "    from google.colab import drive\n",
        "    drive.mount('/content/drive')\n",
        "    data_folder = '/content/drive/My Drive/Advanced NLP/Homework 2: Named entity recognition on Groningen Meaning Bank dataset'\n",
        "else:\n",
        "    data_folder = 'D:\\Data\\gmb-2.2.0\\data'\n",
        "    print('data found:', os.listdir(data_folder))\n",
        "    \n",
        "print('data found:', os.listdir(data_folder))"
      ],
      "execution_count": 7,
      "outputs": [
        {
          "output_type": "stream",
          "text": [
            "Drive already mounted at /content/drive; to attempt to forcibly remount, call drive.mount(\"/content/drive\", force_remount=True).\n",
            "data found: ['HW1. NER.ipynb', 'Voice of America.csv']\n"
          ],
          "name": "stdout"
        }
      ]
    },
    {
      "cell_type": "markdown",
      "metadata": {
        "heading_collapsed": true,
        "id": "yeZfDywxSLx6",
        "colab_type": "text"
      },
      "source": [
        "# Data extraction"
      ]
    },
    {
      "cell_type": "markdown",
      "metadata": {
        "colab_type": "text",
        "hidden": true,
        "id": "tgwhO8ngi-A4"
      },
      "source": [
        "Parsing data from \"Voice of America\" subcorpus. According to the instructions we take first four columns and additional column to separate data on texts, sentences or words."
      ]
    },
    {
      "cell_type": "code",
      "metadata": {
        "colab_type": "code",
        "hidden": true,
        "id": "-UBeZ_eui-A5",
        "outputId": "5308f75a-eaa2-42e3-ecae-4f6aa512ec36",
        "colab": {}
      },
      "source": [
        "%%time\n",
        "\n",
        "voa_data = pd.DataFrame(columns=['word', 'pos', 'lemma', 'ne_tags', 'text_id'])\n",
        "\n",
        "os.chdir(data_path)\n",
        "part_paths = os.listdir()\n",
        "\n",
        "for part_path in tqdm(part_paths, total=len(part_paths)):\n",
        "    os.chdir(part_path)\n",
        "    document_paths = os.listdir()\n",
        "    for document_path in document_paths:\n",
        "        os.chdir(document_path)\n",
        "        f = codecs.open(\"en.met\", 'r', \"utf_8_sig\")\n",
        "        file_met = f.read()\n",
        "        if ('subcorpus: {}'.format(subcorpus) in file_met):\n",
        "            tags_df = pd.read_csv('en.tags',\n",
        "                                  sep='\\t',\n",
        "                                  header=None,\n",
        "                                  names=['word', 'pos', 'lemma', 'ne_tags'],\n",
        "                                  usecols=[0, 1, 2, 3],\n",
        "                                  error_bad_lines=False)\n",
        "            tags_df['text_id'] = str(part_path) + '_' + str(document_path)\n",
        "            voa_data = voa_data.append(tags_df, ignore_index=True)\n",
        "        f.close()\n",
        "        os.chdir('..')\n",
        "    os.chdir('..')"
      ],
      "execution_count": 0,
      "outputs": [
        {
          "output_type": "stream",
          "text": [
            "100%|████████████████████████████████████████████████████████████████████████████████| 100/100 [08:55<00:00,  5.36s/it]"
          ],
          "name": "stderr"
        },
        {
          "output_type": "stream",
          "text": [
            "Wall time: 8min 55s\n"
          ],
          "name": "stdout"
        },
        {
          "output_type": "stream",
          "text": [
            "\n"
          ],
          "name": "stderr"
        }
      ]
    },
    {
      "cell_type": "code",
      "metadata": {
        "hidden": true,
        "id": "JYpE1dtnSLyC",
        "colab_type": "code",
        "colab": {}
      },
      "source": [
        "def show_memory_usage(df):\n",
        "    print(\"memory usage: \", df.memory_usage().sum()/1024/1024, \" MB\")"
      ],
      "execution_count": 0,
      "outputs": []
    },
    {
      "cell_type": "code",
      "metadata": {
        "colab_type": "code",
        "hidden": true,
        "id": "UX1ViqnKi-A-",
        "outputId": "c391cb23-3288-4f4f-db22-f5afc86f4fa2",
        "scrolled": true,
        "colab": {}
      },
      "source": [
        "show_memory_usage(voa_data)"
      ],
      "execution_count": 0,
      "outputs": [
        {
          "output_type": "stream",
          "text": [
            "memory usage:  46.969688415527344  MB\n"
          ],
          "name": "stdout"
        }
      ]
    },
    {
      "cell_type": "code",
      "metadata": {
        "hidden": true,
        "id": "RYMlRwEcSLyO",
        "colab_type": "code",
        "outputId": "83f64eb0-ef62-46d1-bc84-475a0310520b",
        "colab": {}
      },
      "source": [
        "voa_data.head()"
      ],
      "execution_count": 0,
      "outputs": [
        {
          "output_type": "execute_result",
          "data": {
            "text/html": [
              "<div>\n",
              "<style scoped>\n",
              "    .dataframe tbody tr th:only-of-type {\n",
              "        vertical-align: middle;\n",
              "    }\n",
              "\n",
              "    .dataframe tbody tr th {\n",
              "        vertical-align: top;\n",
              "    }\n",
              "\n",
              "    .dataframe thead th {\n",
              "        text-align: right;\n",
              "    }\n",
              "</style>\n",
              "<table border=\"1\" class=\"dataframe\">\n",
              "  <thead>\n",
              "    <tr style=\"text-align: right;\">\n",
              "      <th></th>\n",
              "      <th>word</th>\n",
              "      <th>pos</th>\n",
              "      <th>lemma</th>\n",
              "      <th>ne_tags</th>\n",
              "      <th>text_id</th>\n",
              "    </tr>\n",
              "  </thead>\n",
              "  <tbody>\n",
              "    <tr>\n",
              "      <td>0</td>\n",
              "      <td>Thousands</td>\n",
              "      <td>NNS</td>\n",
              "      <td>thousand</td>\n",
              "      <td>O</td>\n",
              "      <td>p00_d0018</td>\n",
              "    </tr>\n",
              "    <tr>\n",
              "      <td>1</td>\n",
              "      <td>of</td>\n",
              "      <td>IN</td>\n",
              "      <td>of</td>\n",
              "      <td>O</td>\n",
              "      <td>p00_d0018</td>\n",
              "    </tr>\n",
              "    <tr>\n",
              "      <td>2</td>\n",
              "      <td>demonstrators</td>\n",
              "      <td>NNS</td>\n",
              "      <td>demonstrator</td>\n",
              "      <td>O</td>\n",
              "      <td>p00_d0018</td>\n",
              "    </tr>\n",
              "    <tr>\n",
              "      <td>3</td>\n",
              "      <td>have</td>\n",
              "      <td>VBP</td>\n",
              "      <td>have</td>\n",
              "      <td>O</td>\n",
              "      <td>p00_d0018</td>\n",
              "    </tr>\n",
              "    <tr>\n",
              "      <td>4</td>\n",
              "      <td>marched</td>\n",
              "      <td>VBN</td>\n",
              "      <td>march</td>\n",
              "      <td>O</td>\n",
              "      <td>p00_d0018</td>\n",
              "    </tr>\n",
              "  </tbody>\n",
              "</table>\n",
              "</div>"
            ],
            "text/plain": [
              "            word  pos         lemma ne_tags    text_id\n",
              "0      Thousands  NNS      thousand       O  p00_d0018\n",
              "1             of   IN            of       O  p00_d0018\n",
              "2  demonstrators  NNS  demonstrator       O  p00_d0018\n",
              "3           have  VBP          have       O  p00_d0018\n",
              "4        marched  VBN         march       O  p00_d0018"
            ]
          },
          "metadata": {
            "tags": []
          },
          "execution_count": 13
        }
      ]
    },
    {
      "cell_type": "code",
      "metadata": {
        "colab_type": "code",
        "hidden": true,
        "id": "kUrX7pvxi-BB",
        "outputId": "f42abe57-ad1b-4a64-a7b3-6bf93acb5155",
        "scrolled": true,
        "colab": {}
      },
      "source": [
        "voa_data.shape"
      ],
      "execution_count": 0,
      "outputs": [
        {
          "output_type": "execute_result",
          "data": {
            "text/plain": [
              "(1231279, 5)"
            ]
          },
          "metadata": {
            "tags": []
          },
          "execution_count": 16
        }
      ]
    },
    {
      "cell_type": "markdown",
      "metadata": {
        "colab_type": "text",
        "hidden": true,
        "id": "8vWQ-w4Qi-BF"
      },
      "source": [
        "Number of tokens coincided with the declared in README file"
      ]
    },
    {
      "cell_type": "markdown",
      "metadata": {
        "id": "PJLE7LWKSLyv",
        "colab_type": "text"
      },
      "source": [
        "## Make BIO"
      ]
    },
    {
      "cell_type": "markdown",
      "metadata": {
        "id": "YjC-2hcvSLyw",
        "colab_type": "text"
      },
      "source": [
        "Classificators work better if avoid redundant granularity. Also such detailed fragmentation has no value for the task of only finding named entities. Thus, we can combine subcategories and leave only first part of tag."
      ]
    },
    {
      "cell_type": "code",
      "metadata": {
        "id": "hBAE5CEJSLyy",
        "colab_type": "code",
        "outputId": "443869f8-8853-4861-ea03-e398e47ab086",
        "colab": {
          "base_uri": "https://localhost:8080/",
          "height": 202
        }
      },
      "source": [
        "voa_data['ne_tags'] = voa_data['ne_tags'].apply(lambda x: x.split('-')[0])\n",
        "\n",
        "voa_data['ne_tags'].value_counts()"
      ],
      "execution_count": 0,
      "outputs": [
        {
          "output_type": "execute_result",
          "data": {
            "text/plain": [
              "O      1032479\n",
              "geo      55480\n",
              "org      44659\n",
              "per      43168\n",
              "tim      30097\n",
              "gpe      19685\n",
              "[]        4064\n",
              "art        790\n",
              "eve        577\n",
              "nat        280\n",
              "Name: ne_tags, dtype: int64"
            ]
          },
          "metadata": {
            "tags": []
          },
          "execution_count": 10
        }
      ]
    },
    {
      "cell_type": "code",
      "metadata": {
        "id": "s1RJCoftSLy3",
        "colab_type": "code",
        "colab": {}
      },
      "source": [
        "def use_prev_value_decorator(func):\n",
        "    prev_tag = \"O\"\n",
        "\n",
        "    def wrapper(curr_tag, **kwargs):\n",
        "        nonlocal prev_tag\n",
        "        bio_tag = func(curr_tag, prev_tag)\n",
        "        prev_tag = curr_tag\n",
        "        return bio_tag\n",
        "\n",
        "    return wrapper\n",
        "\n",
        "\n",
        "@use_prev_value_decorator\n",
        "# Tag tokens with standard NLP BIO tags\n",
        "def bio_tagger(curr_tag, prev_tag):\n",
        "    if curr_tag == \"O\":  #O\n",
        "        return curr_tag\n",
        "    elif curr_tag != \"O\" and prev_tag == \"O\":  # Begin NE\n",
        "        return \"B-\" + curr_tag\n",
        "    elif prev_tag != \"O\" and prev_tag == curr_tag:  # Inside NE\n",
        "        return \"I-\" + curr_tag\n",
        "    elif prev_tag != \"O\" and prev_tag != curr_tag:  # Adjacent NE\n",
        "        return \"B-\" + curr_tag"
      ],
      "execution_count": 0,
      "outputs": []
    },
    {
      "cell_type": "code",
      "metadata": {
        "scrolled": true,
        "id": "1aST79f1SLy6",
        "colab_type": "code",
        "outputId": "7d41a9e1-b7b2-4365-95f2-3584c2d021b6",
        "colab": {
          "base_uri": "https://localhost:8080/",
          "height": 151
        }
      },
      "source": [
        "%%time \n",
        "\n",
        "voa_data['bio_tag'] = voa_data['ne_tags'].apply(bio_tagger, axis=1)\n",
        "\n",
        "print(voa_data['bio_tag'].value_counts().head())"
      ],
      "execution_count": 0,
      "outputs": [
        {
          "output_type": "stream",
          "text": [
            "O        1032479\n",
            "B-geo      46622\n",
            "B-org      24133\n",
            "B-tim      23302\n",
            "I-per      21799\n",
            "Name: bio_tag, dtype: int64\n",
            "CPU times: user 762 ms, sys: 6.99 ms, total: 769 ms\n",
            "Wall time: 769 ms\n"
          ],
          "name": "stdout"
        }
      ]
    },
    {
      "cell_type": "code",
      "metadata": {
        "id": "ZJX8dQw8oxD1",
        "colab_type": "code",
        "outputId": "311a3149-4dba-4eb5-8dd6-bedb79746a99",
        "colab": {
          "base_uri": "https://localhost:8080/",
          "height": 106
        }
      },
      "source": [
        "voa_data.head(2)"
      ],
      "execution_count": 0,
      "outputs": [
        {
          "output_type": "execute_result",
          "data": {
            "text/html": [
              "<div>\n",
              "<style scoped>\n",
              "    .dataframe tbody tr th:only-of-type {\n",
              "        vertical-align: middle;\n",
              "    }\n",
              "\n",
              "    .dataframe tbody tr th {\n",
              "        vertical-align: top;\n",
              "    }\n",
              "\n",
              "    .dataframe thead th {\n",
              "        text-align: right;\n",
              "    }\n",
              "</style>\n",
              "<table border=\"1\" class=\"dataframe\">\n",
              "  <thead>\n",
              "    <tr style=\"text-align: right;\">\n",
              "      <th></th>\n",
              "      <th>word</th>\n",
              "      <th>pos</th>\n",
              "      <th>lemma</th>\n",
              "      <th>ne_tags</th>\n",
              "      <th>text_id</th>\n",
              "      <th>bio_tag</th>\n",
              "    </tr>\n",
              "  </thead>\n",
              "  <tbody>\n",
              "    <tr>\n",
              "      <th>0</th>\n",
              "      <td>Thousands</td>\n",
              "      <td>NNS</td>\n",
              "      <td>thousand</td>\n",
              "      <td>O</td>\n",
              "      <td>p00_d0018</td>\n",
              "      <td>O</td>\n",
              "    </tr>\n",
              "    <tr>\n",
              "      <th>1</th>\n",
              "      <td>of</td>\n",
              "      <td>IN</td>\n",
              "      <td>of</td>\n",
              "      <td>O</td>\n",
              "      <td>p00_d0018</td>\n",
              "      <td>O</td>\n",
              "    </tr>\n",
              "  </tbody>\n",
              "</table>\n",
              "</div>"
            ],
            "text/plain": [
              "        word  pos     lemma ne_tags    text_id bio_tag\n",
              "0  Thousands  NNS  thousand       O  p00_d0018       O\n",
              "1         of   IN        of       O  p00_d0018       O"
            ]
          },
          "metadata": {
            "tags": []
          },
          "execution_count": 14
        }
      ]
    },
    {
      "cell_type": "code",
      "metadata": {
        "hidden": true,
        "id": "Yl_enYrKSLyX",
        "colab_type": "code",
        "colab": {}
      },
      "source": [
        "voa_data.to_csv(os.path.join(data_folder,'{}.csv'.format(subcorpus)), index=False)"
      ],
      "execution_count": 0,
      "outputs": []
    },
    {
      "cell_type": "markdown",
      "metadata": {
        "id": "DaKxWL7ASLzA",
        "colab_type": "text"
      },
      "source": [
        "Possible investigation: check if loop for column would be faster"
      ]
    },
    {
      "cell_type": "markdown",
      "metadata": {
        "colab_type": "text",
        "heading_collapsed": true,
        "id": "15GVrJYa717o"
      },
      "source": [
        "# EDA"
      ]
    },
    {
      "cell_type": "code",
      "metadata": {
        "hidden": true,
        "scrolled": false,
        "id": "o0tal3WpSLyc",
        "colab_type": "code",
        "outputId": "936558a2-6c4e-4ea7-a594-1b96847237fb",
        "colab": {
          "base_uri": "https://localhost:8080/",
          "height": 195
        }
      },
      "source": [
        "if COLAB:\n",
        "    voa_data = pd.read_csv(os.path.join(data_folder,'{}.csv'.format(subcorpus)))\n",
        "else:\n",
        "    voa_data = pd.read_csv('D:\\Data\\gmb-2.2.0\\{}.csv'.format(subcorpus))\n",
        "voa_data.head()"
      ],
      "execution_count": 8,
      "outputs": [
        {
          "output_type": "execute_result",
          "data": {
            "text/html": [
              "<div>\n",
              "<style scoped>\n",
              "    .dataframe tbody tr th:only-of-type {\n",
              "        vertical-align: middle;\n",
              "    }\n",
              "\n",
              "    .dataframe tbody tr th {\n",
              "        vertical-align: top;\n",
              "    }\n",
              "\n",
              "    .dataframe thead th {\n",
              "        text-align: right;\n",
              "    }\n",
              "</style>\n",
              "<table border=\"1\" class=\"dataframe\">\n",
              "  <thead>\n",
              "    <tr style=\"text-align: right;\">\n",
              "      <th></th>\n",
              "      <th>word</th>\n",
              "      <th>pos</th>\n",
              "      <th>lemma</th>\n",
              "      <th>ne_tags</th>\n",
              "      <th>text_id</th>\n",
              "      <th>bio_tag</th>\n",
              "    </tr>\n",
              "  </thead>\n",
              "  <tbody>\n",
              "    <tr>\n",
              "      <th>0</th>\n",
              "      <td>Thousands</td>\n",
              "      <td>NNS</td>\n",
              "      <td>thousand</td>\n",
              "      <td>O</td>\n",
              "      <td>p00_d0018</td>\n",
              "      <td>O</td>\n",
              "    </tr>\n",
              "    <tr>\n",
              "      <th>1</th>\n",
              "      <td>of</td>\n",
              "      <td>IN</td>\n",
              "      <td>of</td>\n",
              "      <td>O</td>\n",
              "      <td>p00_d0018</td>\n",
              "      <td>O</td>\n",
              "    </tr>\n",
              "    <tr>\n",
              "      <th>2</th>\n",
              "      <td>demonstrators</td>\n",
              "      <td>NNS</td>\n",
              "      <td>demonstrator</td>\n",
              "      <td>O</td>\n",
              "      <td>p00_d0018</td>\n",
              "      <td>O</td>\n",
              "    </tr>\n",
              "    <tr>\n",
              "      <th>3</th>\n",
              "      <td>have</td>\n",
              "      <td>VBP</td>\n",
              "      <td>have</td>\n",
              "      <td>O</td>\n",
              "      <td>p00_d0018</td>\n",
              "      <td>O</td>\n",
              "    </tr>\n",
              "    <tr>\n",
              "      <th>4</th>\n",
              "      <td>marched</td>\n",
              "      <td>VBN</td>\n",
              "      <td>march</td>\n",
              "      <td>O</td>\n",
              "      <td>p00_d0018</td>\n",
              "      <td>O</td>\n",
              "    </tr>\n",
              "  </tbody>\n",
              "</table>\n",
              "</div>"
            ],
            "text/plain": [
              "            word  pos         lemma ne_tags    text_id bio_tag\n",
              "0      Thousands  NNS      thousand       O  p00_d0018       O\n",
              "1             of   IN            of       O  p00_d0018       O\n",
              "2  demonstrators  NNS  demonstrator       O  p00_d0018       O\n",
              "3           have  VBP          have       O  p00_d0018       O\n",
              "4        marched  VBN         march       O  p00_d0018       O"
            ]
          },
          "metadata": {
            "tags": []
          },
          "execution_count": 8
        }
      ]
    },
    {
      "cell_type": "code",
      "metadata": {
        "colab_type": "code",
        "hidden": true,
        "id": "b1Y2cJhli-BG",
        "outputId": "2eb97952-f9ca-4a70-9604-cff3f6a7117d",
        "colab": {
          "base_uri": "https://localhost:8080/",
          "height": 34
        }
      },
      "source": [
        "def average_text_length(text_id):\n",
        "    doc_lengths = list(dict(Counter(text_id)).values())\n",
        "    sum = 0\n",
        "    for length in doc_lengths:\n",
        "        sum += length\n",
        "    return sum/len(doc_lengths)\n",
        "\n",
        "print(\"average text length: \", average_text_length(voa_data['text_id']))"
      ],
      "execution_count": 0,
      "outputs": [
        {
          "output_type": "stream",
          "text": [
            "average text length:  134.31646121959201\n"
          ],
          "name": "stdout"
        }
      ]
    },
    {
      "cell_type": "code",
      "metadata": {
        "hidden": true,
        "id": "OARm2L-aSLyj",
        "colab_type": "code",
        "outputId": "7d856895-5876-4c99-94f2-6a8ed2b14a63",
        "colab": {
          "base_uri": "https://localhost:8080/",
          "height": 173
        }
      },
      "source": [
        "voa_data.describe()"
      ],
      "execution_count": 0,
      "outputs": [
        {
          "output_type": "execute_result",
          "data": {
            "text/html": [
              "<div>\n",
              "<style scoped>\n",
              "    .dataframe tbody tr th:only-of-type {\n",
              "        vertical-align: middle;\n",
              "    }\n",
              "\n",
              "    .dataframe tbody tr th {\n",
              "        vertical-align: top;\n",
              "    }\n",
              "\n",
              "    .dataframe thead th {\n",
              "        text-align: right;\n",
              "    }\n",
              "</style>\n",
              "<table border=\"1\" class=\"dataframe\">\n",
              "  <thead>\n",
              "    <tr style=\"text-align: right;\">\n",
              "      <th></th>\n",
              "      <th>word</th>\n",
              "      <th>pos</th>\n",
              "      <th>lemma</th>\n",
              "      <th>ne_tags</th>\n",
              "      <th>text_id</th>\n",
              "      <th>bio_tag</th>\n",
              "    </tr>\n",
              "  </thead>\n",
              "  <tbody>\n",
              "    <tr>\n",
              "      <th>count</th>\n",
              "      <td>1231279</td>\n",
              "      <td>1231279</td>\n",
              "      <td>1231279</td>\n",
              "      <td>1231279</td>\n",
              "      <td>1231279</td>\n",
              "      <td>1231279</td>\n",
              "    </tr>\n",
              "    <tr>\n",
              "      <th>unique</th>\n",
              "      <td>35154</td>\n",
              "      <td>48</td>\n",
              "      <td>27209</td>\n",
              "      <td>10</td>\n",
              "      <td>9167</td>\n",
              "      <td>19</td>\n",
              "    </tr>\n",
              "    <tr>\n",
              "      <th>top</th>\n",
              "      <td>the</td>\n",
              "      <td>NN</td>\n",
              "      <td>the</td>\n",
              "      <td>O</td>\n",
              "      <td>p00_d0090</td>\n",
              "      <td>O</td>\n",
              "    </tr>\n",
              "    <tr>\n",
              "      <th>freq</th>\n",
              "      <td>61398</td>\n",
              "      <td>168817</td>\n",
              "      <td>74941</td>\n",
              "      <td>1032479</td>\n",
              "      <td>388</td>\n",
              "      <td>1032479</td>\n",
              "    </tr>\n",
              "  </tbody>\n",
              "</table>\n",
              "</div>"
            ],
            "text/plain": [
              "           word      pos    lemma  ne_tags    text_id  bio_tag\n",
              "count   1231279  1231279  1231279  1231279    1231279  1231279\n",
              "unique    35154       48    27209       10       9167       19\n",
              "top         the       NN      the        O  p00_d0090        O\n",
              "freq      61398   168817    74941  1032479        388  1032479"
            ]
          },
          "metadata": {
            "tags": []
          },
          "execution_count": 9
        }
      ]
    },
    {
      "cell_type": "code",
      "metadata": {
        "hidden": true,
        "scrolled": true,
        "id": "DCIKki2uSLyq",
        "colab_type": "code",
        "outputId": "bf9bebbd-8413-4ee1-b9b8-a8683db25dee",
        "colab": {
          "base_uri": "https://localhost:8080/",
          "height": 204
        }
      },
      "source": [
        "voa_data['ne_tags'].value_counts()"
      ],
      "execution_count": 0,
      "outputs": [
        {
          "output_type": "execute_result",
          "data": {
            "text/plain": [
              "O      1032479\n",
              "geo      55480\n",
              "org      44659\n",
              "per      43168\n",
              "tim      30097\n",
              "gpe      19685\n",
              "[]        4064\n",
              "art        790\n",
              "eve        577\n",
              "nat        280\n",
              "Name: ne_tags, dtype: int64"
            ]
          },
          "metadata": {
            "tags": []
          },
          "execution_count": 10
        }
      ]
    },
    {
      "cell_type": "code",
      "metadata": {
        "id": "96IP1SG7piIB",
        "colab_type": "code",
        "outputId": "c832f668-123f-44a9-b79e-02885f37198a",
        "colab": {
          "base_uri": "https://localhost:8080/",
          "height": 357
        }
      },
      "source": [
        "voa_data['bio_tag'].value_counts()"
      ],
      "execution_count": 0,
      "outputs": [
        {
          "output_type": "execute_result",
          "data": {
            "text/plain": [
              "O        1032479\n",
              "B-geo      46622\n",
              "B-org      24133\n",
              "B-tim      23302\n",
              "I-per      21799\n",
              "B-per      21369\n",
              "I-org      20526\n",
              "B-gpe      19469\n",
              "I-geo       8858\n",
              "I-tim       6795\n",
              "B-[]        4061\n",
              "B-art        455\n",
              "I-art        335\n",
              "B-eve        316\n",
              "I-eve        261\n",
              "B-nat        225\n",
              "I-gpe        216\n",
              "I-nat         55\n",
              "I-[]           3\n",
              "Name: bio_tag, dtype: int64"
            ]
          },
          "metadata": {
            "tags": []
          },
          "execution_count": 20
        }
      ]
    },
    {
      "cell_type": "code",
      "metadata": {
        "id": "uG5uOI_6NIt9",
        "colab_type": "code",
        "outputId": "1786e73c-9f91-4ba6-cf30-9c3c4cd2716b",
        "colab": {
          "base_uri": "https://localhost:8080/",
          "height": 774
        }
      },
      "source": [
        "train, test = train_test_split(voa_data, test_size = 0.2, shuffle=True, random_state=42)\n",
        "voa_train_test = pd.concat([train['bio_tag'].value_counts().rename('bio_tag_train'), \n",
        "                            test['bio_tag'].value_counts().rename('bio_tag_test')], \n",
        "                            axis=1)\n",
        "voa_train_test.sort_values(by='bio_tag_train', ascending=False)"
      ],
      "execution_count": 0,
      "outputs": [
        {
          "output_type": "stream",
          "text": [
            "/usr/local/lib/python3.6/dist-packages/ipykernel_launcher.py:4: FutureWarning: Sorting because non-concatenation axis is not aligned. A future version\n",
            "of pandas will change to not sort by default.\n",
            "\n",
            "To accept the future behavior, pass 'sort=False'.\n",
            "\n",
            "To retain the current behavior and silence the warning, pass 'sort=True'.\n",
            "\n",
            "  after removing the cwd from sys.path.\n"
          ],
          "name": "stderr"
        },
        {
          "output_type": "execute_result",
          "data": {
            "text/html": [
              "<div>\n",
              "<style scoped>\n",
              "    .dataframe tbody tr th:only-of-type {\n",
              "        vertical-align: middle;\n",
              "    }\n",
              "\n",
              "    .dataframe tbody tr th {\n",
              "        vertical-align: top;\n",
              "    }\n",
              "\n",
              "    .dataframe thead th {\n",
              "        text-align: right;\n",
              "    }\n",
              "</style>\n",
              "<table border=\"1\" class=\"dataframe\">\n",
              "  <thead>\n",
              "    <tr style=\"text-align: right;\">\n",
              "      <th></th>\n",
              "      <th>bio_tag_train</th>\n",
              "      <th>bio_tag_test</th>\n",
              "    </tr>\n",
              "  </thead>\n",
              "  <tbody>\n",
              "    <tr>\n",
              "      <th>O</th>\n",
              "      <td>826089</td>\n",
              "      <td>206390</td>\n",
              "    </tr>\n",
              "    <tr>\n",
              "      <th>B-geo</th>\n",
              "      <td>37247</td>\n",
              "      <td>9375</td>\n",
              "    </tr>\n",
              "    <tr>\n",
              "      <th>B-org</th>\n",
              "      <td>19338</td>\n",
              "      <td>4795</td>\n",
              "    </tr>\n",
              "    <tr>\n",
              "      <th>B-tim</th>\n",
              "      <td>18690</td>\n",
              "      <td>4612</td>\n",
              "    </tr>\n",
              "    <tr>\n",
              "      <th>I-per</th>\n",
              "      <td>17420</td>\n",
              "      <td>4379</td>\n",
              "    </tr>\n",
              "    <tr>\n",
              "      <th>B-per</th>\n",
              "      <td>17074</td>\n",
              "      <td>4295</td>\n",
              "    </tr>\n",
              "    <tr>\n",
              "      <th>I-org</th>\n",
              "      <td>16387</td>\n",
              "      <td>4139</td>\n",
              "    </tr>\n",
              "    <tr>\n",
              "      <th>B-gpe</th>\n",
              "      <td>15560</td>\n",
              "      <td>3909</td>\n",
              "    </tr>\n",
              "    <tr>\n",
              "      <th>I-geo</th>\n",
              "      <td>7086</td>\n",
              "      <td>1772</td>\n",
              "    </tr>\n",
              "    <tr>\n",
              "      <th>I-tim</th>\n",
              "      <td>5423</td>\n",
              "      <td>1372</td>\n",
              "    </tr>\n",
              "    <tr>\n",
              "      <th>B-[]</th>\n",
              "      <td>3214</td>\n",
              "      <td>847</td>\n",
              "    </tr>\n",
              "    <tr>\n",
              "      <th>B-art</th>\n",
              "      <td>374</td>\n",
              "      <td>81</td>\n",
              "    </tr>\n",
              "    <tr>\n",
              "      <th>I-art</th>\n",
              "      <td>262</td>\n",
              "      <td>73</td>\n",
              "    </tr>\n",
              "    <tr>\n",
              "      <th>B-eve</th>\n",
              "      <td>258</td>\n",
              "      <td>58</td>\n",
              "    </tr>\n",
              "    <tr>\n",
              "      <th>I-eve</th>\n",
              "      <td>202</td>\n",
              "      <td>59</td>\n",
              "    </tr>\n",
              "    <tr>\n",
              "      <th>B-nat</th>\n",
              "      <td>186</td>\n",
              "      <td>39</td>\n",
              "    </tr>\n",
              "    <tr>\n",
              "      <th>I-gpe</th>\n",
              "      <td>169</td>\n",
              "      <td>47</td>\n",
              "    </tr>\n",
              "    <tr>\n",
              "      <th>I-nat</th>\n",
              "      <td>42</td>\n",
              "      <td>13</td>\n",
              "    </tr>\n",
              "    <tr>\n",
              "      <th>I-[]</th>\n",
              "      <td>2</td>\n",
              "      <td>1</td>\n",
              "    </tr>\n",
              "  </tbody>\n",
              "</table>\n",
              "</div>"
            ],
            "text/plain": [
              "       bio_tag_train  bio_tag_test\n",
              "O             826089        206390\n",
              "B-geo          37247          9375\n",
              "B-org          19338          4795\n",
              "B-tim          18690          4612\n",
              "I-per          17420          4379\n",
              "B-per          17074          4295\n",
              "I-org          16387          4139\n",
              "B-gpe          15560          3909\n",
              "I-geo           7086          1772\n",
              "I-tim           5423          1372\n",
              "B-[]            3214           847\n",
              "B-art            374            81\n",
              "I-art            262            73\n",
              "B-eve            258            58\n",
              "I-eve            202            59\n",
              "B-nat            186            39\n",
              "I-gpe            169            47\n",
              "I-nat             42            13\n",
              "I-[]               2             1"
            ]
          },
          "metadata": {
            "tags": []
          },
          "execution_count": 40
        }
      ]
    },
    {
      "cell_type": "markdown",
      "metadata": {
        "heading_collapsed": true,
        "id": "UDocGTMBSLzD",
        "colab_type": "text"
      },
      "source": [
        "# Preprocessing"
      ]
    },
    {
      "cell_type": "markdown",
      "metadata": {
        "id": "1Ju3cG1P137k",
        "colab_type": "text"
      },
      "source": [
        "todo: add wordshape. from spacy for example"
      ]
    },
    {
      "cell_type": "code",
      "metadata": {
        "hidden": true,
        "id": "nkdjfnBqSLzE",
        "colab_type": "code",
        "colab": {}
      },
      "source": [
        "def get_sentences(df, word_col='word', pos_col='pos', \n",
        "                  tag_col='bio_tag', id_col='text_id'):\n",
        "    \"\"\"func to get the sentences in this format:\n",
        "    [(Token_1, Part_of_Speech_1, Tag_1), ..., (Token_n, Part_of_Speech_n, Tag_n)]\"\"\"\n",
        "    \n",
        "    agg_func = lambda s: [(w, p, t) for w, p, t in zip(s[word_col].values.tolist(),\n",
        "                                                       s[pos_col].values.tolist(),\n",
        "                                                       s[tag_col].values.tolist())]\n",
        "    grouped = df.groupby(id_col).apply(agg_func)\n",
        "    sentences = [s for s in grouped]\n",
        "    \n",
        "    return sentences"
      ],
      "execution_count": 0,
      "outputs": []
    },
    {
      "cell_type": "code",
      "metadata": {
        "hidden": true,
        "id": "w1HlGz6hSLzI",
        "colab_type": "code",
        "outputId": "a45c15c2-8807-451c-fdc9-34a83e60f5c1",
        "colab": {
          "base_uri": "https://localhost:8080/",
          "height": 50
        }
      },
      "source": [
        "%%time\n",
        "\n",
        "word_pos_tag_sentences = get_sentences(voa_data)"
      ],
      "execution_count": 10,
      "outputs": [
        {
          "output_type": "stream",
          "text": [
            "CPU times: user 1.32 s, sys: 49.4 ms, total: 1.37 s\n",
            "Wall time: 1.37 s\n"
          ],
          "name": "stdout"
        }
      ]
    },
    {
      "cell_type": "code",
      "metadata": {
        "hidden": true,
        "id": "gBGopIG2SLzM",
        "colab_type": "code",
        "outputId": "5c43a6cb-eeee-4e09-f4f5-36d9e8ca7f65",
        "colab": {
          "base_uri": "https://localhost:8080/",
          "height": 265
        }
      },
      "source": [
        "#Lets visualize how the sentences are distributed by their length\n",
        "plt.style.use(\"ggplot\")\n",
        "plt.hist([len(s) for s in word_pos_tag_sentences], bins=50)\n",
        "plt.show()"
      ],
      "execution_count": 11,
      "outputs": [
        {
          "output_type": "display_data",
          "data": {
            "image/png": "[encoded data removed]",
            "text/plain": [
              "<Figure size 432x288 with 1 Axes>"
            ]
          },
          "metadata": {
            "tags": []
          }
        }
      ]
    },
    {
      "cell_type": "markdown",
      "metadata": {
        "hidden": true,
        "id": "QGG9Ugo_SLzR",
        "colab_type": "text"
      },
      "source": [
        "create featuretfransformer like in https://www.depends-on-the-definition.com/introduction-named-entity-recognition-python/"
      ]
    },
    {
      "cell_type": "markdown",
      "metadata": {
        "id": "Ls0zsDyVFtXV",
        "colab_type": "text"
      },
      "source": [
        "Feature engineering – 2 (1+1)  \n",
        "grammatical words = closed set (~ stop words)  \n",
        "Stemming + POS  \n",
        "Word shape  \n",
        "Ad hoc features ( +1)"
      ]
    },
    {
      "cell_type": "code",
      "metadata": {
        "hidden": true,
        "id": "n6vL4H0uSLzR",
        "colab_type": "code",
        "colab": {}
      },
      "source": [
        "def word2features(sent, i):\n",
        "    word = sent[i][0]\n",
        "    postag = sent[i][1]\n",
        "\n",
        "    features = {\n",
        "        'bias': 1.0,\n",
        "        'word.lower()': word.lower(),\n",
        "        'word[-3:]': word[-3:], #replace with BPE\n",
        "        'word[-2:]': word[-2:],\n",
        "        'word.isupper()': word.isupper(),\n",
        "        'word.istitle()': word.istitle(),\n",
        "        'word.isdigit()': word.isdigit(),\n",
        "        'postag': postag,\n",
        "        'postag[:2]': postag[:2],\n",
        "    }\n",
        "    if i > 0:\n",
        "        word1 = sent[i-1][0]\n",
        "        postag1 = sent[i-1][1]\n",
        "        features.update({\n",
        "            '-1:word.lower()': word1.lower(),\n",
        "            '-1:word.istitle()': word1.istitle(),\n",
        "            '-1:word.isupper()': word1.isupper(),\n",
        "            '-1:postag': postag1,\n",
        "            '-1:postag[:2]': postag1[:2],\n",
        "        })\n",
        "    else:\n",
        "        features['BOS'] = True\n",
        "\n",
        "    if i < len(sent)-1:\n",
        "        word1 = sent[i+1][0]\n",
        "        postag1 = sent[i+1][1]\n",
        "        features.update({\n",
        "            '+1:word.lower()': word1.lower(),\n",
        "            '+1:word.istitle()': word1.istitle(),\n",
        "            '+1:word.isupper()': word1.isupper(),\n",
        "            '+1:postag': postag1,\n",
        "            '+1:postag[:2]': postag1[:2],\n",
        "        })\n",
        "    else:\n",
        "        features['EOS'] = True\n",
        "\n",
        "    return features\n",
        "\n",
        "\n",
        "def sent2features(sent):\n",
        "    return [word2features(sent, i) for i in range(len(sent))]\n",
        "\n",
        "def get_sent_labels(sent):\n",
        "    return [label for token, postag, label in sent]\n",
        "\n",
        "def sent2tokens(sent):\n",
        "    return [token for token, postag, label in sent]"
      ],
      "execution_count": 0,
      "outputs": []
    },
    {
      "cell_type": "code",
      "metadata": {
        "hidden": true,
        "scrolled": true,
        "id": "DEWQp8ecSLzU",
        "colab_type": "code",
        "outputId": "dccaf299-5213-40c1-abe7-3d510e931a6d",
        "colab": {
          "base_uri": "https://localhost:8080/",
          "height": 50
        }
      },
      "source": [
        "%%time \n",
        "\n",
        "X = [sent2features(s) for s in word_pos_tag_sentences]\n",
        "y = [get_sent_labels(s) for s in word_pos_tag_sentences]"
      ],
      "execution_count": 46,
      "outputs": [
        {
          "output_type": "stream",
          "text": [
            "CPU times: user 3.28 s, sys: 15.7 ms, total: 3.3 s\n",
            "Wall time: 3.3 s\n"
          ],
          "name": "stdout"
        }
      ]
    },
    {
      "cell_type": "code",
      "metadata": {
        "hidden": true,
        "id": "-PcS8QWySLzX",
        "colab_type": "code",
        "colab": {}
      },
      "source": [
        "# from sklearn.preprocessing import LabelEncoder\n",
        "# le = LabelEncoder()\n",
        "# le.fit(y[:2])\n",
        "\n",
        "# le.classes_"
      ],
      "execution_count": 0,
      "outputs": []
    },
    {
      "cell_type": "code",
      "metadata": {
        "hidden": true,
        "scrolled": true,
        "id": "arkFb4AhSLzb",
        "colab_type": "code",
        "colab": {}
      },
      "source": [
        "X_train, X_test, y_train, y_test = train_test_split(X, y, test_size = 0.2, shuffle=True, random_state=42)"
      ],
      "execution_count": 0,
      "outputs": []
    },
    {
      "cell_type": "code",
      "metadata": {
        "id": "KcZ30-ZdSLzv",
        "colab_type": "code",
        "outputId": "7b16fa9c-0788-4b52-95e9-817a44e9f0f1",
        "colab": {
          "base_uri": "https://localhost:8080/",
          "height": 50
        }
      },
      "source": [
        "%%time\n",
        "\n",
        "def get_flatten_and_lengths(X, y):\n",
        "    lengths = [len(x) for x in X]\n",
        "    flatten_X = [item for sublist in X for item in sublist]\n",
        "    flatten_y = [item for sublist in y for item in sublist]\n",
        "    assert len(flatten_X) == np.array(lengths).sum()\n",
        "    return flatten_X, flatten_y, lengths\n",
        "\n",
        "flatten_X_train, flatten_y_train, lengths_train = get_flatten_and_lengths(X_train, y_train)\n",
        "flatten_X_test, flatten_y_test, lengths_test = get_flatten_and_lengths(X_test, y_test)"
      ],
      "execution_count": 49,
      "outputs": [
        {
          "output_type": "stream",
          "text": [
            "CPU times: user 544 ms, sys: 119 ms, total: 663 ms\n",
            "Wall time: 663 ms\n"
          ],
          "name": "stdout"
        }
      ]
    },
    {
      "cell_type": "markdown",
      "metadata": {
        "id": "z4iDcFD5SLzi",
        "colab_type": "text"
      },
      "source": [
        "# Evaluation"
      ]
    },
    {
      "cell_type": "code",
      "metadata": {
        "id": "HPpcblmfSLzn",
        "colab_type": "code",
        "colab": {}
      },
      "source": [
        "def f1_macro(y_true, y_pred):\n",
        "    return f1_score(y_true, y_pred, average='macro')\n",
        "def fbeta_macro(y_true, y_pred, beta=2):\n",
        "    return fbeta_score(y_true, y_pred, average='macro', beta=beta)\n",
        "\n",
        "scoring = [bio_f_score, f1_macro, fbeta_macro]\n",
        "cv = KFold(n_splits=5, shuffle=True, random_state=42)\n",
        "sequence_cv = SequenceKFold(lengths_train, n_folds=5, n_iter=1, shuffle=True, random_state=42, yield_lengths=True)"
      ],
      "execution_count": 0,
      "outputs": []
    },
    {
      "cell_type": "markdown",
      "metadata": {
        "id": "BLB6GHZZWNx-",
        "colab_type": "text"
      },
      "source": [
        "todo: add classification report on entities and bio_tag levels"
      ]
    },
    {
      "cell_type": "markdown",
      "metadata": {
        "colab_type": "text",
        "id": "n8APgvUyskaf"
      },
      "source": [
        "# Training models"
      ]
    },
    {
      "cell_type": "markdown",
      "metadata": {
        "id": "oEOKnlyZSLzs",
        "colab_type": "text"
      },
      "source": [
        "## HMM"
      ]
    },
    {
      "cell_type": "code",
      "metadata": {
        "scrolled": true,
        "id": "dNNFC2v_SL0G",
        "colab_type": "code",
        "colab": {}
      },
      "source": [
        "pipe = Pipeline([('vectorizer', DictVectorizer(sparse=True)),\n",
        "                 ('seq_clf', MultinomialHMM())])"
      ],
      "execution_count": 0,
      "outputs": []
    },
    {
      "cell_type": "code",
      "metadata": {
        "id": "CTw2uVfgO8u3",
        "colab_type": "code",
        "colab": {}
      },
      "source": [
        "def my_seq_cross_validate(estimator, X, y, cv, scoring):\n",
        "    scores = dict((metric.__name__, []) for metric in scoring)\n",
        "    for train, lengths_train, test, lengths_test in tqdm(list(cv), total=len(list(cv))):\n",
        "        estimator_copy = deepcopy(estimator)\n",
        "        model_name = pipe.steps[-1][0]\n",
        "        estimator_copy.fit(X[train], y[train], **{model_name+'__lengths': lengths_train})\n",
        "        pred = estimator_copy.predict(X[test], **{'lengths': lengths_test})\n",
        "        for metric in scoring:\n",
        "            scores[metric.__name__].append(metric(y_true=y[test], y_pred=pred))\n",
        "    \n",
        "    scores_df = pd.DataFrame.from_dict(scores)\n",
        "    scores_df.loc['mean'] = scores_df.mean()\n",
        "    return scores_df"
      ],
      "execution_count": 0,
      "outputs": []
    },
    {
      "cell_type": "code",
      "metadata": {
        "id": "BjOJdoBeY5O3",
        "colab_type": "code",
        "colab": {}
      },
      "source": [
        "def grid_seq_cross_validate(parameter_dict, pipe, **kwargs):\n",
        "    scores_dict = dict()\n",
        "    grid_params_list = list(ParameterGrid(parameter_dict))\n",
        "    for param_set in tqdm(grid_params_list, total=len(grid_params_list)):\n",
        "        pipe_copy = deepcopy(pipe)\n",
        "        pipe_copy[-1].__dict__.update(param_set)\n",
        "        scores = my_seq_cross_validate(pipe_copy, **kwargs)\n",
        "        scores_dict[str(pipe_copy[-1])] = scores\n",
        "    return scores_dict"
      ],
      "execution_count": 0,
      "outputs": []
    },
    {
      "cell_type": "code",
      "metadata": {
        "id": "A_7p4Jxheuw2",
        "colab_type": "code",
        "colab": {}
      },
      "source": [
        "parameter_dict = {\n",
        "    #Given a trained HMM i.e., the transition matrixes A and B, and a new observation sequence W=w1,w2,…,wN we want to find the sequence of states T=t1,t2,…,tN that best explains it.\n",
        "    #This is can be achieved by using the Viterbi algorithm, that finds the best state assignment to the sequence T1…TN as a whole. \n",
        "    #There is another algorithm, Posterior Decoding (best-first) which consists in picking the highest state posterior for each position i in the sequence independently.\n",
        "    'decode':['viterbi', 'bestfirst'], \n",
        "    'alpha':[0.001, 0.01, 0.1, 1.0]\n",
        "}"
      ],
      "execution_count": 0,
      "outputs": []
    },
    {
      "cell_type": "code",
      "metadata": {
        "id": "6q4P4gNxf51n",
        "colab_type": "code",
        "outputId": "c382c774-6d74-4283-8fc2-21785e57b224",
        "colab": {
          "base_uri": "https://localhost:8080/",
          "height": 305,
          "referenced_widgets": [
            "4b96592eee8847d2bdb42bd56111135b",
            "6597406b37d74a159d7d3c6f0fc1b178",
            "86bc926789ed47488b805a8d3800b4d9",
            "63cffb1432bf4c1d92286011ce5f3294",
            "d46d9260952847c9a0284c09fae841eb",
            "3292d1af604345ed9f7499164cbed79f",
            "8f12796ddb774f8e87e309d760dfdbf1",
            "dc84b6320ee74e60a90fd8abf669d209",
            "25e71372e02c40acbd2931b81d5e84f0",
            "6f7ba307b64147709a58ed43b35e87fb",
            "75a0913d4dba4b66834884b755746699",
            "22d4d5ac67774ea3981ae1dbff1aa0d8",
            "0e7da25b28ee4d80aacfdb19d9be5e6c",
            "43c1d70a4b7d4feea09cfdb782a15076",
            "984dd714593845e2a9e541cb6a123fbf",
            "8672c84347f44953a3a99dee898c73c3",
            "b7f1875bcdf44324acd0e46560b7706e",
            "c65f1d7f8cf3410c860681229a5b6fe0",
            "8375a9c3b2594452a3248cc3b42922ff",
            "7fe7323ac4f948e08211aa027f207ac5",
            "223c4f41bcce4a8f80038cc73b9ae38a",
            "73256c85e86d4de9a69b01f96c41f730",
            "2f2196d1761e49d681b6cb2711985418",
            "e8910f3463a14fd7bf4c41c4cac16882",
            "8f884b124a244f61a3f2dc59c397df81",
            "7f774ce86c0643faa9c1e6a3aaf72477",
            "2999353d19084f13861b8b36df67d74f",
            "ce1738028cd249ac97f09c115aecb25f",
            "372a0f7491f64bb7939fa70fa355ead2",
            "db36e45a8e9f4df29d5e8de3f96c5f10",
            "31e6ba77d09e4f96a98112e3f9b0f6f5",
            "40e870ef493f43d7a26006c7c999ee06",
            "60c0620deb0a4b5eb8a54fc6c31bd1d6",
            "f3e7e23f867e4fba80ee043a46c36ba6",
            "cac44ed62b824ad2a9101c0f4db47b0c",
            "5dff9d0cbcb94cd79535817efc197fd3",
            "2b1d567edb274220b2cc4be76322b724",
            "ef5b25fa2d114f4f826d6451064aee2b",
            "43baad295d5f458e8b61eff6d751dd30",
            "42164f29358d4f1fb78190c9371cf04b",
            "5519f8cfd9b145cba5d57cfc4e511292",
            "d5e3888b0d244e39b95a77886e6b07ab",
            "7909547bee214748998ac5c3cf2448b5",
            "1b4c569315a241188986d2d14559d206",
            "b638a0c23b1f4260b10f6c368bee76ee",
            "686fa15250774d6d95770a3cbb8d1ee3",
            "05eb276ebb004dc6ba22c326f86821d0",
            "e6a258308b834d7a8c07fb1223488e7c",
            "4a9dac8308d54c58a04c4cb473a214db",
            "01ed86837b224e54b03f11aa04a5bb53",
            "1846d454c4374159943ebafe7efdaaf7",
            "709f55bfa9054198a1062633a840cefa",
            "28a84ecb376a470ca6bfab7e9f2efc3f",
            "7c4bbcc40ee84e889d500e036dac0c55",
            "41a885052e0e42a5a8f0417cc95edf0e",
            "c6f7bc9f265d4704937fe87154f30013",
            "d035c28622e140faa7147a69fc29fc9c",
            "6fbda82c6e094e388d2e48a57c050dd9",
            "973733785bfe486e96a0ccfdce0d0b1d",
            "d5016b611dce45679893490ec99087d2",
            "8f7a82d0e91340f1b8859cee4da30c12",
            "36657e67584e44d78f5e6ce05203a4c3",
            "38fb3b7e51514ab4bea79ddedfbccc47",
            "aa6ed1c2ece1455590ea598ccdb34e83",
            "573d2d5eba0043559d2a314b6179db10",
            "4fef73b1c6ab4b1d96a2bbd6b04cff96",
            "79fea4e21c73458cb7c7515cba2fd8fc",
            "5cedcc234516493a99d361bb9b16aff1",
            "267411cf50524937b781c323ff00f89b",
            "236c8b9cbd0c48948808f9a61bea00f9",
            "744a55f5f91e4768886158940da6e997",
            "da3c1ee991b543e79b86b2bd1dae15a9"
          ]
        }
      },
      "source": [
        "scores_dict = grid_seq_cross_validate(parameter_dict, \n",
        "                                      pipe, \n",
        "                                      X=np.array(flatten_X_train),\n",
        "                                      y=np.array(flatten_y_train),\n",
        "                                      cv=sequence_cv,\n",
        "                                      scoring=scoring)"
      ],
      "execution_count": 0,
      "outputs": [
        {
          "output_type": "display_data",
          "data": {
            "application/vnd.jupyter.widget-view+json": {
              "model_id": "4b96592eee8847d2bdb42bd56111135b",
              "version_minor": 0,
              "version_major": 2
            },
            "text/plain": [
              "HBox(children=(IntProgress(value=0, max=8), HTML(value='')))"
            ]
          },
          "metadata": {
            "tags": []
          }
        },
        {
          "output_type": "display_data",
          "data": {
            "application/vnd.jupyter.widget-view+json": {
              "model_id": "25e71372e02c40acbd2931b81d5e84f0",
              "version_minor": 0,
              "version_major": 2
            },
            "text/plain": [
              "HBox(children=(IntProgress(value=0, max=5), HTML(value='')))"
            ]
          },
          "metadata": {
            "tags": []
          }
        },
        {
          "output_type": "display_data",
          "data": {
            "application/vnd.jupyter.widget-view+json": {
              "model_id": "b7f1875bcdf44324acd0e46560b7706e",
              "version_minor": 0,
              "version_major": 2
            },
            "text/plain": [
              "HBox(children=(IntProgress(value=0, max=5), HTML(value='')))"
            ]
          },
          "metadata": {
            "tags": []
          }
        },
        {
          "output_type": "display_data",
          "data": {
            "application/vnd.jupyter.widget-view+json": {
              "model_id": "8f884b124a244f61a3f2dc59c397df81",
              "version_minor": 0,
              "version_major": 2
            },
            "text/plain": [
              "HBox(children=(IntProgress(value=0, max=5), HTML(value='')))"
            ]
          },
          "metadata": {
            "tags": []
          }
        },
        {
          "output_type": "display_data",
          "data": {
            "application/vnd.jupyter.widget-view+json": {
              "model_id": "60c0620deb0a4b5eb8a54fc6c31bd1d6",
              "version_minor": 0,
              "version_major": 2
            },
            "text/plain": [
              "HBox(children=(IntProgress(value=0, max=5), HTML(value='')))"
            ]
          },
          "metadata": {
            "tags": []
          }
        },
        {
          "output_type": "display_data",
          "data": {
            "application/vnd.jupyter.widget-view+json": {
              "model_id": "5519f8cfd9b145cba5d57cfc4e511292",
              "version_minor": 0,
              "version_major": 2
            },
            "text/plain": [
              "HBox(children=(IntProgress(value=0, max=5), HTML(value='')))"
            ]
          },
          "metadata": {
            "tags": []
          }
        },
        {
          "output_type": "display_data",
          "data": {
            "application/vnd.jupyter.widget-view+json": {
              "model_id": "4a9dac8308d54c58a04c4cb473a214db",
              "version_minor": 0,
              "version_major": 2
            },
            "text/plain": [
              "HBox(children=(IntProgress(value=0, max=5), HTML(value='')))"
            ]
          },
          "metadata": {
            "tags": []
          }
        },
        {
          "output_type": "display_data",
          "data": {
            "application/vnd.jupyter.widget-view+json": {
              "model_id": "d035c28622e140faa7147a69fc29fc9c",
              "version_minor": 0,
              "version_major": 2
            },
            "text/plain": [
              "HBox(children=(IntProgress(value=0, max=5), HTML(value='')))"
            ]
          },
          "metadata": {
            "tags": []
          }
        },
        {
          "output_type": "display_data",
          "data": {
            "application/vnd.jupyter.widget-view+json": {
              "model_id": "573d2d5eba0043559d2a314b6179db10",
              "version_minor": 0,
              "version_major": 2
            },
            "text/plain": [
              "HBox(children=(IntProgress(value=0, max=5), HTML(value='')))"
            ]
          },
          "metadata": {
            "tags": []
          }
        }
      ]
    },
    {
      "cell_type": "code",
      "metadata": {
        "id": "GTVgWv3juGMF",
        "colab_type": "code",
        "outputId": "5273cadf-dbf2-4f1a-8492-74a3a1ad5c90",
        "colab": {
          "base_uri": "https://localhost:8080/",
          "height": 793
        }
      },
      "source": [
        "scores_df = pd.concat(scores_dict.values(), keys=scores_dict.keys(), axis=1)\n",
        "scores_df.T"
      ],
      "execution_count": 0,
      "outputs": [
        {
          "output_type": "execute_result",
          "data": {
            "text/html": [
              "<div>\n",
              "<style scoped>\n",
              "    .dataframe tbody tr th:only-of-type {\n",
              "        vertical-align: middle;\n",
              "    }\n",
              "\n",
              "    .dataframe tbody tr th {\n",
              "        vertical-align: top;\n",
              "    }\n",
              "\n",
              "    .dataframe thead th {\n",
              "        text-align: right;\n",
              "    }\n",
              "</style>\n",
              "<table border=\"1\" class=\"dataframe\">\n",
              "  <thead>\n",
              "    <tr style=\"text-align: right;\">\n",
              "      <th></th>\n",
              "      <th></th>\n",
              "      <th>0</th>\n",
              "      <th>1</th>\n",
              "      <th>2</th>\n",
              "      <th>3</th>\n",
              "      <th>4</th>\n",
              "      <th>mean</th>\n",
              "    </tr>\n",
              "  </thead>\n",
              "  <tbody>\n",
              "    <tr>\n",
              "      <th rowspan=\"3\" valign=\"top\">MultinomialHMM(alpha=0.001, decode='viterbi')</th>\n",
              "      <th>bio_f_score</th>\n",
              "      <td>0.244711</td>\n",
              "      <td>0.237428</td>\n",
              "      <td>0.248196</td>\n",
              "      <td>0.250377</td>\n",
              "      <td>0.242303</td>\n",
              "      <td>0.244603</td>\n",
              "    </tr>\n",
              "    <tr>\n",
              "      <th>f1_macro</th>\n",
              "      <td>0.170397</td>\n",
              "      <td>0.171963</td>\n",
              "      <td>0.174449</td>\n",
              "      <td>0.165023</td>\n",
              "      <td>0.173413</td>\n",
              "      <td>0.171049</td>\n",
              "    </tr>\n",
              "    <tr>\n",
              "      <th>fbeta_macro</th>\n",
              "      <td>0.155291</td>\n",
              "      <td>0.156620</td>\n",
              "      <td>0.158589</td>\n",
              "      <td>0.150173</td>\n",
              "      <td>0.157378</td>\n",
              "      <td>0.155610</td>\n",
              "    </tr>\n",
              "    <tr>\n",
              "      <th rowspan=\"3\" valign=\"top\">MultinomialHMM(alpha=0.001, decode='bestfirst')</th>\n",
              "      <th>bio_f_score</th>\n",
              "      <td>0.308426</td>\n",
              "      <td>0.304964</td>\n",
              "      <td>0.318607</td>\n",
              "      <td>0.309192</td>\n",
              "      <td>0.309129</td>\n",
              "      <td>0.310064</td>\n",
              "    </tr>\n",
              "    <tr>\n",
              "      <th>f1_macro</th>\n",
              "      <td>0.186914</td>\n",
              "      <td>0.188621</td>\n",
              "      <td>0.193941</td>\n",
              "      <td>0.178923</td>\n",
              "      <td>0.191030</td>\n",
              "      <td>0.187886</td>\n",
              "    </tr>\n",
              "    <tr>\n",
              "      <th>fbeta_macro</th>\n",
              "      <td>0.168810</td>\n",
              "      <td>0.170089</td>\n",
              "      <td>0.174302</td>\n",
              "      <td>0.161666</td>\n",
              "      <td>0.171638</td>\n",
              "      <td>0.169301</td>\n",
              "    </tr>\n",
              "    <tr>\n",
              "      <th rowspan=\"3\" valign=\"top\">MultinomialHMM(alpha=0.01, decode='viterbi')</th>\n",
              "      <th>bio_f_score</th>\n",
              "      <td>0.184744</td>\n",
              "      <td>0.175981</td>\n",
              "      <td>0.187906</td>\n",
              "      <td>0.187960</td>\n",
              "      <td>0.182443</td>\n",
              "      <td>0.183807</td>\n",
              "    </tr>\n",
              "    <tr>\n",
              "      <th>f1_macro</th>\n",
              "      <td>0.151296</td>\n",
              "      <td>0.153026</td>\n",
              "      <td>0.155341</td>\n",
              "      <td>0.147283</td>\n",
              "      <td>0.154327</td>\n",
              "      <td>0.152254</td>\n",
              "    </tr>\n",
              "    <tr>\n",
              "      <th>fbeta_macro</th>\n",
              "      <td>0.140325</td>\n",
              "      <td>0.141655</td>\n",
              "      <td>0.143291</td>\n",
              "      <td>0.135803</td>\n",
              "      <td>0.142395</td>\n",
              "      <td>0.140694</td>\n",
              "    </tr>\n",
              "    <tr>\n",
              "      <th rowspan=\"3\" valign=\"top\">MultinomialHMM(alpha=0.01, decode='bestfirst')</th>\n",
              "      <th>bio_f_score</th>\n",
              "      <td>0.256266</td>\n",
              "      <td>0.248817</td>\n",
              "      <td>0.259331</td>\n",
              "      <td>0.258043</td>\n",
              "      <td>0.254945</td>\n",
              "      <td>0.255481</td>\n",
              "    </tr>\n",
              "    <tr>\n",
              "      <th>f1_macro</th>\n",
              "      <td>0.169257</td>\n",
              "      <td>0.170467</td>\n",
              "      <td>0.172875</td>\n",
              "      <td>0.162071</td>\n",
              "      <td>0.172556</td>\n",
              "      <td>0.169445</td>\n",
              "    </tr>\n",
              "    <tr>\n",
              "      <th>fbeta_macro</th>\n",
              "      <td>0.154635</td>\n",
              "      <td>0.155586</td>\n",
              "      <td>0.157364</td>\n",
              "      <td>0.147927</td>\n",
              "      <td>0.156817</td>\n",
              "      <td>0.154466</td>\n",
              "    </tr>\n",
              "    <tr>\n",
              "      <th rowspan=\"3\" valign=\"top\">MultinomialHMM(alpha=0.1, decode='viterbi')</th>\n",
              "      <th>bio_f_score</th>\n",
              "      <td>0.127253</td>\n",
              "      <td>0.123308</td>\n",
              "      <td>0.126690</td>\n",
              "      <td>0.128127</td>\n",
              "      <td>0.125729</td>\n",
              "      <td>0.126221</td>\n",
              "    </tr>\n",
              "    <tr>\n",
              "      <th>f1_macro</th>\n",
              "      <td>0.133630</td>\n",
              "      <td>0.135865</td>\n",
              "      <td>0.135572</td>\n",
              "      <td>0.129350</td>\n",
              "      <td>0.136483</td>\n",
              "      <td>0.134180</td>\n",
              "    </tr>\n",
              "    <tr>\n",
              "      <th>fbeta_macro</th>\n",
              "      <td>0.125829</td>\n",
              "      <td>0.127408</td>\n",
              "      <td>0.127224</td>\n",
              "      <td>0.121025</td>\n",
              "      <td>0.128087</td>\n",
              "      <td>0.125915</td>\n",
              "    </tr>\n",
              "    <tr>\n",
              "      <th rowspan=\"3\" valign=\"top\">MultinomialHMM(alpha=0.1, decode='bestfirst')</th>\n",
              "      <th>bio_f_score</th>\n",
              "      <td>0.192356</td>\n",
              "      <td>0.188246</td>\n",
              "      <td>0.197560</td>\n",
              "      <td>0.195890</td>\n",
              "      <td>0.197404</td>\n",
              "      <td>0.194291</td>\n",
              "    </tr>\n",
              "    <tr>\n",
              "      <th>f1_macro</th>\n",
              "      <td>0.150701</td>\n",
              "      <td>0.154157</td>\n",
              "      <td>0.154932</td>\n",
              "      <td>0.146181</td>\n",
              "      <td>0.156388</td>\n",
              "      <td>0.152472</td>\n",
              "    </tr>\n",
              "    <tr>\n",
              "      <th>fbeta_macro</th>\n",
              "      <td>0.139789</td>\n",
              "      <td>0.142119</td>\n",
              "      <td>0.142840</td>\n",
              "      <td>0.135011</td>\n",
              "      <td>0.143809</td>\n",
              "      <td>0.140713</td>\n",
              "    </tr>\n",
              "    <tr>\n",
              "      <th rowspan=\"3\" valign=\"top\">MultinomialHMM(alpha=1.0, decode='viterbi')</th>\n",
              "      <th>bio_f_score</th>\n",
              "      <td>0.041835</td>\n",
              "      <td>0.048472</td>\n",
              "      <td>0.050091</td>\n",
              "      <td>0.048116</td>\n",
              "      <td>0.047512</td>\n",
              "      <td>0.047205</td>\n",
              "    </tr>\n",
              "    <tr>\n",
              "      <th>f1_macro</th>\n",
              "      <td>0.078102</td>\n",
              "      <td>0.082855</td>\n",
              "      <td>0.083504</td>\n",
              "      <td>0.079863</td>\n",
              "      <td>0.083390</td>\n",
              "      <td>0.081543</td>\n",
              "    </tr>\n",
              "    <tr>\n",
              "      <th>fbeta_macro</th>\n",
              "      <td>0.072097</td>\n",
              "      <td>0.075658</td>\n",
              "      <td>0.076113</td>\n",
              "      <td>0.072824</td>\n",
              "      <td>0.076139</td>\n",
              "      <td>0.074566</td>\n",
              "    </tr>\n",
              "    <tr>\n",
              "      <th rowspan=\"3\" valign=\"top\">MultinomialHMM(alpha=1.0, decode='bestfirst')</th>\n",
              "      <th>bio_f_score</th>\n",
              "      <td>0.121846</td>\n",
              "      <td>0.120021</td>\n",
              "      <td>0.129694</td>\n",
              "      <td>0.124166</td>\n",
              "      <td>0.127756</td>\n",
              "      <td>0.124697</td>\n",
              "    </tr>\n",
              "    <tr>\n",
              "      <th>f1_macro</th>\n",
              "      <td>0.125282</td>\n",
              "      <td>0.129106</td>\n",
              "      <td>0.129476</td>\n",
              "      <td>0.122242</td>\n",
              "      <td>0.130895</td>\n",
              "      <td>0.127400</td>\n",
              "    </tr>\n",
              "    <tr>\n",
              "      <th>fbeta_macro</th>\n",
              "      <td>0.114854</td>\n",
              "      <td>0.118542</td>\n",
              "      <td>0.118330</td>\n",
              "      <td>0.111806</td>\n",
              "      <td>0.120047</td>\n",
              "      <td>0.116716</td>\n",
              "    </tr>\n",
              "  </tbody>\n",
              "</table>\n",
              "</div>"
            ],
            "text/plain": [
              "                                                                    0  ...      mean\n",
              "MultinomialHMM(alpha=0.001, decode='viterbi')   bio_f_score  0.244711  ...  0.244603\n",
              "                                                f1_macro     0.170397  ...  0.171049\n",
              "                                                fbeta_macro  0.155291  ...  0.155610\n",
              "MultinomialHMM(alpha=0.001, decode='bestfirst') bio_f_score  0.308426  ...  0.310064\n",
              "                                                f1_macro     0.186914  ...  0.187886\n",
              "                                                fbeta_macro  0.168810  ...  0.169301\n",
              "MultinomialHMM(alpha=0.01, decode='viterbi')    bio_f_score  0.184744  ...  0.183807\n",
              "                                                f1_macro     0.151296  ...  0.152254\n",
              "                                                fbeta_macro  0.140325  ...  0.140694\n",
              "MultinomialHMM(alpha=0.01, decode='bestfirst')  bio_f_score  0.256266  ...  0.255481\n",
              "                                                f1_macro     0.169257  ...  0.169445\n",
              "                                                fbeta_macro  0.154635  ...  0.154466\n",
              "MultinomialHMM(alpha=0.1, decode='viterbi')     bio_f_score  0.127253  ...  0.126221\n",
              "                                                f1_macro     0.133630  ...  0.134180\n",
              "                                                fbeta_macro  0.125829  ...  0.125915\n",
              "MultinomialHMM(alpha=0.1, decode='bestfirst')   bio_f_score  0.192356  ...  0.194291\n",
              "                                                f1_macro     0.150701  ...  0.152472\n",
              "                                                fbeta_macro  0.139789  ...  0.140713\n",
              "MultinomialHMM(alpha=1.0, decode='viterbi')     bio_f_score  0.041835  ...  0.047205\n",
              "                                                f1_macro     0.078102  ...  0.081543\n",
              "                                                fbeta_macro  0.072097  ...  0.074566\n",
              "MultinomialHMM(alpha=1.0, decode='bestfirst')   bio_f_score  0.121846  ...  0.124697\n",
              "                                                f1_macro     0.125282  ...  0.127400\n",
              "                                                fbeta_macro  0.114854  ...  0.116716\n",
              "\n",
              "[24 rows x 6 columns]"
            ]
          },
          "metadata": {
            "tags": []
          },
          "execution_count": 178
        }
      ]
    },
    {
      "cell_type": "markdown",
      "metadata": {
        "id": "RD69jlYw43Jy",
        "colab_type": "text"
      },
      "source": [
        "Less alpha show better result. Ceteris paribus, bestfirst performs better"
      ]
    },
    {
      "cell_type": "code",
      "metadata": {
        "id": "zcZxLpOauX0F",
        "colab_type": "code",
        "colab": {}
      },
      "source": [
        "pipe = Pipeline([('vectorizer', DictVectorizer(sparse=True)),\n",
        "                 ('seq_clf', MultinomialHMM(alpha=0.001, decode='viterbi'))])\n",
        "pipe.fit(flatten_X_train, flatten_y_train, **{'seq_clf__lengths': lengths_train})\n",
        "y_pred = pipe.predict(flatten_X_test, **{'lengths': lengths_test})"
      ],
      "execution_count": 0,
      "outputs": []
    },
    {
      "cell_type": "code",
      "metadata": {
        "id": "Lot9ZEzYdXLJ",
        "colab_type": "code",
        "colab": {}
      },
      "source": [
        "assert sum(lengths_test) == len(y_pred)\n",
        "y_pred_copy = deepcopy(y_pred)\n",
        "y_pred_unflatten = []\n",
        "for length in lengths_test:\n",
        "    y_pred_unflatten.append(y_pred_copy[:length].tolist())\n",
        "    y_pred_copy = np.delete(y_pred_copy, range(length))"
      ],
      "execution_count": 0,
      "outputs": []
    },
    {
      "cell_type": "code",
      "metadata": {
        "id": "3pkkTUSolvS2",
        "colab_type": "code",
        "colab": {
          "base_uri": "https://localhost:8080/",
          "height": 961
        },
        "outputId": "23b1e4c3-d76b-43a8-f105-1a88a6e7c68e"
      },
      "source": [
        "def evaluate_with_clf_report(estimator, y_test, y_pred, remove_O=True,\n",
        "                             do_flatten=False):\n",
        "    labels = list(estimator.classes_)\n",
        "    if remove_O:\n",
        "        labels.remove('O') # remove 'O' label from evaluation\n",
        "    sorted_labels = sorted(labels,key=lambda name: (name[1:], name[0])) # group B and I results\n",
        "    if do_flatten:\n",
        "        report = flat_classification_report(y_test, y_pred, labels=sorted_labels, digits=3)\n",
        "    else:\n",
        "        report = classification_report(y_test, y_pred, labels=sorted_labels, digits=3)\n",
        "    print(report)\n",
        "\n",
        "evaluate_with_clf_report(pipe, y_test, y_pred_unflatten, do_flatten=True) == evaluate_with_clf_report(pipe, flatten_y_test, y_pred, do_flatten=False)"
      ],
      "execution_count": 66,
      "outputs": [
        {
          "output_type": "stream",
          "text": [
            "/usr/local/lib/python3.6/dist-packages/sklearn/metrics/_classification.py:1272: UndefinedMetricWarning: Precision and F-score are ill-defined and being set to 0.0 in labels with no predicted samples. Use `zero_division` parameter to control this behavior.\n",
            "  _warn_prf(average, modifier, msg_start, len(result))\n",
            "/usr/local/lib/python3.6/dist-packages/sklearn/metrics/_classification.py:1272: UndefinedMetricWarning: Recall and F-score are ill-defined and being set to 0.0 in labels with no true samples. Use `zero_division` parameter to control this behavior.\n",
            "  _warn_prf(average, modifier, msg_start, len(result))\n"
          ],
          "name": "stderr"
        },
        {
          "output_type": "stream",
          "text": [
            "              precision    recall  f1-score   support\n",
            "\n",
            "        B-[]      1.000     0.999     0.999       776\n",
            "        I-[]      0.000     0.000     0.000         0\n",
            "       B-art      0.000     0.000     0.000       102\n",
            "       I-art      0.000     0.000     0.000        64\n",
            "       B-eve      0.000     0.000     0.000        58\n",
            "       I-eve      0.000     0.000     0.000        41\n",
            "       B-geo      0.862     0.284     0.427      9339\n",
            "       I-geo      0.517     0.008     0.017      1787\n",
            "       B-gpe      1.000     0.014     0.027      3787\n",
            "       I-gpe      0.000     0.000     0.000        42\n",
            "       B-nat      0.000     0.000     0.000        60\n",
            "       I-nat      0.000     0.000     0.000        13\n",
            "       B-org      0.982     0.065     0.122      4936\n",
            "       I-org      0.889     0.004     0.008      4154\n",
            "       B-per      0.845     0.165     0.276      4184\n",
            "       I-per      0.869     0.106     0.188      4286\n",
            "       B-tim      0.721     0.010     0.019      4588\n",
            "       I-tim      0.000     0.000     0.000      1298\n",
            "\n",
            "   micro avg      0.884     0.127     0.222     39515\n",
            "   macro avg      0.427     0.092     0.116     39515\n",
            "weighted avg      0.826     0.127     0.192     39515\n",
            "\n",
            "              precision    recall  f1-score   support\n",
            "\n",
            "        B-[]      1.000     0.999     0.999       776\n",
            "        I-[]      0.000     0.000     0.000         0\n",
            "       B-art      0.000     0.000     0.000       102\n",
            "       I-art      0.000     0.000     0.000        64\n",
            "       B-eve      0.000     0.000     0.000        58\n",
            "       I-eve      0.000     0.000     0.000        41\n",
            "       B-geo      0.862     0.284     0.427      9339\n",
            "       I-geo      0.517     0.008     0.017      1787\n",
            "       B-gpe      1.000     0.014     0.027      3787\n",
            "       I-gpe      0.000     0.000     0.000        42\n",
            "       B-nat      0.000     0.000     0.000        60\n",
            "       I-nat      0.000     0.000     0.000        13\n",
            "       B-org      0.982     0.065     0.122      4936\n",
            "       I-org      0.889     0.004     0.008      4154\n",
            "       B-per      0.845     0.165     0.276      4184\n",
            "       I-per      0.869     0.106     0.188      4286\n",
            "       B-tim      0.721     0.010     0.019      4588\n",
            "       I-tim      0.000     0.000     0.000      1298\n",
            "\n",
            "   micro avg      0.884     0.127     0.222     39515\n",
            "   macro avg      0.427     0.092     0.116     39515\n",
            "weighted avg      0.826     0.127     0.192     39515\n",
            "\n"
          ],
          "name": "stdout"
        },
        {
          "output_type": "execute_result",
          "data": {
            "text/plain": [
              "True"
            ]
          },
          "metadata": {
            "tags": []
          },
          "execution_count": 66
        }
      ]
    },
    {
      "cell_type": "code",
      "metadata": {
        "id": "RXRusO2rzxM5",
        "colab_type": "code",
        "colab": {
          "base_uri": "https://localhost:8080/",
          "height": 168
        },
        "outputId": "eb4ead1b-ec11-47c3-ba69-c0452ea7dc23"
      },
      "source": [
        "!pip install seqeval"
      ],
      "execution_count": 58,
      "outputs": [
        {
          "output_type": "stream",
          "text": [
            "Requirement already satisfied: seqeval in /usr/local/lib/python3.6/dist-packages (0.0.12)\n",
            "Requirement already satisfied: numpy>=1.14.0 in /usr/local/lib/python3.6/dist-packages (from seqeval) (1.18.1)\n",
            "Requirement already satisfied: Keras>=2.2.4 in /usr/local/lib/python3.6/dist-packages (from seqeval) (2.2.5)\n",
            "Requirement already satisfied: pyyaml in /usr/local/lib/python3.6/dist-packages (from Keras>=2.2.4->seqeval) (3.13)\n",
            "Requirement already satisfied: scipy>=0.14 in /usr/local/lib/python3.6/dist-packages (from Keras>=2.2.4->seqeval) (1.4.1)\n",
            "Requirement already satisfied: keras-applications>=1.0.8 in /usr/local/lib/python3.6/dist-packages (from Keras>=2.2.4->seqeval) (1.0.8)\n",
            "Requirement already satisfied: h5py in /usr/local/lib/python3.6/dist-packages (from Keras>=2.2.4->seqeval) (2.8.0)\n",
            "Requirement already satisfied: six>=1.9.0 in /usr/local/lib/python3.6/dist-packages (from Keras>=2.2.4->seqeval) (1.12.0)\n",
            "Requirement already satisfied: keras-preprocessing>=1.1.0 in /usr/local/lib/python3.6/dist-packages (from Keras>=2.2.4->seqeval) (1.1.0)\n"
          ],
          "name": "stdout"
        }
      ]
    },
    {
      "cell_type": "code",
      "metadata": {
        "id": "QHsa1C19zynA",
        "colab_type": "code",
        "colab": {
          "base_uri": "https://localhost:8080/",
          "height": 269
        },
        "outputId": "374b2adb-0b97-44f4-8c49-082ebdfc0488"
      },
      "source": [
        "from seqeval.metrics import classification_report as entity_clf_report\n",
        "print(entity_clf_report(y_test, y_pred_unflatten))"
      ],
      "execution_count": 84,
      "outputs": [
        {
          "output_type": "stream",
          "text": [
            "           precision    recall  f1-score   support\n",
            "\n",
            "      geo       0.81      0.27      0.40      9339\n",
            "      tim       0.72      0.01      0.02      4588\n",
            "       []       1.00      1.00      1.00       776\n",
            "      per       0.42      0.08      0.14      4184\n",
            "      gpe       1.00      0.01      0.03      3787\n",
            "      org       0.90      0.06      0.11      4936\n",
            "      nat       0.00      0.00      0.00        60\n",
            "      eve       0.00      0.00      0.00        58\n",
            "      art       0.00      0.00      0.00       102\n",
            "\n",
            "micro avg       0.78      0.14      0.24     27830\n",
            "macro avg       0.78      0.14      0.21     27830\n",
            "\n"
          ],
          "name": "stdout"
        }
      ]
    },
    {
      "cell_type": "markdown",
      "metadata": {
        "id": "EIhTA47mSL0d",
        "colab_type": "text"
      },
      "source": [
        "## CRF"
      ]
    },
    {
      "cell_type": "code",
      "metadata": {
        "id": "jVKjWd3wSL0e",
        "colab_type": "code",
        "colab": {}
      },
      "source": [
        "crf=CRF(algorithm='lbfgs',\n",
        "         c1=0.1,\n",
        "         c2=0.1,\n",
        "         max_iterations=100,\n",
        "         all_possible_transitions=False)"
      ],
      "execution_count": 0,
      "outputs": []
    },
    {
      "cell_type": "code",
      "metadata": {
        "scrolled": true,
        "id": "tlFaU1qTSL0k",
        "colab_type": "code",
        "colab": {}
      },
      "source": [
        "# scores = cross_validate(crf, X_train, y_train, cv=cv, n_jobs=-1, \n",
        "#                          scoring=scoring, verbose=100)\n",
        "scores = cross_validate(crf, X_train[:100], y_train[:100], cv=cv, n_jobs=-1, \n",
        "                         scoring=scoring, verbose=100)"
      ],
      "execution_count": 0,
      "outputs": []
    },
    {
      "cell_type": "code",
      "metadata": {
        "id": "Qd9e9nYgSL0m",
        "colab_type": "code",
        "outputId": "dbd5b17a-5492-4c50-b48d-0d2713bcd322",
        "colab": {}
      },
      "source": [
        "scores"
      ],
      "execution_count": 0,
      "outputs": [
        {
          "output_type": "execute_result",
          "data": {
            "text/plain": [
              "array([0.97032539, 0.97388456, 0.97253039, 0.97323582, 0.97233593])"
            ]
          },
          "metadata": {
            "tags": []
          },
          "execution_count": 83
        }
      ]
    }
  ]
}