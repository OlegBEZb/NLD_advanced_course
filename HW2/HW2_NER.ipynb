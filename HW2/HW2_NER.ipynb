{
  "nbformat": 4,
  "nbformat_minor": 0,
  "metadata": {
    "colab": {
      "name": "HW1. NER.ipynb",
      "provenance": [],
      "collapsed_sections": [],
      "toc_visible": true,
      "machine_shape": "hm",
      "include_colab_link": true
    },
    "kernelspec": {
      "name": "python3",
      "display_name": "Python 3"
    },
    "language_info": {
      "codemirror_mode": {
        "name": "ipython",
        "version": 3
      },
      "file_extension": ".py",
      "mimetype": "text/x-python",
      "name": "python",
      "nbconvert_exporter": "python",
      "pygments_lexer": "ipython3",
      "version": "3.6.7"
    },
    "latex_envs": {
      "LaTeX_envs_menu_present": true,
      "autoclose": false,
      "autocomplete": true,
      "bibliofile": "biblio.bib",
      "cite_by": "apalike",
      "current_citInitial": 1,
      "eqLabelWithNumbers": true,
      "eqNumInitial": 1,
      "hotkeys": {
        "equation": "Ctrl-E",
        "itemize": "Ctrl-I"
      },
      "labels_anchors": false,
      "latex_user_defs": false,
      "report_style_numbering": false,
      "user_envs_cfg": false
    },
    "toc": {
      "base_numbering": 1,
      "nav_menu": {},
      "number_sections": true,
      "sideBar": true,
      "skip_h1_title": false,
      "title_cell": "Table of Contents",
      "title_sidebar": "Contents",
      "toc_cell": false,
      "toc_position": {
        "height": "calc(100% - 180px)",
        "left": "10px",
        "top": "150px",
        "width": "384px"
      },
      "toc_section_display": true,
      "toc_window_display": true
    },
    "varInspector": {
      "cols": {
        "lenName": 16,
        "lenType": 16,
        "lenVar": 40
      },
      "kernels_config": {
        "python": {
          "delete_cmd_postfix": "",
          "delete_cmd_prefix": "del ",
          "library": "var_list.py",
          "varRefreshCmd": "print(var_dic_list())"
        },
        "r": {
          "delete_cmd_postfix": ") ",
          "delete_cmd_prefix": "rm(",
          "library": "var_list.r",
          "varRefreshCmd": "cat(var_dic_list()) "
        }
      },
      "types_to_exclude": [
        "module",
        "function",
        "builtin_function_or_method",
        "instance",
        "_Feature"
      ],
      "window_display": false
    },
    "widgets": {
      "application/vnd.jupyter.widget-state+json": {
        "a4a84f1c06b34227b75d128a51a82d2f": {
          "model_module": "@jupyter-widgets/controls",
          "model_name": "HBoxModel",
          "state": {
            "_view_name": "HBoxView",
            "_dom_classes": [],
            "_model_name": "HBoxModel",
            "_view_module": "@jupyter-widgets/controls",
            "_model_module_version": "1.5.0",
            "_view_count": null,
            "_view_module_version": "1.5.0",
            "box_style": "",
            "layout": "IPY_MODEL_95fb0b243e234e989e5f166489e3bc88",
            "_model_module": "@jupyter-widgets/controls",
            "children": [
              "IPY_MODEL_fccf7ed036694d76b071e11d1179a492",
              "IPY_MODEL_d092bae32bdb48389c8b9c25df13d1a1"
            ]
          }
        },
        "95fb0b243e234e989e5f166489e3bc88": {
          "model_module": "@jupyter-widgets/base",
          "model_name": "LayoutModel",
          "state": {
            "_view_name": "LayoutView",
            "grid_template_rows": null,
            "right": null,
            "justify_content": null,
            "_view_module": "@jupyter-widgets/base",
            "overflow": null,
            "_model_module_version": "1.2.0",
            "_view_count": null,
            "flex_flow": null,
            "width": null,
            "min_width": null,
            "border": null,
            "align_items": null,
            "bottom": null,
            "_model_module": "@jupyter-widgets/base",
            "top": null,
            "grid_column": null,
            "overflow_y": null,
            "overflow_x": null,
            "grid_auto_flow": null,
            "grid_area": null,
            "grid_template_columns": null,
            "flex": null,
            "_model_name": "LayoutModel",
            "justify_items": null,
            "grid_row": null,
            "max_height": null,
            "align_content": null,
            "visibility": null,
            "align_self": null,
            "height": null,
            "min_height": null,
            "padding": null,
            "grid_auto_rows": null,
            "grid_gap": null,
            "max_width": null,
            "order": null,
            "_view_module_version": "1.2.0",
            "grid_template_areas": null,
            "object_position": null,
            "object_fit": null,
            "grid_auto_columns": null,
            "margin": null,
            "display": null,
            "left": null
          }
        },
        "fccf7ed036694d76b071e11d1179a492": {
          "model_module": "@jupyter-widgets/controls",
          "model_name": "IntProgressModel",
          "state": {
            "_view_name": "ProgressView",
            "style": "IPY_MODEL_5b6eab54021140d69405a6deedac5f9b",
            "_dom_classes": [],
            "description": "100%",
            "_model_name": "IntProgressModel",
            "bar_style": "success",
            "max": 8,
            "_view_module": "@jupyter-widgets/controls",
            "_model_module_version": "1.5.0",
            "value": 8,
            "_view_count": null,
            "_view_module_version": "1.5.0",
            "orientation": "horizontal",
            "min": 0,
            "description_tooltip": null,
            "_model_module": "@jupyter-widgets/controls",
            "layout": "IPY_MODEL_0b8c015059d540a7b0780e7d78bb18c0"
          }
        },
        "d092bae32bdb48389c8b9c25df13d1a1": {
          "model_module": "@jupyter-widgets/controls",
          "model_name": "HTMLModel",
          "state": {
            "_view_name": "HTMLView",
            "style": "IPY_MODEL_1eff841162c54139bfaf5ba8aedd08f2",
            "_dom_classes": [],
            "description": "",
            "_model_name": "HTMLModel",
            "placeholder": "​",
            "_view_module": "@jupyter-widgets/controls",
            "_model_module_version": "1.5.0",
            "value": " 8/8 [02:28&lt;00:00, 18.50s/it]",
            "_view_count": null,
            "_view_module_version": "1.5.0",
            "description_tooltip": null,
            "_model_module": "@jupyter-widgets/controls",
            "layout": "IPY_MODEL_40617a7d172a4536be5451cb810adafa"
          }
        },
        "5b6eab54021140d69405a6deedac5f9b": {
          "model_module": "@jupyter-widgets/controls",
          "model_name": "ProgressStyleModel",
          "state": {
            "_view_name": "StyleView",
            "_model_name": "ProgressStyleModel",
            "description_width": "initial",
            "_view_module": "@jupyter-widgets/base",
            "_model_module_version": "1.5.0",
            "_view_count": null,
            "_view_module_version": "1.2.0",
            "bar_color": null,
            "_model_module": "@jupyter-widgets/controls"
          }
        },
        "0b8c015059d540a7b0780e7d78bb18c0": {
          "model_module": "@jupyter-widgets/base",
          "model_name": "LayoutModel",
          "state": {
            "_view_name": "LayoutView",
            "grid_template_rows": null,
            "right": null,
            "justify_content": null,
            "_view_module": "@jupyter-widgets/base",
            "overflow": null,
            "_model_module_version": "1.2.0",
            "_view_count": null,
            "flex_flow": null,
            "width": null,
            "min_width": null,
            "border": null,
            "align_items": null,
            "bottom": null,
            "_model_module": "@jupyter-widgets/base",
            "top": null,
            "grid_column": null,
            "overflow_y": null,
            "overflow_x": null,
            "grid_auto_flow": null,
            "grid_area": null,
            "grid_template_columns": null,
            "flex": null,
            "_model_name": "LayoutModel",
            "justify_items": null,
            "grid_row": null,
            "max_height": null,
            "align_content": null,
            "visibility": null,
            "align_self": null,
            "height": null,
            "min_height": null,
            "padding": null,
            "grid_auto_rows": null,
            "grid_gap": null,
            "max_width": null,
            "order": null,
            "_view_module_version": "1.2.0",
            "grid_template_areas": null,
            "object_position": null,
            "object_fit": null,
            "grid_auto_columns": null,
            "margin": null,
            "display": null,
            "left": null
          }
        },
        "1eff841162c54139bfaf5ba8aedd08f2": {
          "model_module": "@jupyter-widgets/controls",
          "model_name": "DescriptionStyleModel",
          "state": {
            "_view_name": "StyleView",
            "_model_name": "DescriptionStyleModel",
            "description_width": "",
            "_view_module": "@jupyter-widgets/base",
            "_model_module_version": "1.5.0",
            "_view_count": null,
            "_view_module_version": "1.2.0",
            "_model_module": "@jupyter-widgets/controls"
          }
        },
        "40617a7d172a4536be5451cb810adafa": {
          "model_module": "@jupyter-widgets/base",
          "model_name": "LayoutModel",
          "state": {
            "_view_name": "LayoutView",
            "grid_template_rows": null,
            "right": null,
            "justify_content": null,
            "_view_module": "@jupyter-widgets/base",
            "overflow": null,
            "_model_module_version": "1.2.0",
            "_view_count": null,
            "flex_flow": null,
            "width": null,
            "min_width": null,
            "border": null,
            "align_items": null,
            "bottom": null,
            "_model_module": "@jupyter-widgets/base",
            "top": null,
            "grid_column": null,
            "overflow_y": null,
            "overflow_x": null,
            "grid_auto_flow": null,
            "grid_area": null,
            "grid_template_columns": null,
            "flex": null,
            "_model_name": "LayoutModel",
            "justify_items": null,
            "grid_row": null,
            "max_height": null,
            "align_content": null,
            "visibility": null,
            "align_self": null,
            "height": null,
            "min_height": null,
            "padding": null,
            "grid_auto_rows": null,
            "grid_gap": null,
            "max_width": null,
            "order": null,
            "_view_module_version": "1.2.0",
            "grid_template_areas": null,
            "object_position": null,
            "object_fit": null,
            "grid_auto_columns": null,
            "margin": null,
            "display": null,
            "left": null
          }
        },
        "f45ce16602f54f3ba34d3e95afbca514": {
          "model_module": "@jupyter-widgets/controls",
          "model_name": "HBoxModel",
          "state": {
            "_view_name": "HBoxView",
            "_dom_classes": [],
            "_model_name": "HBoxModel",
            "_view_module": "@jupyter-widgets/controls",
            "_model_module_version": "1.5.0",
            "_view_count": null,
            "_view_module_version": "1.5.0",
            "box_style": "",
            "layout": "IPY_MODEL_023bd140826c4d7daa3576bd1a691033",
            "_model_module": "@jupyter-widgets/controls",
            "children": [
              "IPY_MODEL_26e43c5b2e874934b0c7c4494a71494c",
              "IPY_MODEL_856486a7bef543e894694d65b869b1da"
            ]
          }
        },
        "023bd140826c4d7daa3576bd1a691033": {
          "model_module": "@jupyter-widgets/base",
          "model_name": "LayoutModel",
          "state": {
            "_view_name": "LayoutView",
            "grid_template_rows": null,
            "right": null,
            "justify_content": null,
            "_view_module": "@jupyter-widgets/base",
            "overflow": null,
            "_model_module_version": "1.2.0",
            "_view_count": null,
            "flex_flow": null,
            "width": null,
            "min_width": null,
            "border": null,
            "align_items": null,
            "bottom": null,
            "_model_module": "@jupyter-widgets/base",
            "top": null,
            "grid_column": null,
            "overflow_y": null,
            "overflow_x": null,
            "grid_auto_flow": null,
            "grid_area": null,
            "grid_template_columns": null,
            "flex": null,
            "_model_name": "LayoutModel",
            "justify_items": null,
            "grid_row": null,
            "max_height": null,
            "align_content": null,
            "visibility": null,
            "align_self": null,
            "height": null,
            "min_height": null,
            "padding": null,
            "grid_auto_rows": null,
            "grid_gap": null,
            "max_width": null,
            "order": null,
            "_view_module_version": "1.2.0",
            "grid_template_areas": null,
            "object_position": null,
            "object_fit": null,
            "grid_auto_columns": null,
            "margin": null,
            "display": null,
            "left": null
          }
        },
        "26e43c5b2e874934b0c7c4494a71494c": {
          "model_module": "@jupyter-widgets/controls",
          "model_name": "IntProgressModel",
          "state": {
            "_view_name": "ProgressView",
            "style": "IPY_MODEL_a30bf3cfb5534b84932bb22b491d131f",
            "_dom_classes": [],
            "description": "100%",
            "_model_name": "IntProgressModel",
            "bar_style": "success",
            "max": 5,
            "_view_module": "@jupyter-widgets/controls",
            "_model_module_version": "1.5.0",
            "value": 5,
            "_view_count": null,
            "_view_module_version": "1.5.0",
            "orientation": "horizontal",
            "min": 0,
            "description_tooltip": null,
            "_model_module": "@jupyter-widgets/controls",
            "layout": "IPY_MODEL_7a65114dca834a2bb32e23cac42cc27d"
          }
        },
        "856486a7bef543e894694d65b869b1da": {
          "model_module": "@jupyter-widgets/controls",
          "model_name": "HTMLModel",
          "state": {
            "_view_name": "HTMLView",
            "style": "IPY_MODEL_1ba9e31825084b01be3c246ce85d674f",
            "_dom_classes": [],
            "description": "",
            "_model_name": "HTMLModel",
            "placeholder": "​",
            "_view_module": "@jupyter-widgets/controls",
            "_model_module_version": "1.5.0",
            "value": " 5/5 [00:18&lt;00:00,  3.73s/it]",
            "_view_count": null,
            "_view_module_version": "1.5.0",
            "description_tooltip": null,
            "_model_module": "@jupyter-widgets/controls",
            "layout": "IPY_MODEL_94ef18e73685457a99107a8f35a691fa"
          }
        },
        "a30bf3cfb5534b84932bb22b491d131f": {
          "model_module": "@jupyter-widgets/controls",
          "model_name": "ProgressStyleModel",
          "state": {
            "_view_name": "StyleView",
            "_model_name": "ProgressStyleModel",
            "description_width": "initial",
            "_view_module": "@jupyter-widgets/base",
            "_model_module_version": "1.5.0",
            "_view_count": null,
            "_view_module_version": "1.2.0",
            "bar_color": null,
            "_model_module": "@jupyter-widgets/controls"
          }
        },
        "7a65114dca834a2bb32e23cac42cc27d": {
          "model_module": "@jupyter-widgets/base",
          "model_name": "LayoutModel",
          "state": {
            "_view_name": "LayoutView",
            "grid_template_rows": null,
            "right": null,
            "justify_content": null,
            "_view_module": "@jupyter-widgets/base",
            "overflow": null,
            "_model_module_version": "1.2.0",
            "_view_count": null,
            "flex_flow": null,
            "width": null,
            "min_width": null,
            "border": null,
            "align_items": null,
            "bottom": null,
            "_model_module": "@jupyter-widgets/base",
            "top": null,
            "grid_column": null,
            "overflow_y": null,
            "overflow_x": null,
            "grid_auto_flow": null,
            "grid_area": null,
            "grid_template_columns": null,
            "flex": null,
            "_model_name": "LayoutModel",
            "justify_items": null,
            "grid_row": null,
            "max_height": null,
            "align_content": null,
            "visibility": null,
            "align_self": null,
            "height": null,
            "min_height": null,
            "padding": null,
            "grid_auto_rows": null,
            "grid_gap": null,
            "max_width": null,
            "order": null,
            "_view_module_version": "1.2.0",
            "grid_template_areas": null,
            "object_position": null,
            "object_fit": null,
            "grid_auto_columns": null,
            "margin": null,
            "display": null,
            "left": null
          }
        },
        "1ba9e31825084b01be3c246ce85d674f": {
          "model_module": "@jupyter-widgets/controls",
          "model_name": "DescriptionStyleModel",
          "state": {
            "_view_name": "StyleView",
            "_model_name": "DescriptionStyleModel",
            "description_width": "",
            "_view_module": "@jupyter-widgets/base",
            "_model_module_version": "1.5.0",
            "_view_count": null,
            "_view_module_version": "1.2.0",
            "_model_module": "@jupyter-widgets/controls"
          }
        },
        "94ef18e73685457a99107a8f35a691fa": {
          "model_module": "@jupyter-widgets/base",
          "model_name": "LayoutModel",
          "state": {
            "_view_name": "LayoutView",
            "grid_template_rows": null,
            "right": null,
            "justify_content": null,
            "_view_module": "@jupyter-widgets/base",
            "overflow": null,
            "_model_module_version": "1.2.0",
            "_view_count": null,
            "flex_flow": null,
            "width": null,
            "min_width": null,
            "border": null,
            "align_items": null,
            "bottom": null,
            "_model_module": "@jupyter-widgets/base",
            "top": null,
            "grid_column": null,
            "overflow_y": null,
            "overflow_x": null,
            "grid_auto_flow": null,
            "grid_area": null,
            "grid_template_columns": null,
            "flex": null,
            "_model_name": "LayoutModel",
            "justify_items": null,
            "grid_row": null,
            "max_height": null,
            "align_content": null,
            "visibility": null,
            "align_self": null,
            "height": null,
            "min_height": null,
            "padding": null,
            "grid_auto_rows": null,
            "grid_gap": null,
            "max_width": null,
            "order": null,
            "_view_module_version": "1.2.0",
            "grid_template_areas": null,
            "object_position": null,
            "object_fit": null,
            "grid_auto_columns": null,
            "margin": null,
            "display": null,
            "left": null
          }
        },
        "f656a91824324958a7ca8f8a22eb36fc": {
          "model_module": "@jupyter-widgets/controls",
          "model_name": "HBoxModel",
          "state": {
            "_view_name": "HBoxView",
            "_dom_classes": [],
            "_model_name": "HBoxModel",
            "_view_module": "@jupyter-widgets/controls",
            "_model_module_version": "1.5.0",
            "_view_count": null,
            "_view_module_version": "1.5.0",
            "box_style": "",
            "layout": "IPY_MODEL_03534413eeed48ea8e359ca1695a644f",
            "_model_module": "@jupyter-widgets/controls",
            "children": [
              "IPY_MODEL_f3127767d1df49b5b2ba9bb345c9fa23",
              "IPY_MODEL_9f608d24e8984e7d928787c01e8bcd63"
            ]
          }
        },
        "03534413eeed48ea8e359ca1695a644f": {
          "model_module": "@jupyter-widgets/base",
          "model_name": "LayoutModel",
          "state": {
            "_view_name": "LayoutView",
            "grid_template_rows": null,
            "right": null,
            "justify_content": null,
            "_view_module": "@jupyter-widgets/base",
            "overflow": null,
            "_model_module_version": "1.2.0",
            "_view_count": null,
            "flex_flow": null,
            "width": null,
            "min_width": null,
            "border": null,
            "align_items": null,
            "bottom": null,
            "_model_module": "@jupyter-widgets/base",
            "top": null,
            "grid_column": null,
            "overflow_y": null,
            "overflow_x": null,
            "grid_auto_flow": null,
            "grid_area": null,
            "grid_template_columns": null,
            "flex": null,
            "_model_name": "LayoutModel",
            "justify_items": null,
            "grid_row": null,
            "max_height": null,
            "align_content": null,
            "visibility": null,
            "align_self": null,
            "height": null,
            "min_height": null,
            "padding": null,
            "grid_auto_rows": null,
            "grid_gap": null,
            "max_width": null,
            "order": null,
            "_view_module_version": "1.2.0",
            "grid_template_areas": null,
            "object_position": null,
            "object_fit": null,
            "grid_auto_columns": null,
            "margin": null,
            "display": null,
            "left": null
          }
        },
        "f3127767d1df49b5b2ba9bb345c9fa23": {
          "model_module": "@jupyter-widgets/controls",
          "model_name": "IntProgressModel",
          "state": {
            "_view_name": "ProgressView",
            "style": "IPY_MODEL_f357ac82ef704829ac8a6308bd8c4b0f",
            "_dom_classes": [],
            "description": "100%",
            "_model_name": "IntProgressModel",
            "bar_style": "success",
            "max": 5,
            "_view_module": "@jupyter-widgets/controls",
            "_model_module_version": "1.5.0",
            "value": 5,
            "_view_count": null,
            "_view_module_version": "1.5.0",
            "orientation": "horizontal",
            "min": 0,
            "description_tooltip": null,
            "_model_module": "@jupyter-widgets/controls",
            "layout": "IPY_MODEL_fcbf26ca360b49a5849428b4f82ea9cf"
          }
        },
        "9f608d24e8984e7d928787c01e8bcd63": {
          "model_module": "@jupyter-widgets/controls",
          "model_name": "HTMLModel",
          "state": {
            "_view_name": "HTMLView",
            "style": "IPY_MODEL_19b8e6d8d4ce478582ac51f569dc414e",
            "_dom_classes": [],
            "description": "",
            "_model_name": "HTMLModel",
            "placeholder": "​",
            "_view_module": "@jupyter-widgets/controls",
            "_model_module_version": "1.5.0",
            "value": " 5/5 [00:18&lt;00:00,  3.65s/it]",
            "_view_count": null,
            "_view_module_version": "1.5.0",
            "description_tooltip": null,
            "_model_module": "@jupyter-widgets/controls",
            "layout": "IPY_MODEL_93c1e2c856004760910461e1c1eaa81f"
          }
        },
        "f357ac82ef704829ac8a6308bd8c4b0f": {
          "model_module": "@jupyter-widgets/controls",
          "model_name": "ProgressStyleModel",
          "state": {
            "_view_name": "StyleView",
            "_model_name": "ProgressStyleModel",
            "description_width": "initial",
            "_view_module": "@jupyter-widgets/base",
            "_model_module_version": "1.5.0",
            "_view_count": null,
            "_view_module_version": "1.2.0",
            "bar_color": null,
            "_model_module": "@jupyter-widgets/controls"
          }
        },
        "fcbf26ca360b49a5849428b4f82ea9cf": {
          "model_module": "@jupyter-widgets/base",
          "model_name": "LayoutModel",
          "state": {
            "_view_name": "LayoutView",
            "grid_template_rows": null,
            "right": null,
            "justify_content": null,
            "_view_module": "@jupyter-widgets/base",
            "overflow": null,
            "_model_module_version": "1.2.0",
            "_view_count": null,
            "flex_flow": null,
            "width": null,
            "min_width": null,
            "border": null,
            "align_items": null,
            "bottom": null,
            "_model_module": "@jupyter-widgets/base",
            "top": null,
            "grid_column": null,
            "overflow_y": null,
            "overflow_x": null,
            "grid_auto_flow": null,
            "grid_area": null,
            "grid_template_columns": null,
            "flex": null,
            "_model_name": "LayoutModel",
            "justify_items": null,
            "grid_row": null,
            "max_height": null,
            "align_content": null,
            "visibility": null,
            "align_self": null,
            "height": null,
            "min_height": null,
            "padding": null,
            "grid_auto_rows": null,
            "grid_gap": null,
            "max_width": null,
            "order": null,
            "_view_module_version": "1.2.0",
            "grid_template_areas": null,
            "object_position": null,
            "object_fit": null,
            "grid_auto_columns": null,
            "margin": null,
            "display": null,
            "left": null
          }
        },
        "19b8e6d8d4ce478582ac51f569dc414e": {
          "model_module": "@jupyter-widgets/controls",
          "model_name": "DescriptionStyleModel",
          "state": {
            "_view_name": "StyleView",
            "_model_name": "DescriptionStyleModel",
            "description_width": "",
            "_view_module": "@jupyter-widgets/base",
            "_model_module_version": "1.5.0",
            "_view_count": null,
            "_view_module_version": "1.2.0",
            "_model_module": "@jupyter-widgets/controls"
          }
        },
        "93c1e2c856004760910461e1c1eaa81f": {
          "model_module": "@jupyter-widgets/base",
          "model_name": "LayoutModel",
          "state": {
            "_view_name": "LayoutView",
            "grid_template_rows": null,
            "right": null,
            "justify_content": null,
            "_view_module": "@jupyter-widgets/base",
            "overflow": null,
            "_model_module_version": "1.2.0",
            "_view_count": null,
            "flex_flow": null,
            "width": null,
            "min_width": null,
            "border": null,
            "align_items": null,
            "bottom": null,
            "_model_module": "@jupyter-widgets/base",
            "top": null,
            "grid_column": null,
            "overflow_y": null,
            "overflow_x": null,
            "grid_auto_flow": null,
            "grid_area": null,
            "grid_template_columns": null,
            "flex": null,
            "_model_name": "LayoutModel",
            "justify_items": null,
            "grid_row": null,
            "max_height": null,
            "align_content": null,
            "visibility": null,
            "align_self": null,
            "height": null,
            "min_height": null,
            "padding": null,
            "grid_auto_rows": null,
            "grid_gap": null,
            "max_width": null,
            "order": null,
            "_view_module_version": "1.2.0",
            "grid_template_areas": null,
            "object_position": null,
            "object_fit": null,
            "grid_auto_columns": null,
            "margin": null,
            "display": null,
            "left": null
          }
        },
        "0c762f72c0d74610971f14419eb1f77d": {
          "model_module": "@jupyter-widgets/controls",
          "model_name": "HBoxModel",
          "state": {
            "_view_name": "HBoxView",
            "_dom_classes": [],
            "_model_name": "HBoxModel",
            "_view_module": "@jupyter-widgets/controls",
            "_model_module_version": "1.5.0",
            "_view_count": null,
            "_view_module_version": "1.5.0",
            "box_style": "",
            "layout": "IPY_MODEL_2e25ec04478248e89547194e43865bbb",
            "_model_module": "@jupyter-widgets/controls",
            "children": [
              "IPY_MODEL_258a1f291fde4a40829cb581e10da680",
              "IPY_MODEL_82c5f91a9d10441ba2ae035eb9de2936"
            ]
          }
        },
        "2e25ec04478248e89547194e43865bbb": {
          "model_module": "@jupyter-widgets/base",
          "model_name": "LayoutModel",
          "state": {
            "_view_name": "LayoutView",
            "grid_template_rows": null,
            "right": null,
            "justify_content": null,
            "_view_module": "@jupyter-widgets/base",
            "overflow": null,
            "_model_module_version": "1.2.0",
            "_view_count": null,
            "flex_flow": null,
            "width": null,
            "min_width": null,
            "border": null,
            "align_items": null,
            "bottom": null,
            "_model_module": "@jupyter-widgets/base",
            "top": null,
            "grid_column": null,
            "overflow_y": null,
            "overflow_x": null,
            "grid_auto_flow": null,
            "grid_area": null,
            "grid_template_columns": null,
            "flex": null,
            "_model_name": "LayoutModel",
            "justify_items": null,
            "grid_row": null,
            "max_height": null,
            "align_content": null,
            "visibility": null,
            "align_self": null,
            "height": null,
            "min_height": null,
            "padding": null,
            "grid_auto_rows": null,
            "grid_gap": null,
            "max_width": null,
            "order": null,
            "_view_module_version": "1.2.0",
            "grid_template_areas": null,
            "object_position": null,
            "object_fit": null,
            "grid_auto_columns": null,
            "margin": null,
            "display": null,
            "left": null
          }
        },
        "258a1f291fde4a40829cb581e10da680": {
          "model_module": "@jupyter-widgets/controls",
          "model_name": "IntProgressModel",
          "state": {
            "_view_name": "ProgressView",
            "style": "IPY_MODEL_e9ec6e1dcb984412bfb75bc16850cadf",
            "_dom_classes": [],
            "description": "100%",
            "_model_name": "IntProgressModel",
            "bar_style": "success",
            "max": 5,
            "_view_module": "@jupyter-widgets/controls",
            "_model_module_version": "1.5.0",
            "value": 5,
            "_view_count": null,
            "_view_module_version": "1.5.0",
            "orientation": "horizontal",
            "min": 0,
            "description_tooltip": null,
            "_model_module": "@jupyter-widgets/controls",
            "layout": "IPY_MODEL_da7bf79f5d4a49299f0d0c9970a62e9b"
          }
        },
        "82c5f91a9d10441ba2ae035eb9de2936": {
          "model_module": "@jupyter-widgets/controls",
          "model_name": "HTMLModel",
          "state": {
            "_view_name": "HTMLView",
            "style": "IPY_MODEL_3f247b1d89fc457eb87ec1a18eb30be4",
            "_dom_classes": [],
            "description": "",
            "_model_name": "HTMLModel",
            "placeholder": "​",
            "_view_module": "@jupyter-widgets/controls",
            "_model_module_version": "1.5.0",
            "value": " 5/5 [00:18&lt;00:00,  3.70s/it]",
            "_view_count": null,
            "_view_module_version": "1.5.0",
            "description_tooltip": null,
            "_model_module": "@jupyter-widgets/controls",
            "layout": "IPY_MODEL_ca79a346472743068eb779252473c487"
          }
        },
        "e9ec6e1dcb984412bfb75bc16850cadf": {
          "model_module": "@jupyter-widgets/controls",
          "model_name": "ProgressStyleModel",
          "state": {
            "_view_name": "StyleView",
            "_model_name": "ProgressStyleModel",
            "description_width": "initial",
            "_view_module": "@jupyter-widgets/base",
            "_model_module_version": "1.5.0",
            "_view_count": null,
            "_view_module_version": "1.2.0",
            "bar_color": null,
            "_model_module": "@jupyter-widgets/controls"
          }
        },
        "da7bf79f5d4a49299f0d0c9970a62e9b": {
          "model_module": "@jupyter-widgets/base",
          "model_name": "LayoutModel",
          "state": {
            "_view_name": "LayoutView",
            "grid_template_rows": null,
            "right": null,
            "justify_content": null,
            "_view_module": "@jupyter-widgets/base",
            "overflow": null,
            "_model_module_version": "1.2.0",
            "_view_count": null,
            "flex_flow": null,
            "width": null,
            "min_width": null,
            "border": null,
            "align_items": null,
            "bottom": null,
            "_model_module": "@jupyter-widgets/base",
            "top": null,
            "grid_column": null,
            "overflow_y": null,
            "overflow_x": null,
            "grid_auto_flow": null,
            "grid_area": null,
            "grid_template_columns": null,
            "flex": null,
            "_model_name": "LayoutModel",
            "justify_items": null,
            "grid_row": null,
            "max_height": null,
            "align_content": null,
            "visibility": null,
            "align_self": null,
            "height": null,
            "min_height": null,
            "padding": null,
            "grid_auto_rows": null,
            "grid_gap": null,
            "max_width": null,
            "order": null,
            "_view_module_version": "1.2.0",
            "grid_template_areas": null,
            "object_position": null,
            "object_fit": null,
            "grid_auto_columns": null,
            "margin": null,
            "display": null,
            "left": null
          }
        },
        "3f247b1d89fc457eb87ec1a18eb30be4": {
          "model_module": "@jupyter-widgets/controls",
          "model_name": "DescriptionStyleModel",
          "state": {
            "_view_name": "StyleView",
            "_model_name": "DescriptionStyleModel",
            "description_width": "",
            "_view_module": "@jupyter-widgets/base",
            "_model_module_version": "1.5.0",
            "_view_count": null,
            "_view_module_version": "1.2.0",
            "_model_module": "@jupyter-widgets/controls"
          }
        },
        "ca79a346472743068eb779252473c487": {
          "model_module": "@jupyter-widgets/base",
          "model_name": "LayoutModel",
          "state": {
            "_view_name": "LayoutView",
            "grid_template_rows": null,
            "right": null,
            "justify_content": null,
            "_view_module": "@jupyter-widgets/base",
            "overflow": null,
            "_model_module_version": "1.2.0",
            "_view_count": null,
            "flex_flow": null,
            "width": null,
            "min_width": null,
            "border": null,
            "align_items": null,
            "bottom": null,
            "_model_module": "@jupyter-widgets/base",
            "top": null,
            "grid_column": null,
            "overflow_y": null,
            "overflow_x": null,
            "grid_auto_flow": null,
            "grid_area": null,
            "grid_template_columns": null,
            "flex": null,
            "_model_name": "LayoutModel",
            "justify_items": null,
            "grid_row": null,
            "max_height": null,
            "align_content": null,
            "visibility": null,
            "align_self": null,
            "height": null,
            "min_height": null,
            "padding": null,
            "grid_auto_rows": null,
            "grid_gap": null,
            "max_width": null,
            "order": null,
            "_view_module_version": "1.2.0",
            "grid_template_areas": null,
            "object_position": null,
            "object_fit": null,
            "grid_auto_columns": null,
            "margin": null,
            "display": null,
            "left": null
          }
        },
        "3ef95639863848f586957fa4823e5da6": {
          "model_module": "@jupyter-widgets/controls",
          "model_name": "HBoxModel",
          "state": {
            "_view_name": "HBoxView",
            "_dom_classes": [],
            "_model_name": "HBoxModel",
            "_view_module": "@jupyter-widgets/controls",
            "_model_module_version": "1.5.0",
            "_view_count": null,
            "_view_module_version": "1.5.0",
            "box_style": "",
            "layout": "IPY_MODEL_941e276d3b124f8e8f6d6451edd9f4d9",
            "_model_module": "@jupyter-widgets/controls",
            "children": [
              "IPY_MODEL_09e6562e30ff41a58c2dcd06089b1529",
              "IPY_MODEL_4c6fbe7617844969a03f099c6cf329f3"
            ]
          }
        },
        "941e276d3b124f8e8f6d6451edd9f4d9": {
          "model_module": "@jupyter-widgets/base",
          "model_name": "LayoutModel",
          "state": {
            "_view_name": "LayoutView",
            "grid_template_rows": null,
            "right": null,
            "justify_content": null,
            "_view_module": "@jupyter-widgets/base",
            "overflow": null,
            "_model_module_version": "1.2.0",
            "_view_count": null,
            "flex_flow": null,
            "width": null,
            "min_width": null,
            "border": null,
            "align_items": null,
            "bottom": null,
            "_model_module": "@jupyter-widgets/base",
            "top": null,
            "grid_column": null,
            "overflow_y": null,
            "overflow_x": null,
            "grid_auto_flow": null,
            "grid_area": null,
            "grid_template_columns": null,
            "flex": null,
            "_model_name": "LayoutModel",
            "justify_items": null,
            "grid_row": null,
            "max_height": null,
            "align_content": null,
            "visibility": null,
            "align_self": null,
            "height": null,
            "min_height": null,
            "padding": null,
            "grid_auto_rows": null,
            "grid_gap": null,
            "max_width": null,
            "order": null,
            "_view_module_version": "1.2.0",
            "grid_template_areas": null,
            "object_position": null,
            "object_fit": null,
            "grid_auto_columns": null,
            "margin": null,
            "display": null,
            "left": null
          }
        },
        "09e6562e30ff41a58c2dcd06089b1529": {
          "model_module": "@jupyter-widgets/controls",
          "model_name": "IntProgressModel",
          "state": {
            "_view_name": "ProgressView",
            "style": "IPY_MODEL_c3a33c390c5a4581bac946a16fa1eb9e",
            "_dom_classes": [],
            "description": "100%",
            "_model_name": "IntProgressModel",
            "bar_style": "success",
            "max": 5,
            "_view_module": "@jupyter-widgets/controls",
            "_model_module_version": "1.5.0",
            "value": 5,
            "_view_count": null,
            "_view_module_version": "1.5.0",
            "orientation": "horizontal",
            "min": 0,
            "description_tooltip": null,
            "_model_module": "@jupyter-widgets/controls",
            "layout": "IPY_MODEL_415762ee983b44bdba02e9c3f62f59fa"
          }
        },
        "4c6fbe7617844969a03f099c6cf329f3": {
          "model_module": "@jupyter-widgets/controls",
          "model_name": "HTMLModel",
          "state": {
            "_view_name": "HTMLView",
            "style": "IPY_MODEL_4b50024e4380498693d9c73e1ed61010",
            "_dom_classes": [],
            "description": "",
            "_model_name": "HTMLModel",
            "placeholder": "​",
            "_view_module": "@jupyter-widgets/controls",
            "_model_module_version": "1.5.0",
            "value": " 5/5 [00:18&lt;00:00,  3.65s/it]",
            "_view_count": null,
            "_view_module_version": "1.5.0",
            "description_tooltip": null,
            "_model_module": "@jupyter-widgets/controls",
            "layout": "IPY_MODEL_1f1fdfe150cf49d38178680dd1428ec4"
          }
        },
        "c3a33c390c5a4581bac946a16fa1eb9e": {
          "model_module": "@jupyter-widgets/controls",
          "model_name": "ProgressStyleModel",
          "state": {
            "_view_name": "StyleView",
            "_model_name": "ProgressStyleModel",
            "description_width": "initial",
            "_view_module": "@jupyter-widgets/base",
            "_model_module_version": "1.5.0",
            "_view_count": null,
            "_view_module_version": "1.2.0",
            "bar_color": null,
            "_model_module": "@jupyter-widgets/controls"
          }
        },
        "415762ee983b44bdba02e9c3f62f59fa": {
          "model_module": "@jupyter-widgets/base",
          "model_name": "LayoutModel",
          "state": {
            "_view_name": "LayoutView",
            "grid_template_rows": null,
            "right": null,
            "justify_content": null,
            "_view_module": "@jupyter-widgets/base",
            "overflow": null,
            "_model_module_version": "1.2.0",
            "_view_count": null,
            "flex_flow": null,
            "width": null,
            "min_width": null,
            "border": null,
            "align_items": null,
            "bottom": null,
            "_model_module": "@jupyter-widgets/base",
            "top": null,
            "grid_column": null,
            "overflow_y": null,
            "overflow_x": null,
            "grid_auto_flow": null,
            "grid_area": null,
            "grid_template_columns": null,
            "flex": null,
            "_model_name": "LayoutModel",
            "justify_items": null,
            "grid_row": null,
            "max_height": null,
            "align_content": null,
            "visibility": null,
            "align_self": null,
            "height": null,
            "min_height": null,
            "padding": null,
            "grid_auto_rows": null,
            "grid_gap": null,
            "max_width": null,
            "order": null,
            "_view_module_version": "1.2.0",
            "grid_template_areas": null,
            "object_position": null,
            "object_fit": null,
            "grid_auto_columns": null,
            "margin": null,
            "display": null,
            "left": null
          }
        },
        "4b50024e4380498693d9c73e1ed61010": {
          "model_module": "@jupyter-widgets/controls",
          "model_name": "DescriptionStyleModel",
          "state": {
            "_view_name": "StyleView",
            "_model_name": "DescriptionStyleModel",
            "description_width": "",
            "_view_module": "@jupyter-widgets/base",
            "_model_module_version": "1.5.0",
            "_view_count": null,
            "_view_module_version": "1.2.0",
            "_model_module": "@jupyter-widgets/controls"
          }
        },
        "1f1fdfe150cf49d38178680dd1428ec4": {
          "model_module": "@jupyter-widgets/base",
          "model_name": "LayoutModel",
          "state": {
            "_view_name": "LayoutView",
            "grid_template_rows": null,
            "right": null,
            "justify_content": null,
            "_view_module": "@jupyter-widgets/base",
            "overflow": null,
            "_model_module_version": "1.2.0",
            "_view_count": null,
            "flex_flow": null,
            "width": null,
            "min_width": null,
            "border": null,
            "align_items": null,
            "bottom": null,
            "_model_module": "@jupyter-widgets/base",
            "top": null,
            "grid_column": null,
            "overflow_y": null,
            "overflow_x": null,
            "grid_auto_flow": null,
            "grid_area": null,
            "grid_template_columns": null,
            "flex": null,
            "_model_name": "LayoutModel",
            "justify_items": null,
            "grid_row": null,
            "max_height": null,
            "align_content": null,
            "visibility": null,
            "align_self": null,
            "height": null,
            "min_height": null,
            "padding": null,
            "grid_auto_rows": null,
            "grid_gap": null,
            "max_width": null,
            "order": null,
            "_view_module_version": "1.2.0",
            "grid_template_areas": null,
            "object_position": null,
            "object_fit": null,
            "grid_auto_columns": null,
            "margin": null,
            "display": null,
            "left": null
          }
        },
        "fd85ee4310054709aa8c856a2e53419d": {
          "model_module": "@jupyter-widgets/controls",
          "model_name": "HBoxModel",
          "state": {
            "_view_name": "HBoxView",
            "_dom_classes": [],
            "_model_name": "HBoxModel",
            "_view_module": "@jupyter-widgets/controls",
            "_model_module_version": "1.5.0",
            "_view_count": null,
            "_view_module_version": "1.5.0",
            "box_style": "",
            "layout": "IPY_MODEL_a9bdacedde394392a26acc7aff38792e",
            "_model_module": "@jupyter-widgets/controls",
            "children": [
              "IPY_MODEL_5bc090a8379b4cd6b97132dbceb1f09e",
              "IPY_MODEL_7340797a41284319b19537f7fd03f5f5"
            ]
          }
        },
        "a9bdacedde394392a26acc7aff38792e": {
          "model_module": "@jupyter-widgets/base",
          "model_name": "LayoutModel",
          "state": {
            "_view_name": "LayoutView",
            "grid_template_rows": null,
            "right": null,
            "justify_content": null,
            "_view_module": "@jupyter-widgets/base",
            "overflow": null,
            "_model_module_version": "1.2.0",
            "_view_count": null,
            "flex_flow": null,
            "width": null,
            "min_width": null,
            "border": null,
            "align_items": null,
            "bottom": null,
            "_model_module": "@jupyter-widgets/base",
            "top": null,
            "grid_column": null,
            "overflow_y": null,
            "overflow_x": null,
            "grid_auto_flow": null,
            "grid_area": null,
            "grid_template_columns": null,
            "flex": null,
            "_model_name": "LayoutModel",
            "justify_items": null,
            "grid_row": null,
            "max_height": null,
            "align_content": null,
            "visibility": null,
            "align_self": null,
            "height": null,
            "min_height": null,
            "padding": null,
            "grid_auto_rows": null,
            "grid_gap": null,
            "max_width": null,
            "order": null,
            "_view_module_version": "1.2.0",
            "grid_template_areas": null,
            "object_position": null,
            "object_fit": null,
            "grid_auto_columns": null,
            "margin": null,
            "display": null,
            "left": null
          }
        },
        "5bc090a8379b4cd6b97132dbceb1f09e": {
          "model_module": "@jupyter-widgets/controls",
          "model_name": "IntProgressModel",
          "state": {
            "_view_name": "ProgressView",
            "style": "IPY_MODEL_b071173e66bf4adcb618d0bd6a2a1413",
            "_dom_classes": [],
            "description": "100%",
            "_model_name": "IntProgressModel",
            "bar_style": "success",
            "max": 5,
            "_view_module": "@jupyter-widgets/controls",
            "_model_module_version": "1.5.0",
            "value": 5,
            "_view_count": null,
            "_view_module_version": "1.5.0",
            "orientation": "horizontal",
            "min": 0,
            "description_tooltip": null,
            "_model_module": "@jupyter-widgets/controls",
            "layout": "IPY_MODEL_506f8fbe830b40b787b2a192ac7e1343"
          }
        },
        "7340797a41284319b19537f7fd03f5f5": {
          "model_module": "@jupyter-widgets/controls",
          "model_name": "HTMLModel",
          "state": {
            "_view_name": "HTMLView",
            "style": "IPY_MODEL_93c9a83ceb654e00bb90981a8f0c1f5e",
            "_dom_classes": [],
            "description": "",
            "_model_name": "HTMLModel",
            "placeholder": "​",
            "_view_module": "@jupyter-widgets/controls",
            "_model_module_version": "1.5.0",
            "value": " 5/5 [00:18&lt;00:00,  3.72s/it]",
            "_view_count": null,
            "_view_module_version": "1.5.0",
            "description_tooltip": null,
            "_model_module": "@jupyter-widgets/controls",
            "layout": "IPY_MODEL_d15bd90075f741138938b5aaa54319a2"
          }
        },
        "b071173e66bf4adcb618d0bd6a2a1413": {
          "model_module": "@jupyter-widgets/controls",
          "model_name": "ProgressStyleModel",
          "state": {
            "_view_name": "StyleView",
            "_model_name": "ProgressStyleModel",
            "description_width": "initial",
            "_view_module": "@jupyter-widgets/base",
            "_model_module_version": "1.5.0",
            "_view_count": null,
            "_view_module_version": "1.2.0",
            "bar_color": null,
            "_model_module": "@jupyter-widgets/controls"
          }
        },
        "506f8fbe830b40b787b2a192ac7e1343": {
          "model_module": "@jupyter-widgets/base",
          "model_name": "LayoutModel",
          "state": {
            "_view_name": "LayoutView",
            "grid_template_rows": null,
            "right": null,
            "justify_content": null,
            "_view_module": "@jupyter-widgets/base",
            "overflow": null,
            "_model_module_version": "1.2.0",
            "_view_count": null,
            "flex_flow": null,
            "width": null,
            "min_width": null,
            "border": null,
            "align_items": null,
            "bottom": null,
            "_model_module": "@jupyter-widgets/base",
            "top": null,
            "grid_column": null,
            "overflow_y": null,
            "overflow_x": null,
            "grid_auto_flow": null,
            "grid_area": null,
            "grid_template_columns": null,
            "flex": null,
            "_model_name": "LayoutModel",
            "justify_items": null,
            "grid_row": null,
            "max_height": null,
            "align_content": null,
            "visibility": null,
            "align_self": null,
            "height": null,
            "min_height": null,
            "padding": null,
            "grid_auto_rows": null,
            "grid_gap": null,
            "max_width": null,
            "order": null,
            "_view_module_version": "1.2.0",
            "grid_template_areas": null,
            "object_position": null,
            "object_fit": null,
            "grid_auto_columns": null,
            "margin": null,
            "display": null,
            "left": null
          }
        },
        "93c9a83ceb654e00bb90981a8f0c1f5e": {
          "model_module": "@jupyter-widgets/controls",
          "model_name": "DescriptionStyleModel",
          "state": {
            "_view_name": "StyleView",
            "_model_name": "DescriptionStyleModel",
            "description_width": "",
            "_view_module": "@jupyter-widgets/base",
            "_model_module_version": "1.5.0",
            "_view_count": null,
            "_view_module_version": "1.2.0",
            "_model_module": "@jupyter-widgets/controls"
          }
        },
        "d15bd90075f741138938b5aaa54319a2": {
          "model_module": "@jupyter-widgets/base",
          "model_name": "LayoutModel",
          "state": {
            "_view_name": "LayoutView",
            "grid_template_rows": null,
            "right": null,
            "justify_content": null,
            "_view_module": "@jupyter-widgets/base",
            "overflow": null,
            "_model_module_version": "1.2.0",
            "_view_count": null,
            "flex_flow": null,
            "width": null,
            "min_width": null,
            "border": null,
            "align_items": null,
            "bottom": null,
            "_model_module": "@jupyter-widgets/base",
            "top": null,
            "grid_column": null,
            "overflow_y": null,
            "overflow_x": null,
            "grid_auto_flow": null,
            "grid_area": null,
            "grid_template_columns": null,
            "flex": null,
            "_model_name": "LayoutModel",
            "justify_items": null,
            "grid_row": null,
            "max_height": null,
            "align_content": null,
            "visibility": null,
            "align_self": null,
            "height": null,
            "min_height": null,
            "padding": null,
            "grid_auto_rows": null,
            "grid_gap": null,
            "max_width": null,
            "order": null,
            "_view_module_version": "1.2.0",
            "grid_template_areas": null,
            "object_position": null,
            "object_fit": null,
            "grid_auto_columns": null,
            "margin": null,
            "display": null,
            "left": null
          }
        },
        "2ffde3a620b04824a654d45a691a79ac": {
          "model_module": "@jupyter-widgets/controls",
          "model_name": "HBoxModel",
          "state": {
            "_view_name": "HBoxView",
            "_dom_classes": [],
            "_model_name": "HBoxModel",
            "_view_module": "@jupyter-widgets/controls",
            "_model_module_version": "1.5.0",
            "_view_count": null,
            "_view_module_version": "1.5.0",
            "box_style": "",
            "layout": "IPY_MODEL_7e6b3b99f72d4a37af3779a308a7a04c",
            "_model_module": "@jupyter-widgets/controls",
            "children": [
              "IPY_MODEL_9d0c85b3844847129b622807d516f3f0",
              "IPY_MODEL_00b9587b903e41cb84180009bd409df9"
            ]
          }
        },
        "7e6b3b99f72d4a37af3779a308a7a04c": {
          "model_module": "@jupyter-widgets/base",
          "model_name": "LayoutModel",
          "state": {
            "_view_name": "LayoutView",
            "grid_template_rows": null,
            "right": null,
            "justify_content": null,
            "_view_module": "@jupyter-widgets/base",
            "overflow": null,
            "_model_module_version": "1.2.0",
            "_view_count": null,
            "flex_flow": null,
            "width": null,
            "min_width": null,
            "border": null,
            "align_items": null,
            "bottom": null,
            "_model_module": "@jupyter-widgets/base",
            "top": null,
            "grid_column": null,
            "overflow_y": null,
            "overflow_x": null,
            "grid_auto_flow": null,
            "grid_area": null,
            "grid_template_columns": null,
            "flex": null,
            "_model_name": "LayoutModel",
            "justify_items": null,
            "grid_row": null,
            "max_height": null,
            "align_content": null,
            "visibility": null,
            "align_self": null,
            "height": null,
            "min_height": null,
            "padding": null,
            "grid_auto_rows": null,
            "grid_gap": null,
            "max_width": null,
            "order": null,
            "_view_module_version": "1.2.0",
            "grid_template_areas": null,
            "object_position": null,
            "object_fit": null,
            "grid_auto_columns": null,
            "margin": null,
            "display": null,
            "left": null
          }
        },
        "9d0c85b3844847129b622807d516f3f0": {
          "model_module": "@jupyter-widgets/controls",
          "model_name": "IntProgressModel",
          "state": {
            "_view_name": "ProgressView",
            "style": "IPY_MODEL_1a52761a5d5e4fac98121e01fb376fd5",
            "_dom_classes": [],
            "description": "100%",
            "_model_name": "IntProgressModel",
            "bar_style": "success",
            "max": 5,
            "_view_module": "@jupyter-widgets/controls",
            "_model_module_version": "1.5.0",
            "value": 5,
            "_view_count": null,
            "_view_module_version": "1.5.0",
            "orientation": "horizontal",
            "min": 0,
            "description_tooltip": null,
            "_model_module": "@jupyter-widgets/controls",
            "layout": "IPY_MODEL_510186523d2544f6a2aff4376e2387e3"
          }
        },
        "00b9587b903e41cb84180009bd409df9": {
          "model_module": "@jupyter-widgets/controls",
          "model_name": "HTMLModel",
          "state": {
            "_view_name": "HTMLView",
            "style": "IPY_MODEL_92609aa187a9427493e2afe938f0c528",
            "_dom_classes": [],
            "description": "",
            "_model_name": "HTMLModel",
            "placeholder": "​",
            "_view_module": "@jupyter-widgets/controls",
            "_model_module_version": "1.5.0",
            "value": " 5/5 [00:18&lt;00:00,  3.65s/it]",
            "_view_count": null,
            "_view_module_version": "1.5.0",
            "description_tooltip": null,
            "_model_module": "@jupyter-widgets/controls",
            "layout": "IPY_MODEL_a7a5845caf60444389c56007f48631b9"
          }
        },
        "1a52761a5d5e4fac98121e01fb376fd5": {
          "model_module": "@jupyter-widgets/controls",
          "model_name": "ProgressStyleModel",
          "state": {
            "_view_name": "StyleView",
            "_model_name": "ProgressStyleModel",
            "description_width": "initial",
            "_view_module": "@jupyter-widgets/base",
            "_model_module_version": "1.5.0",
            "_view_count": null,
            "_view_module_version": "1.2.0",
            "bar_color": null,
            "_model_module": "@jupyter-widgets/controls"
          }
        },
        "510186523d2544f6a2aff4376e2387e3": {
          "model_module": "@jupyter-widgets/base",
          "model_name": "LayoutModel",
          "state": {
            "_view_name": "LayoutView",
            "grid_template_rows": null,
            "right": null,
            "justify_content": null,
            "_view_module": "@jupyter-widgets/base",
            "overflow": null,
            "_model_module_version": "1.2.0",
            "_view_count": null,
            "flex_flow": null,
            "width": null,
            "min_width": null,
            "border": null,
            "align_items": null,
            "bottom": null,
            "_model_module": "@jupyter-widgets/base",
            "top": null,
            "grid_column": null,
            "overflow_y": null,
            "overflow_x": null,
            "grid_auto_flow": null,
            "grid_area": null,
            "grid_template_columns": null,
            "flex": null,
            "_model_name": "LayoutModel",
            "justify_items": null,
            "grid_row": null,
            "max_height": null,
            "align_content": null,
            "visibility": null,
            "align_self": null,
            "height": null,
            "min_height": null,
            "padding": null,
            "grid_auto_rows": null,
            "grid_gap": null,
            "max_width": null,
            "order": null,
            "_view_module_version": "1.2.0",
            "grid_template_areas": null,
            "object_position": null,
            "object_fit": null,
            "grid_auto_columns": null,
            "margin": null,
            "display": null,
            "left": null
          }
        },
        "92609aa187a9427493e2afe938f0c528": {
          "model_module": "@jupyter-widgets/controls",
          "model_name": "DescriptionStyleModel",
          "state": {
            "_view_name": "StyleView",
            "_model_name": "DescriptionStyleModel",
            "description_width": "",
            "_view_module": "@jupyter-widgets/base",
            "_model_module_version": "1.5.0",
            "_view_count": null,
            "_view_module_version": "1.2.0",
            "_model_module": "@jupyter-widgets/controls"
          }
        },
        "a7a5845caf60444389c56007f48631b9": {
          "model_module": "@jupyter-widgets/base",
          "model_name": "LayoutModel",
          "state": {
            "_view_name": "LayoutView",
            "grid_template_rows": null,
            "right": null,
            "justify_content": null,
            "_view_module": "@jupyter-widgets/base",
            "overflow": null,
            "_model_module_version": "1.2.0",
            "_view_count": null,
            "flex_flow": null,
            "width": null,
            "min_width": null,
            "border": null,
            "align_items": null,
            "bottom": null,
            "_model_module": "@jupyter-widgets/base",
            "top": null,
            "grid_column": null,
            "overflow_y": null,
            "overflow_x": null,
            "grid_auto_flow": null,
            "grid_area": null,
            "grid_template_columns": null,
            "flex": null,
            "_model_name": "LayoutModel",
            "justify_items": null,
            "grid_row": null,
            "max_height": null,
            "align_content": null,
            "visibility": null,
            "align_self": null,
            "height": null,
            "min_height": null,
            "padding": null,
            "grid_auto_rows": null,
            "grid_gap": null,
            "max_width": null,
            "order": null,
            "_view_module_version": "1.2.0",
            "grid_template_areas": null,
            "object_position": null,
            "object_fit": null,
            "grid_auto_columns": null,
            "margin": null,
            "display": null,
            "left": null
          }
        },
        "bf55f18efc6748cb8a0b954fc02a3fd5": {
          "model_module": "@jupyter-widgets/controls",
          "model_name": "HBoxModel",
          "state": {
            "_view_name": "HBoxView",
            "_dom_classes": [],
            "_model_name": "HBoxModel",
            "_view_module": "@jupyter-widgets/controls",
            "_model_module_version": "1.5.0",
            "_view_count": null,
            "_view_module_version": "1.5.0",
            "box_style": "",
            "layout": "IPY_MODEL_d8f241b5c3d74f4da440208e8c21b066",
            "_model_module": "@jupyter-widgets/controls",
            "children": [
              "IPY_MODEL_c5520c24070a409e899d40bab89eb22f",
              "IPY_MODEL_810f5040b3c348cd8b0c3e34dccb7895"
            ]
          }
        },
        "d8f241b5c3d74f4da440208e8c21b066": {
          "model_module": "@jupyter-widgets/base",
          "model_name": "LayoutModel",
          "state": {
            "_view_name": "LayoutView",
            "grid_template_rows": null,
            "right": null,
            "justify_content": null,
            "_view_module": "@jupyter-widgets/base",
            "overflow": null,
            "_model_module_version": "1.2.0",
            "_view_count": null,
            "flex_flow": null,
            "width": null,
            "min_width": null,
            "border": null,
            "align_items": null,
            "bottom": null,
            "_model_module": "@jupyter-widgets/base",
            "top": null,
            "grid_column": null,
            "overflow_y": null,
            "overflow_x": null,
            "grid_auto_flow": null,
            "grid_area": null,
            "grid_template_columns": null,
            "flex": null,
            "_model_name": "LayoutModel",
            "justify_items": null,
            "grid_row": null,
            "max_height": null,
            "align_content": null,
            "visibility": null,
            "align_self": null,
            "height": null,
            "min_height": null,
            "padding": null,
            "grid_auto_rows": null,
            "grid_gap": null,
            "max_width": null,
            "order": null,
            "_view_module_version": "1.2.0",
            "grid_template_areas": null,
            "object_position": null,
            "object_fit": null,
            "grid_auto_columns": null,
            "margin": null,
            "display": null,
            "left": null
          }
        },
        "c5520c24070a409e899d40bab89eb22f": {
          "model_module": "@jupyter-widgets/controls",
          "model_name": "IntProgressModel",
          "state": {
            "_view_name": "ProgressView",
            "style": "IPY_MODEL_551d39b97c96417d818b3cf2615e7777",
            "_dom_classes": [],
            "description": "100%",
            "_model_name": "IntProgressModel",
            "bar_style": "success",
            "max": 5,
            "_view_module": "@jupyter-widgets/controls",
            "_model_module_version": "1.5.0",
            "value": 5,
            "_view_count": null,
            "_view_module_version": "1.5.0",
            "orientation": "horizontal",
            "min": 0,
            "description_tooltip": null,
            "_model_module": "@jupyter-widgets/controls",
            "layout": "IPY_MODEL_eaf12f3480934de994f71a09006ccb2f"
          }
        },
        "810f5040b3c348cd8b0c3e34dccb7895": {
          "model_module": "@jupyter-widgets/controls",
          "model_name": "HTMLModel",
          "state": {
            "_view_name": "HTMLView",
            "style": "IPY_MODEL_d94082cab95d4868a4236f81e429d44b",
            "_dom_classes": [],
            "description": "",
            "_model_name": "HTMLModel",
            "placeholder": "​",
            "_view_module": "@jupyter-widgets/controls",
            "_model_module_version": "1.5.0",
            "value": " 5/5 [00:18&lt;00:00,  3.68s/it]",
            "_view_count": null,
            "_view_module_version": "1.5.0",
            "description_tooltip": null,
            "_model_module": "@jupyter-widgets/controls",
            "layout": "IPY_MODEL_db4359d585bc4157b3beea372b160458"
          }
        },
        "551d39b97c96417d818b3cf2615e7777": {
          "model_module": "@jupyter-widgets/controls",
          "model_name": "ProgressStyleModel",
          "state": {
            "_view_name": "StyleView",
            "_model_name": "ProgressStyleModel",
            "description_width": "initial",
            "_view_module": "@jupyter-widgets/base",
            "_model_module_version": "1.5.0",
            "_view_count": null,
            "_view_module_version": "1.2.0",
            "bar_color": null,
            "_model_module": "@jupyter-widgets/controls"
          }
        },
        "eaf12f3480934de994f71a09006ccb2f": {
          "model_module": "@jupyter-widgets/base",
          "model_name": "LayoutModel",
          "state": {
            "_view_name": "LayoutView",
            "grid_template_rows": null,
            "right": null,
            "justify_content": null,
            "_view_module": "@jupyter-widgets/base",
            "overflow": null,
            "_model_module_version": "1.2.0",
            "_view_count": null,
            "flex_flow": null,
            "width": null,
            "min_width": null,
            "border": null,
            "align_items": null,
            "bottom": null,
            "_model_module": "@jupyter-widgets/base",
            "top": null,
            "grid_column": null,
            "overflow_y": null,
            "overflow_x": null,
            "grid_auto_flow": null,
            "grid_area": null,
            "grid_template_columns": null,
            "flex": null,
            "_model_name": "LayoutModel",
            "justify_items": null,
            "grid_row": null,
            "max_height": null,
            "align_content": null,
            "visibility": null,
            "align_self": null,
            "height": null,
            "min_height": null,
            "padding": null,
            "grid_auto_rows": null,
            "grid_gap": null,
            "max_width": null,
            "order": null,
            "_view_module_version": "1.2.0",
            "grid_template_areas": null,
            "object_position": null,
            "object_fit": null,
            "grid_auto_columns": null,
            "margin": null,
            "display": null,
            "left": null
          }
        },
        "d94082cab95d4868a4236f81e429d44b": {
          "model_module": "@jupyter-widgets/controls",
          "model_name": "DescriptionStyleModel",
          "state": {
            "_view_name": "StyleView",
            "_model_name": "DescriptionStyleModel",
            "description_width": "",
            "_view_module": "@jupyter-widgets/base",
            "_model_module_version": "1.5.0",
            "_view_count": null,
            "_view_module_version": "1.2.0",
            "_model_module": "@jupyter-widgets/controls"
          }
        },
        "db4359d585bc4157b3beea372b160458": {
          "model_module": "@jupyter-widgets/base",
          "model_name": "LayoutModel",
          "state": {
            "_view_name": "LayoutView",
            "grid_template_rows": null,
            "right": null,
            "justify_content": null,
            "_view_module": "@jupyter-widgets/base",
            "overflow": null,
            "_model_module_version": "1.2.0",
            "_view_count": null,
            "flex_flow": null,
            "width": null,
            "min_width": null,
            "border": null,
            "align_items": null,
            "bottom": null,
            "_model_module": "@jupyter-widgets/base",
            "top": null,
            "grid_column": null,
            "overflow_y": null,
            "overflow_x": null,
            "grid_auto_flow": null,
            "grid_area": null,
            "grid_template_columns": null,
            "flex": null,
            "_model_name": "LayoutModel",
            "justify_items": null,
            "grid_row": null,
            "max_height": null,
            "align_content": null,
            "visibility": null,
            "align_self": null,
            "height": null,
            "min_height": null,
            "padding": null,
            "grid_auto_rows": null,
            "grid_gap": null,
            "max_width": null,
            "order": null,
            "_view_module_version": "1.2.0",
            "grid_template_areas": null,
            "object_position": null,
            "object_fit": null,
            "grid_auto_columns": null,
            "margin": null,
            "display": null,
            "left": null
          }
        },
        "acbbe65d0025430d901ebc72ff226a4c": {
          "model_module": "@jupyter-widgets/controls",
          "model_name": "HBoxModel",
          "state": {
            "_view_name": "HBoxView",
            "_dom_classes": [],
            "_model_name": "HBoxModel",
            "_view_module": "@jupyter-widgets/controls",
            "_model_module_version": "1.5.0",
            "_view_count": null,
            "_view_module_version": "1.5.0",
            "box_style": "",
            "layout": "IPY_MODEL_1522f8813be74dd1a4c9a7f814f80f00",
            "_model_module": "@jupyter-widgets/controls",
            "children": [
              "IPY_MODEL_730c83053c964a80b8bbe6e0a17a1078",
              "IPY_MODEL_eb07ca7501504304ba77f3562ba1e786"
            ]
          }
        },
        "1522f8813be74dd1a4c9a7f814f80f00": {
          "model_module": "@jupyter-widgets/base",
          "model_name": "LayoutModel",
          "state": {
            "_view_name": "LayoutView",
            "grid_template_rows": null,
            "right": null,
            "justify_content": null,
            "_view_module": "@jupyter-widgets/base",
            "overflow": null,
            "_model_module_version": "1.2.0",
            "_view_count": null,
            "flex_flow": null,
            "width": null,
            "min_width": null,
            "border": null,
            "align_items": null,
            "bottom": null,
            "_model_module": "@jupyter-widgets/base",
            "top": null,
            "grid_column": null,
            "overflow_y": null,
            "overflow_x": null,
            "grid_auto_flow": null,
            "grid_area": null,
            "grid_template_columns": null,
            "flex": null,
            "_model_name": "LayoutModel",
            "justify_items": null,
            "grid_row": null,
            "max_height": null,
            "align_content": null,
            "visibility": null,
            "align_self": null,
            "height": null,
            "min_height": null,
            "padding": null,
            "grid_auto_rows": null,
            "grid_gap": null,
            "max_width": null,
            "order": null,
            "_view_module_version": "1.2.0",
            "grid_template_areas": null,
            "object_position": null,
            "object_fit": null,
            "grid_auto_columns": null,
            "margin": null,
            "display": null,
            "left": null
          }
        },
        "730c83053c964a80b8bbe6e0a17a1078": {
          "model_module": "@jupyter-widgets/controls",
          "model_name": "IntProgressModel",
          "state": {
            "_view_name": "ProgressView",
            "style": "IPY_MODEL_507719b20a9d4132bed5a478413ff1f5",
            "_dom_classes": [],
            "description": "100%",
            "_model_name": "IntProgressModel",
            "bar_style": "success",
            "max": 5,
            "_view_module": "@jupyter-widgets/controls",
            "_model_module_version": "1.5.0",
            "value": 5,
            "_view_count": null,
            "_view_module_version": "1.5.0",
            "orientation": "horizontal",
            "min": 0,
            "description_tooltip": null,
            "_model_module": "@jupyter-widgets/controls",
            "layout": "IPY_MODEL_ee87667c7eeb4b449bc8f73c3922f166"
          }
        },
        "eb07ca7501504304ba77f3562ba1e786": {
          "model_module": "@jupyter-widgets/controls",
          "model_name": "HTMLModel",
          "state": {
            "_view_name": "HTMLView",
            "style": "IPY_MODEL_23036e6b27d546bc8a262b6228dcb35c",
            "_dom_classes": [],
            "description": "",
            "_model_name": "HTMLModel",
            "placeholder": "​",
            "_view_module": "@jupyter-widgets/controls",
            "_model_module_version": "1.5.0",
            "value": " 5/5 [00:18&lt;00:00,  3.63s/it]",
            "_view_count": null,
            "_view_module_version": "1.5.0",
            "description_tooltip": null,
            "_model_module": "@jupyter-widgets/controls",
            "layout": "IPY_MODEL_bd184f0c8f7c44da85298b9c2ca47a19"
          }
        },
        "507719b20a9d4132bed5a478413ff1f5": {
          "model_module": "@jupyter-widgets/controls",
          "model_name": "ProgressStyleModel",
          "state": {
            "_view_name": "StyleView",
            "_model_name": "ProgressStyleModel",
            "description_width": "initial",
            "_view_module": "@jupyter-widgets/base",
            "_model_module_version": "1.5.0",
            "_view_count": null,
            "_view_module_version": "1.2.0",
            "bar_color": null,
            "_model_module": "@jupyter-widgets/controls"
          }
        },
        "ee87667c7eeb4b449bc8f73c3922f166": {
          "model_module": "@jupyter-widgets/base",
          "model_name": "LayoutModel",
          "state": {
            "_view_name": "LayoutView",
            "grid_template_rows": null,
            "right": null,
            "justify_content": null,
            "_view_module": "@jupyter-widgets/base",
            "overflow": null,
            "_model_module_version": "1.2.0",
            "_view_count": null,
            "flex_flow": null,
            "width": null,
            "min_width": null,
            "border": null,
            "align_items": null,
            "bottom": null,
            "_model_module": "@jupyter-widgets/base",
            "top": null,
            "grid_column": null,
            "overflow_y": null,
            "overflow_x": null,
            "grid_auto_flow": null,
            "grid_area": null,
            "grid_template_columns": null,
            "flex": null,
            "_model_name": "LayoutModel",
            "justify_items": null,
            "grid_row": null,
            "max_height": null,
            "align_content": null,
            "visibility": null,
            "align_self": null,
            "height": null,
            "min_height": null,
            "padding": null,
            "grid_auto_rows": null,
            "grid_gap": null,
            "max_width": null,
            "order": null,
            "_view_module_version": "1.2.0",
            "grid_template_areas": null,
            "object_position": null,
            "object_fit": null,
            "grid_auto_columns": null,
            "margin": null,
            "display": null,
            "left": null
          }
        },
        "23036e6b27d546bc8a262b6228dcb35c": {
          "model_module": "@jupyter-widgets/controls",
          "model_name": "DescriptionStyleModel",
          "state": {
            "_view_name": "StyleView",
            "_model_name": "DescriptionStyleModel",
            "description_width": "",
            "_view_module": "@jupyter-widgets/base",
            "_model_module_version": "1.5.0",
            "_view_count": null,
            "_view_module_version": "1.2.0",
            "_model_module": "@jupyter-widgets/controls"
          }
        },
        "bd184f0c8f7c44da85298b9c2ca47a19": {
          "model_module": "@jupyter-widgets/base",
          "model_name": "LayoutModel",
          "state": {
            "_view_name": "LayoutView",
            "grid_template_rows": null,
            "right": null,
            "justify_content": null,
            "_view_module": "@jupyter-widgets/base",
            "overflow": null,
            "_model_module_version": "1.2.0",
            "_view_count": null,
            "flex_flow": null,
            "width": null,
            "min_width": null,
            "border": null,
            "align_items": null,
            "bottom": null,
            "_model_module": "@jupyter-widgets/base",
            "top": null,
            "grid_column": null,
            "overflow_y": null,
            "overflow_x": null,
            "grid_auto_flow": null,
            "grid_area": null,
            "grid_template_columns": null,
            "flex": null,
            "_model_name": "LayoutModel",
            "justify_items": null,
            "grid_row": null,
            "max_height": null,
            "align_content": null,
            "visibility": null,
            "align_self": null,
            "height": null,
            "min_height": null,
            "padding": null,
            "grid_auto_rows": null,
            "grid_gap": null,
            "max_width": null,
            "order": null,
            "_view_module_version": "1.2.0",
            "grid_template_areas": null,
            "object_position": null,
            "object_fit": null,
            "grid_auto_columns": null,
            "margin": null,
            "display": null,
            "left": null
          }
        }
      }
    }
  },
  "cells": [
    {
      "cell_type": "markdown",
      "metadata": {
        "id": "view-in-github",
        "colab_type": "text"
      },
      "source": [
        "<a href=\"https://colab.research.google.com/github/OlegBEZb/NLP_advanced_course/blob/master/HW2/HW2_NER.ipynb\" target=\"_parent\"><img src=\"https://colab.research.google.com/assets/colab-badge.svg\" alt=\"Open In Colab\"/></a>"
      ]
    },
    {
      "cell_type": "markdown",
      "metadata": {
        "colab_type": "text",
        "heading_collapsed": true,
        "id": "KVRaU_zG-PaI"
      },
      "source": [
        "# About notebook"
      ]
    },
    {
      "cell_type": "markdown",
      "metadata": {
        "colab_type": "text",
        "hidden": true,
        "id": "gjCnYYETSLxd"
      },
      "source": [
        "Dataset\n",
        "*\tGroningen Meaning Bank (version 2.2.0)\n",
        "*\tTask: named entity recognition\n",
        "*\tTarget – named entity tags (BIO + entity type)\n",
        "*\tInput data: \n",
        "  * Use “en.met” files to extract the subcorpus\n",
        "  corpus = 'Voice of America' (for honogeneity of the input data set)\n",
        "  * Use \"en.tags\" files for the main input data:\n",
        "      *\traw tokens + may use the lemmas and the POS-tags \n",
        "  (i.e. take the “golden” POS-tagging);\n",
        "      *\twhich means:\n",
        "        *\tfirst three columns for input: ['word', 'pos', 'lemma']\n",
        "        *\tthe fourth column for target variable (‘ne_tags’)\n",
        "        (BIO annotation + the named-entity type in one tag)  "
      ]
    },
    {
      "cell_type": "markdown",
      "metadata": {
        "colab_type": "text",
        "id": "K5QmPxPgSLxf"
      },
      "source": [
        "# Tasks"
      ]
    },
    {
      "cell_type": "markdown",
      "metadata": {
        "colab_type": "text",
        "id": "pK9ZLcizSLxg"
      },
      "source": [
        "1.\tThe most trivial model = supervised HMM:\n",
        "  *\tTake hmmlearn (former sklearn), modify MultinomialHMM (I.e. inherit a new class from _BaseHMM making it a modified copy of the latter) to allow for supervised HMM training. The states of the HMM model = the NE tags.\n",
        "  *\tNOTE: may use NaiveBayes to learn emission probabilities in a supervized manner.\n",
        "  *\tOr implement from scratch (with Viterbi for prediction).\n",
        "  *\tNOTE: use tuples of features for X (not just the word, but additional info).\n",
        "  *\tNOTE: use smoothing for state transitions.\n",
        "2.\tCRF\n",
        "  *\tModify the input features;\n",
        "  *\tUse CRFSuite.\n",
        "3.\tBi-LSTM:\n",
        "  *\tUse keras or tensorflow;\n",
        "  *\thttps://github.com/hse-aml/natural-language-processing/blob/master/week2/week2-NER.ipynb\n",
        "  *\tA plus for incorporating CNN-layers;"
      ]
    },
    {
      "cell_type": "markdown",
      "metadata": {
        "colab_type": "text",
        "id": "9jHB1yCYSLxh"
      },
      "source": [
        "# Metrics"
      ]
    },
    {
      "cell_type": "markdown",
      "metadata": {
        "colab_type": "text",
        "id": "uqBWS_YOSLxi"
      },
      "source": [
        "* normalized confusion matrices, precision, recall, F-score \n",
        "(macro- and micro-) \n",
        "* (token level, entity level, partial matching (i.e. boundary-detection problem), binary).  \n",
        "NOTE: taking into account vocabulary transfer is a plus."
      ]
    },
    {
      "cell_type": "markdown",
      "metadata": {
        "id": "x9JfSarnSLxk",
        "colab_type": "text"
      },
      "source": [
        "http://www.davidsbatista.net/blog/2018/05/09/Named_Entity_Evaluation/  \n",
        "http://larsmans.github.io/seqlearn/reference.html#module-seqlearn.datasets"
      ]
    },
    {
      "cell_type": "markdown",
      "metadata": {
        "colab_type": "text",
        "heading_collapsed": true,
        "id": "x0bjDrHYSLxm"
      },
      "source": [
        "# Evaluation Criteria"
      ]
    },
    {
      "cell_type": "markdown",
      "metadata": {
        "colab_type": "text",
        "hidden": true,
        "id": "8mJvCwaRSLxo"
      },
      "source": [
        "Scoring (14.5 max):  \n",
        "*\tDataset overview – 0.5\n",
        "  *\ttext lengths, vocabulary size, frequencies of patterns (<UNK-type-i>) \n",
        "  *\tstats over the target tags\n",
        "*\tFeature engineering – 2 (1+1)\n",
        "  *\tgrammatical words = closed set (~ stop words)\n",
        "  *\tStemming + POS\n",
        "  *\tWord shape\n",
        "  *\tAd hoc features ( +1)  \n",
        "*\tWord patterns -> encode types of unknown words +0.5\n",
        "*\tSmoothing in HMM – 0.5 \n",
        "  *\tIn HMM: for state transitions.\n",
        "*\tIncorporating tupled features in HMM (on top of tokens) – 1\n",
        "*\tThe correct HMM implementation – 1\n",
        "*\tMore fine-grained feature engineering for the Neural Network + 0.5\n",
        "  *\tDifferentiate between POS-relevancy for the word and the context, etc.\n",
        "  *\tSentence-level features (may use “golden” sentence-splitting)\n",
        "*\tEvaluation (on all levels) – 1\n",
        "*\tConclusion on HMM deficiency (as a model) – 1\n",
        "*\tCRF: 1 point for use and evaluation, + 0.5 points for comparison and conclusions;\n",
        "*\tNN:\n",
        "  *\tMain network: 4\n",
        "  *\tCNN layers: +2  \n",
        "\n",
        "Libraries: hmmlearn, crfsuite, tensorflow, keras"
      ]
    },
    {
      "cell_type": "markdown",
      "metadata": {
        "colab_type": "text",
        "id": "30D0Scxk4kn3"
      },
      "source": [
        "# Libs import"
      ]
    },
    {
      "cell_type": "markdown",
      "metadata": {
        "id": "IUftFhCTmV_w",
        "colab_type": "text"
      },
      "source": [
        "## Downloading, upgrading libs, fixing bug in seqlearn"
      ]
    },
    {
      "cell_type": "code",
      "metadata": {
        "id": "D8MF1D8wS7dO",
        "colab_type": "code",
        "outputId": "da2ca983-220e-4cb2-e70c-5f381f026878",
        "colab": {
          "base_uri": "https://localhost:8080/",
          "height": 391
        }
      },
      "source": [
        "!pip install sklearn-crfsuite\n",
        "!pip install -U scipy\n",
        "!pip install seqlearn"
      ],
      "execution_count": 1,
      "outputs": [
        {
          "output_type": "stream",
          "text": [
            "Collecting sklearn-crfsuite\n",
            "  Downloading https://files.pythonhosted.org/packages/25/74/5b7befa513482e6dee1f3dd68171a6c9dfc14c0eaa00f885ffeba54fe9b0/sklearn_crfsuite-0.3.6-py2.py3-none-any.whl\n",
            "Requirement already satisfied: six in /usr/local/lib/python3.6/dist-packages (from sklearn-crfsuite) (1.12.0)\n",
            "Collecting python-crfsuite>=0.8.3\n",
            "\u001b[?25l  Downloading https://files.pythonhosted.org/packages/95/99/869dde6dbf3e0d07a013c8eebfb0a3d30776334e0097f8432b631a9a3a19/python_crfsuite-0.9.7-cp36-cp36m-manylinux1_x86_64.whl (743kB)\n",
            "\u001b[K     |████████████████████████████████| 747kB 4.0MB/s \n",
            "\u001b[?25hRequirement already satisfied: tabulate in /usr/local/lib/python3.6/dist-packages (from sklearn-crfsuite) (0.8.6)\n",
            "Requirement already satisfied: tqdm>=2.0 in /usr/local/lib/python3.6/dist-packages (from sklearn-crfsuite) (4.38.0)\n",
            "Installing collected packages: python-crfsuite, sklearn-crfsuite\n",
            "Successfully installed python-crfsuite-0.9.7 sklearn-crfsuite-0.3.6\n",
            "Requirement already up-to-date: scipy in /usr/local/lib/python3.6/dist-packages (1.4.1)\n",
            "Requirement already satisfied, skipping upgrade: numpy>=1.13.3 in /usr/local/lib/python3.6/dist-packages (from scipy) (1.18.2)\n",
            "Collecting seqlearn\n",
            "\u001b[?25l  Downloading https://files.pythonhosted.org/packages/25/2c/95da36839f647a6b15da1fd10f68d755c7fca549c92aabb3ff734f5c682c/seqlearn-0.2.tar.gz (557kB)\n",
            "\u001b[K     |████████████████████████████████| 563kB 2.8MB/s \n",
            "\u001b[?25hBuilding wheels for collected packages: seqlearn\n",
            "  Building wheel for seqlearn (setup.py) ... \u001b[?25l\u001b[?25hdone\n",
            "  Created wheel for seqlearn: filename=seqlearn-0.2-cp36-cp36m-linux_x86_64.whl size=314735 sha256=35887a1025eb029f31758aca8372a40a361398fcbfc263253e451d3a6f4aff5d\n",
            "  Stored in directory: /root/.cache/pip/wheels/a7/bb/ba/a0b9c1a28f660d56616e0b75dd7a0e4d3d202a92fae5ede886\n",
            "Successfully built seqlearn\n",
            "Installing collected packages: seqlearn\n",
            "Successfully installed seqlearn-0.2\n"
          ],
          "name": "stdout"
        }
      ]
    },
    {
      "cell_type": "markdown",
      "metadata": {
        "id": "HU9D7GLjmvut",
        "colab_type": "text"
      },
      "source": [
        "There is unsolved issue https://github.com/larsmans/seqlearn/issues/45  \n",
        "And there is no opportunity to use lower version of scipy because of other dependencies"
      ]
    },
    {
      "cell_type": "code",
      "metadata": {
        "id": "ur3f4jJ4kinE",
        "colab_type": "code",
        "colab": {}
      },
      "source": [
        "!rm /usr/local/lib/python3.6/dist-packages/seqlearn/hmm.py"
      ],
      "execution_count": 0,
      "outputs": []
    },
    {
      "cell_type": "code",
      "metadata": {
        "id": "IoLpi_3vkjmP",
        "colab_type": "code",
        "outputId": "cc96863f-0d63-47f5-f45a-d92f87b31d01",
        "colab": {
          "base_uri": "https://localhost:8080/",
          "height": 34
        }
      },
      "source": [
        "%%writefile /usr/local/lib/python3.6/dist-packages/seqlearn/hmm.py\n",
        "\n",
        "\"\"\"Hidden Markov models (HMMs) with supervised training.\"\"\"\n",
        "\n",
        "import numpy as np\n",
        "#from scipy.misc import logsumexp\n",
        "from scipy.special import logsumexp\n",
        "\n",
        "from .base import BaseSequenceClassifier\n",
        "from ._utils import atleast2d_or_csr, count_trans, safe_sparse_dot\n",
        "\n",
        "\n",
        "class MultinomialHMM(BaseSequenceClassifier):\n",
        "    \"\"\"First-order hidden Markov model with multinomial event model.\n",
        "\n",
        "    Parameters\n",
        "    ----------\n",
        "    decode : string, optional\n",
        "        Decoding algorithm, either \"bestfirst\" or \"viterbi\" (default).\n",
        "        Best-first decoding is also called posterior decoding in the HMM\n",
        "        literature.\n",
        "\n",
        "    alpha : float\n",
        "        Lidstone (additive) smoothing parameter.\n",
        "    \"\"\"\n",
        "\n",
        "    def __init__(self, decode=\"viterbi\", alpha=.01):\n",
        "        self.alpha = alpha\n",
        "        self.decode = decode\n",
        "\n",
        "    def fit(self, X, y, lengths):\n",
        "        \"\"\"Fit HMM model to data.\n",
        "\n",
        "        Parameters\n",
        "        ----------\n",
        "        X : {array-like, sparse matrix}, shape (n_samples, n_features)\n",
        "            Feature matrix of individual samples.\n",
        "\n",
        "        y : array-like, shape (n_samples,)\n",
        "            Target labels.\n",
        "\n",
        "        lengths : array-like of integers, shape (n_sequences,)\n",
        "            Lengths of the individual sequences in X, y. The sum of these\n",
        "            should be n_samples.\n",
        "\n",
        "        Notes\n",
        "        -----\n",
        "        Make sure the training set (X) is one-hot encoded; if more than one\n",
        "        feature in X is on, the emission probabilities will be multiplied.\n",
        "\n",
        "        Returns\n",
        "        -------\n",
        "        self : MultinomialHMM\n",
        "        \"\"\"\n",
        "\n",
        "        alpha = self.alpha\n",
        "        if alpha <= 0:\n",
        "            raise ValueError(\"alpha should be >0, got {0!r}\".format(alpha))\n",
        "\n",
        "        X = atleast2d_or_csr(X)\n",
        "        classes, y = np.unique(y, return_inverse=True)\n",
        "        lengths = np.asarray(lengths)\n",
        "        Y = y.reshape(-1, 1) == np.arange(len(classes))\n",
        "\n",
        "        end = np.cumsum(lengths)\n",
        "        start = end - lengths\n",
        "\n",
        "        init_prob = np.log(Y[start].sum(axis=0) + alpha)\n",
        "        init_prob -= logsumexp(init_prob)\n",
        "        final_prob = np.log(Y[start].sum(axis=0) + alpha)\n",
        "        final_prob -= logsumexp(final_prob)\n",
        "\n",
        "        feature_prob = np.log(safe_sparse_dot(Y.T, X) + alpha)\n",
        "        feature_prob -= logsumexp(feature_prob, axis=0)\n",
        "\n",
        "        trans_prob = np.log(count_trans(y, len(classes)) + alpha)\n",
        "        trans_prob -= logsumexp(trans_prob, axis=0)\n",
        "\n",
        "        self.coef_ = feature_prob\n",
        "        self.intercept_init_ = init_prob\n",
        "        self.intercept_final_ = final_prob\n",
        "        self.intercept_trans_ = trans_prob\n",
        "\n",
        "        self.classes_ = classes\n",
        "\n",
        "        return self"
      ],
      "execution_count": 3,
      "outputs": [
        {
          "output_type": "stream",
          "text": [
            "Writing /usr/local/lib/python3.6/dist-packages/seqlearn/hmm.py\n"
          ],
          "name": "stdout"
        }
      ]
    },
    {
      "cell_type": "markdown",
      "metadata": {
        "id": "uzGIALzmnHyB",
        "colab_type": "text"
      },
      "source": [
        "## Importing libs"
      ]
    },
    {
      "cell_type": "code",
      "metadata": {
        "_cell_guid": "b1076dfc-b9ad-4769-8c92-a6c4dae69d19",
        "_uuid": "8f2839f25d086af736a60e9eeb907d3b93b6e0e5",
        "colab_type": "code",
        "id": "ZnXUdrxQ3TAN",
        "outputId": "59c663af-1d68-4410-f83f-53092904d7df",
        "colab": {
          "base_uri": "https://localhost:8080/",
          "height": 88
        }
      },
      "source": [
        "%autosave 180\n",
        "%load_ext autoreload\n",
        "%autoreload 2\n",
        "\n",
        "from nltk import word_tokenize, pos_tag, ne_chunk\n",
        "from copy import deepcopy\n",
        "import os\n",
        "import numpy as np\n",
        "import pandas as pd\n",
        "import codecs\n",
        "from collections import Counter\n",
        "import re\n",
        "from tqdm import tqdm_notebook as tqdm\n",
        "import matplotlib.pyplot as plt\n",
        "\n",
        "from sklearn.feature_extraction import DictVectorizer\n",
        "from sklearn.model_selection import train_test_split, cross_validate, KFold, ParameterGrid\n",
        "from sklearn.pipeline import Pipeline\n",
        "from sklearn_crfsuite import CRF\n",
        "\n",
        "from seqlearn.hmm import MultinomialHMM\n",
        "from seqlearn.evaluation import SequenceKFold, bio_f_score\n",
        "from sklearn_crfsuite.metrics import flat_classification_report\n",
        "from sklearn.metrics import recall_score, roc_auc_score, make_scorer, f1_score, fbeta_score, classification_report\n",
        "\n",
        "%matplotlib inline"
      ],
      "execution_count": 4,
      "outputs": [
        {
          "output_type": "display_data",
          "data": {
            "application/javascript": [
              "IPython.notebook.set_autosave_interval(180000)"
            ]
          },
          "metadata": {
            "tags": []
          }
        },
        {
          "output_type": "stream",
          "text": [
            "Autosaving every 180 seconds\n"
          ],
          "name": "stdout"
        },
        {
          "output_type": "stream",
          "text": [
            "/usr/local/lib/python3.6/dist-packages/sklearn/externals/six.py:31: FutureWarning: The module is deprecated in version 0.21 and will be removed in version 0.23 since we've dropped support for Python 2.7. Please rely on the official version of six (https://pypi.org/project/six/).\n",
            "  \"(https://pypi.org/project/six/).\", FutureWarning)\n"
          ],
          "name": "stderr"
        }
      ]
    },
    {
      "cell_type": "markdown",
      "metadata": {
        "colab_type": "text",
        "id": "VD2z8D2V7Dod"
      },
      "source": [
        "# Configs"
      ]
    },
    {
      "cell_type": "code",
      "metadata": {
        "id": "okymGz_lEjLC",
        "colab_type": "code",
        "trusted": true,
        "colab": {}
      },
      "source": [
        "COLAB = True\n",
        "test_size = 0.2\n",
        "subcorpus = 'Voice of America'"
      ],
      "execution_count": 0,
      "outputs": []
    },
    {
      "cell_type": "markdown",
      "metadata": {
        "id": "ORjyFpGXUgLw",
        "colab_type": "text"
      },
      "source": [
        "The raw data was preprocessed on my own PC bacause of google drive limitations."
      ]
    },
    {
      "cell_type": "code",
      "metadata": {
        "colab_type": "code",
        "trusted": true,
        "id": "oEOxPSZASzMt",
        "outputId": "5eb51c21-b85f-458a-eae9-f63c98c9f0e7",
        "colab": {
          "base_uri": "https://localhost:8080/",
          "height": 139
        }
      },
      "source": [
        "if COLAB:\n",
        "    from google.colab import drive\n",
        "    drive.mount('/content/drive')\n",
        "    data_folder = '/content/drive/My Drive/Advanced NLP/Homework 2: Named entity recognition on Groningen Meaning Bank dataset'\n",
        "else:\n",
        "    data_folder = 'D:\\Data\\gmb-2.2.0\\data'\n",
        "    print('data found:', os.listdir(data_folder))\n",
        "    \n",
        "print('data found:', os.listdir(data_folder))"
      ],
      "execution_count": 6,
      "outputs": [
        {
          "output_type": "stream",
          "text": [
            "Go to this URL in a browser: https://accounts.google.com/o/oauth2/auth?client_id=947318989803-6bn6qk8qdgf4n4g3pfee6491hc0brc4i.apps.googleusercontent.com&redirect_uri=urn%3aietf%3awg%3aoauth%3a2.0%3aoob&response_type=code&scope=email%20https%3a%2f%2fwww.googleapis.com%2fauth%2fdocs.test%20https%3a%2f%2fwww.googleapis.com%2fauth%2fdrive%20https%3a%2f%2fwww.googleapis.com%2fauth%2fdrive.photos.readonly%20https%3a%2f%2fwww.googleapis.com%2fauth%2fpeopleapi.readonly\n",
            "\n",
            "Enter your authorization code:\n",
            "··········\n",
            "Mounted at /content/drive\n",
            "data found: ['HW1. NER.ipynb', 'Voice of America.csv']\n"
          ],
          "name": "stdout"
        }
      ]
    },
    {
      "cell_type": "markdown",
      "metadata": {
        "heading_collapsed": true,
        "id": "yeZfDywxSLx6",
        "colab_type": "text"
      },
      "source": [
        "# Data extraction"
      ]
    },
    {
      "cell_type": "markdown",
      "metadata": {
        "colab_type": "text",
        "hidden": true,
        "id": "tgwhO8ngi-A4"
      },
      "source": [
        "Parsing data from \"Voice of America\" subcorpus. According to the instructions we take first four columns and additional column to separate data on texts, sentences or words."
      ]
    },
    {
      "cell_type": "code",
      "metadata": {
        "colab_type": "code",
        "hidden": true,
        "id": "-UBeZ_eui-A5",
        "outputId": "5308f75a-eaa2-42e3-ecae-4f6aa512ec36",
        "colab": {}
      },
      "source": [
        "%%time\n",
        "\n",
        "voa_data = pd.DataFrame(columns=['word', 'pos', 'lemma', 'ne_tags', 'text_id'])\n",
        "\n",
        "os.chdir(data_path)\n",
        "part_paths = os.listdir()\n",
        "\n",
        "for part_path in tqdm(part_paths, total=len(part_paths)):\n",
        "    os.chdir(part_path)\n",
        "    document_paths = os.listdir()\n",
        "    for document_path in document_paths:\n",
        "        os.chdir(document_path)\n",
        "        f = codecs.open(\"en.met\", 'r', \"utf_8_sig\")\n",
        "        file_met = f.read()\n",
        "        if ('subcorpus: {}'.format(subcorpus) in file_met):\n",
        "            tags_df = pd.read_csv('en.tags',\n",
        "                                  sep='\\t',\n",
        "                                  header=None,\n",
        "                                  names=['word', 'pos', 'lemma', 'ne_tags'],\n",
        "                                  usecols=[0, 1, 2, 3],\n",
        "                                  error_bad_lines=False)\n",
        "            tags_df['text_id'] = str(part_path) + '_' + str(document_path)\n",
        "            voa_data = voa_data.append(tags_df, ignore_index=True)\n",
        "        f.close()\n",
        "        os.chdir('..')\n",
        "    os.chdir('..')"
      ],
      "execution_count": 0,
      "outputs": [
        {
          "output_type": "stream",
          "text": [
            "100%|████████████████████████████████████████████████████████████████████████████████| 100/100 [08:55<00:00,  5.36s/it]"
          ],
          "name": "stderr"
        },
        {
          "output_type": "stream",
          "text": [
            "Wall time: 8min 55s\n"
          ],
          "name": "stdout"
        },
        {
          "output_type": "stream",
          "text": [
            "\n"
          ],
          "name": "stderr"
        }
      ]
    },
    {
      "cell_type": "code",
      "metadata": {
        "hidden": true,
        "id": "JYpE1dtnSLyC",
        "colab_type": "code",
        "colab": {}
      },
      "source": [
        "def show_memory_usage(df):\n",
        "    print(\"memory usage: \", df.memory_usage().sum()/1024/1024, \" MB\")"
      ],
      "execution_count": 0,
      "outputs": []
    },
    {
      "cell_type": "code",
      "metadata": {
        "colab_type": "code",
        "hidden": true,
        "id": "UX1ViqnKi-A-",
        "outputId": "c391cb23-3288-4f4f-db22-f5afc86f4fa2",
        "scrolled": true,
        "colab": {}
      },
      "source": [
        "show_memory_usage(voa_data)"
      ],
      "execution_count": 0,
      "outputs": [
        {
          "output_type": "stream",
          "text": [
            "memory usage:  46.969688415527344  MB\n"
          ],
          "name": "stdout"
        }
      ]
    },
    {
      "cell_type": "code",
      "metadata": {
        "hidden": true,
        "id": "RYMlRwEcSLyO",
        "colab_type": "code",
        "outputId": "83f64eb0-ef62-46d1-bc84-475a0310520b",
        "colab": {}
      },
      "source": [
        "voa_data.head()"
      ],
      "execution_count": 0,
      "outputs": [
        {
          "output_type": "execute_result",
          "data": {
            "text/html": [
              "<div>\n",
              "<style scoped>\n",
              "    .dataframe tbody tr th:only-of-type {\n",
              "        vertical-align: middle;\n",
              "    }\n",
              "\n",
              "    .dataframe tbody tr th {\n",
              "        vertical-align: top;\n",
              "    }\n",
              "\n",
              "    .dataframe thead th {\n",
              "        text-align: right;\n",
              "    }\n",
              "</style>\n",
              "<table border=\"1\" class=\"dataframe\">\n",
              "  <thead>\n",
              "    <tr style=\"text-align: right;\">\n",
              "      <th></th>\n",
              "      <th>word</th>\n",
              "      <th>pos</th>\n",
              "      <th>lemma</th>\n",
              "      <th>ne_tags</th>\n",
              "      <th>text_id</th>\n",
              "    </tr>\n",
              "  </thead>\n",
              "  <tbody>\n",
              "    <tr>\n",
              "      <td>0</td>\n",
              "      <td>Thousands</td>\n",
              "      <td>NNS</td>\n",
              "      <td>thousand</td>\n",
              "      <td>O</td>\n",
              "      <td>p00_d0018</td>\n",
              "    </tr>\n",
              "    <tr>\n",
              "      <td>1</td>\n",
              "      <td>of</td>\n",
              "      <td>IN</td>\n",
              "      <td>of</td>\n",
              "      <td>O</td>\n",
              "      <td>p00_d0018</td>\n",
              "    </tr>\n",
              "    <tr>\n",
              "      <td>2</td>\n",
              "      <td>demonstrators</td>\n",
              "      <td>NNS</td>\n",
              "      <td>demonstrator</td>\n",
              "      <td>O</td>\n",
              "      <td>p00_d0018</td>\n",
              "    </tr>\n",
              "    <tr>\n",
              "      <td>3</td>\n",
              "      <td>have</td>\n",
              "      <td>VBP</td>\n",
              "      <td>have</td>\n",
              "      <td>O</td>\n",
              "      <td>p00_d0018</td>\n",
              "    </tr>\n",
              "    <tr>\n",
              "      <td>4</td>\n",
              "      <td>marched</td>\n",
              "      <td>VBN</td>\n",
              "      <td>march</td>\n",
              "      <td>O</td>\n",
              "      <td>p00_d0018</td>\n",
              "    </tr>\n",
              "  </tbody>\n",
              "</table>\n",
              "</div>"
            ],
            "text/plain": [
              "            word  pos         lemma ne_tags    text_id\n",
              "0      Thousands  NNS      thousand       O  p00_d0018\n",
              "1             of   IN            of       O  p00_d0018\n",
              "2  demonstrators  NNS  demonstrator       O  p00_d0018\n",
              "3           have  VBP          have       O  p00_d0018\n",
              "4        marched  VBN         march       O  p00_d0018"
            ]
          },
          "metadata": {
            "tags": []
          },
          "execution_count": 13
        }
      ]
    },
    {
      "cell_type": "code",
      "metadata": {
        "colab_type": "code",
        "hidden": true,
        "id": "kUrX7pvxi-BB",
        "outputId": "f42abe57-ad1b-4a64-a7b3-6bf93acb5155",
        "scrolled": true,
        "colab": {}
      },
      "source": [
        "voa_data.shape"
      ],
      "execution_count": 0,
      "outputs": [
        {
          "output_type": "execute_result",
          "data": {
            "text/plain": [
              "(1231279, 5)"
            ]
          },
          "metadata": {
            "tags": []
          },
          "execution_count": 16
        }
      ]
    },
    {
      "cell_type": "markdown",
      "metadata": {
        "colab_type": "text",
        "hidden": true,
        "id": "8vWQ-w4Qi-BF"
      },
      "source": [
        "Number of tokens coincided with the declared in README file"
      ]
    },
    {
      "cell_type": "markdown",
      "metadata": {
        "id": "PJLE7LWKSLyv",
        "colab_type": "text"
      },
      "source": [
        "## Make BIO"
      ]
    },
    {
      "cell_type": "markdown",
      "metadata": {
        "id": "YjC-2hcvSLyw",
        "colab_type": "text"
      },
      "source": [
        "Classificators work better if avoid redundant granularity. Also such detailed fragmentation has no value for the task of only finding named entities. Thus, we can combine subcategories and leave only first part of tag."
      ]
    },
    {
      "cell_type": "code",
      "metadata": {
        "id": "hBAE5CEJSLyy",
        "colab_type": "code",
        "outputId": "443869f8-8853-4861-ea03-e398e47ab086",
        "colab": {
          "base_uri": "https://localhost:8080/",
          "height": 202
        }
      },
      "source": [
        "voa_data['ne_tags'] = voa_data['ne_tags'].apply(lambda x: x.split('-')[0])\n",
        "\n",
        "voa_data['ne_tags'].value_counts()"
      ],
      "execution_count": 0,
      "outputs": [
        {
          "output_type": "execute_result",
          "data": {
            "text/plain": [
              "O      1032479\n",
              "geo      55480\n",
              "org      44659\n",
              "per      43168\n",
              "tim      30097\n",
              "gpe      19685\n",
              "[]        4064\n",
              "art        790\n",
              "eve        577\n",
              "nat        280\n",
              "Name: ne_tags, dtype: int64"
            ]
          },
          "metadata": {
            "tags": []
          },
          "execution_count": 10
        }
      ]
    },
    {
      "cell_type": "code",
      "metadata": {
        "id": "s1RJCoftSLy3",
        "colab_type": "code",
        "colab": {}
      },
      "source": [
        "def use_prev_value_decorator(func):\n",
        "    prev_tag = \"O\"\n",
        "\n",
        "    def wrapper(curr_tag, **kwargs):\n",
        "        nonlocal prev_tag\n",
        "        bio_tag = func(curr_tag, prev_tag)\n",
        "        prev_tag = curr_tag\n",
        "        return bio_tag\n",
        "\n",
        "    return wrapper\n",
        "\n",
        "\n",
        "@use_prev_value_decorator\n",
        "# Tag tokens with standard NLP BIO tags\n",
        "def bio_tagger(curr_tag, prev_tag):\n",
        "    if curr_tag == \"O\":  #O\n",
        "        return curr_tag\n",
        "    elif curr_tag != \"O\" and prev_tag == \"O\":  # Begin NE\n",
        "        return \"B-\" + curr_tag\n",
        "    elif prev_tag != \"O\" and prev_tag == curr_tag:  # Inside NE\n",
        "        return \"I-\" + curr_tag\n",
        "    elif prev_tag != \"O\" and prev_tag != curr_tag:  # Adjacent NE\n",
        "        return \"B-\" + curr_tag"
      ],
      "execution_count": 0,
      "outputs": []
    },
    {
      "cell_type": "code",
      "metadata": {
        "scrolled": true,
        "id": "1aST79f1SLy6",
        "colab_type": "code",
        "outputId": "7d41a9e1-b7b2-4365-95f2-3584c2d021b6",
        "colab": {
          "base_uri": "https://localhost:8080/",
          "height": 151
        }
      },
      "source": [
        "%%time \n",
        "\n",
        "voa_data['bio_tag'] = voa_data['ne_tags'].apply(bio_tagger, axis=1)\n",
        "\n",
        "print(voa_data['bio_tag'].value_counts().head())"
      ],
      "execution_count": 0,
      "outputs": [
        {
          "output_type": "stream",
          "text": [
            "O        1032479\n",
            "B-geo      46622\n",
            "B-org      24133\n",
            "B-tim      23302\n",
            "I-per      21799\n",
            "Name: bio_tag, dtype: int64\n",
            "CPU times: user 762 ms, sys: 6.99 ms, total: 769 ms\n",
            "Wall time: 769 ms\n"
          ],
          "name": "stdout"
        }
      ]
    },
    {
      "cell_type": "code",
      "metadata": {
        "id": "ZJX8dQw8oxD1",
        "colab_type": "code",
        "outputId": "311a3149-4dba-4eb5-8dd6-bedb79746a99",
        "colab": {
          "base_uri": "https://localhost:8080/",
          "height": 106
        }
      },
      "source": [
        "voa_data.head(2)"
      ],
      "execution_count": 0,
      "outputs": [
        {
          "output_type": "execute_result",
          "data": {
            "text/html": [
              "<div>\n",
              "<style scoped>\n",
              "    .dataframe tbody tr th:only-of-type {\n",
              "        vertical-align: middle;\n",
              "    }\n",
              "\n",
              "    .dataframe tbody tr th {\n",
              "        vertical-align: top;\n",
              "    }\n",
              "\n",
              "    .dataframe thead th {\n",
              "        text-align: right;\n",
              "    }\n",
              "</style>\n",
              "<table border=\"1\" class=\"dataframe\">\n",
              "  <thead>\n",
              "    <tr style=\"text-align: right;\">\n",
              "      <th></th>\n",
              "      <th>word</th>\n",
              "      <th>pos</th>\n",
              "      <th>lemma</th>\n",
              "      <th>ne_tags</th>\n",
              "      <th>text_id</th>\n",
              "      <th>bio_tag</th>\n",
              "    </tr>\n",
              "  </thead>\n",
              "  <tbody>\n",
              "    <tr>\n",
              "      <th>0</th>\n",
              "      <td>Thousands</td>\n",
              "      <td>NNS</td>\n",
              "      <td>thousand</td>\n",
              "      <td>O</td>\n",
              "      <td>p00_d0018</td>\n",
              "      <td>O</td>\n",
              "    </tr>\n",
              "    <tr>\n",
              "      <th>1</th>\n",
              "      <td>of</td>\n",
              "      <td>IN</td>\n",
              "      <td>of</td>\n",
              "      <td>O</td>\n",
              "      <td>p00_d0018</td>\n",
              "      <td>O</td>\n",
              "    </tr>\n",
              "  </tbody>\n",
              "</table>\n",
              "</div>"
            ],
            "text/plain": [
              "        word  pos     lemma ne_tags    text_id bio_tag\n",
              "0  Thousands  NNS  thousand       O  p00_d0018       O\n",
              "1         of   IN        of       O  p00_d0018       O"
            ]
          },
          "metadata": {
            "tags": []
          },
          "execution_count": 14
        }
      ]
    },
    {
      "cell_type": "code",
      "metadata": {
        "hidden": true,
        "id": "Yl_enYrKSLyX",
        "colab_type": "code",
        "colab": {}
      },
      "source": [
        "voa_data.to_csv(os.path.join(data_folder,'{}.csv'.format(subcorpus)), index=False)"
      ],
      "execution_count": 0,
      "outputs": []
    },
    {
      "cell_type": "markdown",
      "metadata": {
        "id": "DaKxWL7ASLzA",
        "colab_type": "text"
      },
      "source": [
        "Possible investigation: check if loop for column would be faster"
      ]
    },
    {
      "cell_type": "markdown",
      "metadata": {
        "id": "gDWnjmrRSbi0",
        "colab_type": "text"
      },
      "source": [
        "#Data loading"
      ]
    },
    {
      "cell_type": "code",
      "metadata": {
        "hidden": true,
        "scrolled": false,
        "id": "o0tal3WpSLyc",
        "colab_type": "code",
        "outputId": "4d6f6d9f-2d09-40f2-9191-60a160cd9701",
        "colab": {
          "base_uri": "https://localhost:8080/",
          "height": 0
        }
      },
      "source": [
        "if COLAB:\n",
        "    voa_data = pd.read_csv(os.path.join(data_folder,'{}.csv'.format(subcorpus)))\n",
        "else:\n",
        "    voa_data = pd.read_csv('D:\\Data\\gmb-2.2.0\\{}.csv'.format(subcorpus))\n",
        "voa_data.head()"
      ],
      "execution_count": 8,
      "outputs": [
        {
          "output_type": "execute_result",
          "data": {
            "text/html": [
              "<div>\n",
              "<style scoped>\n",
              "    .dataframe tbody tr th:only-of-type {\n",
              "        vertical-align: middle;\n",
              "    }\n",
              "\n",
              "    .dataframe tbody tr th {\n",
              "        vertical-align: top;\n",
              "    }\n",
              "\n",
              "    .dataframe thead th {\n",
              "        text-align: right;\n",
              "    }\n",
              "</style>\n",
              "<table border=\"1\" class=\"dataframe\">\n",
              "  <thead>\n",
              "    <tr style=\"text-align: right;\">\n",
              "      <th></th>\n",
              "      <th>word</th>\n",
              "      <th>pos</th>\n",
              "      <th>lemma</th>\n",
              "      <th>ne_tags</th>\n",
              "      <th>text_id</th>\n",
              "      <th>bio_tag</th>\n",
              "    </tr>\n",
              "  </thead>\n",
              "  <tbody>\n",
              "    <tr>\n",
              "      <th>0</th>\n",
              "      <td>Thousands</td>\n",
              "      <td>NNS</td>\n",
              "      <td>thousand</td>\n",
              "      <td>O</td>\n",
              "      <td>p00_d0018</td>\n",
              "      <td>O</td>\n",
              "    </tr>\n",
              "    <tr>\n",
              "      <th>1</th>\n",
              "      <td>of</td>\n",
              "      <td>IN</td>\n",
              "      <td>of</td>\n",
              "      <td>O</td>\n",
              "      <td>p00_d0018</td>\n",
              "      <td>O</td>\n",
              "    </tr>\n",
              "    <tr>\n",
              "      <th>2</th>\n",
              "      <td>demonstrators</td>\n",
              "      <td>NNS</td>\n",
              "      <td>demonstrator</td>\n",
              "      <td>O</td>\n",
              "      <td>p00_d0018</td>\n",
              "      <td>O</td>\n",
              "    </tr>\n",
              "    <tr>\n",
              "      <th>3</th>\n",
              "      <td>have</td>\n",
              "      <td>VBP</td>\n",
              "      <td>have</td>\n",
              "      <td>O</td>\n",
              "      <td>p00_d0018</td>\n",
              "      <td>O</td>\n",
              "    </tr>\n",
              "    <tr>\n",
              "      <th>4</th>\n",
              "      <td>marched</td>\n",
              "      <td>VBN</td>\n",
              "      <td>march</td>\n",
              "      <td>O</td>\n",
              "      <td>p00_d0018</td>\n",
              "      <td>O</td>\n",
              "    </tr>\n",
              "  </tbody>\n",
              "</table>\n",
              "</div>"
            ],
            "text/plain": [
              "            word  pos         lemma ne_tags    text_id bio_tag\n",
              "0      Thousands  NNS      thousand       O  p00_d0018       O\n",
              "1             of   IN            of       O  p00_d0018       O\n",
              "2  demonstrators  NNS  demonstrator       O  p00_d0018       O\n",
              "3           have  VBP          have       O  p00_d0018       O\n",
              "4        marched  VBN         march       O  p00_d0018       O"
            ]
          },
          "metadata": {
            "tags": []
          },
          "execution_count": 8
        }
      ]
    },
    {
      "cell_type": "markdown",
      "metadata": {
        "colab_type": "text",
        "heading_collapsed": true,
        "id": "15GVrJYa717o"
      },
      "source": [
        "# EDA and preprocessing"
      ]
    },
    {
      "cell_type": "code",
      "metadata": {
        "colab_type": "code",
        "hidden": true,
        "id": "b1Y2cJhli-BG",
        "outputId": "40fc11d1-613d-40e1-a95e-60e636bc61b3",
        "colab": {
          "base_uri": "https://localhost:8080/",
          "height": 34
        }
      },
      "source": [
        "def average_text_length(text_id):\n",
        "    doc_lengths = list(dict(Counter(text_id)).values())\n",
        "    sum = 0\n",
        "    for length in doc_lengths:\n",
        "        sum += length\n",
        "    return sum/len(doc_lengths)\n",
        "\n",
        "print(\"average text length: \", average_text_length(voa_data['text_id']))"
      ],
      "execution_count": 9,
      "outputs": [
        {
          "output_type": "stream",
          "text": [
            "average text length:  134.31646121959201\n"
          ],
          "name": "stdout"
        }
      ]
    },
    {
      "cell_type": "code",
      "metadata": {
        "hidden": true,
        "id": "OARm2L-aSLyj",
        "colab_type": "code",
        "outputId": "fbccab29-9484-495c-e53b-0e8232452e1b",
        "colab": {
          "base_uri": "https://localhost:8080/",
          "height": 173
        }
      },
      "source": [
        "voa_data.describe()"
      ],
      "execution_count": 10,
      "outputs": [
        {
          "output_type": "execute_result",
          "data": {
            "text/html": [
              "<div>\n",
              "<style scoped>\n",
              "    .dataframe tbody tr th:only-of-type {\n",
              "        vertical-align: middle;\n",
              "    }\n",
              "\n",
              "    .dataframe tbody tr th {\n",
              "        vertical-align: top;\n",
              "    }\n",
              "\n",
              "    .dataframe thead th {\n",
              "        text-align: right;\n",
              "    }\n",
              "</style>\n",
              "<table border=\"1\" class=\"dataframe\">\n",
              "  <thead>\n",
              "    <tr style=\"text-align: right;\">\n",
              "      <th></th>\n",
              "      <th>word</th>\n",
              "      <th>pos</th>\n",
              "      <th>lemma</th>\n",
              "      <th>ne_tags</th>\n",
              "      <th>text_id</th>\n",
              "      <th>bio_tag</th>\n",
              "    </tr>\n",
              "  </thead>\n",
              "  <tbody>\n",
              "    <tr>\n",
              "      <th>count</th>\n",
              "      <td>1231279</td>\n",
              "      <td>1231279</td>\n",
              "      <td>1231279</td>\n",
              "      <td>1231279</td>\n",
              "      <td>1231279</td>\n",
              "      <td>1231279</td>\n",
              "    </tr>\n",
              "    <tr>\n",
              "      <th>unique</th>\n",
              "      <td>35154</td>\n",
              "      <td>48</td>\n",
              "      <td>27209</td>\n",
              "      <td>10</td>\n",
              "      <td>9167</td>\n",
              "      <td>19</td>\n",
              "    </tr>\n",
              "    <tr>\n",
              "      <th>top</th>\n",
              "      <td>the</td>\n",
              "      <td>NN</td>\n",
              "      <td>the</td>\n",
              "      <td>O</td>\n",
              "      <td>p00_d0090</td>\n",
              "      <td>O</td>\n",
              "    </tr>\n",
              "    <tr>\n",
              "      <th>freq</th>\n",
              "      <td>61398</td>\n",
              "      <td>168817</td>\n",
              "      <td>74941</td>\n",
              "      <td>1032479</td>\n",
              "      <td>388</td>\n",
              "      <td>1032479</td>\n",
              "    </tr>\n",
              "  </tbody>\n",
              "</table>\n",
              "</div>"
            ],
            "text/plain": [
              "           word      pos    lemma  ne_tags    text_id  bio_tag\n",
              "count   1231279  1231279  1231279  1231279    1231279  1231279\n",
              "unique    35154       48    27209       10       9167       19\n",
              "top         the       NN      the        O  p00_d0090        O\n",
              "freq      61398   168817    74941  1032479        388  1032479"
            ]
          },
          "metadata": {
            "tags": []
          },
          "execution_count": 10
        }
      ]
    },
    {
      "cell_type": "code",
      "metadata": {
        "hidden": true,
        "scrolled": true,
        "id": "DCIKki2uSLyq",
        "colab_type": "code",
        "outputId": "54e2f218-f478-4b62-b317-7ec3edfadf5b",
        "colab": {
          "base_uri": "https://localhost:8080/",
          "height": 204
        }
      },
      "source": [
        "voa_data['ne_tags'].value_counts()"
      ],
      "execution_count": 11,
      "outputs": [
        {
          "output_type": "execute_result",
          "data": {
            "text/plain": [
              "O      1032479\n",
              "geo      55480\n",
              "org      44659\n",
              "per      43168\n",
              "tim      30097\n",
              "gpe      19685\n",
              "[]        4064\n",
              "art        790\n",
              "eve        577\n",
              "nat        280\n",
              "Name: ne_tags, dtype: int64"
            ]
          },
          "metadata": {
            "tags": []
          },
          "execution_count": 11
        }
      ]
    },
    {
      "cell_type": "markdown",
      "metadata": {
        "id": "gMN2b4zujvpW",
        "colab_type": "text"
      },
      "source": [
        "Let's check what does the [] tag mean"
      ]
    },
    {
      "cell_type": "code",
      "metadata": {
        "id": "SpH766G2iB49",
        "colab_type": "code",
        "colab": {
          "base_uri": "https://localhost:8080/",
          "height": 68
        },
        "outputId": "e1f1d04d-fa58-4ca6-89c2-f9ea0688832f"
      },
      "source": [
        "voa_data[voa_data['ne_tags'] == '[]']['word'].value_counts()"
      ],
      "execution_count": 45,
      "outputs": [
        {
          "output_type": "execute_result",
          "data": {
            "text/plain": [
              "\\tLQU\\t    3025\n",
              "\\tRQU\\t    1039\n",
              "Name: word, dtype: int64"
            ]
          },
          "metadata": {
            "tags": []
          },
          "execution_count": 45
        }
      ]
    },
    {
      "cell_type": "code",
      "metadata": {
        "id": "wurgKOpRi-d7",
        "colab_type": "code",
        "colab": {
          "base_uri": "https://localhost:8080/",
          "height": 54
        },
        "outputId": "7e9bb023-801a-4830-d549-121a4ede7054"
      },
      "source": [
        "' '.join(voa_data[voa_data['text_id'] == 'p00_d0018']['word'].values)"
      ],
      "execution_count": 42,
      "outputs": [
        {
          "output_type": "execute_result",
          "data": {
            "text/plain": [
              "\"Thousands of demonstrators have marched through London to protest the war in Iraq and demand the withdrawal of British troops from that country . Families of soldiers killed in the conflict joined the protesters who carried banners with such slogans as \\tLQU\\t Bush Number One Terrorist \\tRQU\\t and \\tLQU\\t Stop the Bombings . \\tLQU\\t They marched from the Houses of Parliament to a rally in Hyde Park . Police put the number of marchers at 10,000 while organizers claimed it was 100,000 . The protest comes on the eve of the annual conference of Britain 's ruling Labor Party in the southern English seaside resort of Brighton . The party is divided over Britain 's participation in the Iraq conflict and the continued deployment of 8,500 British troops in that country . The London march came ahead of anti-war protests today in other cities , including Rome , Paris , and Madrid .\""
            ]
          },
          "metadata": {
            "tags": []
          },
          "execution_count": 42
        }
      ]
    },
    {
      "cell_type": "markdown",
      "metadata": {
        "id": "fwoWJqMQj6fn",
        "colab_type": "text"
      },
      "source": [
        "Comparison with the raw text shew that these values mean quotes. We can use this fact as a feature but quotes are not considered here as named entities so we convert them to O"
      ]
    },
    {
      "cell_type": "code",
      "metadata": {
        "id": "Vdk1HCD6lbyt",
        "colab_type": "code",
        "colab": {}
      },
      "source": [
        "voa_data.loc[voa_data['ne_tags'] == '[]', ['ne_tags', 'bio_tag']] = 'O', 'O'"
      ],
      "execution_count": 0,
      "outputs": []
    },
    {
      "cell_type": "code",
      "metadata": {
        "id": "96IP1SG7piIB",
        "colab_type": "code",
        "outputId": "cd9dc045-50ea-4ab0-acad-d702627d5ec8",
        "colab": {
          "base_uri": "https://localhost:8080/",
          "height": 323
        }
      },
      "source": [
        "voa_data['bio_tag'].value_counts()"
      ],
      "execution_count": 56,
      "outputs": [
        {
          "output_type": "execute_result",
          "data": {
            "text/plain": [
              "O        1036543\n",
              "B-geo      46622\n",
              "B-org      24133\n",
              "B-tim      23302\n",
              "I-per      21799\n",
              "B-per      21369\n",
              "I-org      20526\n",
              "B-gpe      19469\n",
              "I-geo       8858\n",
              "I-tim       6795\n",
              "B-art        455\n",
              "I-art        335\n",
              "B-eve        316\n",
              "I-eve        261\n",
              "B-nat        225\n",
              "I-gpe        216\n",
              "I-nat         55\n",
              "Name: bio_tag, dtype: int64"
            ]
          },
          "metadata": {
            "tags": []
          },
          "execution_count": 56
        }
      ]
    },
    {
      "cell_type": "code",
      "metadata": {
        "id": "YVeoAGgfbowZ",
        "colab_type": "code",
        "colab": {
          "base_uri": "https://localhost:8080/",
          "height": 369
        },
        "outputId": "5b2f5183-45d0-42ca-ce8e-7620214dde75"
      },
      "source": [
        "#Words distribution across Tags without O tag\n",
        "import seaborn as sns\n",
        "plt.figure(figsize=(15, 5))\n",
        "ax = sns.countplot('bio_tag', data=voa_data.loc[voa_data['bio_tag'] != 'O'])\n",
        "ax.set_xticklabels(ax.get_xticklabels(), rotation=90, ha=\"center\")\n",
        "plt.tight_layout()\n",
        "plt.show()"
      ],
      "execution_count": 57,
      "outputs": [
        {
          "output_type": "display_data",
          "data": {
            "image/png": "[encoded data removed]",
            "text/plain": [
              "<Figure size 1080x360 with 1 Axes>"
            ]
          },
          "metadata": {
            "tags": []
          }
        }
      ]
    },
    {
      "cell_type": "markdown",
      "metadata": {
        "id": "1Ju3cG1P137k",
        "colab_type": "text"
      },
      "source": [
        "todo: add wordshape. from spacy for example"
      ]
    },
    {
      "cell_type": "code",
      "metadata": {
        "hidden": true,
        "id": "nkdjfnBqSLzE",
        "colab_type": "code",
        "colab": {}
      },
      "source": [
        "def get_sentences(df, word_col='word', pos_col='pos', \n",
        "                  tag_col='bio_tag', id_col='text_id'):\n",
        "    \"\"\"func to get the sentences in this format:\n",
        "    [(Token_1, Part_of_Speech_1, Tag_1), ..., (Token_n, Part_of_Speech_n, Tag_n)]\"\"\"\n",
        "    \n",
        "    agg_func = lambda s: [(w, p, t) for w, p, t in zip(s[word_col].values.tolist(),\n",
        "                                                       s[pos_col].values.tolist(),\n",
        "                                                       s[tag_col].values.tolist())]\n",
        "    grouped = df.groupby(id_col).apply(agg_func)\n",
        "    sentences = [s for s in grouped]\n",
        "    \n",
        "    return sentences"
      ],
      "execution_count": 0,
      "outputs": []
    },
    {
      "cell_type": "code",
      "metadata": {
        "hidden": true,
        "id": "w1HlGz6hSLzI",
        "colab_type": "code",
        "outputId": "79738ede-bd38-4c6c-c909-8401d9fb7bb0",
        "colab": {
          "base_uri": "https://localhost:8080/",
          "height": 51
        }
      },
      "source": [
        "%%time\n",
        "\n",
        "word_pos_tag_sentences = get_sentences(voa_data)"
      ],
      "execution_count": 59,
      "outputs": [
        {
          "output_type": "stream",
          "text": [
            "CPU times: user 1.59 s, sys: 88.4 ms, total: 1.68 s\n",
            "Wall time: 1.68 s\n"
          ],
          "name": "stdout"
        }
      ]
    },
    {
      "cell_type": "code",
      "metadata": {
        "hidden": true,
        "id": "gBGopIG2SLzM",
        "colab_type": "code",
        "outputId": "318608f2-b8a2-4551-fbb0-c2876beebb69",
        "colab": {
          "base_uri": "https://localhost:8080/",
          "height": 265
        }
      },
      "source": [
        "#Lets visualize how the sentences are distributed by their length\n",
        "plt.style.use(\"ggplot\")\n",
        "plt.hist([len(s) for s in word_pos_tag_sentences], bins=50)\n",
        "plt.show()"
      ],
      "execution_count": 60,
      "outputs": [
        {
          "output_type": "display_data",
          "data": {
            "image/png": "[encoded data removed]",
            "text/plain": [
              "<Figure size 432x288 with 1 Axes>"
            ]
          },
          "metadata": {
            "tags": []
          }
        }
      ]
    },
    {
      "cell_type": "markdown",
      "metadata": {
        "hidden": true,
        "id": "QGG9Ugo_SLzR",
        "colab_type": "text"
      },
      "source": [
        "create featuretfransformer like in https://www.depends-on-the-definition.com/introduction-named-entity-recognition-python/"
      ]
    },
    {
      "cell_type": "markdown",
      "metadata": {
        "id": "Ls0zsDyVFtXV",
        "colab_type": "text"
      },
      "source": [
        "Feature engineering – 2 (1+1) \n",
        "* add quotes before and after as features  \n",
        " \n",
        "grammatical words = closed set (~ stop words)  \n",
        "Stemming + POS  \n",
        "Word shape  \n",
        "Ad hoc features ( +1)"
      ]
    },
    {
      "cell_type": "code",
      "metadata": {
        "hidden": true,
        "id": "n6vL4H0uSLzR",
        "colab_type": "code",
        "colab": {}
      },
      "source": [
        "def word2features(sent, i):\n",
        "    word = sent[i][0]\n",
        "    postag = sent[i][1]\n",
        "\n",
        "    features = {\n",
        "        'bias': 1.0,\n",
        "        'word.lower()': word.lower(),\n",
        "        # 'word[-3:]': word[-3:], #replace with BPE\n",
        "        # 'word[-2:]': word[-2:],\n",
        "        # 'word.isupper()': word.isupper(),\n",
        "        # 'word.istitle()': word.istitle(),\n",
        "        # 'word.isdigit()': word.isdigit(),\n",
        "        # 'postag': postag,\n",
        "        # 'postag[:2]': postag[:2],\n",
        "    }\n",
        "    if i > 0:\n",
        "        word1 = sent[i-1][0]\n",
        "        postag1 = sent[i-1][1]\n",
        "        # features.update({\n",
        "        #     '-1:word.lower()': word1.lower(),\n",
        "        #     '-1:word.istitle()': word1.istitle(),\n",
        "        #     '-1:word.isupper()': word1.isupper(),\n",
        "        #     '-1:postag': postag1,\n",
        "        #     '-1:postag[:2]': postag1[:2],\n",
        "        # })\n",
        "    else:\n",
        "        features['BOS'] = True\n",
        "\n",
        "    if i < len(sent)-1:\n",
        "        word1 = sent[i+1][0]\n",
        "        postag1 = sent[i+1][1]\n",
        "        # features.update({\n",
        "        #     '+1:word.lower()': word1.lower(),\n",
        "        #     '+1:word.istitle()': word1.istitle(),\n",
        "        #     '+1:word.isupper()': word1.isupper(),\n",
        "        #     '+1:postag': postag1,\n",
        "        #     '+1:postag[:2]': postag1[:2],\n",
        "        # })\n",
        "    else:\n",
        "        features['EOS'] = True\n",
        "\n",
        "    return features\n",
        "\n",
        "\n",
        "def sent2features(sent):\n",
        "    return [word2features(sent, i) for i in range(len(sent))]\n",
        "\n",
        "def get_sent_labels(sent):\n",
        "    return [label for token, postag, label in sent]\n",
        "\n",
        "def sent2tokens(sent):\n",
        "    return [token for token, postag, label in sent]"
      ],
      "execution_count": 0,
      "outputs": []
    },
    {
      "cell_type": "code",
      "metadata": {
        "hidden": true,
        "scrolled": true,
        "id": "DEWQp8ecSLzU",
        "colab_type": "code",
        "outputId": "3aa5af2e-5929-46cb-c501-82e1931ea164",
        "colab": {
          "base_uri": "https://localhost:8080/",
          "height": 51
        }
      },
      "source": [
        "%%time \n",
        "\n",
        "X = [sent2features(s) for s in word_pos_tag_sentences]\n",
        "y = [get_sent_labels(s) for s in word_pos_tag_sentences]"
      ],
      "execution_count": 62,
      "outputs": [
        {
          "output_type": "stream",
          "text": [
            "CPU times: user 844 ms, sys: 177 ms, total: 1.02 s\n",
            "Wall time: 1.02 s\n"
          ],
          "name": "stdout"
        }
      ]
    },
    {
      "cell_type": "code",
      "metadata": {
        "hidden": true,
        "scrolled": true,
        "id": "arkFb4AhSLzb",
        "colab_type": "code",
        "colab": {}
      },
      "source": [
        "#make a split while the data is still sequential\n",
        "X_train, X_test, y_train, y_test = train_test_split(X, y, test_size = 0.2, shuffle=False, random_state=42)"
      ],
      "execution_count": 0,
      "outputs": []
    },
    {
      "cell_type": "code",
      "metadata": {
        "id": "KcZ30-ZdSLzv",
        "colab_type": "code",
        "outputId": "b098b97b-6a54-4a84-d33c-e63e5daeb3cf",
        "colab": {
          "base_uri": "https://localhost:8080/",
          "height": 51
        }
      },
      "source": [
        "%%time\n",
        "\n",
        "def get_flatten_and_lengths(X, y):\n",
        "    lengths = [len(x) for x in X]\n",
        "    flatten_X = [item for sublist in X for item in sublist]\n",
        "    flatten_y = [item for sublist in y for item in sublist]\n",
        "    assert len(flatten_X) == np.array(lengths).sum()\n",
        "    return flatten_X, flatten_y, lengths\n",
        "\n",
        "flatten_X_train, flatten_y_train, lengths_train = get_flatten_and_lengths(X_train, y_train)\n",
        "flatten_X_test, flatten_y_test, lengths_test = get_flatten_and_lengths(X_test, y_test)"
      ],
      "execution_count": 64,
      "outputs": [
        {
          "output_type": "stream",
          "text": [
            "CPU times: user 117 ms, sys: 8.94 ms, total: 126 ms\n",
            "Wall time: 126 ms\n"
          ],
          "name": "stdout"
        }
      ]
    },
    {
      "cell_type": "code",
      "metadata": {
        "id": "Y95QyasQWIC0",
        "colab_type": "code",
        "colab": {
          "base_uri": "https://localhost:8080/",
          "height": 712
        },
        "outputId": "ba90781e-329a-446a-f514-077d3cf6fe98"
      },
      "source": [
        "voa_train_test = pd.concat([pd.Series(flatten_y_train).value_counts().rename('bio_tag_train'), \n",
        "                            pd.Series(flatten_y_test).value_counts().rename('bio_tag_test')], \n",
        "                            axis=1)\n",
        "voa_train_test.sort_values(by='bio_tag_train', ascending=False)"
      ],
      "execution_count": 65,
      "outputs": [
        {
          "output_type": "stream",
          "text": [
            "/usr/local/lib/python3.6/dist-packages/ipykernel_launcher.py:3: FutureWarning: Sorting because non-concatenation axis is not aligned. A future version\n",
            "of pandas will change to not sort by default.\n",
            "\n",
            "To accept the future behavior, pass 'sort=False'.\n",
            "\n",
            "To retain the current behavior and silence the warning, pass 'sort=True'.\n",
            "\n",
            "  This is separate from the ipykernel package so we can avoid doing imports until\n"
          ],
          "name": "stderr"
        },
        {
          "output_type": "execute_result",
          "data": {
            "text/html": [
              "<div>\n",
              "<style scoped>\n",
              "    .dataframe tbody tr th:only-of-type {\n",
              "        vertical-align: middle;\n",
              "    }\n",
              "\n",
              "    .dataframe tbody tr th {\n",
              "        vertical-align: top;\n",
              "    }\n",
              "\n",
              "    .dataframe thead th {\n",
              "        text-align: right;\n",
              "    }\n",
              "</style>\n",
              "<table border=\"1\" class=\"dataframe\">\n",
              "  <thead>\n",
              "    <tr style=\"text-align: right;\">\n",
              "      <th></th>\n",
              "      <th>bio_tag_train</th>\n",
              "      <th>bio_tag_test</th>\n",
              "    </tr>\n",
              "  </thead>\n",
              "  <tbody>\n",
              "    <tr>\n",
              "      <th>O</th>\n",
              "      <td>829429</td>\n",
              "      <td>207114</td>\n",
              "    </tr>\n",
              "    <tr>\n",
              "      <th>B-geo</th>\n",
              "      <td>37235</td>\n",
              "      <td>9387</td>\n",
              "    </tr>\n",
              "    <tr>\n",
              "      <th>B-org</th>\n",
              "      <td>19134</td>\n",
              "      <td>4999</td>\n",
              "    </tr>\n",
              "    <tr>\n",
              "      <th>B-tim</th>\n",
              "      <td>18611</td>\n",
              "      <td>4691</td>\n",
              "    </tr>\n",
              "    <tr>\n",
              "      <th>I-per</th>\n",
              "      <td>17456</td>\n",
              "      <td>4343</td>\n",
              "    </tr>\n",
              "    <tr>\n",
              "      <th>B-per</th>\n",
              "      <td>17078</td>\n",
              "      <td>4291</td>\n",
              "    </tr>\n",
              "    <tr>\n",
              "      <th>I-org</th>\n",
              "      <td>16252</td>\n",
              "      <td>4274</td>\n",
              "    </tr>\n",
              "    <tr>\n",
              "      <th>B-gpe</th>\n",
              "      <td>15626</td>\n",
              "      <td>3843</td>\n",
              "    </tr>\n",
              "    <tr>\n",
              "      <th>I-geo</th>\n",
              "      <td>7114</td>\n",
              "      <td>1744</td>\n",
              "    </tr>\n",
              "    <tr>\n",
              "      <th>I-tim</th>\n",
              "      <td>5380</td>\n",
              "      <td>1415</td>\n",
              "    </tr>\n",
              "    <tr>\n",
              "      <th>B-art</th>\n",
              "      <td>383</td>\n",
              "      <td>72</td>\n",
              "    </tr>\n",
              "    <tr>\n",
              "      <th>I-art</th>\n",
              "      <td>281</td>\n",
              "      <td>54</td>\n",
              "    </tr>\n",
              "    <tr>\n",
              "      <th>B-eve</th>\n",
              "      <td>261</td>\n",
              "      <td>55</td>\n",
              "    </tr>\n",
              "    <tr>\n",
              "      <th>I-eve</th>\n",
              "      <td>220</td>\n",
              "      <td>41</td>\n",
              "    </tr>\n",
              "    <tr>\n",
              "      <th>B-nat</th>\n",
              "      <td>195</td>\n",
              "      <td>30</td>\n",
              "    </tr>\n",
              "    <tr>\n",
              "      <th>I-gpe</th>\n",
              "      <td>180</td>\n",
              "      <td>36</td>\n",
              "    </tr>\n",
              "    <tr>\n",
              "      <th>I-nat</th>\n",
              "      <td>47</td>\n",
              "      <td>8</td>\n",
              "    </tr>\n",
              "  </tbody>\n",
              "</table>\n",
              "</div>"
            ],
            "text/plain": [
              "       bio_tag_train  bio_tag_test\n",
              "O             829429        207114\n",
              "B-geo          37235          9387\n",
              "B-org          19134          4999\n",
              "B-tim          18611          4691\n",
              "I-per          17456          4343\n",
              "B-per          17078          4291\n",
              "I-org          16252          4274\n",
              "B-gpe          15626          3843\n",
              "I-geo           7114          1744\n",
              "I-tim           5380          1415\n",
              "B-art            383            72\n",
              "I-art            281            54\n",
              "B-eve            261            55\n",
              "I-eve            220            41\n",
              "B-nat            195            30\n",
              "I-gpe            180            36\n",
              "I-nat             47             8"
            ]
          },
          "metadata": {
            "tags": []
          },
          "execution_count": 65
        }
      ]
    },
    {
      "cell_type": "markdown",
      "metadata": {
        "id": "z4iDcFD5SLzi",
        "colab_type": "text"
      },
      "source": [
        "# Evaluation"
      ]
    },
    {
      "cell_type": "code",
      "metadata": {
        "id": "HPpcblmfSLzn",
        "colab_type": "code",
        "colab": {
          "base_uri": "https://localhost:8080/",
          "height": 71
        },
        "outputId": "6fbdf603-fbc5-4ca3-e1fb-a4d35e5cd0a1"
      },
      "source": [
        "def f1_macro(y_true, y_pred):\n",
        "    return f1_score(y_true, y_pred, average='macro')\n",
        "def fbeta_macro(y_true, y_pred, beta=2):\n",
        "    return fbeta_score(y_true, y_pred, average='macro', beta=beta)\n",
        "\n",
        "scoring = [bio_f_score, f1_macro, fbeta_macro]\n",
        "cv = KFold(n_splits=5, shuffle=False, random_state=42)\n",
        "sequence_cv = SequenceKFold(lengths_train, n_folds=5, n_iter=1, shuffle=False, random_state=42, yield_lengths=True)\n",
        "\n",
        "def evaluate_with_clf_report(estimator, y_test, y_pred, remove_O=True,\n",
        "                             do_flatten=False):\n",
        "    labels = list(estimator.classes_)\n",
        "    if remove_O:\n",
        "        labels.remove('O') # remove 'O' label from evaluation\n",
        "    sorted_labels = sorted(labels,key=lambda name: (name[1:], name[0])) # group B and I results\n",
        "    if do_flatten:\n",
        "        report = flat_classification_report(y_test, y_pred, labels=sorted_labels, digits=3)\n",
        "    else:\n",
        "        report = classification_report(y_test, y_pred, labels=sorted_labels, digits=3)\n",
        "    return report"
      ],
      "execution_count": 72,
      "outputs": [
        {
          "output_type": "stream",
          "text": [
            "/usr/local/lib/python3.6/dist-packages/sklearn/model_selection/_split.py:296: FutureWarning: Setting a random_state has no effect since shuffle is False. This will raise an error in 0.24. You should leave random_state to its default (None), or set shuffle=True.\n",
            "  FutureWarning\n"
          ],
          "name": "stderr"
        }
      ]
    },
    {
      "cell_type": "markdown",
      "metadata": {
        "id": "BLB6GHZZWNx-",
        "colab_type": "text"
      },
      "source": [
        "todo: add classification report on entities and bio_tag levels"
      ]
    },
    {
      "cell_type": "markdown",
      "metadata": {
        "colab_type": "text",
        "id": "n8APgvUyskaf"
      },
      "source": [
        "# Training models"
      ]
    },
    {
      "cell_type": "markdown",
      "metadata": {
        "id": "oEOKnlyZSLzs",
        "colab_type": "text"
      },
      "source": [
        "## HMM"
      ]
    },
    {
      "cell_type": "code",
      "metadata": {
        "scrolled": true,
        "id": "dNNFC2v_SL0G",
        "colab_type": "code",
        "colab": {}
      },
      "source": [
        "pipe = Pipeline([('vectorizer', DictVectorizer(sparse=True)),\n",
        "                 ('seq_clf', MultinomialHMM())])"
      ],
      "execution_count": 0,
      "outputs": []
    },
    {
      "cell_type": "code",
      "metadata": {
        "id": "CTw2uVfgO8u3",
        "colab_type": "code",
        "colab": {}
      },
      "source": [
        "def my_seq_cross_validate(estimator, X, y, cv, scoring):\n",
        "    scores = dict((metric.__name__, []) for metric in scoring)\n",
        "    for train, lengths_train, test, lengths_test in tqdm(list(cv), total=len(list(cv))):\n",
        "        estimator_copy = deepcopy(estimator)\n",
        "        model_name = estimator_copy.steps[-1][0]\n",
        "        estimator_copy.fit(X[train], y[train], **{model_name+'__lengths': lengths_train})\n",
        "        pred = estimator_copy.predict(X[test], **{'lengths': lengths_test})\n",
        "        for metric in scoring:\n",
        "            scores[metric.__name__].append(metric(y_true=y[test], y_pred=pred))\n",
        "    \n",
        "    scores_df = pd.DataFrame.from_dict(scores)\n",
        "    scores_df.loc['mean'] = scores_df.mean()\n",
        "    return scores_df"
      ],
      "execution_count": 0,
      "outputs": []
    },
    {
      "cell_type": "code",
      "metadata": {
        "id": "BjOJdoBeY5O3",
        "colab_type": "code",
        "colab": {}
      },
      "source": [
        "def grid_seq_cross_validate(parameter_dict, pipe, **kwargs):\n",
        "    scores_dict = dict()\n",
        "    grid_params_list = list(ParameterGrid(parameter_dict))\n",
        "    for param_set in tqdm(grid_params_list, total=len(grid_params_list)):\n",
        "        pipe_copy = deepcopy(pipe)\n",
        "        pipe_copy[-1].__dict__.update(param_set)\n",
        "        scores = my_seq_cross_validate(pipe_copy, **kwargs)\n",
        "        scores_dict[str(pipe_copy[-1])] = scores\n",
        "    return scores_dict"
      ],
      "execution_count": 0,
      "outputs": []
    },
    {
      "cell_type": "code",
      "metadata": {
        "id": "A_7p4Jxheuw2",
        "colab_type": "code",
        "colab": {}
      },
      "source": [
        "parameter_dict = {\n",
        "    #Given a trained HMM i.e., the transition matrixes A and B, and a new observation sequence W=w1,w2,…,wN we want to find the sequence of states T=t1,t2,…,tN that best explains it.\n",
        "    #This is can be achieved by using the Viterbi algorithm, that finds the best state assignment to the sequence T1…TN as a whole. \n",
        "    #There is another algorithm, Posterior Decoding (best-first) which consists in picking the highest state posterior for each position i in the sequence independently.\n",
        "    'decode':['viterbi', 'bestfirst'], \n",
        "    'alpha':[0.001, 0.01, 0.1, 1.0]\n",
        "}"
      ],
      "execution_count": 0,
      "outputs": []
    },
    {
      "cell_type": "code",
      "metadata": {
        "id": "6q4P4gNxf51n",
        "colab_type": "code",
        "outputId": "9c9dde7e-5f51-49ed-f8dd-e3347ebf3091",
        "colab": {
          "base_uri": "https://localhost:8080/",
          "height": 594,
          "referenced_widgets": [
            "a4a84f1c06b34227b75d128a51a82d2f",
            "95fb0b243e234e989e5f166489e3bc88",
            "fccf7ed036694d76b071e11d1179a492",
            "d092bae32bdb48389c8b9c25df13d1a1",
            "5b6eab54021140d69405a6deedac5f9b",
            "0b8c015059d540a7b0780e7d78bb18c0",
            "1eff841162c54139bfaf5ba8aedd08f2",
            "40617a7d172a4536be5451cb810adafa",
            "f45ce16602f54f3ba34d3e95afbca514",
            "023bd140826c4d7daa3576bd1a691033",
            "26e43c5b2e874934b0c7c4494a71494c",
            "856486a7bef543e894694d65b869b1da",
            "a30bf3cfb5534b84932bb22b491d131f",
            "7a65114dca834a2bb32e23cac42cc27d",
            "1ba9e31825084b01be3c246ce85d674f",
            "94ef18e73685457a99107a8f35a691fa",
            "f656a91824324958a7ca8f8a22eb36fc",
            "03534413eeed48ea8e359ca1695a644f",
            "f3127767d1df49b5b2ba9bb345c9fa23",
            "9f608d24e8984e7d928787c01e8bcd63",
            "f357ac82ef704829ac8a6308bd8c4b0f",
            "fcbf26ca360b49a5849428b4f82ea9cf",
            "19b8e6d8d4ce478582ac51f569dc414e",
            "93c1e2c856004760910461e1c1eaa81f",
            "0c762f72c0d74610971f14419eb1f77d",
            "2e25ec04478248e89547194e43865bbb",
            "258a1f291fde4a40829cb581e10da680",
            "82c5f91a9d10441ba2ae035eb9de2936",
            "e9ec6e1dcb984412bfb75bc16850cadf",
            "da7bf79f5d4a49299f0d0c9970a62e9b",
            "3f247b1d89fc457eb87ec1a18eb30be4",
            "ca79a346472743068eb779252473c487",
            "3ef95639863848f586957fa4823e5da6",
            "941e276d3b124f8e8f6d6451edd9f4d9",
            "09e6562e30ff41a58c2dcd06089b1529",
            "4c6fbe7617844969a03f099c6cf329f3",
            "c3a33c390c5a4581bac946a16fa1eb9e",
            "415762ee983b44bdba02e9c3f62f59fa",
            "4b50024e4380498693d9c73e1ed61010",
            "1f1fdfe150cf49d38178680dd1428ec4",
            "fd85ee4310054709aa8c856a2e53419d",
            "a9bdacedde394392a26acc7aff38792e",
            "5bc090a8379b4cd6b97132dbceb1f09e",
            "7340797a41284319b19537f7fd03f5f5",
            "b071173e66bf4adcb618d0bd6a2a1413",
            "506f8fbe830b40b787b2a192ac7e1343",
            "93c9a83ceb654e00bb90981a8f0c1f5e",
            "d15bd90075f741138938b5aaa54319a2",
            "2ffde3a620b04824a654d45a691a79ac",
            "7e6b3b99f72d4a37af3779a308a7a04c",
            "9d0c85b3844847129b622807d516f3f0",
            "00b9587b903e41cb84180009bd409df9",
            "1a52761a5d5e4fac98121e01fb376fd5",
            "510186523d2544f6a2aff4376e2387e3",
            "92609aa187a9427493e2afe938f0c528",
            "a7a5845caf60444389c56007f48631b9",
            "bf55f18efc6748cb8a0b954fc02a3fd5",
            "d8f241b5c3d74f4da440208e8c21b066",
            "c5520c24070a409e899d40bab89eb22f",
            "810f5040b3c348cd8b0c3e34dccb7895",
            "551d39b97c96417d818b3cf2615e7777",
            "eaf12f3480934de994f71a09006ccb2f",
            "d94082cab95d4868a4236f81e429d44b",
            "db4359d585bc4157b3beea372b160458",
            "acbbe65d0025430d901ebc72ff226a4c",
            "1522f8813be74dd1a4c9a7f814f80f00",
            "730c83053c964a80b8bbe6e0a17a1078",
            "eb07ca7501504304ba77f3562ba1e786",
            "507719b20a9d4132bed5a478413ff1f5",
            "ee87667c7eeb4b449bc8f73c3922f166",
            "23036e6b27d546bc8a262b6228dcb35c",
            "bd184f0c8f7c44da85298b9c2ca47a19"
          ]
        }
      },
      "source": [
        "%%time\n",
        "\n",
        "scores_dict = grid_seq_cross_validate(parameter_dict, \n",
        "                                      pipe, \n",
        "                                      X=np.array(flatten_X_train),\n",
        "                                      y=np.array(flatten_y_train),\n",
        "                                      cv=sequence_cv,\n",
        "                                      scoring=scoring)"
      ],
      "execution_count": 80,
      "outputs": [
        {
          "output_type": "stream",
          "text": [
            "/usr/local/lib/python3.6/dist-packages/ipykernel_launcher.py:4: TqdmDeprecationWarning: This function will be removed in tqdm==5.0.0\n",
            "Please use `tqdm.notebook.tqdm` instead of `tqdm.tqdm_notebook`\n",
            "  after removing the cwd from sys.path.\n"
          ],
          "name": "stderr"
        },
        {
          "output_type": "display_data",
          "data": {
            "application/vnd.jupyter.widget-view+json": {
              "model_id": "a4a84f1c06b34227b75d128a51a82d2f",
              "version_minor": 0,
              "version_major": 2
            },
            "text/plain": [
              "HBox(children=(IntProgress(value=0, max=8), HTML(value='')))"
            ]
          },
          "metadata": {
            "tags": []
          }
        },
        {
          "output_type": "stream",
          "text": [
            "/usr/local/lib/python3.6/dist-packages/ipykernel_launcher.py:3: TqdmDeprecationWarning: This function will be removed in tqdm==5.0.0\n",
            "Please use `tqdm.notebook.tqdm` instead of `tqdm.tqdm_notebook`\n",
            "  This is separate from the ipykernel package so we can avoid doing imports until\n"
          ],
          "name": "stderr"
        },
        {
          "output_type": "display_data",
          "data": {
            "application/vnd.jupyter.widget-view+json": {
              "model_id": "f45ce16602f54f3ba34d3e95afbca514",
              "version_minor": 0,
              "version_major": 2
            },
            "text/plain": [
              "HBox(children=(IntProgress(value=0, max=5), HTML(value='')))"
            ]
          },
          "metadata": {
            "tags": []
          }
        },
        {
          "output_type": "stream",
          "text": [
            "\n"
          ],
          "name": "stdout"
        },
        {
          "output_type": "display_data",
          "data": {
            "application/vnd.jupyter.widget-view+json": {
              "model_id": "f656a91824324958a7ca8f8a22eb36fc",
              "version_minor": 0,
              "version_major": 2
            },
            "text/plain": [
              "HBox(children=(IntProgress(value=0, max=5), HTML(value='')))"
            ]
          },
          "metadata": {
            "tags": []
          }
        },
        {
          "output_type": "stream",
          "text": [
            "\n"
          ],
          "name": "stdout"
        },
        {
          "output_type": "display_data",
          "data": {
            "application/vnd.jupyter.widget-view+json": {
              "model_id": "0c762f72c0d74610971f14419eb1f77d",
              "version_minor": 0,
              "version_major": 2
            },
            "text/plain": [
              "HBox(children=(IntProgress(value=0, max=5), HTML(value='')))"
            ]
          },
          "metadata": {
            "tags": []
          }
        },
        {
          "output_type": "stream",
          "text": [
            "\n"
          ],
          "name": "stdout"
        },
        {
          "output_type": "display_data",
          "data": {
            "application/vnd.jupyter.widget-view+json": {
              "model_id": "3ef95639863848f586957fa4823e5da6",
              "version_minor": 0,
              "version_major": 2
            },
            "text/plain": [
              "HBox(children=(IntProgress(value=0, max=5), HTML(value='')))"
            ]
          },
          "metadata": {
            "tags": []
          }
        },
        {
          "output_type": "stream",
          "text": [
            "\n"
          ],
          "name": "stdout"
        },
        {
          "output_type": "display_data",
          "data": {
            "application/vnd.jupyter.widget-view+json": {
              "model_id": "fd85ee4310054709aa8c856a2e53419d",
              "version_minor": 0,
              "version_major": 2
            },
            "text/plain": [
              "HBox(children=(IntProgress(value=0, max=5), HTML(value='')))"
            ]
          },
          "metadata": {
            "tags": []
          }
        },
        {
          "output_type": "stream",
          "text": [
            "\n"
          ],
          "name": "stdout"
        },
        {
          "output_type": "display_data",
          "data": {
            "application/vnd.jupyter.widget-view+json": {
              "model_id": "2ffde3a620b04824a654d45a691a79ac",
              "version_minor": 0,
              "version_major": 2
            },
            "text/plain": [
              "HBox(children=(IntProgress(value=0, max=5), HTML(value='')))"
            ]
          },
          "metadata": {
            "tags": []
          }
        },
        {
          "output_type": "stream",
          "text": [
            "\n"
          ],
          "name": "stdout"
        },
        {
          "output_type": "display_data",
          "data": {
            "application/vnd.jupyter.widget-view+json": {
              "model_id": "bf55f18efc6748cb8a0b954fc02a3fd5",
              "version_minor": 0,
              "version_major": 2
            },
            "text/plain": [
              "HBox(children=(IntProgress(value=0, max=5), HTML(value='')))"
            ]
          },
          "metadata": {
            "tags": []
          }
        },
        {
          "output_type": "stream",
          "text": [
            "\n"
          ],
          "name": "stdout"
        },
        {
          "output_type": "display_data",
          "data": {
            "application/vnd.jupyter.widget-view+json": {
              "model_id": "acbbe65d0025430d901ebc72ff226a4c",
              "version_minor": 0,
              "version_major": 2
            },
            "text/plain": [
              "HBox(children=(IntProgress(value=0, max=5), HTML(value='')))"
            ]
          },
          "metadata": {
            "tags": []
          }
        },
        {
          "output_type": "stream",
          "text": [
            "\n",
            "\n",
            "CPU times: user 2min 26s, sys: 1.59 s, total: 2min 28s\n",
            "Wall time: 2min 28s\n"
          ],
          "name": "stdout"
        }
      ]
    },
    {
      "cell_type": "code",
      "metadata": {
        "id": "GTVgWv3juGMF",
        "colab_type": "code",
        "outputId": "a6b6a291-85f7-45ad-e97c-d928081dd9cb",
        "colab": {
          "base_uri": "https://localhost:8080/",
          "height": 793
        }
      },
      "source": [
        "scores_df = pd.concat(scores_dict.values(), keys=scores_dict.keys(), axis=1)\n",
        "scores_df.T"
      ],
      "execution_count": 81,
      "outputs": [
        {
          "output_type": "execute_result",
          "data": {
            "text/html": [
              "<div>\n",
              "<style scoped>\n",
              "    .dataframe tbody tr th:only-of-type {\n",
              "        vertical-align: middle;\n",
              "    }\n",
              "\n",
              "    .dataframe tbody tr th {\n",
              "        vertical-align: top;\n",
              "    }\n",
              "\n",
              "    .dataframe thead th {\n",
              "        text-align: right;\n",
              "    }\n",
              "</style>\n",
              "<table border=\"1\" class=\"dataframe\">\n",
              "  <thead>\n",
              "    <tr style=\"text-align: right;\">\n",
              "      <th></th>\n",
              "      <th></th>\n",
              "      <th>0</th>\n",
              "      <th>1</th>\n",
              "      <th>2</th>\n",
              "      <th>3</th>\n",
              "      <th>4</th>\n",
              "      <th>mean</th>\n",
              "    </tr>\n",
              "  </thead>\n",
              "  <tbody>\n",
              "    <tr>\n",
              "      <th rowspan=\"3\" valign=\"top\">MultinomialHMM(alpha=0.001, decode='viterbi')</th>\n",
              "      <th>bio_f_score</th>\n",
              "      <td>0.602240</td>\n",
              "      <td>0.592532</td>\n",
              "      <td>0.598458</td>\n",
              "      <td>0.600242</td>\n",
              "      <td>0.615618</td>\n",
              "      <td>0.601818</td>\n",
              "    </tr>\n",
              "    <tr>\n",
              "      <th>f1_macro</th>\n",
              "      <td>0.286838</td>\n",
              "      <td>0.283691</td>\n",
              "      <td>0.286242</td>\n",
              "      <td>0.288546</td>\n",
              "      <td>0.291031</td>\n",
              "      <td>0.287269</td>\n",
              "    </tr>\n",
              "    <tr>\n",
              "      <th>fbeta_macro</th>\n",
              "      <td>0.258712</td>\n",
              "      <td>0.254595</td>\n",
              "      <td>0.256610</td>\n",
              "      <td>0.258267</td>\n",
              "      <td>0.264240</td>\n",
              "      <td>0.258485</td>\n",
              "    </tr>\n",
              "    <tr>\n",
              "      <th rowspan=\"3\" valign=\"top\">MultinomialHMM(alpha=0.001, decode='bestfirst')</th>\n",
              "      <th>bio_f_score</th>\n",
              "      <td>0.675595</td>\n",
              "      <td>0.662932</td>\n",
              "      <td>0.678801</td>\n",
              "      <td>0.679100</td>\n",
              "      <td>0.676098</td>\n",
              "      <td>0.674505</td>\n",
              "    </tr>\n",
              "    <tr>\n",
              "      <th>f1_macro</th>\n",
              "      <td>0.402382</td>\n",
              "      <td>0.369598</td>\n",
              "      <td>0.364784</td>\n",
              "      <td>0.394159</td>\n",
              "      <td>0.383193</td>\n",
              "      <td>0.382823</td>\n",
              "    </tr>\n",
              "    <tr>\n",
              "      <th>fbeta_macro</th>\n",
              "      <td>0.358670</td>\n",
              "      <td>0.330615</td>\n",
              "      <td>0.327697</td>\n",
              "      <td>0.352449</td>\n",
              "      <td>0.342234</td>\n",
              "      <td>0.342333</td>\n",
              "    </tr>\n",
              "    <tr>\n",
              "      <th rowspan=\"3\" valign=\"top\">MultinomialHMM(alpha=0.01, decode='viterbi')</th>\n",
              "      <th>bio_f_score</th>\n",
              "      <td>0.569115</td>\n",
              "      <td>0.560307</td>\n",
              "      <td>0.564312</td>\n",
              "      <td>0.572064</td>\n",
              "      <td>0.584976</td>\n",
              "      <td>0.570155</td>\n",
              "    </tr>\n",
              "    <tr>\n",
              "      <th>f1_macro</th>\n",
              "      <td>0.262675</td>\n",
              "      <td>0.260466</td>\n",
              "      <td>0.262267</td>\n",
              "      <td>0.263444</td>\n",
              "      <td>0.267787</td>\n",
              "      <td>0.263328</td>\n",
              "    </tr>\n",
              "    <tr>\n",
              "      <th>fbeta_macro</th>\n",
              "      <td>0.233159</td>\n",
              "      <td>0.229876</td>\n",
              "      <td>0.231222</td>\n",
              "      <td>0.232294</td>\n",
              "      <td>0.238680</td>\n",
              "      <td>0.233046</td>\n",
              "    </tr>\n",
              "    <tr>\n",
              "      <th rowspan=\"3\" valign=\"top\">MultinomialHMM(alpha=0.01, decode='bestfirst')</th>\n",
              "      <th>bio_f_score</th>\n",
              "      <td>0.675015</td>\n",
              "      <td>0.662304</td>\n",
              "      <td>0.679298</td>\n",
              "      <td>0.679219</td>\n",
              "      <td>0.675771</td>\n",
              "      <td>0.674321</td>\n",
              "    </tr>\n",
              "    <tr>\n",
              "      <th>f1_macro</th>\n",
              "      <td>0.379256</td>\n",
              "      <td>0.335258</td>\n",
              "      <td>0.357550</td>\n",
              "      <td>0.376763</td>\n",
              "      <td>0.365923</td>\n",
              "      <td>0.362950</td>\n",
              "    </tr>\n",
              "    <tr>\n",
              "      <th>fbeta_macro</th>\n",
              "      <td>0.340797</td>\n",
              "      <td>0.305155</td>\n",
              "      <td>0.322880</td>\n",
              "      <td>0.339774</td>\n",
              "      <td>0.329308</td>\n",
              "      <td>0.327583</td>\n",
              "    </tr>\n",
              "    <tr>\n",
              "      <th rowspan=\"3\" valign=\"top\">MultinomialHMM(alpha=0.1, decode='viterbi')</th>\n",
              "      <th>bio_f_score</th>\n",
              "      <td>0.458375</td>\n",
              "      <td>0.450819</td>\n",
              "      <td>0.455397</td>\n",
              "      <td>0.462918</td>\n",
              "      <td>0.467546</td>\n",
              "      <td>0.459011</td>\n",
              "    </tr>\n",
              "    <tr>\n",
              "      <th>f1_macro</th>\n",
              "      <td>0.202655</td>\n",
              "      <td>0.196163</td>\n",
              "      <td>0.198286</td>\n",
              "      <td>0.201613</td>\n",
              "      <td>0.206395</td>\n",
              "      <td>0.201022</td>\n",
              "    </tr>\n",
              "    <tr>\n",
              "      <th>fbeta_macro</th>\n",
              "      <td>0.173546</td>\n",
              "      <td>0.168147</td>\n",
              "      <td>0.169579</td>\n",
              "      <td>0.172336</td>\n",
              "      <td>0.176715</td>\n",
              "      <td>0.172065</td>\n",
              "    </tr>\n",
              "    <tr>\n",
              "      <th rowspan=\"3\" valign=\"top\">MultinomialHMM(alpha=0.1, decode='bestfirst')</th>\n",
              "      <th>bio_f_score</th>\n",
              "      <td>0.663210</td>\n",
              "      <td>0.653199</td>\n",
              "      <td>0.667042</td>\n",
              "      <td>0.667492</td>\n",
              "      <td>0.665416</td>\n",
              "      <td>0.663272</td>\n",
              "    </tr>\n",
              "    <tr>\n",
              "      <th>f1_macro</th>\n",
              "      <td>0.333049</td>\n",
              "      <td>0.317296</td>\n",
              "      <td>0.321897</td>\n",
              "      <td>0.351280</td>\n",
              "      <td>0.339980</td>\n",
              "      <td>0.332700</td>\n",
              "    </tr>\n",
              "    <tr>\n",
              "      <th>fbeta_macro</th>\n",
              "      <td>0.298961</td>\n",
              "      <td>0.285813</td>\n",
              "      <td>0.290552</td>\n",
              "      <td>0.312855</td>\n",
              "      <td>0.303870</td>\n",
              "      <td>0.298410</td>\n",
              "    </tr>\n",
              "    <tr>\n",
              "      <th rowspan=\"3\" valign=\"top\">MultinomialHMM(alpha=1.0, decode='viterbi')</th>\n",
              "      <th>bio_f_score</th>\n",
              "      <td>0.161203</td>\n",
              "      <td>0.158475</td>\n",
              "      <td>0.154462</td>\n",
              "      <td>0.174607</td>\n",
              "      <td>0.153814</td>\n",
              "      <td>0.160512</td>\n",
              "    </tr>\n",
              "    <tr>\n",
              "      <th>f1_macro</th>\n",
              "      <td>0.090295</td>\n",
              "      <td>0.088205</td>\n",
              "      <td>0.085900</td>\n",
              "      <td>0.090717</td>\n",
              "      <td>0.088769</td>\n",
              "      <td>0.088777</td>\n",
              "    </tr>\n",
              "    <tr>\n",
              "      <th>fbeta_macro</th>\n",
              "      <td>0.082487</td>\n",
              "      <td>0.081023</td>\n",
              "      <td>0.079363</td>\n",
              "      <td>0.083036</td>\n",
              "      <td>0.081287</td>\n",
              "      <td>0.081439</td>\n",
              "    </tr>\n",
              "    <tr>\n",
              "      <th rowspan=\"3\" valign=\"top\">MultinomialHMM(alpha=1.0, decode='bestfirst')</th>\n",
              "      <th>bio_f_score</th>\n",
              "      <td>0.599918</td>\n",
              "      <td>0.589508</td>\n",
              "      <td>0.605466</td>\n",
              "      <td>0.605281</td>\n",
              "      <td>0.607337</td>\n",
              "      <td>0.601502</td>\n",
              "    </tr>\n",
              "    <tr>\n",
              "      <th>f1_macro</th>\n",
              "      <td>0.280395</td>\n",
              "      <td>0.273444</td>\n",
              "      <td>0.281261</td>\n",
              "      <td>0.284272</td>\n",
              "      <td>0.280005</td>\n",
              "      <td>0.279875</td>\n",
              "    </tr>\n",
              "    <tr>\n",
              "      <th>fbeta_macro</th>\n",
              "      <td>0.244576</td>\n",
              "      <td>0.237947</td>\n",
              "      <td>0.246202</td>\n",
              "      <td>0.247634</td>\n",
              "      <td>0.245019</td>\n",
              "      <td>0.244275</td>\n",
              "    </tr>\n",
              "  </tbody>\n",
              "</table>\n",
              "</div>"
            ],
            "text/plain": [
              "                                                                    0  ...      mean\n",
              "MultinomialHMM(alpha=0.001, decode='viterbi')   bio_f_score  0.602240  ...  0.601818\n",
              "                                                f1_macro     0.286838  ...  0.287269\n",
              "                                                fbeta_macro  0.258712  ...  0.258485\n",
              "MultinomialHMM(alpha=0.001, decode='bestfirst') bio_f_score  0.675595  ...  0.674505\n",
              "                                                f1_macro     0.402382  ...  0.382823\n",
              "                                                fbeta_macro  0.358670  ...  0.342333\n",
              "MultinomialHMM(alpha=0.01, decode='viterbi')    bio_f_score  0.569115  ...  0.570155\n",
              "                                                f1_macro     0.262675  ...  0.263328\n",
              "                                                fbeta_macro  0.233159  ...  0.233046\n",
              "MultinomialHMM(alpha=0.01, decode='bestfirst')  bio_f_score  0.675015  ...  0.674321\n",
              "                                                f1_macro     0.379256  ...  0.362950\n",
              "                                                fbeta_macro  0.340797  ...  0.327583\n",
              "MultinomialHMM(alpha=0.1, decode='viterbi')     bio_f_score  0.458375  ...  0.459011\n",
              "                                                f1_macro     0.202655  ...  0.201022\n",
              "                                                fbeta_macro  0.173546  ...  0.172065\n",
              "MultinomialHMM(alpha=0.1, decode='bestfirst')   bio_f_score  0.663210  ...  0.663272\n",
              "                                                f1_macro     0.333049  ...  0.332700\n",
              "                                                fbeta_macro  0.298961  ...  0.298410\n",
              "MultinomialHMM(alpha=1.0, decode='viterbi')     bio_f_score  0.161203  ...  0.160512\n",
              "                                                f1_macro     0.090295  ...  0.088777\n",
              "                                                fbeta_macro  0.082487  ...  0.081439\n",
              "MultinomialHMM(alpha=1.0, decode='bestfirst')   bio_f_score  0.599918  ...  0.601502\n",
              "                                                f1_macro     0.280395  ...  0.279875\n",
              "                                                fbeta_macro  0.244576  ...  0.244275\n",
              "\n",
              "[24 rows x 6 columns]"
            ]
          },
          "metadata": {
            "tags": []
          },
          "execution_count": 81
        }
      ]
    },
    {
      "cell_type": "markdown",
      "metadata": {
        "id": "RD69jlYw43Jy",
        "colab_type": "text"
      },
      "source": [
        "Less alpha show better result. Ceteris paribus, bestfirst performs better"
      ]
    },
    {
      "cell_type": "code",
      "metadata": {
        "id": "zcZxLpOauX0F",
        "colab_type": "code",
        "colab": {}
      },
      "source": [
        "pipe = Pipeline([('vectorizer', DictVectorizer(sparse=True)),\n",
        "                 ('seq_clf', MultinomialHMM(alpha=0.001, decode='bestfirst'))])\n",
        "pipe.fit(flatten_X_train, flatten_y_train, **{'seq_clf__lengths': lengths_train})\n",
        "y_pred_flatten = pipe.predict(flatten_X_test, **{'lengths': lengths_test})"
      ],
      "execution_count": 0,
      "outputs": []
    },
    {
      "cell_type": "code",
      "metadata": {
        "id": "Lot9ZEzYdXLJ",
        "colab_type": "code",
        "colab": {}
      },
      "source": [
        "assert sum(lengths_test) == len(y_pred_flatten)\n",
        "\n",
        "y_pred_copy = deepcopy(y_pred_flatten)\n",
        "y_pred_unflatten = []\n",
        "for length in lengths_test:\n",
        "    y_pred_unflatten.append(y_pred_copy[:length].tolist())\n",
        "    y_pred_copy = np.delete(y_pred_copy, range(length))"
      ],
      "execution_count": 0,
      "outputs": []
    },
    {
      "cell_type": "code",
      "metadata": {
        "id": "3pkkTUSolvS2",
        "colab_type": "code",
        "outputId": "b66aa141-f980-48e9-f41c-b004dd380927",
        "colab": {
          "base_uri": "https://localhost:8080/",
          "height": 462
        }
      },
      "source": [
        "clf_report = evaluate_with_clf_report(pipe, flatten_y_test, y_pred_flatten, \n",
        "                                      do_flatten=False)\n",
        "print(clf_report)"
      ],
      "execution_count": 84,
      "outputs": [
        {
          "output_type": "stream",
          "text": [
            "/usr/local/lib/python3.6/dist-packages/sklearn/metrics/_classification.py:1272: UndefinedMetricWarning: Precision and F-score are ill-defined and being set to 0.0 in labels with no predicted samples. Use `zero_division` parameter to control this behavior.\n",
            "  _warn_prf(average, modifier, msg_start, len(result))\n"
          ],
          "name": "stderr"
        },
        {
          "output_type": "stream",
          "text": [
            "              precision    recall  f1-score   support\n",
            "\n",
            "       B-art      0.000     0.000     0.000        72\n",
            "       I-art      0.000     0.000     0.000        54\n",
            "       B-eve      0.800     0.218     0.343        55\n",
            "       I-eve      0.000     0.000     0.000        41\n",
            "       B-geo      0.763     0.793     0.778      9387\n",
            "       I-geo      0.771     0.319     0.451      1744\n",
            "       B-gpe      0.979     0.816     0.890      3843\n",
            "       I-gpe      1.000     0.306     0.468        36\n",
            "       B-nat      0.625     0.167     0.263        30\n",
            "       I-nat      0.000     0.000     0.000         8\n",
            "       B-org      0.788     0.257     0.388      4999\n",
            "       I-org      0.468     0.020     0.039      4274\n",
            "       B-per      0.694     0.514     0.591      4291\n",
            "       I-per      0.873     0.544     0.670      4343\n",
            "       B-tim      0.913     0.678     0.778      4691\n",
            "       I-tim      0.991     0.081     0.150      1415\n",
            "\n",
            "   micro avg      0.816     0.519     0.635     39283\n",
            "   macro avg      0.604     0.295     0.363     39283\n",
            "weighted avg      0.783     0.519     0.585     39283\n",
            "\n"
          ],
          "name": "stdout"
        }
      ]
    },
    {
      "cell_type": "code",
      "metadata": {
        "id": "RXRusO2rzxM5",
        "colab_type": "code",
        "outputId": "eb4ead1b-ec11-47c3-ba69-c0452ea7dc23",
        "colab": {
          "base_uri": "https://localhost:8080/",
          "height": 168
        }
      },
      "source": [
        "!pip install seqeval"
      ],
      "execution_count": 0,
      "outputs": [
        {
          "output_type": "stream",
          "text": [
            "Requirement already satisfied: seqeval in /usr/local/lib/python3.6/dist-packages (0.0.12)\n",
            "Requirement already satisfied: numpy>=1.14.0 in /usr/local/lib/python3.6/dist-packages (from seqeval) (1.18.1)\n",
            "Requirement already satisfied: Keras>=2.2.4 in /usr/local/lib/python3.6/dist-packages (from seqeval) (2.2.5)\n",
            "Requirement already satisfied: pyyaml in /usr/local/lib/python3.6/dist-packages (from Keras>=2.2.4->seqeval) (3.13)\n",
            "Requirement already satisfied: scipy>=0.14 in /usr/local/lib/python3.6/dist-packages (from Keras>=2.2.4->seqeval) (1.4.1)\n",
            "Requirement already satisfied: keras-applications>=1.0.8 in /usr/local/lib/python3.6/dist-packages (from Keras>=2.2.4->seqeval) (1.0.8)\n",
            "Requirement already satisfied: h5py in /usr/local/lib/python3.6/dist-packages (from Keras>=2.2.4->seqeval) (2.8.0)\n",
            "Requirement already satisfied: six>=1.9.0 in /usr/local/lib/python3.6/dist-packages (from Keras>=2.2.4->seqeval) (1.12.0)\n",
            "Requirement already satisfied: keras-preprocessing>=1.1.0 in /usr/local/lib/python3.6/dist-packages (from Keras>=2.2.4->seqeval) (1.1.0)\n"
          ],
          "name": "stdout"
        }
      ]
    },
    {
      "cell_type": "code",
      "metadata": {
        "id": "QHsa1C19zynA",
        "colab_type": "code",
        "outputId": "374b2adb-0b97-44f4-8c49-082ebdfc0488",
        "colab": {
          "base_uri": "https://localhost:8080/",
          "height": 269
        }
      },
      "source": [
        "from seqeval.metrics import classification_report as entity_clf_report\n",
        "print(entity_clf_report(y_test, y_pred_unflatten))"
      ],
      "execution_count": 0,
      "outputs": [
        {
          "output_type": "stream",
          "text": [
            "           precision    recall  f1-score   support\n",
            "\n",
            "      geo       0.81      0.27      0.40      9339\n",
            "      tim       0.72      0.01      0.02      4588\n",
            "       []       1.00      1.00      1.00       776\n",
            "      per       0.42      0.08      0.14      4184\n",
            "      gpe       1.00      0.01      0.03      3787\n",
            "      org       0.90      0.06      0.11      4936\n",
            "      nat       0.00      0.00      0.00        60\n",
            "      eve       0.00      0.00      0.00        58\n",
            "      art       0.00      0.00      0.00       102\n",
            "\n",
            "micro avg       0.78      0.14      0.24     27830\n",
            "macro avg       0.78      0.14      0.21     27830\n",
            "\n"
          ],
          "name": "stdout"
        }
      ]
    },
    {
      "cell_type": "markdown",
      "metadata": {
        "id": "EIhTA47mSL0d",
        "colab_type": "text"
      },
      "source": [
        "## CRF"
      ]
    },
    {
      "cell_type": "code",
      "metadata": {
        "id": "jVKjWd3wSL0e",
        "colab_type": "code",
        "colab": {}
      },
      "source": [
        "crf=CRF(algorithm='lbfgs',\n",
        "         c1=0.1,\n",
        "         c2=0.1,\n",
        "         max_iterations=100,\n",
        "         all_possible_transitions=False)"
      ],
      "execution_count": 0,
      "outputs": []
    },
    {
      "cell_type": "code",
      "metadata": {
        "scrolled": true,
        "id": "tlFaU1qTSL0k",
        "colab_type": "code",
        "colab": {}
      },
      "source": [
        "# scores = cross_validate(crf, X_train, y_train, cv=cv, n_jobs=-1, \n",
        "#                          scoring=scoring, verbose=100)\n",
        "scores = cross_validate(crf, X_train[:100], y_train[:100], cv=cv, n_jobs=-1, \n",
        "                         scoring=scoring, verbose=100)"
      ],
      "execution_count": 0,
      "outputs": []
    },
    {
      "cell_type": "code",
      "metadata": {
        "id": "Qd9e9nYgSL0m",
        "colab_type": "code",
        "outputId": "dbd5b17a-5492-4c50-b48d-0d2713bcd322",
        "colab": {}
      },
      "source": [
        "scores"
      ],
      "execution_count": 0,
      "outputs": [
        {
          "output_type": "execute_result",
          "data": {
            "text/plain": [
              "array([0.97032539, 0.97388456, 0.97253039, 0.97323582, 0.97233593])"
            ]
          },
          "metadata": {
            "tags": []
          },
          "execution_count": 83
        }
      ]
    }
  ]
}