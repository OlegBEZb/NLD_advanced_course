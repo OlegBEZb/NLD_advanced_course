{
  "nbformat": 4,
  "nbformat_minor": 0,
  "metadata": {
    "accelerator": "GPU",
    "colab": {
      "name": "NLP advance course. HW3. Distributive semantic. Blending.ipynb",
      "provenance": [],
      "collapsed_sections": [],
      "toc_visible": true,
      "machine_shape": "hm",
      "include_colab_link": true
    },
    "kernelspec": {
      "display_name": "Python 3",
      "language": "python",
      "name": "python3"
    },
    "language_info": {
      "codemirror_mode": {
        "name": "ipython",
        "version": 3
      },
      "file_extension": ".py",
      "mimetype": "text/x-python",
      "name": "python",
      "nbconvert_exporter": "python",
      "pygments_lexer": "ipython3",
      "version": "3.6.7"
    },
    "latex_envs": {
      "LaTeX_envs_menu_present": true,
      "autoclose": false,
      "autocomplete": true,
      "bibliofile": "biblio.bib",
      "cite_by": "apalike",
      "current_citInitial": 1,
      "eqLabelWithNumbers": true,
      "eqNumInitial": 1,
      "hotkeys": {
        "equation": "Ctrl-E",
        "itemize": "Ctrl-I"
      },
      "labels_anchors": false,
      "latex_user_defs": false,
      "report_style_numbering": false,
      "user_envs_cfg": false
    },
    "toc": {
      "base_numbering": 1,
      "nav_menu": {},
      "number_sections": true,
      "sideBar": true,
      "skip_h1_title": false,
      "title_cell": "Table of Contents",
      "title_sidebar": "Contents",
      "toc_cell": false,
      "toc_position": {
        "height": "calc(100% - 180px)",
        "left": "10px",
        "top": "150px",
        "width": "384px"
      },
      "toc_section_display": true,
      "toc_window_display": true
    },
    "varInspector": {
      "cols": {
        "lenName": 16,
        "lenType": 16,
        "lenVar": 40
      },
      "kernels_config": {
        "python": {
          "delete_cmd_postfix": "",
          "delete_cmd_prefix": "del ",
          "library": "var_list.py",
          "varRefreshCmd": "print(var_dic_list())"
        },
        "r": {
          "delete_cmd_postfix": ") ",
          "delete_cmd_prefix": "rm(",
          "library": "var_list.r",
          "varRefreshCmd": "cat(var_dic_list()) "
        }
      },
      "types_to_exclude": [
        "module",
        "function",
        "builtin_function_or_method",
        "instance",
        "_Feature"
      ],
      "window_display": false
    }
  },
  "cells": [
    {
      "cell_type": "markdown",
      "metadata": {
        "id": "view-in-github",
        "colab_type": "text"
      },
      "source": [
        "<a href=\"https://colab.research.google.com/github/OlegBEZb/NLP_advanced_course/blob/master/HW1/NLP_advance_course_HW3_Distributive_semantic_Blending.ipynb\" target=\"_parent\"><img src=\"https://colab.research.google.com/assets/colab-badge.svg\" alt=\"Open In Colab\"/></a>"
      ]
    },
    {
      "cell_type": "markdown",
      "metadata": {
        "colab_type": "text",
        "id": "30D0Scxk4kn3"
      },
      "source": [
        "# Libs import"
      ]
    },
    {
      "cell_type": "code",
      "metadata": {
        "_cell_guid": "b1076dfc-b9ad-4769-8c92-a6c4dae69d19",
        "_uuid": "8f2839f25d086af736a60e9eeb907d3b93b6e0e5",
        "colab_type": "code",
        "id": "ZnXUdrxQ3TAN",
        "scrolled": true,
        "colab": {}
      },
      "source": [
        "import os, csv, random, pickle\n",
        "import numpy as np\n",
        "import pandas as pd\n",
        "\n",
        "from scipy.stats import ks_2samp, rankdata\n",
        "\n",
        "from sklearn.model_selection import KFold, train_test_split, cross_val_score, GridSearchCV\n",
        "from sklearn.metrics import roc_auc_score, accuracy_score\n",
        "\n",
        "import logging\n",
        "logger = logging.getLogger(__name__)\n",
        "logger.setLevel(logging.ERROR)"
      ],
      "execution_count": 0,
      "outputs": []
    },
    {
      "cell_type": "markdown",
      "metadata": {
        "colab_type": "text",
        "id": "VD2z8D2V7Dod"
      },
      "source": [
        "# Authorization on Google drive and configurings paths"
      ]
    },
    {
      "cell_type": "code",
      "metadata": {
        "colab_type": "code",
        "id": "okymGz_lEjLC",
        "colab": {}
      },
      "source": [
        "WORKSPACE = 'COLAB' # or 'KAGGLE'"
      ],
      "execution_count": 0,
      "outputs": []
    },
    {
      "cell_type": "code",
      "metadata": {
        "colab_type": "code",
        "id": "auzLnrdK51Rg",
        "outputId": "dc13cc13-87ec-4294-c435-61e96af4d405",
        "colab": {
          "base_uri": "https://localhost:8080/",
          "height": 51
        }
      },
      "source": [
        "if WORKSPACE == 'COLAB':\n",
        "    from google.colab import drive\n",
        "    drive.mount('/content/drive')\n",
        "\n",
        "    homework_folder = os.path.join('/content/drive/My Drive', 'Advanced NLP/Homework 1: Classical classification task like Kaggle Toxic or Quora')\n",
        "    data_folder = os.path.join(homework_folder, 'Toxic data')\n",
        "    output_folder = os.path.join(homework_folder, 'output')\n",
        "elif WORKSPACE == 'KAGGLE':\n",
        "    data_folder = '../input/jigsaw-toxic-comment-classification-challenge/'\n",
        "else: # TODO: add computing on premise\n",
        "    pass\n",
        "\n",
        "print('data found:', os.listdir(data_folder))"
      ],
      "execution_count": 10,
      "outputs": [
        {
          "output_type": "stream",
          "text": [
            "Drive already mounted at /content/drive; to attempt to forcibly remount, call drive.mount(\"/content/drive\", force_remount=True).\n",
            "data found: ['test.csv', 'test_labels.csv', 'train.csv', 'sample_submission.csv', 'submission.csv', 'train_labels.csv.npy', 'train_labels.npy']\n"
          ],
          "name": "stdout"
        }
      ]
    },
    {
      "cell_type": "code",
      "metadata": {
        "colab_type": "code",
        "id": "UYdAXsdT3TAd",
        "outputId": "1c95310e-3f09-4d21-a4b0-b5556afc8a7c",
        "colab": {
          "base_uri": "https://localhost:8080/",
          "height": 85
        }
      },
      "source": [
        "test_labels_filepath = os.path.join(data_folder,\"test_labels.csv\")\n",
        "\n",
        "files_to_blend = [file for file in os.listdir(output_folder) if '.csv' in file and 'blending' not in file]\n",
        "files_to_blend"
      ],
      "execution_count": 25,
      "outputs": [
        {
          "output_type": "execute_result",
          "data": {
            "text/plain": [
              "['submission_emb_sklearn.csv',\n",
              " 'submission_bidirectional_GRU.csv',\n",
              " 'submission_fine_tuned_bert.csv',\n",
              " 'submission_fine_tuned_bert2.csv']"
            ]
          },
          "metadata": {
            "tags": []
          },
          "execution_count": 25
        }
      ]
    },
    {
      "cell_type": "markdown",
      "metadata": {
        "colab_type": "text",
        "id": "Tn1-XTZEIZ3y"
      },
      "source": [
        "# Loading frames"
      ]
    },
    {
      "cell_type": "code",
      "metadata": {
        "id": "bBNkzc4syFsw",
        "colab_type": "code",
        "colab": {}
      },
      "source": [
        "submission_dfs = [pd.read_csv(os.path.join(output_folder,filename)) for filename in files_to_blend]"
      ],
      "execution_count": 0,
      "outputs": []
    },
    {
      "cell_type": "code",
      "metadata": {
        "id": "iE3utLRIyemo",
        "colab_type": "code",
        "outputId": "5a6d9c88-9a1d-4452-b0b4-cab1881d5453",
        "colab": {
          "base_uri": "https://localhost:8080/",
          "height": 204
        }
      },
      "source": [
        "submission_dfs[0].head()"
      ],
      "execution_count": 28,
      "outputs": [
        {
          "output_type": "execute_result",
          "data": {
            "text/html": [
              "<div>\n",
              "<style scoped>\n",
              "    .dataframe tbody tr th:only-of-type {\n",
              "        vertical-align: middle;\n",
              "    }\n",
              "\n",
              "    .dataframe tbody tr th {\n",
              "        vertical-align: top;\n",
              "    }\n",
              "\n",
              "    .dataframe thead th {\n",
              "        text-align: right;\n",
              "    }\n",
              "</style>\n",
              "<table border=\"1\" class=\"dataframe\">\n",
              "  <thead>\n",
              "    <tr style=\"text-align: right;\">\n",
              "      <th></th>\n",
              "      <th>id</th>\n",
              "      <th>toxic</th>\n",
              "      <th>severe_toxic</th>\n",
              "      <th>obscene</th>\n",
              "      <th>threat</th>\n",
              "      <th>insult</th>\n",
              "      <th>identity_hate</th>\n",
              "    </tr>\n",
              "  </thead>\n",
              "  <tbody>\n",
              "    <tr>\n",
              "      <th>0</th>\n",
              "      <td>00001cee341fdb12</td>\n",
              "      <td>0.966263</td>\n",
              "      <td>0.054183</td>\n",
              "      <td>0.831525</td>\n",
              "      <td>0.011145</td>\n",
              "      <td>0.604859</td>\n",
              "      <td>0.075418</td>\n",
              "    </tr>\n",
              "    <tr>\n",
              "      <th>1</th>\n",
              "      <td>0000247867823ef7</td>\n",
              "      <td>0.016774</td>\n",
              "      <td>0.008855</td>\n",
              "      <td>0.019123</td>\n",
              "      <td>0.002713</td>\n",
              "      <td>0.022219</td>\n",
              "      <td>0.006187</td>\n",
              "    </tr>\n",
              "    <tr>\n",
              "      <th>2</th>\n",
              "      <td>00013b17ad220c46</td>\n",
              "      <td>0.015831</td>\n",
              "      <td>0.001117</td>\n",
              "      <td>0.007040</td>\n",
              "      <td>0.000455</td>\n",
              "      <td>0.008738</td>\n",
              "      <td>0.002202</td>\n",
              "    </tr>\n",
              "    <tr>\n",
              "      <th>3</th>\n",
              "      <td>00017563c3f7919a</td>\n",
              "      <td>0.001216</td>\n",
              "      <td>0.000236</td>\n",
              "      <td>0.001330</td>\n",
              "      <td>0.000328</td>\n",
              "      <td>0.001082</td>\n",
              "      <td>0.000201</td>\n",
              "    </tr>\n",
              "    <tr>\n",
              "      <th>4</th>\n",
              "      <td>00017695ad8997eb</td>\n",
              "      <td>0.032473</td>\n",
              "      <td>0.000742</td>\n",
              "      <td>0.014291</td>\n",
              "      <td>0.000145</td>\n",
              "      <td>0.007183</td>\n",
              "      <td>0.000405</td>\n",
              "    </tr>\n",
              "  </tbody>\n",
              "</table>\n",
              "</div>"
            ],
            "text/plain": [
              "                 id     toxic  severe_toxic  ...    threat    insult  identity_hate\n",
              "0  00001cee341fdb12  0.966263      0.054183  ...  0.011145  0.604859       0.075418\n",
              "1  0000247867823ef7  0.016774      0.008855  ...  0.002713  0.022219       0.006187\n",
              "2  00013b17ad220c46  0.015831      0.001117  ...  0.000455  0.008738       0.002202\n",
              "3  00017563c3f7919a  0.001216      0.000236  ...  0.000328  0.001082       0.000201\n",
              "4  00017695ad8997eb  0.032473      0.000742  ...  0.000145  0.007183       0.000405\n",
              "\n",
              "[5 rows x 7 columns]"
            ]
          },
          "metadata": {
            "tags": []
          },
          "execution_count": 28
        }
      ]
    },
    {
      "cell_type": "code",
      "metadata": {
        "colab_type": "code",
        "id": "1AWRdxZsHG3B",
        "colab": {}
      },
      "source": [
        "TARGET_COLS = [\n",
        "    \"toxic\", \"severe_toxic\", \"obscene\", \"threat\", \"insult\", \"identity_hate\"\n",
        "]"
      ],
      "execution_count": 0,
      "outputs": []
    },
    {
      "cell_type": "markdown",
      "metadata": {
        "id": "Gjdv1zIzIZWv",
        "colab_type": "text"
      },
      "source": [
        "# Сorrelation"
      ]
    },
    {
      "cell_type": "code",
      "metadata": {
        "id": "WAKxVu3LIdFl",
        "colab_type": "code",
        "colab": {}
      },
      "source": [
        "def corr(first_df, second_df):\n",
        "    # assuming first column is `class_name_id`\n",
        "\n",
        "    Pearson_values = []\n",
        "    Kendall_values = []\n",
        "    Spearman_values = []\n",
        "\n",
        "    for class_name in TARGET_COLS:\n",
        "        # all correlations\n",
        "        print('\\n Class: %s' % class_name)\n",
        "\n",
        "        Pearson_value = first_df[class_name].corr(\n",
        "                  second_df[class_name], method='pearson')\n",
        "        Pearson_values.append(Pearson_value)\n",
        "        print(' Pearson\\'s correlation score: %0.6f' % Pearson_value)\n",
        "\n",
        "        Kendall_value = first_df[class_name].corr(\n",
        "                  second_df[class_name], method='kendall')\n",
        "        Kendall_values.append(Kendall_value)\n",
        "        print(' Kendall\\'s correlation score: %0.6f' % Kendall_value)\n",
        "\n",
        "        Spearman_value = first_df[class_name].corr(\n",
        "                  second_df[class_name], method='spearman')\n",
        "        Spearman_values.append(Spearman_value)\n",
        "        print(' Spearman\\'s correlation score: %0.6f' % Spearman_value)\n",
        "\n",
        "        ks_stat, p_value = ks_2samp(first_df[class_name].values,\n",
        "                                    second_df[class_name].values)\n",
        "        print(' Kolmogorov-Smirnov test:    KS-stat = %.6f    p-value = %.3e\\n'\n",
        "              % (ks_stat, p_value))\n",
        "        \n",
        "    return Pearson_values, Kendall_values, Spearman_values"
      ],
      "execution_count": 0,
      "outputs": []
    },
    {
      "cell_type": "code",
      "metadata": {
        "id": "_-iSfdW-I6Yg",
        "colab_type": "code",
        "outputId": "1e0153d6-697b-45f2-9770-1db634428225",
        "colab": {
          "base_uri": "https://localhost:8080/",
          "height": 731
        }
      },
      "source": [
        "Pearson_values, Kendall_values, Spearman_values = corr(submission_dfs[0], submission_dfs[-1])"
      ],
      "execution_count": 9,
      "outputs": [
        {
          "output_type": "stream",
          "text": [
            "\n",
            " Class: toxic\n",
            " Pearson's correlation score: 0.900002\n",
            " Kendall's correlation score: 0.837508\n",
            " Spearman's correlation score: 0.948873\n",
            " Kolmogorov-Smirnov test:    KS-stat = 0.234657    p-value = 0.000e+00\n",
            "\n",
            "\n",
            " Class: severe_toxic\n",
            " Pearson's correlation score: 0.771720\n",
            " Kendall's correlation score: 0.900599\n",
            " Spearman's correlation score: 0.967130\n",
            " Kolmogorov-Smirnov test:    KS-stat = 0.379123    p-value = 0.000e+00\n",
            "\n",
            "\n",
            " Class: obscene\n",
            " Pearson's correlation score: 0.868834\n",
            " Kendall's correlation score: 0.864926\n",
            " Spearman's correlation score: 0.954527\n",
            " Kolmogorov-Smirnov test:    KS-stat = 0.325886    p-value = 0.000e+00\n",
            "\n",
            "\n",
            " Class: threat\n",
            " Pearson's correlation score: 0.667546\n",
            " Kendall's correlation score: 0.816863\n",
            " Spearman's correlation score: 0.926124\n",
            " Kolmogorov-Smirnov test:    KS-stat = 0.388303    p-value = 0.000e+00\n",
            "\n",
            "\n",
            " Class: insult\n",
            " Pearson's correlation score: 0.854414\n",
            " Kendall's correlation score: 0.860028\n",
            " Spearman's correlation score: 0.954882\n",
            " Kolmogorov-Smirnov test:    KS-stat = 0.316308    p-value = 0.000e+00\n",
            "\n",
            "\n",
            " Class: identity_hate\n",
            " Pearson's correlation score: 0.692183\n",
            " Kendall's correlation score: 0.863501\n",
            " Spearman's correlation score: 0.955179\n",
            " Kolmogorov-Smirnov test:    KS-stat = 0.348463    p-value = 0.000e+00\n",
            "\n"
          ],
          "name": "stdout"
        }
      ]
    },
    {
      "cell_type": "code",
      "metadata": {
        "id": "MSGBiAnQKAkJ",
        "colab_type": "code",
        "outputId": "6fc7945c-d491-4b6e-c854-9627bdf07bde",
        "colab": {
          "base_uri": "https://localhost:8080/",
          "height": 34
        }
      },
      "source": [
        "np.mean(Pearson_values), np.mean(Kendall_values), np.mean(Spearman_values)"
      ],
      "execution_count": 0,
      "outputs": [
        {
          "output_type": "execute_result",
          "data": {
            "text/plain": [
              "(0.6033529727896375, 0.5467539281622168, 0.7418259985054866)"
            ]
          },
          "metadata": {
            "tags": []
          },
          "execution_count": 18
        }
      ]
    },
    {
      "cell_type": "markdown",
      "metadata": {
        "id": "m_LPlWMPgW5c",
        "colab_type": "text"
      },
      "source": [
        "TODO: add correlation matrix for each class of with averaged values"
      ]
    },
    {
      "cell_type": "markdown",
      "metadata": {
        "id": "zw_ccF4ZyvaX",
        "colab_type": "text"
      },
      "source": [
        "# Blending"
      ]
    },
    {
      "cell_type": "code",
      "metadata": {
        "id": "qslrJCOgkAXf",
        "colab_type": "code",
        "colab": {}
      },
      "source": [
        "submission = pd.DataFrame()\n",
        "submission['id'] = submission_dfs[0]['id']"
      ],
      "execution_count": 0,
      "outputs": []
    },
    {
      "cell_type": "markdown",
      "metadata": {
        "id": "IyhLCpdszP-J",
        "colab_type": "text"
      },
      "source": [
        "## Blending scheme 1"
      ]
    },
    {
      "cell_type": "code",
      "metadata": {
        "id": "wd8A6-eUyzj7",
        "colab_type": "code",
        "colab": {}
      },
      "source": [
        "submission[TARGET_COLS] = 0.25*submission_dfs[0][TARGET_COLS]+\\\n",
        "                          0.25*submission_dfs[1][TARGET_COLS]+\\\n",
        "                          0.25*submission_dfs[2][TARGET_COLS]+\\\n",
        "                          0.25*submission_dfs[3][TARGET_COLS]"
      ],
      "execution_count": 0,
      "outputs": []
    },
    {
      "cell_type": "markdown",
      "metadata": {
        "id": "UTJ-2mCwggc-",
        "colab_type": "text"
      },
      "source": [
        "## Blending scheme 2\n",
        "Each value is averaged between submissions"
      ]
    },
    {
      "cell_type": "code",
      "metadata": {
        "id": "4lQsrXD_idiG",
        "colab_type": "code",
        "colab": {}
      },
      "source": [
        "stacked_averages = (submission_dfs[0][TARGET_COLS].stack() + \\\n",
        "                    submission_dfs[1][TARGET_COLS].stack() + \\\n",
        "                    submission_dfs[2][TARGET_COLS].stack() + \\\n",
        "                    submission_dfs[2][TARGET_COLS].stack()\n",
        "                   ) / 4"
      ],
      "execution_count": 0,
      "outputs": []
    },
    {
      "cell_type": "code",
      "metadata": {
        "id": "Btl9nrImjBOV",
        "colab_type": "code",
        "colab": {}
      },
      "source": [
        "submission[TARGET_COLS] = stacked_averages.unstack()"
      ],
      "execution_count": 0,
      "outputs": []
    },
    {
      "cell_type": "markdown",
      "metadata": {
        "id": "4f1ESaH3lERa",
        "colab_type": "text"
      },
      "source": [
        "## Blending scheme 3\n",
        "Each value is an geometric mean between submissions"
      ]
    },
    {
      "cell_type": "code",
      "metadata": {
        "id": "GWICKynWlF9M",
        "colab_type": "code",
        "colab": {}
      },
      "source": [
        "stacked_geo_means = pow((submission_dfs[0][TARGET_COLS].stack() * \\\n",
        "                    submission_dfs[1][TARGET_COLS].stack() * \\\n",
        "                    submission_dfs[2][TARGET_COLS].stack() * \\\n",
        "                    submission_dfs[2][TARGET_COLS].stack()\n",
        "                   ), 1/4)"
      ],
      "execution_count": 0,
      "outputs": []
    },
    {
      "cell_type": "code",
      "metadata": {
        "id": "uh7A8cDsnxdB",
        "colab_type": "code",
        "colab": {}
      },
      "source": [
        "submission[TARGET_COLS] = stacked_geo_means.unstack()"
      ],
      "execution_count": 0,
      "outputs": []
    },
    {
      "cell_type": "markdown",
      "metadata": {
        "id": "L_n59U1p3hgl",
        "colab_type": "text"
      },
      "source": [
        "## Blending scheme 4"
      ]
    },
    {
      "cell_type": "code",
      "metadata": {
        "id": "mX7WmHKg6LQK",
        "colab_type": "code",
        "colab": {}
      },
      "source": [
        "# probable validation scores\n",
        "weight_dict = {\n",
        "    'submission_emb_sklearn.csv': 0.94733,\n",
        "    'submission_bidirectional_GRU.csv': 0.9878,\n",
        "    'submission_fine_tuned_bert.csv': 0.9839,\n",
        "    'submission_fine_tuned_bert2.csv': 0.9820    \n",
        "}"
      ],
      "execution_count": 0,
      "outputs": []
    },
    {
      "cell_type": "code",
      "metadata": {
        "id": "0772wglF3g_7",
        "colab_type": "code",
        "colab": {}
      },
      "source": [
        "# subs: list of submission dataframes with two columns (id, value)\n",
        "# weights: per submission weights; default is equal weighting \n",
        "def rank_average(subs, weights = None):\n",
        "  if weights is None:\n",
        "    weights = len(subs) * [1.0 / len(subs)]\n",
        "  else:\n",
        "    weights = weights / np.sum(weights)\n",
        "  preds = subs[0].copy()\n",
        "  preds.iloc[:,1] = np.zeros(len(subs[0]))\n",
        "  for i, sub in enumerate(subs):\n",
        "    preds.iloc[:,1] = np.add(preds.iloc[:,1], weights[i] * rankdata(sub.iloc[:,1]) / len(sub))\n",
        "  return preds"
      ],
      "execution_count": 0,
      "outputs": []
    },
    {
      "cell_type": "code",
      "metadata": {
        "id": "u--CiM5F4XsQ",
        "colab_type": "code",
        "colab": {}
      },
      "source": [
        "submission = rank_average(submission_dfs, list(weight_dict.values()))"
      ],
      "execution_count": 0,
      "outputs": []
    },
    {
      "cell_type": "markdown",
      "metadata": {
        "id": "6miGJjBR9tnT",
        "colab_type": "text"
      },
      "source": [
        "due the fact that validation results (as well as actual results) are lost, this approach got terrible results"
      ]
    },
    {
      "cell_type": "markdown",
      "metadata": {
        "colab_type": "text",
        "id": "ujanlBVs61IJ"
      },
      "source": [
        "# Cheaty evaluating on test labels"
      ]
    },
    {
      "cell_type": "code",
      "metadata": {
        "colab_type": "code",
        "id": "CCukoB8QB2Rz",
        "outputId": "6b7b10e4-c8df-4865-d898-7ef74b16728d",
        "colab": {
          "base_uri": "https://localhost:8080/",
          "height": 359
        }
      },
      "source": [
        "submission.head(10)"
      ],
      "execution_count": 56,
      "outputs": [
        {
          "output_type": "execute_result",
          "data": {
            "text/html": [
              "<div>\n",
              "<style scoped>\n",
              "    .dataframe tbody tr th:only-of-type {\n",
              "        vertical-align: middle;\n",
              "    }\n",
              "\n",
              "    .dataframe tbody tr th {\n",
              "        vertical-align: top;\n",
              "    }\n",
              "\n",
              "    .dataframe thead th {\n",
              "        text-align: right;\n",
              "    }\n",
              "</style>\n",
              "<table border=\"1\" class=\"dataframe\">\n",
              "  <thead>\n",
              "    <tr style=\"text-align: right;\">\n",
              "      <th></th>\n",
              "      <th>id</th>\n",
              "      <th>toxic</th>\n",
              "      <th>severe_toxic</th>\n",
              "      <th>obscene</th>\n",
              "      <th>threat</th>\n",
              "      <th>insult</th>\n",
              "      <th>identity_hate</th>\n",
              "    </tr>\n",
              "  </thead>\n",
              "  <tbody>\n",
              "    <tr>\n",
              "      <th>0</th>\n",
              "      <td>00001cee341fdb12</td>\n",
              "      <td>0.968447</td>\n",
              "      <td>0.054183</td>\n",
              "      <td>0.831525</td>\n",
              "      <td>0.011145</td>\n",
              "      <td>0.604859</td>\n",
              "      <td>0.075418</td>\n",
              "    </tr>\n",
              "    <tr>\n",
              "      <th>1</th>\n",
              "      <td>0000247867823ef7</td>\n",
              "      <td>0.478894</td>\n",
              "      <td>0.008855</td>\n",
              "      <td>0.019123</td>\n",
              "      <td>0.002713</td>\n",
              "      <td>0.022219</td>\n",
              "      <td>0.006187</td>\n",
              "    </tr>\n",
              "    <tr>\n",
              "      <th>2</th>\n",
              "      <td>00013b17ad220c46</td>\n",
              "      <td>0.319275</td>\n",
              "      <td>0.001117</td>\n",
              "      <td>0.007040</td>\n",
              "      <td>0.000455</td>\n",
              "      <td>0.008738</td>\n",
              "      <td>0.002202</td>\n",
              "    </tr>\n",
              "    <tr>\n",
              "      <th>3</th>\n",
              "      <td>00017563c3f7919a</td>\n",
              "      <td>0.075061</td>\n",
              "      <td>0.000236</td>\n",
              "      <td>0.001330</td>\n",
              "      <td>0.000328</td>\n",
              "      <td>0.001082</td>\n",
              "      <td>0.000201</td>\n",
              "    </tr>\n",
              "    <tr>\n",
              "      <th>4</th>\n",
              "      <td>00017695ad8997eb</td>\n",
              "      <td>0.452272</td>\n",
              "      <td>0.000742</td>\n",
              "      <td>0.014291</td>\n",
              "      <td>0.000145</td>\n",
              "      <td>0.007183</td>\n",
              "      <td>0.000405</td>\n",
              "    </tr>\n",
              "    <tr>\n",
              "      <th>5</th>\n",
              "      <td>0001ea8717f6de06</td>\n",
              "      <td>0.216728</td>\n",
              "      <td>0.000488</td>\n",
              "      <td>0.002610</td>\n",
              "      <td>0.000808</td>\n",
              "      <td>0.002954</td>\n",
              "      <td>0.000952</td>\n",
              "    </tr>\n",
              "    <tr>\n",
              "      <th>6</th>\n",
              "      <td>00024115d4cbde0f</td>\n",
              "      <td>0.437397</td>\n",
              "      <td>0.002586</td>\n",
              "      <td>0.012830</td>\n",
              "      <td>0.001297</td>\n",
              "      <td>0.013505</td>\n",
              "      <td>0.003067</td>\n",
              "    </tr>\n",
              "    <tr>\n",
              "      <th>7</th>\n",
              "      <td>000247e83dcc1211</td>\n",
              "      <td>0.842561</td>\n",
              "      <td>0.018339</td>\n",
              "      <td>0.382074</td>\n",
              "      <td>0.014608</td>\n",
              "      <td>0.274177</td>\n",
              "      <td>0.016819</td>\n",
              "    </tr>\n",
              "    <tr>\n",
              "      <th>8</th>\n",
              "      <td>00025358d4737918</td>\n",
              "      <td>0.696941</td>\n",
              "      <td>0.002882</td>\n",
              "      <td>0.017591</td>\n",
              "      <td>0.002374</td>\n",
              "      <td>0.020235</td>\n",
              "      <td>0.002853</td>\n",
              "    </tr>\n",
              "    <tr>\n",
              "      <th>9</th>\n",
              "      <td>00026d1092fe71cc</td>\n",
              "      <td>0.293411</td>\n",
              "      <td>0.002668</td>\n",
              "      <td>0.017098</td>\n",
              "      <td>0.001654</td>\n",
              "      <td>0.022337</td>\n",
              "      <td>0.002640</td>\n",
              "    </tr>\n",
              "  </tbody>\n",
              "</table>\n",
              "</div>"
            ],
            "text/plain": [
              "                 id     toxic  severe_toxic  ...    threat    insult  identity_hate\n",
              "0  00001cee341fdb12  0.968447      0.054183  ...  0.011145  0.604859       0.075418\n",
              "1  0000247867823ef7  0.478894      0.008855  ...  0.002713  0.022219       0.006187\n",
              "2  00013b17ad220c46  0.319275      0.001117  ...  0.000455  0.008738       0.002202\n",
              "3  00017563c3f7919a  0.075061      0.000236  ...  0.000328  0.001082       0.000201\n",
              "4  00017695ad8997eb  0.452272      0.000742  ...  0.000145  0.007183       0.000405\n",
              "5  0001ea8717f6de06  0.216728      0.000488  ...  0.000808  0.002954       0.000952\n",
              "6  00024115d4cbde0f  0.437397      0.002586  ...  0.001297  0.013505       0.003067\n",
              "7  000247e83dcc1211  0.842561      0.018339  ...  0.014608  0.274177       0.016819\n",
              "8  00025358d4737918  0.696941      0.002882  ...  0.002374  0.020235       0.002853\n",
              "9  00026d1092fe71cc  0.293411      0.002668  ...  0.001654  0.022337       0.002640\n",
              "\n",
              "[10 rows x 7 columns]"
            ]
          },
          "metadata": {
            "tags": []
          },
          "execution_count": 56
        }
      ]
    },
    {
      "cell_type": "code",
      "metadata": {
        "colab_type": "code",
        "id": "YUF4Uxrl8pXr",
        "colab": {}
      },
      "source": [
        "# labels for the test data; value of -1 indicates it was not used for scoring; (Note: file added after competition close!)\n",
        "test_labels_df = pd.read_csv(test_labels_filepath)"
      ],
      "execution_count": 0,
      "outputs": []
    },
    {
      "cell_type": "code",
      "metadata": {
        "colab_type": "code",
        "id": "6crgLcLx7X-p",
        "outputId": "80fb3fb9-afa4-4d9f-a304-16ba7cb10ba2",
        "colab": {
          "base_uri": "https://localhost:8080/",
          "height": 34
        }
      },
      "source": [
        "test_labels_df = test_labels_df[(test_labels_df[\"toxic\"] != -1) &\n",
        "                                (test_labels_df[\"severe_toxic\"] != -1) &\n",
        "                                (test_labels_df[\"obscene\"] != -1) &\n",
        "                                (test_labels_df[\"threat\"] != -1) &\n",
        "                                (test_labels_df[\"insult\"] != -1) &\n",
        "                                (test_labels_df[\"identity_hate\"] != -1)]\n",
        "test_labels_df.shape                               "
      ],
      "execution_count": 58,
      "outputs": [
        {
          "output_type": "execute_result",
          "data": {
            "text/plain": [
              "(63978, 7)"
            ]
          },
          "metadata": {
            "tags": []
          },
          "execution_count": 58
        }
      ]
    },
    {
      "cell_type": "code",
      "metadata": {
        "colab_type": "code",
        "id": "-ymumFOQ9sA1",
        "outputId": "d908b705-3f13-4b74-b3e8-0c9d74227861",
        "colab": {
          "base_uri": "https://localhost:8080/",
          "height": 34
        }
      },
      "source": [
        "submission_to_evaluate = submission[submission['id'].isin(test_labels_df['id'].values)]\n",
        "submission_to_evaluate.shape"
      ],
      "execution_count": 59,
      "outputs": [
        {
          "output_type": "execute_result",
          "data": {
            "text/plain": [
              "(63978, 7)"
            ]
          },
          "metadata": {
            "tags": []
          },
          "execution_count": 59
        }
      ]
    },
    {
      "cell_type": "code",
      "metadata": {
        "colab_type": "code",
        "id": "C3r8VTCK_TaM",
        "outputId": "c4c3a491-5d1c-4e36-e5b9-8dc8a074de1b",
        "colab": {
          "base_uri": "https://localhost:8080/",
          "height": 136
        }
      },
      "source": [
        "scores = []\n",
        "for class_name in TARGET_COLS:\n",
        "    train_target = test_labels_df[class_name]\n",
        "    train_predicted = submission_to_evaluate[class_name]\n",
        "\n",
        "    cv_score = np.mean(roc_auc_score(train_target.values, train_predicted.values))\n",
        "    scores.append(cv_score)\n",
        "    print('CV score for class {} is {}'.format(class_name, cv_score))\n",
        "\n",
        "print('Total CV score is {}'.format(np.mean(scores)))"
      ],
      "execution_count": 60,
      "outputs": [
        {
          "output_type": "stream",
          "text": [
            "CV score for class toxic is 0.969695728051042\n",
            "CV score for class severe_toxic is 0.9498586799525744\n",
            "CV score for class obscene is 0.9426970760475595\n",
            "CV score for class threat is 0.9719721985483732\n",
            "CV score for class insult is 0.9370787074676544\n",
            "CV score for class identity_hate is 0.9377735462930369\n",
            "Total CV score is 0.9515126560600401\n"
          ],
          "name": "stdout"
        }
      ]
    },
    {
      "cell_type": "code",
      "metadata": {
        "colab_type": "code",
        "id": "YKsSnwkd3TBJ",
        "colab": {}
      },
      "source": [
        "submission.to_csv(os.path.join(output_folder,\"blending_3.csv\"), index = False)"
      ],
      "execution_count": 0,
      "outputs": []
    },
    {
      "cell_type": "markdown",
      "metadata": {
        "colab_type": "text",
        "id": "tNf0KsAHCSJB"
      },
      "source": [
        "Жирный шрифт означает изменения в процессе валидации и оценивания и при изменении действует начиная со строчки указания и ниже\n",
        "\n",
        "* glove twitter 200:  0.98052\n",
        "\n",
        "**С поднятием колва epochs и global_epochs + RocAucEarlyStopping** скор упал с 0.98052 до 0.97573\n",
        "\n",
        "* GLOBAL_EPOCHS = 2, EPOCHS = 5, glove.840B.300d.txt   0.97994  \n",
        "* BPEmb(lang=\"en\", dim=25, vs=20000)   0.97375  \n",
        "* BPEmb(lang=\"en\", dim=300, vs=20000) without preprocessing   0.97699  \n",
        "* BPEmb(lang=\"en\", dim=300, vs=20000)   0.97865   \n",
        "* fasttext crawl-300d-2M-subword 0.95732  \n",
        "* BPEmb(lang=\"en\", dim=300, vs=20000) **Patience 2->1 SEEDS 1->1**  0.98041   \n",
        "* flair ELMoEmbeddings('small') embedding len 768  0.98005  \n",
        "* flair ELMoEmbeddings('medium') embedding len 1536  0.98038  \n",
        "* flair RoBERTaEmbeddings('roberta-base') embedding len 768  0.97413  \n",
        "* flair stack of ELMoEmbeddings('small') + RoBERTaEmbeddings('roberta-base') embedding len 1536  0.98069      \n",
        "* 3 tuned layers in BERT modeldense = tf.keras.layers.Dense(256, activation='relu')(bert_output)pred = tf.keras.layers.Dense(len(TARGET_COLS), activation='sigmoid')(dense)model.compile(loss='binary_crossentropy', optimizer='adam', metrics=['accuracy'])epochs=1,batch_size=32   0.97658\n",
        "* 10 tuned layers in BERT modeldense = tf.keras.layers.Dense(256, activation='relu')(bert_output)pred = tf.keras.layers.Dense(len(TARGET_COLS), activation='sigmoid')(dense)model.compile(loss='binary_crossentropy', optimizer='adam', metrics=['accuracy'])epochs=1,batch_size=128, 5 epochs+ES(patience=1)  0.97377\n",
        "* 5 tuned layers in BERT modeldense = tf.keras.layers.Dense(256, activation='relu')(bert_output)pred = tf.keras.layers.Dense(len(TARGET_COLS), activation='sigmoid')(dense)model.compile(loss='binary_crossentropy', optimizer='adam')epochs=10,batch_size=256, ES(patience=1) +save best  0.97346  \n",
        "* 0.25 of each 'submission_emb_sklearn.csv', 'submission_bidirectional_GRU.csv','submission_fine_tuned_bert.csv', 'submission_fine_tuned_bert2.csv'  0.98308\n",
        "* Each value is averaged between 'submission_emb_sklearn.csv', 'submission_bidirectional_GRU.csv','submission_fine_tuned_bert.csv', 'submission_fine_tuned_bert2.csv'  0.98261\n",
        "* Each value is a geometric mean between 'submission_emb_sklearn.csv', 'submission_bidirectional_GRU.csv','submission_fine_tuned_bert.csv', 'submission_fine_tuned_bert2.csv'  0.98214\n"
      ]
    },
    {
      "cell_type": "code",
      "metadata": {
        "id": "yZV5Qle9pl_o",
        "colab_type": "code",
        "colab": {}
      },
      "source": [
        ""
      ],
      "execution_count": 0,
      "outputs": []
    }
  ]
}