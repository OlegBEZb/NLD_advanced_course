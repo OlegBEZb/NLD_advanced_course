{
  "nbformat": 4,
  "nbformat_minor": 0,
  "metadata": {
    "accelerator": "GPU",
    "colab": {
      "name": "NLP advance course. HW3. Distributive semantic. Blending.ipynb",
      "provenance": [],
      "collapsed_sections": [],
      "toc_visible": true,
      "machine_shape": "hm",
      "include_colab_link": true
    },
    "kernelspec": {
      "display_name": "Python 3",
      "language": "python",
      "name": "python3"
    },
    "language_info": {
      "codemirror_mode": {
        "name": "ipython",
        "version": 3
      },
      "file_extension": ".py",
      "mimetype": "text/x-python",
      "name": "python",
      "nbconvert_exporter": "python",
      "pygments_lexer": "ipython3",
      "version": "3.6.7"
    },
    "latex_envs": {
      "LaTeX_envs_menu_present": true,
      "autoclose": false,
      "autocomplete": true,
      "bibliofile": "biblio.bib",
      "cite_by": "apalike",
      "current_citInitial": 1,
      "eqLabelWithNumbers": true,
      "eqNumInitial": 1,
      "hotkeys": {
        "equation": "Ctrl-E",
        "itemize": "Ctrl-I"
      },
      "labels_anchors": false,
      "latex_user_defs": false,
      "report_style_numbering": false,
      "user_envs_cfg": false
    },
    "toc": {
      "base_numbering": 1,
      "nav_menu": {},
      "number_sections": true,
      "sideBar": true,
      "skip_h1_title": false,
      "title_cell": "Table of Contents",
      "title_sidebar": "Contents",
      "toc_cell": false,
      "toc_position": {
        "height": "calc(100% - 180px)",
        "left": "10px",
        "top": "150px",
        "width": "384px"
      },
      "toc_section_display": true,
      "toc_window_display": true
    },
    "varInspector": {
      "cols": {
        "lenName": 16,
        "lenType": 16,
        "lenVar": 40
      },
      "kernels_config": {
        "python": {
          "delete_cmd_postfix": "",
          "delete_cmd_prefix": "del ",
          "library": "var_list.py",
          "varRefreshCmd": "print(var_dic_list())"
        },
        "r": {
          "delete_cmd_postfix": ") ",
          "delete_cmd_prefix": "rm(",
          "library": "var_list.r",
          "varRefreshCmd": "cat(var_dic_list()) "
        }
      },
      "types_to_exclude": [
        "module",
        "function",
        "builtin_function_or_method",
        "instance",
        "_Feature"
      ],
      "window_display": false
    }
  },
  "cells": [
    {
      "cell_type": "markdown",
      "metadata": {
        "id": "view-in-github",
        "colab_type": "text"
      },
      "source": [
        "<a href=\"https://colab.research.google.com/github/OlegBEZb/NLP_advanced_course/blob/master/HW1/NLP_advance_course_HW3_Distributive_semantic_Blending.ipynb\" target=\"_parent\"><img src=\"https://colab.research.google.com/assets/colab-badge.svg\" alt=\"Open In Colab\"/></a>"
      ]
    },
    {
      "cell_type": "markdown",
      "metadata": {
        "colab_type": "text",
        "id": "30D0Scxk4kn3"
      },
      "source": [
        "# Libs import"
      ]
    },
    {
      "cell_type": "code",
      "metadata": {
        "_cell_guid": "b1076dfc-b9ad-4769-8c92-a6c4dae69d19",
        "_uuid": "8f2839f25d086af736a60e9eeb907d3b93b6e0e5",
        "colab_type": "code",
        "id": "ZnXUdrxQ3TAN",
        "scrolled": true,
        "colab": {}
      },
      "source": [
        "import os, csv, random, pickle, re, sys\n",
        "from tqdm import tqdm_notebook as tqdm\n",
        "import numpy as np\n",
        "import pandas as pd\n",
        "import gc\n",
        "import matplotlib.pyplot as plt\n",
        "\n",
        "from scipy.stats import ks_2samp\n",
        "\n",
        "from sklearn.model_selection import KFold, train_test_split, cross_val_score, GridSearchCV\n",
        "from sklearn.metrics import roc_auc_score, accuracy_score\n",
        "\n",
        "import logging\n",
        "logger = logging.getLogger(__name__)\n",
        "logger.setLevel(logging.ERROR)"
      ],
      "execution_count": 0,
      "outputs": []
    },
    {
      "cell_type": "markdown",
      "metadata": {
        "colab_type": "text",
        "id": "VD2z8D2V7Dod"
      },
      "source": [
        "# Authorization on Google drive and configurings paths"
      ]
    },
    {
      "cell_type": "code",
      "metadata": {
        "colab_type": "code",
        "id": "okymGz_lEjLC",
        "colab": {}
      },
      "source": [
        "WORKSPACE = 'COLAB' # or 'KAGGLE'"
      ],
      "execution_count": 0,
      "outputs": []
    },
    {
      "cell_type": "code",
      "metadata": {
        "colab_type": "code",
        "id": "auzLnrdK51Rg",
        "outputId": "fb060700-035e-45b0-bcd8-d3e848f7902a",
        "colab": {
          "base_uri": "https://localhost:8080/",
          "height": 51
        }
      },
      "source": [
        "if WORKSPACE == 'COLAB':\n",
        "    from google.colab import drive\n",
        "    drive.mount('/content/drive')\n",
        "\n",
        "    homework_folder = os.path.join('/content/drive/My Drive', 'Advanced NLP/Homework 1: Classical classification task like Kaggle Toxic or Quora')\n",
        "    data_folder = os.path.join(homework_folder, 'Toxic data')\n",
        "    embeddings_folder = os.path.join(homework_folder, 'embeddings')\n",
        "    output_folder = os.path.join(homework_folder, 'output')\n",
        "elif WORKSPACE == 'KAGGLE':\n",
        "    data_folder = '../input/jigsaw-toxic-comment-classification-challenge/'\n",
        "    embeddings_folder = '../input/glove-global-vectors-for-word-representation'\n",
        "else: # TODO: add computing on premise\n",
        "    pass\n",
        "\n",
        "print('data found:', os.listdir(data_folder))"
      ],
      "execution_count": 11,
      "outputs": [
        {
          "output_type": "stream",
          "text": [
            "Drive already mounted at /content/drive; to attempt to forcibly remount, call drive.mount(\"/content/drive\", force_remount=True).\n",
            "data found: ['test.csv', 'test_labels.csv', 'train.csv', 'sample_submission.csv', 'submission.csv', 'train_labels.csv.npy', 'train_labels.npy']\n"
          ],
          "name": "stdout"
        }
      ]
    },
    {
      "cell_type": "code",
      "metadata": {
        "colab_type": "code",
        "id": "UYdAXsdT3TAd",
        "outputId": "9916e825-259e-482c-dad5-dbb63221615c",
        "colab": {
          "base_uri": "https://localhost:8080/",
          "height": 85
        }
      },
      "source": [
        "test_labels_filepath = os.path.join(data_folder,\"test_labels.csv\")\n",
        "\n",
        "files_to_blend = [file for file in os.listdir(output_folder) if '.csv' in file]\n",
        "files_to_blend"
      ],
      "execution_count": 12,
      "outputs": [
        {
          "output_type": "execute_result",
          "data": {
            "text/plain": [
              "['submission_emb_sklearn.csv',\n",
              " 'submission_bidirectional_GRU.csv',\n",
              " 'submission_fine_tuned_bert.csv',\n",
              " 'submission_fine_tuned_bert2.csv']"
            ]
          },
          "metadata": {
            "tags": []
          },
          "execution_count": 12
        }
      ]
    },
    {
      "cell_type": "markdown",
      "metadata": {
        "colab_type": "text",
        "id": "Tn1-XTZEIZ3y"
      },
      "source": [
        "# Loading frames"
      ]
    },
    {
      "cell_type": "code",
      "metadata": {
        "id": "bBNkzc4syFsw",
        "colab_type": "code",
        "colab": {}
      },
      "source": [
        "submission_dfs = [pd.read_csv(os.path.join(output_folder,filename)) for filename in files_to_blend]"
      ],
      "execution_count": 0,
      "outputs": []
    },
    {
      "cell_type": "code",
      "metadata": {
        "id": "iE3utLRIyemo",
        "colab_type": "code",
        "outputId": "41266be8-bed9-4b3c-e8c7-f276d4e721f5",
        "colab": {
          "base_uri": "https://localhost:8080/",
          "height": 204
        }
      },
      "source": [
        "submission_dfs[0].head()"
      ],
      "execution_count": 14,
      "outputs": [
        {
          "output_type": "execute_result",
          "data": {
            "text/html": [
              "<div>\n",
              "<style scoped>\n",
              "    .dataframe tbody tr th:only-of-type {\n",
              "        vertical-align: middle;\n",
              "    }\n",
              "\n",
              "    .dataframe tbody tr th {\n",
              "        vertical-align: top;\n",
              "    }\n",
              "\n",
              "    .dataframe thead th {\n",
              "        text-align: right;\n",
              "    }\n",
              "</style>\n",
              "<table border=\"1\" class=\"dataframe\">\n",
              "  <thead>\n",
              "    <tr style=\"text-align: right;\">\n",
              "      <th></th>\n",
              "      <th>id</th>\n",
              "      <th>toxic</th>\n",
              "      <th>severe_toxic</th>\n",
              "      <th>obscene</th>\n",
              "      <th>threat</th>\n",
              "      <th>insult</th>\n",
              "      <th>identity_hate</th>\n",
              "    </tr>\n",
              "  </thead>\n",
              "  <tbody>\n",
              "    <tr>\n",
              "      <th>0</th>\n",
              "      <td>00001cee341fdb12</td>\n",
              "      <td>0.966263</td>\n",
              "      <td>0.054183</td>\n",
              "      <td>0.831525</td>\n",
              "      <td>0.011145</td>\n",
              "      <td>0.604859</td>\n",
              "      <td>0.075418</td>\n",
              "    </tr>\n",
              "    <tr>\n",
              "      <th>1</th>\n",
              "      <td>0000247867823ef7</td>\n",
              "      <td>0.016774</td>\n",
              "      <td>0.008855</td>\n",
              "      <td>0.019123</td>\n",
              "      <td>0.002713</td>\n",
              "      <td>0.022219</td>\n",
              "      <td>0.006187</td>\n",
              "    </tr>\n",
              "    <tr>\n",
              "      <th>2</th>\n",
              "      <td>00013b17ad220c46</td>\n",
              "      <td>0.015831</td>\n",
              "      <td>0.001117</td>\n",
              "      <td>0.007040</td>\n",
              "      <td>0.000455</td>\n",
              "      <td>0.008738</td>\n",
              "      <td>0.002202</td>\n",
              "    </tr>\n",
              "    <tr>\n",
              "      <th>3</th>\n",
              "      <td>00017563c3f7919a</td>\n",
              "      <td>0.001216</td>\n",
              "      <td>0.000236</td>\n",
              "      <td>0.001330</td>\n",
              "      <td>0.000328</td>\n",
              "      <td>0.001082</td>\n",
              "      <td>0.000201</td>\n",
              "    </tr>\n",
              "    <tr>\n",
              "      <th>4</th>\n",
              "      <td>00017695ad8997eb</td>\n",
              "      <td>0.032473</td>\n",
              "      <td>0.000742</td>\n",
              "      <td>0.014291</td>\n",
              "      <td>0.000145</td>\n",
              "      <td>0.007183</td>\n",
              "      <td>0.000405</td>\n",
              "    </tr>\n",
              "  </tbody>\n",
              "</table>\n",
              "</div>"
            ],
            "text/plain": [
              "                 id     toxic  severe_toxic  ...    threat    insult  identity_hate\n",
              "0  00001cee341fdb12  0.966263      0.054183  ...  0.011145  0.604859       0.075418\n",
              "1  0000247867823ef7  0.016774      0.008855  ...  0.002713  0.022219       0.006187\n",
              "2  00013b17ad220c46  0.015831      0.001117  ...  0.000455  0.008738       0.002202\n",
              "3  00017563c3f7919a  0.001216      0.000236  ...  0.000328  0.001082       0.000201\n",
              "4  00017695ad8997eb  0.032473      0.000742  ...  0.000145  0.007183       0.000405\n",
              "\n",
              "[5 rows x 7 columns]"
            ]
          },
          "metadata": {
            "tags": []
          },
          "execution_count": 14
        }
      ]
    },
    {
      "cell_type": "code",
      "metadata": {
        "colab_type": "code",
        "id": "1AWRdxZsHG3B",
        "colab": {}
      },
      "source": [
        "TARGET_COLS = [\n",
        "    \"toxic\", \"severe_toxic\", \"obscene\", \"threat\", \"insult\", \"identity_hate\"\n",
        "]"
      ],
      "execution_count": 0,
      "outputs": []
    },
    {
      "cell_type": "markdown",
      "metadata": {
        "id": "Gjdv1zIzIZWv",
        "colab_type": "text"
      },
      "source": [
        "# Сorrelation"
      ]
    },
    {
      "cell_type": "code",
      "metadata": {
        "id": "WAKxVu3LIdFl",
        "colab_type": "code",
        "colab": {}
      },
      "source": [
        "def corr(first_df, second_df):\n",
        "    # assuming first column is `class_name_id`\n",
        "\n",
        "    Pearson_values = []\n",
        "    Kendall_values = []\n",
        "    Spearman_values = []\n",
        "\n",
        "    for class_name in TARGET_COLS:\n",
        "        # all correlations\n",
        "        print('\\n Class: %s' % class_name)\n",
        "\n",
        "        Pearson_value = first_df[class_name].corr(\n",
        "                  second_df[class_name], method='pearson')\n",
        "        Pearson_values.append(Pearson_value)\n",
        "        print(' Pearson\\'s correlation score: %0.6f' % Pearson_value)\n",
        "\n",
        "        Kendall_value = first_df[class_name].corr(\n",
        "                  second_df[class_name], method='kendall')\n",
        "        Kendall_values.append(Kendall_value)\n",
        "        print(' Kendall\\'s correlation score: %0.6f' % Kendall_value)\n",
        "\n",
        "        Spearman_value = first_df[class_name].corr(\n",
        "                  second_df[class_name], method='spearman')\n",
        "        Spearman_values.append(Spearman_value)\n",
        "        print(' Spearman\\'s correlation score: %0.6f' % Spearman_value)\n",
        "\n",
        "        ks_stat, p_value = ks_2samp(first_df[class_name].values,\n",
        "                                    second_df[class_name].values)\n",
        "        print(' Kolmogorov-Smirnov test:    KS-stat = %.6f    p-value = %.3e\\n'\n",
        "              % (ks_stat, p_value))\n",
        "        \n",
        "    return Pearson_values, Kendall_values, Spearman_values"
      ],
      "execution_count": 0,
      "outputs": []
    },
    {
      "cell_type": "code",
      "metadata": {
        "id": "_-iSfdW-I6Yg",
        "colab_type": "code",
        "outputId": "8e3bc052-26fd-443e-a82d-c60dc42b80ff",
        "colab": {
          "base_uri": "https://localhost:8080/",
          "height": 731
        }
      },
      "source": [
        "Pearson_values, Kendall_values, Spearman_values = corr(submission_dfs[0], submission_dfs[-1])"
      ],
      "execution_count": 17,
      "outputs": [
        {
          "output_type": "stream",
          "text": [
            "\n",
            " Class: toxic\n",
            " Pearson's correlation score: 0.789643\n",
            " Kendall's correlation score: 0.609889\n",
            " Spearman's correlation score: 0.805374\n",
            " Kolmogorov-Smirnov test:    KS-stat = 0.495710    p-value = 0.000e+00\n",
            "\n",
            "\n",
            " Class: severe_toxic\n",
            " Pearson's correlation score: 0.574009\n",
            " Kendall's correlation score: 0.524903\n",
            " Spearman's correlation score: 0.718356\n",
            " Kolmogorov-Smirnov test:    KS-stat = 0.717244    p-value = 0.000e+00\n",
            "\n",
            "\n",
            " Class: obscene\n",
            " Pearson's correlation score: 0.741392\n",
            " Kendall's correlation score: 0.518156\n",
            " Spearman's correlation score: 0.710806\n",
            " Kolmogorov-Smirnov test:    KS-stat = 0.617038    p-value = 0.000e+00\n",
            "\n",
            "\n",
            " Class: threat\n",
            " Pearson's correlation score: 0.367464\n",
            " Kendall's correlation score: 0.504348\n",
            " Spearman's correlation score: 0.695485\n",
            " Kolmogorov-Smirnov test:    KS-stat = 0.735107    p-value = 0.000e+00\n",
            "\n",
            "\n",
            " Class: insult\n",
            " Pearson's correlation score: 0.703885\n",
            " Kendall's correlation score: 0.580967\n",
            " Spearman's correlation score: 0.778970\n",
            " Kolmogorov-Smirnov test:    KS-stat = 0.576206    p-value = 0.000e+00\n",
            "\n",
            "\n",
            " Class: identity_hate\n",
            " Pearson's correlation score: 0.443726\n",
            " Kendall's correlation score: 0.542261\n",
            " Spearman's correlation score: 0.741965\n",
            " Kolmogorov-Smirnov test:    KS-stat = 0.650127    p-value = 0.000e+00\n",
            "\n"
          ],
          "name": "stdout"
        }
      ]
    },
    {
      "cell_type": "code",
      "metadata": {
        "id": "MSGBiAnQKAkJ",
        "colab_type": "code",
        "outputId": "6fc7945c-d491-4b6e-c854-9627bdf07bde",
        "colab": {
          "base_uri": "https://localhost:8080/",
          "height": 34
        }
      },
      "source": [
        "np.mean(Pearson_values), np.mean(Kendall_values), np.mean(Spearman_values)"
      ],
      "execution_count": 18,
      "outputs": [
        {
          "output_type": "execute_result",
          "data": {
            "text/plain": [
              "(0.6033529727896375, 0.5467539281622168, 0.7418259985054866)"
            ]
          },
          "metadata": {
            "tags": []
          },
          "execution_count": 18
        }
      ]
    },
    {
      "cell_type": "markdown",
      "metadata": {
        "id": "zw_ccF4ZyvaX",
        "colab_type": "text"
      },
      "source": [
        "# Blending"
      ]
    },
    {
      "cell_type": "markdown",
      "metadata": {
        "id": "IyhLCpdszP-J",
        "colab_type": "text"
      },
      "source": [
        "## Blending scheme 1"
      ]
    },
    {
      "cell_type": "code",
      "metadata": {
        "id": "wd8A6-eUyzj7",
        "colab_type": "code",
        "colab": {}
      },
      "source": [
        "# create blend of submissions\n",
        "submission = pd.DataFrame()\n",
        "submission['id'] = submission_dfs[0]['id']\n",
        "\n",
        "submission[TARGET_COLS] = 0.25*submission_dfs[0][TARGET_COLS]+\\\n",
        "                          0.25*submission_dfs[1][TARGET_COLS]+\\\n",
        "                          0.25*submission_dfs[2][TARGET_COLS]+\\\n",
        "                          0.25*submission_dfs[3][TARGET_COLS]"
      ],
      "execution_count": 0,
      "outputs": []
    },
    {
      "cell_type": "markdown",
      "metadata": {
        "colab_type": "text",
        "id": "ujanlBVs61IJ"
      },
      "source": [
        "# Cheaty evaluating on test labels"
      ]
    },
    {
      "cell_type": "code",
      "metadata": {
        "colab_type": "code",
        "id": "CCukoB8QB2Rz",
        "outputId": "119f65cc-4cdf-4f84-aaf2-0d58cbee067c",
        "colab": {
          "base_uri": "https://localhost:8080/",
          "height": 359
        }
      },
      "source": [
        "submission.head(10)"
      ],
      "execution_count": 20,
      "outputs": [
        {
          "output_type": "execute_result",
          "data": {
            "text/html": [
              "<div>\n",
              "<style scoped>\n",
              "    .dataframe tbody tr th:only-of-type {\n",
              "        vertical-align: middle;\n",
              "    }\n",
              "\n",
              "    .dataframe tbody tr th {\n",
              "        vertical-align: top;\n",
              "    }\n",
              "\n",
              "    .dataframe thead th {\n",
              "        text-align: right;\n",
              "    }\n",
              "</style>\n",
              "<table border=\"1\" class=\"dataframe\">\n",
              "  <thead>\n",
              "    <tr style=\"text-align: right;\">\n",
              "      <th></th>\n",
              "      <th>id</th>\n",
              "      <th>toxic</th>\n",
              "      <th>severe_toxic</th>\n",
              "      <th>obscene</th>\n",
              "      <th>threat</th>\n",
              "      <th>insult</th>\n",
              "      <th>identity_hate</th>\n",
              "    </tr>\n",
              "  </thead>\n",
              "  <tbody>\n",
              "    <tr>\n",
              "      <th>0</th>\n",
              "      <td>00001cee341fdb12</td>\n",
              "      <td>0.990178</td>\n",
              "      <td>0.323069</td>\n",
              "      <td>0.931331</td>\n",
              "      <td>0.074425</td>\n",
              "      <td>0.857777</td>\n",
              "      <td>0.188664</td>\n",
              "    </tr>\n",
              "    <tr>\n",
              "      <th>1</th>\n",
              "      <td>0000247867823ef7</td>\n",
              "      <td>0.008236</td>\n",
              "      <td>0.002230</td>\n",
              "      <td>0.005473</td>\n",
              "      <td>0.000719</td>\n",
              "      <td>0.006186</td>\n",
              "      <td>0.001629</td>\n",
              "    </tr>\n",
              "    <tr>\n",
              "      <th>2</th>\n",
              "      <td>00013b17ad220c46</td>\n",
              "      <td>0.006026</td>\n",
              "      <td>0.000310</td>\n",
              "      <td>0.002475</td>\n",
              "      <td>0.000192</td>\n",
              "      <td>0.002874</td>\n",
              "      <td>0.000708</td>\n",
              "    </tr>\n",
              "    <tr>\n",
              "      <th>3</th>\n",
              "      <td>00017563c3f7919a</td>\n",
              "      <td>0.000424</td>\n",
              "      <td>0.000059</td>\n",
              "      <td>0.000385</td>\n",
              "      <td>0.000084</td>\n",
              "      <td>0.000287</td>\n",
              "      <td>0.000053</td>\n",
              "    </tr>\n",
              "    <tr>\n",
              "      <th>4</th>\n",
              "      <td>00017695ad8997eb</td>\n",
              "      <td>0.010826</td>\n",
              "      <td>0.000196</td>\n",
              "      <td>0.004125</td>\n",
              "      <td>0.000095</td>\n",
              "      <td>0.002104</td>\n",
              "      <td>0.000141</td>\n",
              "    </tr>\n",
              "    <tr>\n",
              "      <th>5</th>\n",
              "      <td>0001ea8717f6de06</td>\n",
              "      <td>0.000852</td>\n",
              "      <td>0.000122</td>\n",
              "      <td>0.000713</td>\n",
              "      <td>0.000204</td>\n",
              "      <td>0.000769</td>\n",
              "      <td>0.000242</td>\n",
              "    </tr>\n",
              "    <tr>\n",
              "      <th>6</th>\n",
              "      <td>00024115d4cbde0f</td>\n",
              "      <td>0.009072</td>\n",
              "      <td>0.000648</td>\n",
              "      <td>0.003344</td>\n",
              "      <td>0.000331</td>\n",
              "      <td>0.003471</td>\n",
              "      <td>0.000776</td>\n",
              "    </tr>\n",
              "    <tr>\n",
              "      <th>7</th>\n",
              "      <td>000247e83dcc1211</td>\n",
              "      <td>0.728969</td>\n",
              "      <td>0.007680</td>\n",
              "      <td>0.182837</td>\n",
              "      <td>0.006816</td>\n",
              "      <td>0.172859</td>\n",
              "      <td>0.006552</td>\n",
              "    </tr>\n",
              "    <tr>\n",
              "      <th>8</th>\n",
              "      <td>00025358d4737918</td>\n",
              "      <td>0.185688</td>\n",
              "      <td>0.000834</td>\n",
              "      <td>0.012043</td>\n",
              "      <td>0.001015</td>\n",
              "      <td>0.051196</td>\n",
              "      <td>0.001361</td>\n",
              "    </tr>\n",
              "    <tr>\n",
              "      <th>9</th>\n",
              "      <td>00026d1092fe71cc</td>\n",
              "      <td>0.008467</td>\n",
              "      <td>0.000669</td>\n",
              "      <td>0.004405</td>\n",
              "      <td>0.000422</td>\n",
              "      <td>0.005647</td>\n",
              "      <td>0.000671</td>\n",
              "    </tr>\n",
              "  </tbody>\n",
              "</table>\n",
              "</div>"
            ],
            "text/plain": [
              "                 id     toxic  severe_toxic  ...    threat    insult  identity_hate\n",
              "0  00001cee341fdb12  0.990178      0.323069  ...  0.074425  0.857777       0.188664\n",
              "1  0000247867823ef7  0.008236      0.002230  ...  0.000719  0.006186       0.001629\n",
              "2  00013b17ad220c46  0.006026      0.000310  ...  0.000192  0.002874       0.000708\n",
              "3  00017563c3f7919a  0.000424      0.000059  ...  0.000084  0.000287       0.000053\n",
              "4  00017695ad8997eb  0.010826      0.000196  ...  0.000095  0.002104       0.000141\n",
              "5  0001ea8717f6de06  0.000852      0.000122  ...  0.000204  0.000769       0.000242\n",
              "6  00024115d4cbde0f  0.009072      0.000648  ...  0.000331  0.003471       0.000776\n",
              "7  000247e83dcc1211  0.728969      0.007680  ...  0.006816  0.172859       0.006552\n",
              "8  00025358d4737918  0.185688      0.000834  ...  0.001015  0.051196       0.001361\n",
              "9  00026d1092fe71cc  0.008467      0.000669  ...  0.000422  0.005647       0.000671\n",
              "\n",
              "[10 rows x 7 columns]"
            ]
          },
          "metadata": {
            "tags": []
          },
          "execution_count": 20
        }
      ]
    },
    {
      "cell_type": "code",
      "metadata": {
        "colab_type": "code",
        "id": "YUF4Uxrl8pXr",
        "colab": {}
      },
      "source": [
        "# labels for the test data; value of -1 indicates it was not used for scoring; (Note: file added after competition close!)\n",
        "test_labels_df = pd.read_csv(test_labels_filepath)"
      ],
      "execution_count": 0,
      "outputs": []
    },
    {
      "cell_type": "code",
      "metadata": {
        "colab_type": "code",
        "id": "6crgLcLx7X-p",
        "outputId": "e2904323-d1bf-4c7a-d6e0-d47b905a599c",
        "colab": {
          "base_uri": "https://localhost:8080/",
          "height": 34
        }
      },
      "source": [
        "test_labels_df = test_labels_df[(test_labels_df[\"toxic\"] != -1) &\n",
        "                                (test_labels_df[\"severe_toxic\"] != -1) &\n",
        "                                (test_labels_df[\"obscene\"] != -1) &\n",
        "                                (test_labels_df[\"threat\"] != -1) &\n",
        "                                (test_labels_df[\"insult\"] != -1) &\n",
        "                                (test_labels_df[\"identity_hate\"] != -1)]\n",
        "test_labels_df.shape                               "
      ],
      "execution_count": 22,
      "outputs": [
        {
          "output_type": "execute_result",
          "data": {
            "text/plain": [
              "(63978, 7)"
            ]
          },
          "metadata": {
            "tags": []
          },
          "execution_count": 22
        }
      ]
    },
    {
      "cell_type": "code",
      "metadata": {
        "colab_type": "code",
        "id": "-ymumFOQ9sA1",
        "outputId": "6b953997-db58-4e2e-f35f-d9bed37f0288",
        "colab": {
          "base_uri": "https://localhost:8080/",
          "height": 34
        }
      },
      "source": [
        "submission_to_evaluate = submission[submission['id'].isin(test_labels_df['id'].values)]\n",
        "submission_to_evaluate.shape"
      ],
      "execution_count": 23,
      "outputs": [
        {
          "output_type": "execute_result",
          "data": {
            "text/plain": [
              "(63978, 7)"
            ]
          },
          "metadata": {
            "tags": []
          },
          "execution_count": 23
        }
      ]
    },
    {
      "cell_type": "code",
      "metadata": {
        "colab_type": "code",
        "id": "C3r8VTCK_TaM",
        "outputId": "1c119930-16e9-4708-b40e-87333d1a63a3",
        "colab": {
          "base_uri": "https://localhost:8080/",
          "height": 136
        }
      },
      "source": [
        "scores = []\n",
        "for class_name in TARGET_COLS:\n",
        "    train_target = test_labels_df[class_name]\n",
        "    train_predicted = submission_to_evaluate[class_name]\n",
        "\n",
        "    cv_score = np.mean(roc_auc_score(train_target.values, train_predicted.values))\n",
        "    scores.append(cv_score)\n",
        "    print('CV score for class {} is {}'.format(class_name, cv_score))\n",
        "\n",
        "print('Total CV score is {}'.format(np.mean(scores)))"
      ],
      "execution_count": 24,
      "outputs": [
        {
          "output_type": "stream",
          "text": [
            "CV score for class toxic is 0.9705846366824878\n",
            "CV score for class severe_toxic is 0.9883086858360016\n",
            "CV score for class obscene is 0.9801631424205746\n",
            "CV score for class threat is 0.9932907771383629\n",
            "CV score for class insult is 0.977960300831759\n",
            "CV score for class identity_hate is 0.9879327945464434\n",
            "Total CV score is 0.9830400562426048\n"
          ],
          "name": "stdout"
        }
      ]
    },
    {
      "cell_type": "code",
      "metadata": {
        "colab_type": "code",
        "id": "YKsSnwkd3TBJ",
        "colab": {}
      },
      "source": [
        "submission.to_csv(os.path.join(output_folder,\"blending_1.csv\"), index = False)"
      ],
      "execution_count": 0,
      "outputs": []
    },
    {
      "cell_type": "markdown",
      "metadata": {
        "colab_type": "text",
        "id": "tNf0KsAHCSJB"
      },
      "source": [
        "Жирный шрифт означает изменения в процессе валидации и оценивания и при изменении действует начиная со строчки указания и ниже\n",
        "\n",
        "* glove twitter 200:  0.98052\n",
        "\n",
        "**С поднятием колва epochs и global_epochs + RocAucEarlyStopping** скор упал с 0.98052 до 0.97573\n",
        "\n",
        "* GLOBAL_EPOCHS = 2, EPOCHS = 5, glove.840B.300d.txt   0.97994  \n",
        "* BPEmb(lang=\"en\", dim=25, vs=20000)   0.97375  \n",
        "* BPEmb(lang=\"en\", dim=300, vs=20000) without preprocessing   0.97699  \n",
        "* BPEmb(lang=\"en\", dim=300, vs=20000)   0.97865   \n",
        "* fasttext crawl-300d-2M-subword 0.95732  \n",
        "* BPEmb(lang=\"en\", dim=300, vs=20000) **Patience 2->1 SEEDS 1->1**  0.98041   \n",
        "* flair ELMoEmbeddings('small') embedding len 768  0.98005  \n",
        "* flair ELMoEmbeddings('medium') embedding len 1536  0.98038  \n",
        "* flair RoBERTaEmbeddings('roberta-base') embedding len 768  0.97413  \n",
        "* flair stack of ELMoEmbeddings('small') + RoBERTaEmbeddings('roberta-base') embedding len 1536  0.98069      \n",
        "* 3 tuned layers in BERT modeldense = tf.keras.layers.Dense(256, activation='relu')(bert_output)pred = tf.keras.layers.Dense(len(TARGET_COLS), activation='sigmoid')(dense)model.compile(loss='binary_crossentropy', optimizer='adam', metrics=['accuracy'])epochs=1,batch_size=32   0.97658\n",
        "* 10 tuned layers in BERT modeldense = tf.keras.layers.Dense(256, activation='relu')(bert_output)pred = tf.keras.layers.Dense(len(TARGET_COLS), activation='sigmoid')(dense)model.compile(loss='binary_crossentropy', optimizer='adam', metrics=['accuracy'])epochs=1,batch_size=128, 5 epochs+ES(patience=1)  0.97377\n",
        "* 5 tuned layers in BERT modeldense = tf.keras.layers.Dense(256, activation='relu')(bert_output)pred = tf.keras.layers.Dense(len(TARGET_COLS), activation='sigmoid')(dense)model.compile(loss='binary_crossentropy', optimizer='adam')epochs=10,batch_size=256, ES(patience=1) +save best  0.97346  \n",
        "* 0.25 of each 'submission_emb_sklearn.csv', 'submission_bidirectional_GRU.csv','submission_fine_tuned_bert.csv', 'submission_fine_tuned_bert2.csv'  0.98308"
      ]
    },
    {
      "cell_type": "code",
      "metadata": {
        "id": "4ZxnUwXLcCKG",
        "colab_type": "code",
        "colab": {}
      },
      "source": [
        ""
      ],
      "execution_count": 0,
      "outputs": []
    }
  ]
}